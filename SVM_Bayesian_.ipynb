{
 "cells": [
  {
   "cell_type": "code",
   "execution_count": 5,
   "id": "676c3430",
   "metadata": {},
   "outputs": [
    {
     "name": "stdout",
     "output_type": "stream",
     "text": [
      "Fitting 10 folds for each of 1 candidates, totalling 10 fits\n"
     ]
    },
    {
     "name": "stderr",
     "output_type": "stream",
     "text": [
      "/opt/anaconda3/lib/python3.9/site-packages/sklearn/model_selection/_split.py:666: UserWarning: The least populated class in y has only 2 members, which is less than n_splits=10.\n",
      "  warnings.warn((\"The least populated class in y has only %d\"\n"
     ]
    },
    {
     "name": "stdout",
     "output_type": "stream",
     "text": [
      "Fitting 10 folds for each of 1 candidates, totalling 10 fits\n"
     ]
    },
    {
     "name": "stderr",
     "output_type": "stream",
     "text": [
      "/opt/anaconda3/lib/python3.9/site-packages/sklearn/model_selection/_split.py:666: UserWarning: The least populated class in y has only 2 members, which is less than n_splits=10.\n",
      "  warnings.warn((\"The least populated class in y has only %d\"\n"
     ]
    },
    {
     "name": "stdout",
     "output_type": "stream",
     "text": [
      "Fitting 10 folds for each of 1 candidates, totalling 10 fits\n"
     ]
    },
    {
     "name": "stderr",
     "output_type": "stream",
     "text": [
      "/opt/anaconda3/lib/python3.9/site-packages/sklearn/model_selection/_split.py:666: UserWarning: The least populated class in y has only 2 members, which is less than n_splits=10.\n",
      "  warnings.warn((\"The least populated class in y has only %d\"\n"
     ]
    },
    {
     "name": "stdout",
     "output_type": "stream",
     "text": [
      "Fitting 10 folds for each of 1 candidates, totalling 10 fits\n"
     ]
    },
    {
     "name": "stderr",
     "output_type": "stream",
     "text": [
      "/opt/anaconda3/lib/python3.9/site-packages/sklearn/model_selection/_split.py:666: UserWarning: The least populated class in y has only 2 members, which is less than n_splits=10.\n",
      "  warnings.warn((\"The least populated class in y has only %d\"\n"
     ]
    },
    {
     "name": "stdout",
     "output_type": "stream",
     "text": [
      "Fitting 10 folds for each of 1 candidates, totalling 10 fits\n"
     ]
    },
    {
     "name": "stderr",
     "output_type": "stream",
     "text": [
      "/opt/anaconda3/lib/python3.9/site-packages/sklearn/model_selection/_split.py:666: UserWarning: The least populated class in y has only 2 members, which is less than n_splits=10.\n",
      "  warnings.warn((\"The least populated class in y has only %d\"\n"
     ]
    },
    {
     "name": "stdout",
     "output_type": "stream",
     "text": [
      "Fitting 10 folds for each of 1 candidates, totalling 10 fits\n"
     ]
    },
    {
     "name": "stderr",
     "output_type": "stream",
     "text": [
      "/opt/anaconda3/lib/python3.9/site-packages/sklearn/model_selection/_split.py:666: UserWarning: The least populated class in y has only 2 members, which is less than n_splits=10.\n",
      "  warnings.warn((\"The least populated class in y has only %d\"\n"
     ]
    },
    {
     "name": "stdout",
     "output_type": "stream",
     "text": [
      "Fitting 10 folds for each of 1 candidates, totalling 10 fits\n"
     ]
    },
    {
     "name": "stderr",
     "output_type": "stream",
     "text": [
      "/opt/anaconda3/lib/python3.9/site-packages/sklearn/model_selection/_split.py:666: UserWarning: The least populated class in y has only 2 members, which is less than n_splits=10.\n",
      "  warnings.warn((\"The least populated class in y has only %d\"\n"
     ]
    },
    {
     "name": "stdout",
     "output_type": "stream",
     "text": [
      "Fitting 10 folds for each of 1 candidates, totalling 10 fits\n"
     ]
    },
    {
     "name": "stderr",
     "output_type": "stream",
     "text": [
      "/opt/anaconda3/lib/python3.9/site-packages/sklearn/model_selection/_split.py:666: UserWarning: The least populated class in y has only 2 members, which is less than n_splits=10.\n",
      "  warnings.warn((\"The least populated class in y has only %d\"\n"
     ]
    },
    {
     "name": "stdout",
     "output_type": "stream",
     "text": [
      "Fitting 10 folds for each of 1 candidates, totalling 10 fits\n"
     ]
    },
    {
     "name": "stderr",
     "output_type": "stream",
     "text": [
      "/opt/anaconda3/lib/python3.9/site-packages/sklearn/model_selection/_split.py:666: UserWarning: The least populated class in y has only 2 members, which is less than n_splits=10.\n",
      "  warnings.warn((\"The least populated class in y has only %d\"\n"
     ]
    },
    {
     "name": "stdout",
     "output_type": "stream",
     "text": [
      "Fitting 10 folds for each of 1 candidates, totalling 10 fits\n"
     ]
    },
    {
     "name": "stderr",
     "output_type": "stream",
     "text": [
      "/opt/anaconda3/lib/python3.9/site-packages/sklearn/model_selection/_split.py:666: UserWarning: The least populated class in y has only 2 members, which is less than n_splits=10.\n",
      "  warnings.warn((\"The least populated class in y has only %d\"\n"
     ]
    },
    {
     "name": "stdout",
     "output_type": "stream",
     "text": [
      "Fitting 10 folds for each of 1 candidates, totalling 10 fits\n"
     ]
    },
    {
     "name": "stderr",
     "output_type": "stream",
     "text": [
      "/opt/anaconda3/lib/python3.9/site-packages/sklearn/model_selection/_split.py:666: UserWarning: The least populated class in y has only 2 members, which is less than n_splits=10.\n",
      "  warnings.warn((\"The least populated class in y has only %d\"\n"
     ]
    },
    {
     "name": "stdout",
     "output_type": "stream",
     "text": [
      "Fitting 10 folds for each of 1 candidates, totalling 10 fits\n"
     ]
    },
    {
     "name": "stderr",
     "output_type": "stream",
     "text": [
      "/opt/anaconda3/lib/python3.9/site-packages/sklearn/model_selection/_split.py:666: UserWarning: The least populated class in y has only 2 members, which is less than n_splits=10.\n",
      "  warnings.warn((\"The least populated class in y has only %d\"\n"
     ]
    },
    {
     "name": "stdout",
     "output_type": "stream",
     "text": [
      "Fitting 10 folds for each of 1 candidates, totalling 10 fits\n"
     ]
    },
    {
     "name": "stderr",
     "output_type": "stream",
     "text": [
      "/opt/anaconda3/lib/python3.9/site-packages/sklearn/model_selection/_split.py:666: UserWarning: The least populated class in y has only 2 members, which is less than n_splits=10.\n",
      "  warnings.warn((\"The least populated class in y has only %d\"\n"
     ]
    },
    {
     "name": "stdout",
     "output_type": "stream",
     "text": [
      "Fitting 10 folds for each of 1 candidates, totalling 10 fits\n"
     ]
    },
    {
     "name": "stderr",
     "output_type": "stream",
     "text": [
      "/opt/anaconda3/lib/python3.9/site-packages/sklearn/model_selection/_split.py:666: UserWarning: The least populated class in y has only 2 members, which is less than n_splits=10.\n",
      "  warnings.warn((\"The least populated class in y has only %d\"\n"
     ]
    },
    {
     "name": "stdout",
     "output_type": "stream",
     "text": [
      "Fitting 10 folds for each of 1 candidates, totalling 10 fits\n"
     ]
    },
    {
     "name": "stderr",
     "output_type": "stream",
     "text": [
      "/opt/anaconda3/lib/python3.9/site-packages/sklearn/model_selection/_split.py:666: UserWarning: The least populated class in y has only 2 members, which is less than n_splits=10.\n",
      "  warnings.warn((\"The least populated class in y has only %d\"\n"
     ]
    },
    {
     "name": "stdout",
     "output_type": "stream",
     "text": [
      "Fitting 10 folds for each of 1 candidates, totalling 10 fits\n"
     ]
    },
    {
     "name": "stderr",
     "output_type": "stream",
     "text": [
      "/opt/anaconda3/lib/python3.9/site-packages/sklearn/model_selection/_split.py:666: UserWarning: The least populated class in y has only 2 members, which is less than n_splits=10.\n",
      "  warnings.warn((\"The least populated class in y has only %d\"\n"
     ]
    },
    {
     "name": "stdout",
     "output_type": "stream",
     "text": [
      "Fitting 10 folds for each of 1 candidates, totalling 10 fits\n"
     ]
    },
    {
     "name": "stderr",
     "output_type": "stream",
     "text": [
      "/opt/anaconda3/lib/python3.9/site-packages/sklearn/model_selection/_split.py:666: UserWarning: The least populated class in y has only 2 members, which is less than n_splits=10.\n",
      "  warnings.warn((\"The least populated class in y has only %d\"\n"
     ]
    },
    {
     "name": "stdout",
     "output_type": "stream",
     "text": [
      "Fitting 10 folds for each of 1 candidates, totalling 10 fits\n"
     ]
    },
    {
     "name": "stderr",
     "output_type": "stream",
     "text": [
      "/opt/anaconda3/lib/python3.9/site-packages/sklearn/model_selection/_split.py:666: UserWarning: The least populated class in y has only 2 members, which is less than n_splits=10.\n",
      "  warnings.warn((\"The least populated class in y has only %d\"\n"
     ]
    },
    {
     "name": "stdout",
     "output_type": "stream",
     "text": [
      "Fitting 10 folds for each of 1 candidates, totalling 10 fits\n"
     ]
    },
    {
     "name": "stderr",
     "output_type": "stream",
     "text": [
      "/opt/anaconda3/lib/python3.9/site-packages/sklearn/model_selection/_split.py:666: UserWarning: The least populated class in y has only 2 members, which is less than n_splits=10.\n",
      "  warnings.warn((\"The least populated class in y has only %d\"\n"
     ]
    },
    {
     "name": "stdout",
     "output_type": "stream",
     "text": [
      "Fitting 10 folds for each of 1 candidates, totalling 10 fits\n"
     ]
    },
    {
     "name": "stderr",
     "output_type": "stream",
     "text": [
      "/opt/anaconda3/lib/python3.9/site-packages/sklearn/model_selection/_split.py:666: UserWarning: The least populated class in y has only 2 members, which is less than n_splits=10.\n",
      "  warnings.warn((\"The least populated class in y has only %d\"\n"
     ]
    },
    {
     "name": "stdout",
     "output_type": "stream",
     "text": [
      "Fitting 10 folds for each of 1 candidates, totalling 10 fits\n"
     ]
    },
    {
     "name": "stderr",
     "output_type": "stream",
     "text": [
      "/opt/anaconda3/lib/python3.9/site-packages/sklearn/model_selection/_split.py:666: UserWarning: The least populated class in y has only 2 members, which is less than n_splits=10.\n",
      "  warnings.warn((\"The least populated class in y has only %d\"\n"
     ]
    },
    {
     "name": "stdout",
     "output_type": "stream",
     "text": [
      "Fitting 10 folds for each of 1 candidates, totalling 10 fits\n"
     ]
    },
    {
     "name": "stderr",
     "output_type": "stream",
     "text": [
      "/opt/anaconda3/lib/python3.9/site-packages/sklearn/model_selection/_split.py:666: UserWarning: The least populated class in y has only 2 members, which is less than n_splits=10.\n",
      "  warnings.warn((\"The least populated class in y has only %d\"\n"
     ]
    },
    {
     "name": "stdout",
     "output_type": "stream",
     "text": [
      "Fitting 10 folds for each of 1 candidates, totalling 10 fits\n"
     ]
    },
    {
     "name": "stderr",
     "output_type": "stream",
     "text": [
      "/opt/anaconda3/lib/python3.9/site-packages/sklearn/model_selection/_split.py:666: UserWarning: The least populated class in y has only 2 members, which is less than n_splits=10.\n",
      "  warnings.warn((\"The least populated class in y has only %d\"\n"
     ]
    },
    {
     "name": "stdout",
     "output_type": "stream",
     "text": [
      "Fitting 10 folds for each of 1 candidates, totalling 10 fits\n"
     ]
    },
    {
     "name": "stderr",
     "output_type": "stream",
     "text": [
      "/opt/anaconda3/lib/python3.9/site-packages/sklearn/model_selection/_split.py:666: UserWarning: The least populated class in y has only 2 members, which is less than n_splits=10.\n",
      "  warnings.warn((\"The least populated class in y has only %d\"\n"
     ]
    },
    {
     "name": "stdout",
     "output_type": "stream",
     "text": [
      "Fitting 10 folds for each of 1 candidates, totalling 10 fits\n"
     ]
    },
    {
     "name": "stderr",
     "output_type": "stream",
     "text": [
      "/opt/anaconda3/lib/python3.9/site-packages/sklearn/model_selection/_split.py:666: UserWarning: The least populated class in y has only 2 members, which is less than n_splits=10.\n",
      "  warnings.warn((\"The least populated class in y has only %d\"\n",
      "/opt/anaconda3/lib/python3.9/site-packages/skopt/optimizer/optimizer.py:449: UserWarning: The objective has been evaluated at this point before.\n",
      "  warnings.warn(\"The objective has been evaluated \"\n"
     ]
    },
    {
     "name": "stdout",
     "output_type": "stream",
     "text": [
      "Fitting 10 folds for each of 1 candidates, totalling 10 fits\n"
     ]
    },
    {
     "name": "stderr",
     "output_type": "stream",
     "text": [
      "/opt/anaconda3/lib/python3.9/site-packages/sklearn/model_selection/_split.py:666: UserWarning: The least populated class in y has only 2 members, which is less than n_splits=10.\n",
      "  warnings.warn((\"The least populated class in y has only %d\"\n"
     ]
    },
    {
     "name": "stdout",
     "output_type": "stream",
     "text": [
      "Fitting 10 folds for each of 1 candidates, totalling 10 fits\n"
     ]
    },
    {
     "name": "stderr",
     "output_type": "stream",
     "text": [
      "/opt/anaconda3/lib/python3.9/site-packages/sklearn/model_selection/_split.py:666: UserWarning: The least populated class in y has only 2 members, which is less than n_splits=10.\n",
      "  warnings.warn((\"The least populated class in y has only %d\"\n"
     ]
    },
    {
     "name": "stdout",
     "output_type": "stream",
     "text": [
      "Fitting 10 folds for each of 1 candidates, totalling 10 fits\n"
     ]
    },
    {
     "name": "stderr",
     "output_type": "stream",
     "text": [
      "/opt/anaconda3/lib/python3.9/site-packages/sklearn/model_selection/_split.py:666: UserWarning: The least populated class in y has only 2 members, which is less than n_splits=10.\n",
      "  warnings.warn((\"The least populated class in y has only %d\"\n"
     ]
    },
    {
     "name": "stdout",
     "output_type": "stream",
     "text": [
      "Fitting 10 folds for each of 1 candidates, totalling 10 fits\n"
     ]
    },
    {
     "name": "stderr",
     "output_type": "stream",
     "text": [
      "/opt/anaconda3/lib/python3.9/site-packages/sklearn/model_selection/_split.py:666: UserWarning: The least populated class in y has only 2 members, which is less than n_splits=10.\n",
      "  warnings.warn((\"The least populated class in y has only %d\"\n"
     ]
    },
    {
     "name": "stdout",
     "output_type": "stream",
     "text": [
      "Fitting 10 folds for each of 1 candidates, totalling 10 fits\n"
     ]
    },
    {
     "name": "stderr",
     "output_type": "stream",
     "text": [
      "/opt/anaconda3/lib/python3.9/site-packages/sklearn/model_selection/_split.py:666: UserWarning: The least populated class in y has only 2 members, which is less than n_splits=10.\n",
      "  warnings.warn((\"The least populated class in y has only %d\"\n"
     ]
    },
    {
     "name": "stdout",
     "output_type": "stream",
     "text": [
      "Fitting 10 folds for each of 1 candidates, totalling 10 fits\n"
     ]
    },
    {
     "name": "stderr",
     "output_type": "stream",
     "text": [
      "/opt/anaconda3/lib/python3.9/site-packages/sklearn/model_selection/_split.py:666: UserWarning: The least populated class in y has only 2 members, which is less than n_splits=10.\n",
      "  warnings.warn((\"The least populated class in y has only %d\"\n"
     ]
    },
    {
     "name": "stdout",
     "output_type": "stream",
     "text": [
      "Fitting 10 folds for each of 1 candidates, totalling 10 fits\n"
     ]
    },
    {
     "name": "stderr",
     "output_type": "stream",
     "text": [
      "/opt/anaconda3/lib/python3.9/site-packages/sklearn/model_selection/_split.py:666: UserWarning: The least populated class in y has only 2 members, which is less than n_splits=10.\n",
      "  warnings.warn((\"The least populated class in y has only %d\"\n"
     ]
    },
    {
     "name": "stdout",
     "output_type": "stream",
     "text": [
      "Fitting 10 folds for each of 1 candidates, totalling 10 fits\n"
     ]
    },
    {
     "name": "stderr",
     "output_type": "stream",
     "text": [
      "/opt/anaconda3/lib/python3.9/site-packages/sklearn/model_selection/_split.py:666: UserWarning: The least populated class in y has only 2 members, which is less than n_splits=10.\n",
      "  warnings.warn((\"The least populated class in y has only %d\"\n"
     ]
    },
    {
     "name": "stdout",
     "output_type": "stream",
     "text": [
      "Fitting 10 folds for each of 1 candidates, totalling 10 fits\n"
     ]
    },
    {
     "name": "stderr",
     "output_type": "stream",
     "text": [
      "/opt/anaconda3/lib/python3.9/site-packages/sklearn/model_selection/_split.py:666: UserWarning: The least populated class in y has only 2 members, which is less than n_splits=10.\n",
      "  warnings.warn((\"The least populated class in y has only %d\"\n"
     ]
    },
    {
     "name": "stdout",
     "output_type": "stream",
     "text": [
      "Fitting 10 folds for each of 1 candidates, totalling 10 fits\n"
     ]
    },
    {
     "name": "stderr",
     "output_type": "stream",
     "text": [
      "/opt/anaconda3/lib/python3.9/site-packages/sklearn/model_selection/_split.py:666: UserWarning: The least populated class in y has only 2 members, which is less than n_splits=10.\n",
      "  warnings.warn((\"The least populated class in y has only %d\"\n"
     ]
    },
    {
     "name": "stdout",
     "output_type": "stream",
     "text": [
      "Fitting 10 folds for each of 1 candidates, totalling 10 fits\n"
     ]
    },
    {
     "name": "stderr",
     "output_type": "stream",
     "text": [
      "/opt/anaconda3/lib/python3.9/site-packages/sklearn/model_selection/_split.py:666: UserWarning: The least populated class in y has only 2 members, which is less than n_splits=10.\n",
      "  warnings.warn((\"The least populated class in y has only %d\"\n"
     ]
    },
    {
     "name": "stdout",
     "output_type": "stream",
     "text": [
      "Fitting 10 folds for each of 1 candidates, totalling 10 fits\n"
     ]
    },
    {
     "name": "stderr",
     "output_type": "stream",
     "text": [
      "/opt/anaconda3/lib/python3.9/site-packages/sklearn/model_selection/_split.py:666: UserWarning: The least populated class in y has only 2 members, which is less than n_splits=10.\n",
      "  warnings.warn((\"The least populated class in y has only %d\"\n"
     ]
    },
    {
     "name": "stdout",
     "output_type": "stream",
     "text": [
      "Fitting 10 folds for each of 1 candidates, totalling 10 fits\n"
     ]
    },
    {
     "name": "stderr",
     "output_type": "stream",
     "text": [
      "/opt/anaconda3/lib/python3.9/site-packages/sklearn/model_selection/_split.py:666: UserWarning: The least populated class in y has only 2 members, which is less than n_splits=10.\n",
      "  warnings.warn((\"The least populated class in y has only %d\"\n"
     ]
    },
    {
     "name": "stdout",
     "output_type": "stream",
     "text": [
      "Fitting 10 folds for each of 1 candidates, totalling 10 fits\n"
     ]
    },
    {
     "name": "stderr",
     "output_type": "stream",
     "text": [
      "/opt/anaconda3/lib/python3.9/site-packages/sklearn/model_selection/_split.py:666: UserWarning: The least populated class in y has only 2 members, which is less than n_splits=10.\n",
      "  warnings.warn((\"The least populated class in y has only %d\"\n",
      "/opt/anaconda3/lib/python3.9/site-packages/skopt/optimizer/optimizer.py:449: UserWarning: The objective has been evaluated at this point before.\n",
      "  warnings.warn(\"The objective has been evaluated \"\n"
     ]
    },
    {
     "name": "stdout",
     "output_type": "stream",
     "text": [
      "Fitting 10 folds for each of 1 candidates, totalling 10 fits\n"
     ]
    },
    {
     "name": "stderr",
     "output_type": "stream",
     "text": [
      "/opt/anaconda3/lib/python3.9/site-packages/sklearn/model_selection/_split.py:666: UserWarning: The least populated class in y has only 2 members, which is less than n_splits=10.\n",
      "  warnings.warn((\"The least populated class in y has only %d\"\n"
     ]
    },
    {
     "name": "stdout",
     "output_type": "stream",
     "text": [
      "Fitting 10 folds for each of 1 candidates, totalling 10 fits\n"
     ]
    },
    {
     "name": "stderr",
     "output_type": "stream",
     "text": [
      "/opt/anaconda3/lib/python3.9/site-packages/sklearn/model_selection/_split.py:666: UserWarning: The least populated class in y has only 2 members, which is less than n_splits=10.\n",
      "  warnings.warn((\"The least populated class in y has only %d\"\n"
     ]
    },
    {
     "name": "stdout",
     "output_type": "stream",
     "text": [
      "Fitting 10 folds for each of 1 candidates, totalling 10 fits\n"
     ]
    },
    {
     "name": "stderr",
     "output_type": "stream",
     "text": [
      "/opt/anaconda3/lib/python3.9/site-packages/sklearn/model_selection/_split.py:666: UserWarning: The least populated class in y has only 2 members, which is less than n_splits=10.\n",
      "  warnings.warn((\"The least populated class in y has only %d\"\n",
      "/opt/anaconda3/lib/python3.9/site-packages/skopt/optimizer/optimizer.py:449: UserWarning: The objective has been evaluated at this point before.\n",
      "  warnings.warn(\"The objective has been evaluated \"\n"
     ]
    },
    {
     "name": "stdout",
     "output_type": "stream",
     "text": [
      "Fitting 10 folds for each of 1 candidates, totalling 10 fits\n"
     ]
    },
    {
     "name": "stderr",
     "output_type": "stream",
     "text": [
      "/opt/anaconda3/lib/python3.9/site-packages/sklearn/model_selection/_split.py:666: UserWarning: The least populated class in y has only 2 members, which is less than n_splits=10.\n",
      "  warnings.warn((\"The least populated class in y has only %d\"\n",
      "/opt/anaconda3/lib/python3.9/site-packages/skopt/optimizer/optimizer.py:449: UserWarning: The objective has been evaluated at this point before.\n",
      "  warnings.warn(\"The objective has been evaluated \"\n"
     ]
    },
    {
     "name": "stdout",
     "output_type": "stream",
     "text": [
      "Fitting 10 folds for each of 1 candidates, totalling 10 fits\n"
     ]
    },
    {
     "name": "stderr",
     "output_type": "stream",
     "text": [
      "/opt/anaconda3/lib/python3.9/site-packages/sklearn/model_selection/_split.py:666: UserWarning: The least populated class in y has only 2 members, which is less than n_splits=10.\n",
      "  warnings.warn((\"The least populated class in y has only %d\"\n"
     ]
    },
    {
     "name": "stdout",
     "output_type": "stream",
     "text": [
      "Fitting 10 folds for each of 1 candidates, totalling 10 fits\n"
     ]
    },
    {
     "name": "stderr",
     "output_type": "stream",
     "text": [
      "/opt/anaconda3/lib/python3.9/site-packages/sklearn/model_selection/_split.py:666: UserWarning: The least populated class in y has only 2 members, which is less than n_splits=10.\n",
      "  warnings.warn((\"The least populated class in y has only %d\"\n",
      "/opt/anaconda3/lib/python3.9/site-packages/skopt/optimizer/optimizer.py:449: UserWarning: The objective has been evaluated at this point before.\n",
      "  warnings.warn(\"The objective has been evaluated \"\n"
     ]
    },
    {
     "name": "stdout",
     "output_type": "stream",
     "text": [
      "Fitting 10 folds for each of 1 candidates, totalling 10 fits\n"
     ]
    },
    {
     "name": "stderr",
     "output_type": "stream",
     "text": [
      "/opt/anaconda3/lib/python3.9/site-packages/sklearn/model_selection/_split.py:666: UserWarning: The least populated class in y has only 2 members, which is less than n_splits=10.\n",
      "  warnings.warn((\"The least populated class in y has only %d\"\n"
     ]
    },
    {
     "name": "stdout",
     "output_type": "stream",
     "text": [
      "Fitting 10 folds for each of 1 candidates, totalling 10 fits\n"
     ]
    },
    {
     "name": "stderr",
     "output_type": "stream",
     "text": [
      "/opt/anaconda3/lib/python3.9/site-packages/sklearn/model_selection/_split.py:666: UserWarning: The least populated class in y has only 2 members, which is less than n_splits=10.\n",
      "  warnings.warn((\"The least populated class in y has only %d\"\n"
     ]
    },
    {
     "name": "stdout",
     "output_type": "stream",
     "text": [
      "Fitting 10 folds for each of 1 candidates, totalling 10 fits\n"
     ]
    },
    {
     "name": "stderr",
     "output_type": "stream",
     "text": [
      "/opt/anaconda3/lib/python3.9/site-packages/sklearn/model_selection/_split.py:666: UserWarning: The least populated class in y has only 2 members, which is less than n_splits=10.\n",
      "  warnings.warn((\"The least populated class in y has only %d\"\n"
     ]
    },
    {
     "name": "stdout",
     "output_type": "stream",
     "text": [
      "Fitting 10 folds for each of 1 candidates, totalling 10 fits\n"
     ]
    },
    {
     "name": "stderr",
     "output_type": "stream",
     "text": [
      "/opt/anaconda3/lib/python3.9/site-packages/sklearn/model_selection/_split.py:666: UserWarning: The least populated class in y has only 2 members, which is less than n_splits=10.\n",
      "  warnings.warn((\"The least populated class in y has only %d\"\n",
      "/opt/anaconda3/lib/python3.9/site-packages/skopt/optimizer/optimizer.py:449: UserWarning: The objective has been evaluated at this point before.\n",
      "  warnings.warn(\"The objective has been evaluated \"\n"
     ]
    },
    {
     "name": "stdout",
     "output_type": "stream",
     "text": [
      "Fitting 10 folds for each of 1 candidates, totalling 10 fits\n"
     ]
    },
    {
     "name": "stderr",
     "output_type": "stream",
     "text": [
      "/opt/anaconda3/lib/python3.9/site-packages/sklearn/model_selection/_split.py:666: UserWarning: The least populated class in y has only 2 members, which is less than n_splits=10.\n",
      "  warnings.warn((\"The least populated class in y has only %d\"\n"
     ]
    },
    {
     "name": "stdout",
     "output_type": "stream",
     "text": [
      "\n",
      "Best Parameters Found\n",
      "OrderedDict([('C', 0.5), ('degree', 1), ('gamma', 0.2), ('kernel', 'linear')])\n"
     ]
    },
    {
     "name": "stderr",
     "output_type": "stream",
     "text": [
      "/opt/anaconda3/lib/python3.9/site-packages/sklearn/model_selection/_split.py:666: UserWarning: The least populated class in y has only 2 members, which is less than n_splits=10.\n",
      "  warnings.warn((\"The least populated class in y has only %d\"\n"
     ]
    },
    {
     "name": "stdout",
     "output_type": "stream",
     "text": [
      "[65.42747681139939]\n"
     ]
    },
    {
     "name": "stderr",
     "output_type": "stream",
     "text": [
      "/opt/anaconda3/lib/python3.9/site-packages/sklearn/model_selection/_split.py:666: UserWarning: The least populated class in y has only 2 members, which is less than n_splits=10.\n",
      "  warnings.warn((\"The least populated class in y has only %d\"\n"
     ]
    },
    {
     "name": "stdout",
     "output_type": "stream",
     "text": [
      "[47.562172334991274]\n"
     ]
    },
    {
     "name": "stderr",
     "output_type": "stream",
     "text": [
      "/opt/anaconda3/lib/python3.9/site-packages/sklearn/model_selection/_split.py:666: UserWarning: The least populated class in y has only 2 members, which is less than n_splits=10.\n",
      "  warnings.warn((\"The least populated class in y has only %d\"\n"
     ]
    },
    {
     "name": "stdout",
     "output_type": "stream",
     "text": [
      "[95.82336335528969]\n"
     ]
    },
    {
     "name": "stderr",
     "output_type": "stream",
     "text": [
      "/opt/anaconda3/lib/python3.9/site-packages/sklearn/model_selection/_split.py:666: UserWarning: The least populated class in y has only 2 members, which is less than n_splits=10.\n",
      "  warnings.warn((\"The least populated class in y has only %d\"\n"
     ]
    },
    {
     "name": "stdout",
     "output_type": "stream",
     "text": [
      "[65.42747681139939, 91.41584890442263]\n"
     ]
    },
    {
     "name": "stderr",
     "output_type": "stream",
     "text": [
      "/opt/anaconda3/lib/python3.9/site-packages/sklearn/model_selection/_split.py:666: UserWarning: The least populated class in y has only 2 members, which is less than n_splits=10.\n",
      "  warnings.warn((\"The least populated class in y has only %d\"\n"
     ]
    },
    {
     "name": "stdout",
     "output_type": "stream",
     "text": [
      "[47.562172334991274, 54.06035757494286]\n"
     ]
    },
    {
     "name": "stderr",
     "output_type": "stream",
     "text": [
      "/opt/anaconda3/lib/python3.9/site-packages/sklearn/model_selection/_split.py:666: UserWarning: The least populated class in y has only 2 members, which is less than n_splits=10.\n",
      "  warnings.warn((\"The least populated class in y has only %d\"\n"
     ]
    },
    {
     "name": "stdout",
     "output_type": "stream",
     "text": [
      "[95.82336335528969, 97.1585562575615]\n"
     ]
    },
    {
     "name": "stderr",
     "output_type": "stream",
     "text": [
      "/opt/anaconda3/lib/python3.9/site-packages/sklearn/model_selection/_split.py:666: UserWarning: The least populated class in y has only 2 members, which is less than n_splits=10.\n",
      "  warnings.warn((\"The least populated class in y has only %d\"\n"
     ]
    },
    {
     "name": "stdout",
     "output_type": "stream",
     "text": [
      "[65.42747681139939, 91.41584890442263, 92.92344401129185]\n"
     ]
    },
    {
     "name": "stderr",
     "output_type": "stream",
     "text": [
      "/opt/anaconda3/lib/python3.9/site-packages/sklearn/model_selection/_split.py:666: UserWarning: The least populated class in y has only 2 members, which is less than n_splits=10.\n",
      "  warnings.warn((\"The least populated class in y has only %d\"\n"
     ]
    },
    {
     "name": "stdout",
     "output_type": "stream",
     "text": [
      "[47.562172334991274, 54.06035757494286, 62.0627772550074]\n"
     ]
    },
    {
     "name": "stderr",
     "output_type": "stream",
     "text": [
      "/opt/anaconda3/lib/python3.9/site-packages/sklearn/model_selection/_split.py:666: UserWarning: The least populated class in y has only 2 members, which is less than n_splits=10.\n",
      "  warnings.warn((\"The least populated class in y has only %d\"\n"
     ]
    },
    {
     "name": "stdout",
     "output_type": "stream",
     "text": [
      "[95.82336335528969, 97.1585562575615, 97.91235381099611]\n"
     ]
    },
    {
     "name": "stderr",
     "output_type": "stream",
     "text": [
      "/opt/anaconda3/lib/python3.9/site-packages/sklearn/model_selection/_split.py:666: UserWarning: The least populated class in y has only 2 members, which is less than n_splits=10.\n",
      "  warnings.warn((\"The least populated class in y has only %d\"\n"
     ]
    },
    {
     "name": "stdout",
     "output_type": "stream",
     "text": [
      "[65.42747681139939, 91.41584890442263, 92.92344401129185, 95.53501814760048]\n"
     ]
    },
    {
     "name": "stderr",
     "output_type": "stream",
     "text": [
      "/opt/anaconda3/lib/python3.9/site-packages/sklearn/model_selection/_split.py:666: UserWarning: The least populated class in y has only 2 members, which is less than n_splits=10.\n",
      "  warnings.warn((\"The least populated class in y has only %d\"\n"
     ]
    },
    {
     "name": "stdout",
     "output_type": "stream",
     "text": [
      "[47.562172334991274, 54.06035757494286, 62.0627772550074, 66.64672671057937]\n"
     ]
    },
    {
     "name": "stderr",
     "output_type": "stream",
     "text": [
      "/opt/anaconda3/lib/python3.9/site-packages/sklearn/model_selection/_split.py:666: UserWarning: The least populated class in y has only 2 members, which is less than n_splits=10.\n",
      "  warnings.warn((\"The least populated class in y has only %d\"\n"
     ]
    },
    {
     "name": "stdout",
     "output_type": "stream",
     "text": [
      "[95.82336335528969, 97.1585562575615, 97.91235381099611, 98.14457588385534]\n",
      "Accuracy Anova [65.42747681139939, 91.41584890442263, 92.92344401129185, 95.53501814760048]\n",
      "Chi2 accuracy [47.562172334991274, 54.06035757494286, 62.0627772550074, 66.64672671057937]\n",
      "IG accuracy [95.82336335528969, 97.1585562575615, 97.91235381099611, 98.14457588385534]\n"
     ]
    },
    {
     "data": {
      "image/png": "[encoded data removed]",
      "text/plain": [
       "<Figure size 432x288 with 1 Axes>"
      ]
     },
     "metadata": {
      "needs_background": "light"
     },
     "output_type": "display_data"
    },
    {
     "name": "stdout",
     "output_type": "stream",
     "text": [
      "     Feature_Name          Score\n",
      "1979        SOX10  129648.912347\n",
      "358          CD93    5794.987848\n",
      "1782        ROBO4    3040.364027\n",
      "461        COL3A1    1620.796419\n",
      "236          C1QC    1573.923843\n",
      "1989        SPARC    1531.386002\n",
      "1139          KDR    1423.430465\n",
      "459        COL1A2    1421.989899\n",
      "1604        PLVAP    1353.370100\n",
      "1536       PDGFRB    1282.268041\n",
      "469        COL6A3    1266.671253\n",
      "201           BGN    1214.913382\n",
      "1192       LAPTM5    1109.772747\n",
      "2289          VWF    1102.487984\n",
      "2230       TYROBP    1058.400823\n",
      "468        COL6A2    1026.674118\n",
      "1836          SDS    1020.630772\n",
      "1982        SOX18     953.458944\n",
      "664           ENG     912.784831\n",
      "780          FLT1     800.726011\n",
      "     Feature_Name        Score\n",
      "1979        SOX10  8171.632717\n",
      "236          C1QC  7390.864303\n",
      "358          CD93  6880.810570\n",
      "1782        ROBO4  6772.320803\n",
      "1836          SDS  6678.318485\n",
      "1139          KDR  6569.154303\n",
      "1982        SOX18  6282.452739\n",
      "2185        TPSB2  6181.856113\n",
      "484          CPA3  6102.068417\n",
      "371          CDH5  6050.141898\n",
      "234          C1QA  6025.973515\n",
      "1093        ITGB2  5987.713698\n",
      "2230       TYROBP  5920.655340\n",
      "1517       PCAT19  5870.660813\n",
      "1344        MS4A2  5789.009887\n",
      "2191        TRBC2  5717.475964\n",
      "2118         TIE1  5672.609519\n",
      "2289          VWF  5668.761860\n",
      "235          C1QB  5666.473200\n",
      "1604        PLVAP  5577.068366\n",
      "     Feature_Name     Score\n",
      "458       COL18A1  0.437704\n",
      "2069      TACSTD2  0.394232\n",
      "925          HADH  0.391723\n",
      "1076         IRX2  0.386457\n",
      "1274         MAFA  0.382446\n",
      "1331        MMP14  0.378911\n",
      "1609       PMEPA1  0.378190\n",
      "1174         KRT7  0.369852\n",
      "157           ARX  0.362664\n",
      "1528        PCSK1  0.361938\n",
      "1859     SERPING1  0.353735\n",
      "777          FLNA  0.353546\n",
      "838            GC  0.347739\n",
      "237         C1QL1  0.345856\n",
      "1028       IFITM3  0.344293\n",
      "811         FXYD3  0.337096\n",
      "1170        KRT19  0.332335\n",
      "1833         SDC4  0.331557\n",
      "664           ENG  0.330390\n",
      "362      CDC42EP1  0.326912\n",
      "(1724, 400)\n",
      "(1724, 400)\n",
      "(1724, 400)\n",
      "Anova Accuracy\n",
      "0.9498069498069498\n",
      "SVC MultiClass and Anova\n",
      "[ 86.48648649  96.0591133  100.          96.66666667  98.1981982\n",
      " 100.          85.71428571  80.76923077 100.           0.\n",
      " 100.         100.           0.         100.        ]\n",
      "[ 94.11764706  94.20289855  96.          97.75280899  97.32142857\n",
      " 100.         100.          77.77777778 100.                  nan\n",
      " 100.         100.                  nan 100.        ]\n",
      "[ 98.64864865  96.13899614  99.80694981  99.03474903  99.03474903\n",
      " 100.          99.80694981  97.87644788 100.          99.80694981\n",
      " 100.         100.          99.80694981 100.        ]\n",
      "[ 99.58419958  96.19047619  99.79757085  99.53271028  99.26289926\n",
      " 100.         100.          98.7804878  100.         100.\n",
      " 100.         100.         100.         100.        ]\n",
      "[ 98.96694215  97.42765273 100.          99.3006993   99.50738916\n",
      " 100.          99.8046875   98.98167006 100.          99.80694981\n",
      " 100.         100.          99.80694981 100.        ]\n",
      "[ 90.14084507  95.12195122  97.95918367  97.20670391  97.75784753\n",
      " 100.          92.30769231  79.24528302 100.                  nan\n",
      " 100.         100.                  nan 100.        ]\n"
     ]
    },
    {
     "name": "stderr",
     "output_type": "stream",
     "text": [
      "/var/folders/fh/mtkq58kd5ks3szv1j095_fbc0000gp/T/ipykernel_30403/1726973414.py:46: RuntimeWarning: invalid value encountered in true_divide\n",
      "  recall =  TP/(TP+FN) * 100\n"
     ]
    },
    {
     "data": {
      "image/png": "[encoded data removed]",
      "text/plain": [
       "<Figure size 432x288 with 1 Axes>"
      ]
     },
     "metadata": {
      "needs_background": "light"
     },
     "output_type": "display_data"
    },
    {
     "name": "stdout",
     "output_type": "stream",
     "text": [
      "Chi2 Accuracy\n",
      "0.6621621621621622\n",
      "SVC MultiClass and Chi2\n",
      "[ 29.72972973  86.20689655 100.          76.66666667  23.42342342\n",
      " 100.         100.          53.84615385 100.           0.\n",
      " 100.         100.           0.           0.        ]\n",
      "[ 50.          58.72483221 100.          85.18518519  54.16666667\n",
      " 100.         100.          66.66666667 100.                  nan\n",
      " 100.         100.                  nan          nan]\n",
      "[ 92.85714286  70.84942085 100.          93.62934363  79.34362934\n",
      " 100.         100.          96.33204633 100.          99.80694981\n",
      " 100.         100.          99.80694981  99.80694981]\n",
      "[ 97.71309771  60.95238095 100.          97.19626168  94.59459459\n",
      " 100.         100.          98.57723577 100.         100.\n",
      " 100.         100.         100.         100.        ]\n",
      "[ 94.75806452  87.27272727 100.          95.19450801  81.91489362\n",
      " 100.         100.          97.58551308 100.          99.80694981\n",
      " 100.         100.          99.80694981  99.80694981]\n",
      "[ 37.28813559  69.86027944 100.          80.70175439  32.70440252\n",
      " 100.         100.          59.57446809 100.                  nan\n",
      " 100.         100.                  nan          nan]\n"
     ]
    },
    {
     "name": "stderr",
     "output_type": "stream",
     "text": [
      "/var/folders/fh/mtkq58kd5ks3szv1j095_fbc0000gp/T/ipykernel_30403/1726973414.py:46: RuntimeWarning: invalid value encountered in true_divide\n",
      "  recall =  TP/(TP+FN) * 100\n"
     ]
    },
    {
     "data": {
      "image/png": "[encoded data removed]",
      "text/plain": [
       "<Figure size 432x288 with 1 Axes>"
      ]
     },
     "metadata": {
      "needs_background": "light"
     },
     "output_type": "display_data"
    },
    {
     "name": "stdout",
     "output_type": "stream",
     "text": [
      "IG Accuracy\n",
      "0.972972972972973\n",
      "SVC MultiClass and IG\n",
      "[ 94.59459459  99.50738916  95.83333333  98.88888889  98.1981982\n",
      " 100.          85.71428571  88.46153846 100.           0.\n",
      " 100.         100.           0.           0.        ]\n",
      "[ 92.10526316  96.6507177   95.83333333  98.88888889  99.09090909\n",
      " 100.         100.          95.83333333 100.                  nan\n",
      " 100.         100.                  nan          nan]\n",
      "[ 99.03474903  98.45559846  99.61389961  99.61389961  99.42084942\n",
      " 100.          99.80694981  99.22779923 100.          99.80694981\n",
      " 100.         100.          99.80694981  99.80694981]\n",
      "[ 99.37629938  97.77777778  99.79757085  99.76635514  99.75429975\n",
      " 100.         100.          99.79674797 100.         100.\n",
      " 100.         100.         100.         100.        ]\n",
      "[ 99.58333333  99.6763754   99.79757085  99.76635514  99.50980392\n",
      " 100.          99.8046875   99.39271255 100.          99.80694981\n",
      " 100.         100.          99.80694981  99.80694981]\n",
      "[ 93.33333333  98.05825243  95.83333333  98.88888889  98.64253394\n",
      " 100.          92.30769231  92.         100.                  nan\n",
      " 100.         100.                  nan          nan]\n"
     ]
    },
    {
     "name": "stderr",
     "output_type": "stream",
     "text": [
      "/var/folders/fh/mtkq58kd5ks3szv1j095_fbc0000gp/T/ipykernel_30403/1726973414.py:46: RuntimeWarning: invalid value encountered in true_divide\n",
      "  recall =  TP/(TP+FN) * 100\n"
     ]
    },
    {
     "data": {
      "image/png": "[encoded data removed]",
      "text/plain": [
       "<Figure size 432x288 with 1 Axes>"
      ]
     },
     "metadata": {
      "needs_background": "light"
     },
     "output_type": "display_data"
    },
    {
     "data": {
      "text/plain": [
       "(0.0, 1.0, 0.0, 1.0)"
      ]
     },
     "execution_count": 5,
     "metadata": {},
     "output_type": "execute_result"
    },
    {
     "data": {
      "image/png": "[encoded data removed]",
      "text/plain": [
       "<Figure size 432x288 with 1 Axes>"
      ]
     },
     "metadata": {
      "needs_background": "light"
     },
     "output_type": "display_data"
    },
    {
     "name": "stdout",
     "output_type": "stream",
     "text": [
      "[CV 3/10; 1/1] START C=0.5, degree=6, gamma=0.2, kernel=poly....................\n",
      "[CV 3/10; 1/1] END C=0.5, degree=6, gamma=0.2, kernel=poly;, score=0.613 total time=  21.3s\n",
      "[CV 8/10; 1/1] START C=0.5, degree=8, gamma=0.3, kernel=poly....................\n",
      "[CV 8/10; 1/1] END C=0.5, degree=8, gamma=0.3, kernel=poly;, score=0.628 total time=  23.1s\n",
      "[CV 1/10; 1/1] START C=0.5, degree=1, gamma=0.2, kernel=linear..................\n",
      "[CV 1/10; 1/1] END C=0.5, degree=1, gamma=0.2, kernel=linear;, score=0.983 total time=   7.8s\n",
      "[CV 8/10; 1/1] START C=0.1, degree=6, gamma=0.2, kernel=poly....................\n",
      "[CV 8/10; 1/1] END C=0.1, degree=6, gamma=0.2, kernel=poly;, score=0.773 total time=  22.1s\n",
      "[CV 1/10; 1/1] START C=0.1, degree=3, gamma=0.2, kernel=poly....................\n",
      "[CV 1/10; 1/1] END C=0.1, degree=3, gamma=0.2, kernel=poly;, score=0.965 total time=  16.8s\n",
      "[CV 4/10; 1/1] START C=1.0, degree=8, gamma=0.2, kernel=poly....................\n",
      "[CV 4/10; 1/1] END C=1.0, degree=8, gamma=0.2, kernel=poly;, score=0.607 total time=  22.8s\n",
      "[CV 9/10; 1/1] START C=1.0, degree=8, gamma=0.2, kernel=poly....................\n",
      "[CV 9/10; 1/1] END C=1.0, degree=8, gamma=0.2, kernel=poly;, score=0.593 total time=   8.3s\n",
      "[CV 3/10; 1/1] START C=1.0, degree=6, gamma=0.2, kernel=linear..................\n",
      "[CV 3/10; 1/1] END C=1.0, degree=6, gamma=0.2, kernel=linear;, score=0.983 total time=   7.5s\n",
      "[CV 1/10; 1/1] START C=0.5, degree=5, gamma=0.2, kernel=linear..................\n",
      "[CV 1/10; 1/1] END C=0.5, degree=5, gamma=0.2, kernel=linear;, score=0.983 total time=   7.4s\n",
      "[CV 7/10; 1/1] START C=0.1, degree=7, gamma=0.3, kernel=rbf.....................\n",
      "[CV 7/10; 1/1] END C=0.1, degree=7, gamma=0.3, kernel=rbf;, score=0.395 total time=  34.7s\n",
      "[CV 8/10; 1/1] START C=0.5, degree=4, gamma=0.2, kernel=rbf.....................\n",
      "[CV 8/10; 1/1] END C=0.5, degree=4, gamma=0.2, kernel=rbf;, score=0.395 total time=  40.8s\n",
      "[CV 2/10; 1/1] START C=0.1, degree=1, gamma=0.2, kernel=poly....................\n",
      "[CV 2/10; 1/1] END C=0.1, degree=1, gamma=0.2, kernel=poly;, score=0.994 total time=   8.5s\n",
      "[CV 8/10; 1/1] START C=0.1, degree=8, gamma=0.1, kernel=linear..................\n",
      "[CV 8/10; 1/1] END C=0.1, degree=8, gamma=0.1, kernel=linear;, score=1.000 total time=   8.4s\n",
      "[CV 8/10; 1/1] START C=1.0, degree=3, gamma=0.3, kernel=linear..................\n",
      "[CV 8/10; 1/1] END C=1.0, degree=3, gamma=0.3, kernel=linear;, score=1.000 total time=   7.8s\n",
      "[CV 2/10; 1/1] START C=0.1, degree=1, gamma=0.1, kernel=poly....................\n",
      "[CV 2/10; 1/1] END C=0.1, degree=1, gamma=0.1, kernel=poly;, score=0.994 total time=   7.4s\n",
      "[CV 7/10; 1/1] START C=0.1, degree=2, gamma=0.1, kernel=linear..................\n",
      "[CV 7/10; 1/1] END C=0.1, degree=2, gamma=0.1, kernel=linear;, score=0.994 total time=   7.8s\n",
      "[CV 3/10; 1/1] START C=0.1, degree=7, gamma=0.3, kernel=linear..................\n",
      "[CV 3/10; 1/1] END C=0.1, degree=7, gamma=0.3, kernel=linear;, score=0.983 total time=   7.2s\n",
      "[CV 9/10; 1/1] START C=0.1, degree=7, gamma=0.3, kernel=linear..................\n",
      "[CV 9/10; 1/1] END C=0.1, degree=7, gamma=0.3, kernel=linear;, score=0.988 total time=   2.3s\n",
      "[CV 6/10; 1/1] START C=1.0, degree=8, gamma=0.3, kernel=linear..................\n",
      "[CV 6/10; 1/1] END C=1.0, degree=8, gamma=0.3, kernel=linear;, score=0.983 total time=   7.8s\n",
      "[CV 5/10; 1/1] START C=1.0, degree=4, gamma=0.1, kernel=linear..................\n",
      "[CV 5/10; 1/1] END C=1.0, degree=4, gamma=0.1, kernel=linear;, score=0.983 total time=   7.5s\n",
      "[CV 3/10; 1/1] START C=1.0, degree=1, gamma=0.3, kernel=poly....................\n",
      "[CV 3/10; 1/1] END C=1.0, degree=1, gamma=0.3, kernel=poly;, score=0.983 total time=   7.8s\n",
      "[CV 10/10; 1/1] START C=1.0, degree=1, gamma=0.3, kernel=poly...................\n",
      "[CV 10/10; 1/1] END C=1.0, degree=1, gamma=0.3, kernel=poly;, score=0.953 total time=   2.6s\n",
      "[CV 4/10; 1/1] START C=1.0, degree=7, gamma=0.1, kernel=linear..................\n",
      "[CV 4/10; 1/1] END C=1.0, degree=7, gamma=0.1, kernel=linear;, score=0.960 total time=   7.7s\n",
      "[CV 9/10; 1/1] START C=1.0, degree=7, gamma=0.1, kernel=linear..................\n",
      "[CV 9/10; 1/1] END C=1.0, degree=7, gamma=0.1, kernel=linear;, score=0.988 total time=   3.0s\n",
      "[CV 4/10; 1/1] START C=1.0, degree=2, gamma=0.3, kernel=linear..................\n",
      "[CV 4/10; 1/1] END C=1.0, degree=2, gamma=0.3, kernel=linear;, score=0.960 total time=   7.6s\n",
      "[CV 9/10; 1/1] START C=1.0, degree=2, gamma=0.3, kernel=linear..................\n",
      "[CV 9/10; 1/1] END C=1.0, degree=2, gamma=0.3, kernel=linear;, score=0.988 total time=   2.4s\n",
      "[CV 3/10; 1/1] START C=0.1, degree=4, gamma=0.3, kernel=linear..................\n",
      "[CV 3/10; 1/1] END C=0.1, degree=4, gamma=0.3, kernel=linear;, score=0.983 total time=   7.5s\n",
      "[CV 9/10; 1/1] START C=0.1, degree=4, gamma=0.3, kernel=linear..................\n",
      "[CV 9/10; 1/1] END C=0.1, degree=4, gamma=0.3, kernel=linear;, score=0.988 total time=   2.2s\n",
      "[CV 6/10; 1/1] START C=1.0, degree=1, gamma=0.1, kernel=poly....................\n",
      "[CV 6/10; 1/1] END C=1.0, degree=1, gamma=0.1, kernel=poly;, score=0.983 total time=   7.5s\n",
      "[CV 1/10; 1/1] START C=0.1, degree=1, gamma=0.3, kernel=poly....................\n",
      "[CV 1/10; 1/1] END C=0.1, degree=1, gamma=0.3, kernel=poly;, score=0.983 total time=   7.8s\n",
      "[CV 7/10; 1/1] START C=0.1, degree=1, gamma=0.3, kernel=linear..................\n",
      "[CV 7/10; 1/1] END C=0.1, degree=1, gamma=0.3, kernel=linear;, score=0.994 total time=   7.9s\n",
      "[CV 9/10; 1/1] START C=0.1, degree=1, gamma=0.3, kernel=linear..................\n",
      "[CV 9/10; 1/1] END C=0.1, degree=1, gamma=0.3, kernel=linear;, score=0.988 total time=   2.3s\n",
      "[CV 3/10; 1/1] START C=1.0, degree=1, gamma=0.1, kernel=poly....................\n",
      "[CV 3/10; 1/1] END C=1.0, degree=1, gamma=0.1, kernel=poly;, score=0.983 total time=   7.4s\n",
      "[CV 10/10; 1/1] START C=1.0, degree=1, gamma=0.1, kernel=poly...................\n",
      "[CV 10/10; 1/1] END C=1.0, degree=1, gamma=0.1, kernel=poly;, score=0.953 total time=   2.2s\n",
      "[CV 8/10; 1/1] START C=1.0, degree=1, gamma=0.1, kernel=linear..................\n",
      "[CV 8/10; 1/1] END C=1.0, degree=1, gamma=0.1, kernel=linear;, score=1.000 total time=   8.2s\n",
      "[CV 7/10; 1/1] START C=0.1, degree=3, gamma=0.1, kernel=linear..................\n",
      "[CV 7/10; 1/1] END C=0.1, degree=3, gamma=0.1, kernel=linear;, score=0.994 total time=   8.0s\n",
      "[CV 7/10; 1/1] START C=0.1, degree=6, gamma=0.1, kernel=linear..................\n",
      "[CV 7/10; 1/1] END C=0.1, degree=6, gamma=0.1, kernel=linear;, score=0.994 total time=   7.8s\n",
      "[CV 9/10; 1/1] START C=0.1, degree=6, gamma=0.1, kernel=linear..................\n",
      "[CV 9/10; 1/1] END C=0.1, degree=6, gamma=0.1, kernel=linear;, score=0.988 total time=   2.4s\n",
      "[CV 5/10; 1/1] START C=0.1, degree=1, gamma=0.3, kernel=rbf.....................\n",
      "[CV 5/10; 1/1] END C=0.1, degree=1, gamma=0.3, kernel=rbf;, score=0.390 total time=  34.9s\n",
      "[CV 3/10; 1/1] START C=1.0, degree=2, gamma=0.3, kernel=poly....................\n",
      "[CV 3/10; 1/1] END C=1.0, degree=2, gamma=0.3, kernel=poly;, score=0.965 total time=  12.0s\n",
      "[CV 1/10; 1/1] START C=1.0, degree=8, gamma=0.1, kernel=linear..................\n",
      "[CV 1/10; 1/1] END C=1.0, degree=8, gamma=0.1, kernel=linear;, score=0.983 total time=   8.4s\n",
      "[CV 7/10; 1/1] START C=1.0, degree=5, gamma=0.3, kernel=linear..................\n",
      "[CV 7/10; 1/1] END C=1.0, degree=5, gamma=0.3, kernel=linear;, score=0.994 total time=   7.5s\n",
      "[CV 7/10; 1/1] START C=0.1, degree=8, gamma=0.3, kernel=linear..................\n",
      "[CV 7/10; 1/1] END C=0.1, degree=8, gamma=0.3, kernel=linear;, score=0.994 total time=   7.4s\n",
      "[CV 6/10; 1/1] START C=0.1, degree=5, gamma=0.1, kernel=linear..................\n",
      "[CV 6/10; 1/1] END C=0.1, degree=5, gamma=0.1, kernel=linear;, score=0.983 total time=   7.0s\n",
      "[CV 1/10; 1/1] START C=0.1, degree=1, gamma=0.1, kernel=linear..................\n",
      "[CV 1/10; 1/1] END C=0.1, degree=1, gamma=0.1, kernel=linear;, score=0.983 total time=   8.1s\n",
      "[CV 6/10; 1/1] START C=1.0, degree=1, gamma=0.3, kernel=linear..................\n",
      "[CV 6/10; 1/1] END C=1.0, degree=1, gamma=0.3, kernel=linear;, score=0.983 total time=   7.4s\n",
      "[CV 3/10; 1/1] START C=0.1, degree=6, gamma=0.3, kernel=linear..................\n",
      "[CV 3/10; 1/1] END C=0.1, degree=6, gamma=0.3, kernel=linear;, score=0.983 total time=   7.8s\n",
      "[CV 10/10; 1/1] START C=0.1, degree=6, gamma=0.3, kernel=linear.................\n",
      "[CV 10/10; 1/1] END C=0.1, degree=6, gamma=0.3, kernel=linear;, score=0.953 total time=   2.3s\n",
      "[CV 3/10; 1/1] START C=0.1, degree=2, gamma=0.3, kernel=linear..................\n",
      "[CV 3/10; 1/1] END C=0.1, degree=2, gamma=0.3, kernel=linear;, score=0.983 total time=   7.0s\n",
      "[CV 1/10; 1/1] START C=1.0, degree=1, gamma=0.3, kernel=poly....................\n",
      "[CV 1/10; 1/1] END C=1.0, degree=1, gamma=0.3, kernel=poly;, score=0.983 total time=   7.7s\n",
      "[CV 6/10; 1/1] START C=1.0, degree=2, gamma=0.1, kernel=linear..................\n",
      "[CV 6/10; 1/1] END C=1.0, degree=2, gamma=0.1, kernel=linear;, score=0.983 total time=   7.3s\n",
      "[CV 1/10; 1/1] START C=1.0, degree=7, gamma=0.3, kernel=linear..................\n",
      "[CV 1/10; 1/1] END C=1.0, degree=7, gamma=0.3, kernel=linear;, score=0.983 total time=   8.1s\n",
      "[CV 6/10; 1/1] START C=0.1, degree=8, gamma=0.1, kernel=linear..................\n",
      "[CV 6/10; 1/1] END C=0.1, degree=8, gamma=0.1, kernel=linear;, score=0.983 total time=   7.2s\n",
      "[CV 9/10; 1/1] START C=0.1, degree=8, gamma=0.1, kernel=linear..................\n",
      "[CV 9/10; 1/1] END C=0.1, degree=8, gamma=0.1, kernel=linear;, score=0.988 total time=   2.4s\n",
      "[CV 8/10; 1/1] START C=0.1, degree=4, gamma=0.3, kernel=linear..................\n",
      "[CV 8/10; 1/1] END C=0.1, degree=4, gamma=0.3, kernel=linear;, score=1.000 total time=   7.3s\n",
      "[CV 10/10; 1/1] START C=0.1, degree=4, gamma=0.3, kernel=linear.................\n",
      "[CV 10/10; 1/1] END C=0.1, degree=4, gamma=0.3, kernel=linear;, score=0.953 total time=   2.3s\n",
      "[CV 3/10; 1/1] START C=0.1, degree=7, gamma=0.1, kernel=linear..................\n",
      "[CV 3/10; 1/1] END C=0.1, degree=7, gamma=0.1, kernel=linear;, score=0.983 total time=   7.5s\n",
      "[CV 1/10; 1/1] START C=1.0, degree=4, gamma=0.1, kernel=linear..................\n",
      "[CV 1/10; 1/1] END C=1.0, degree=4, gamma=0.1, kernel=linear;, score=0.983 total time=   7.4s\n",
      "[CV 5/10; 1/1] START C=1.0, degree=3, gamma=0.1, kernel=linear..................\n",
      "[CV 5/10; 1/1] END C=1.0, degree=3, gamma=0.1, kernel=linear;, score=0.983 total time=   7.2s\n",
      "[CV 9/10; 1/1] START C=1.0, degree=3, gamma=0.1, kernel=linear..................\n",
      "[CV 9/10; 1/1] END C=1.0, degree=3, gamma=0.1, kernel=linear;, score=0.988 total time=   2.5s\n",
      "[CV 2/10; 1/1] START C=0.1, degree=3, gamma=0.3, kernel=linear..................\n",
      "[CV 2/10; 1/1] END C=0.1, degree=3, gamma=0.3, kernel=linear;, score=0.994 total time=   7.6s\n",
      "[CV 8/10; 1/1] START C=1.0, degree=6, gamma=0.1, kernel=linear..................\n",
      "[CV 8/10; 1/1] END C=1.0, degree=6, gamma=0.1, kernel=linear;, score=1.000 total time=   7.5s\n",
      "[CV 10/10; 1/1] START C=1.0, degree=6, gamma=0.1, kernel=linear.................\n",
      "[CV 10/10; 1/1] END C=1.0, degree=6, gamma=0.1, kernel=linear;, score=0.953 total time=   2.4s\n",
      "[CV 3/10; 1/1] START C=1.0, degree=8, gamma=0.3, kernel=linear..................\n",
      "[CV 3/10; 1/1] END C=1.0, degree=8, gamma=0.3, kernel=linear;, score=0.983 total time=   8.0s\n",
      "[CV 4/10; 1/1] START C=0.5, degree=6, gamma=0.2, kernel=poly....................\n",
      "[CV 4/10; 1/1] END C=0.5, degree=6, gamma=0.2, kernel=poly;, score=0.682 total time=  20.4s\n",
      "[CV 9/10; 1/1] START C=0.5, degree=6, gamma=0.2, kernel=poly....................\n",
      "[CV 9/10; 1/1] END C=0.5, degree=6, gamma=0.2, kernel=poly;, score=0.744 total time=   6.6s\n",
      "[CV 3/10; 1/1] START C=0.5, degree=8, gamma=0.3, kernel=poly....................\n",
      "[CV 3/10; 1/1] END C=0.5, degree=8, gamma=0.3, kernel=poly;, score=0.509 total time=  23.6s\n",
      "[CV 5/10; 1/1] START C=0.5, degree=1, gamma=0.2, kernel=linear..................\n",
      "[CV 5/10; 1/1] END C=0.5, degree=1, gamma=0.2, kernel=linear;, score=0.983 total time=   7.8s\n",
      "[CV 7/10; 1/1] START C=0.1, degree=6, gamma=0.2, kernel=poly....................\n",
      "[CV 7/10; 1/1] END C=0.1, degree=6, gamma=0.2, kernel=poly;, score=0.523 total time=  22.6s\n",
      "[CV 3/10; 1/1] START C=0.1, degree=3, gamma=0.2, kernel=poly....................\n",
      "[CV 3/10; 1/1] END C=0.1, degree=3, gamma=0.2, kernel=poly;, score=0.873 total time=  16.5s\n",
      "[CV 1/10; 1/1] START C=1.0, degree=8, gamma=0.2, kernel=poly....................\n",
      "[CV 1/10; 1/1] END C=1.0, degree=8, gamma=0.2, kernel=poly;, score=0.613 total time=  23.8s\n",
      "[CV 10/10; 1/1] START C=1.0, degree=8, gamma=0.2, kernel=poly...................\n",
      "[CV 10/10; 1/1] END C=1.0, degree=8, gamma=0.2, kernel=poly;, score=0.494 total time=   7.2s\n",
      "[CV 4/10; 1/1] START C=1.0, degree=6, gamma=0.2, kernel=linear..................\n",
      "[CV 4/10; 1/1] END C=1.0, degree=6, gamma=0.2, kernel=linear;, score=0.960 total time=   7.3s\n",
      "[CV 9/10; 1/1] START C=1.0, degree=6, gamma=0.2, kernel=linear..................\n",
      "[CV 9/10; 1/1] END C=1.0, degree=6, gamma=0.2, kernel=linear;, score=0.988 total time=   2.2s\n",
      "[CV 2/10; 1/1] START C=0.5, degree=5, gamma=0.2, kernel=linear..................\n",
      "[CV 2/10; 1/1] END C=0.5, degree=5, gamma=0.2, kernel=linear;, score=0.994 total time=   7.4s\n",
      "[CV 6/10; 1/1] START C=0.1, degree=7, gamma=0.3, kernel=rbf.....................\n",
      "[CV 6/10; 1/1] END C=0.1, degree=7, gamma=0.3, kernel=rbf;, score=0.395 total time=  34.8s\n",
      "[CV 4/10; 1/1] START C=0.5, degree=4, gamma=0.2, kernel=rbf.....................\n",
      "[CV 4/10; 1/1] END C=0.5, degree=4, gamma=0.2, kernel=rbf;, score=0.387 total time=  40.7s\n",
      "[CV 1/10; 1/1] START C=0.1, degree=1, gamma=0.2, kernel=poly....................\n",
      "[CV 1/10; 1/1] END C=0.1, degree=1, gamma=0.2, kernel=poly;, score=0.983 total time=   8.5s\n",
      "[CV 2/10; 1/1] START C=0.1, degree=8, gamma=0.1, kernel=linear..................\n",
      "[CV 2/10; 1/1] END C=0.1, degree=8, gamma=0.1, kernel=linear;, score=0.994 total time=   8.4s\n",
      "[CV 7/10; 1/1] START C=1.0, degree=3, gamma=0.3, kernel=linear..................\n",
      "[CV 7/10; 1/1] END C=1.0, degree=3, gamma=0.3, kernel=linear;, score=0.994 total time=   7.7s\n",
      "[CV 1/10; 1/1] START C=0.1, degree=1, gamma=0.1, kernel=poly....................\n",
      "[CV 1/10; 1/1] END C=0.1, degree=1, gamma=0.1, kernel=poly;, score=0.983 total time=   7.5s\n",
      "[CV 4/10; 1/1] START C=0.1, degree=2, gamma=0.1, kernel=linear..................\n",
      "[CV 4/10; 1/1] END C=0.1, degree=2, gamma=0.1, kernel=linear;, score=0.960 total time=   7.8s\n",
      "[CV 10/10; 1/1] START C=0.1, degree=2, gamma=0.1, kernel=linear.................\n",
      "[CV 10/10; 1/1] END C=0.1, degree=2, gamma=0.1, kernel=linear;, score=0.953 total time=   2.1s\n",
      "[CV 8/10; 1/1] START C=0.1, degree=7, gamma=0.3, kernel=linear..................\n",
      "[CV 8/10; 1/1] END C=0.1, degree=7, gamma=0.3, kernel=linear;, score=1.000 total time=   7.4s\n",
      "[CV 4/10; 1/1] START C=1.0, degree=8, gamma=0.3, kernel=linear..................\n",
      "[CV 4/10; 1/1] END C=1.0, degree=8, gamma=0.3, kernel=linear;, score=0.960 total time=   7.6s\n",
      "[CV 9/10; 1/1] START C=1.0, degree=8, gamma=0.3, kernel=linear..................\n",
      "[CV 9/10; 1/1] END C=1.0, degree=8, gamma=0.3, kernel=linear;, score=0.988 total time=   2.3s\n",
      "[CV 7/10; 1/1] START C=1.0, degree=4, gamma=0.1, kernel=linear..................\n",
      "[CV 7/10; 1/1] END C=1.0, degree=4, gamma=0.1, kernel=linear;, score=0.994 total time=   7.3s\n",
      "[CV 9/10; 1/1] START C=1.0, degree=4, gamma=0.1, kernel=linear..................\n",
      "[CV 9/10; 1/1] END C=1.0, degree=4, gamma=0.1, kernel=linear;, score=0.988 total time=   2.3s\n",
      "[CV 8/10; 1/1] START C=1.0, degree=1, gamma=0.3, kernel=poly....................\n",
      "[CV 8/10; 1/1] END C=1.0, degree=1, gamma=0.3, kernel=poly;, score=1.000 total time=   7.9s\n",
      "[CV 5/10; 1/1] START C=1.0, degree=7, gamma=0.1, kernel=linear..................\n",
      "[CV 5/10; 1/1] END C=1.0, degree=7, gamma=0.1, kernel=linear;, score=0.983 total time=   7.9s\n",
      "[CV 1/10; 1/1] START C=1.0, degree=2, gamma=0.3, kernel=linear..................\n",
      "[CV 1/10; 1/1] END C=1.0, degree=2, gamma=0.3, kernel=linear;, score=0.983 total time=   7.8s\n",
      "[CV 6/10; 1/1] START C=0.1, degree=4, gamma=0.3, kernel=linear..................\n",
      "[CV 6/10; 1/1] END C=0.1, degree=4, gamma=0.3, kernel=linear;, score=0.983 total time=   7.5s\n",
      "[CV 1/10; 1/1] START C=1.0, degree=1, gamma=0.1, kernel=poly....................\n",
      "[CV 1/10; 1/1] END C=1.0, degree=1, gamma=0.1, kernel=poly;, score=0.983 total time=   7.6s\n",
      "[CV 5/10; 1/1] START C=0.1, degree=1, gamma=0.3, kernel=poly....................\n",
      "[CV 5/10; 1/1] END C=0.1, degree=1, gamma=0.3, kernel=poly;, score=0.983 total time=   7.8s\n",
      "[CV 3/10; 1/1] START C=0.1, degree=1, gamma=0.3, kernel=linear..................\n",
      "[CV 3/10; 1/1] END C=0.1, degree=1, gamma=0.3, kernel=linear;, score=0.983 total time=   8.1s\n",
      "[CV 2/10; 1/1] START C=1.0, degree=1, gamma=0.1, kernel=poly....................\n",
      "[CV 2/10; 1/1] END C=1.0, degree=1, gamma=0.1, kernel=poly;, score=0.994 total time=   7.5s\n",
      "[CV 1/10; 1/1] START C=1.0, degree=1, gamma=0.1, kernel=linear..................\n",
      "[CV 1/10; 1/1] END C=1.0, degree=1, gamma=0.1, kernel=linear;, score=0.983 total time=   8.4s\n",
      "[CV 4/10; 1/1] START C=0.1, degree=3, gamma=0.1, kernel=linear..................\n",
      "[CV 4/10; 1/1] END C=0.1, degree=3, gamma=0.1, kernel=linear;, score=0.960 total time=   7.9s\n",
      "[CV 10/10; 1/1] START C=0.1, degree=3, gamma=0.1, kernel=linear.................\n",
      "[CV 10/10; 1/1] END C=0.1, degree=3, gamma=0.1, kernel=linear;, score=0.953 total time=   2.2s\n",
      "[CV 5/10; 1/1] START C=0.1, degree=6, gamma=0.1, kernel=linear..................\n",
      "[CV 5/10; 1/1] END C=0.1, degree=6, gamma=0.1, kernel=linear;, score=0.983 total time=   8.1s\n",
      "[CV 8/10; 1/1] START C=0.1, degree=1, gamma=0.3, kernel=rbf.....................\n",
      "[CV 8/10; 1/1] END C=0.1, degree=1, gamma=0.3, kernel=rbf;, score=0.395 total time=  35.1s\n",
      "[CV 8/10; 1/1] START C=1.0, degree=2, gamma=0.3, kernel=poly....................\n",
      "[CV 8/10; 1/1] END C=1.0, degree=2, gamma=0.3, kernel=poly;, score=0.965 total time=  12.2s\n",
      "[CV 8/10; 1/1] START C=1.0, degree=8, gamma=0.1, kernel=linear..................\n",
      "[CV 8/10; 1/1] END C=1.0, degree=8, gamma=0.1, kernel=linear;, score=1.000 total time=   8.4s\n",
      "[CV 3/10; 1/1] START C=1.0, degree=5, gamma=0.3, kernel=linear..................\n",
      "[CV 3/10; 1/1] END C=1.0, degree=5, gamma=0.3, kernel=linear;, score=0.983 total time=   7.4s\n",
      "[CV 10/10; 1/1] START C=1.0, degree=5, gamma=0.3, kernel=linear.................\n",
      "[CV 10/10; 1/1] END C=1.0, degree=5, gamma=0.3, kernel=linear;, score=0.953 total time=   2.4s\n",
      "[CV 8/10; 1/1] START C=0.1, degree=8, gamma=0.3, kernel=linear..................\n",
      "[CV 8/10; 1/1] END C=0.1, degree=8, gamma=0.3, kernel=linear;, score=1.000 total time=   7.3s\n",
      "[CV 8/10; 1/1] START C=0.1, degree=5, gamma=0.1, kernel=linear..................\n",
      "[CV 8/10; 1/1] END C=0.1, degree=5, gamma=0.1, kernel=linear;, score=1.000 total time=   7.1s\n",
      "[CV 5/10; 1/1] START C=0.1, degree=1, gamma=0.1, kernel=linear..................\n",
      "[CV 5/10; 1/1] END C=0.1, degree=1, gamma=0.1, kernel=linear;, score=0.983 total time=   8.1s\n",
      "[CV 5/10; 1/1] START C=1.0, degree=1, gamma=0.3, kernel=linear..................\n",
      "[CV 5/10; 1/1] END C=1.0, degree=1, gamma=0.3, kernel=linear;, score=0.983 total time=   7.5s\n",
      "[CV 6/10; 1/1] START C=0.1, degree=6, gamma=0.3, kernel=linear..................\n",
      "[CV 6/10; 1/1] END C=0.1, degree=6, gamma=0.3, kernel=linear;, score=0.983 total time=   8.0s\n",
      "[CV 6/10; 1/1] START C=0.1, degree=2, gamma=0.3, kernel=linear..................\n",
      "[CV 6/10; 1/1] END C=0.1, degree=2, gamma=0.3, kernel=linear;, score=0.983 total time=   7.1s\n",
      "[CV 8/10; 1/1] START C=1.0, degree=1, gamma=0.3, kernel=poly....................\n",
      "[CV 8/10; 1/1] END C=1.0, degree=1, gamma=0.3, kernel=poly;, score=1.000 total time=   7.8s\n",
      "[CV 8/10; 1/1] START C=1.0, degree=2, gamma=0.1, kernel=linear..................\n",
      "[CV 8/10; 1/1] END C=1.0, degree=2, gamma=0.1, kernel=linear;, score=1.000 total time=   7.3s\n",
      "[CV 6/10; 1/1] START C=1.0, degree=7, gamma=0.3, kernel=linear..................\n",
      "[CV 6/10; 1/1] END C=1.0, degree=7, gamma=0.3, kernel=linear;, score=0.983 total time=   8.0s\n",
      "[CV 3/10; 1/1] START C=0.1, degree=8, gamma=0.1, kernel=linear..................\n",
      "[CV 3/10; 1/1] END C=0.1, degree=8, gamma=0.1, kernel=linear;, score=0.983 total time=   7.3s\n",
      "[CV 1/10; 1/1] START C=0.1, degree=4, gamma=0.3, kernel=linear..................\n",
      "[CV 1/10; 1/1] END C=0.1, degree=4, gamma=0.3, kernel=linear;, score=0.983 total time=   7.4s\n",
      "[CV 8/10; 1/1] START C=0.1, degree=7, gamma=0.1, kernel=linear..................\n",
      "[CV 8/10; 1/1] END C=0.1, degree=7, gamma=0.1, kernel=linear;, score=1.000 total time=   7.5s\n",
      "[CV 7/10; 1/1] START C=1.0, degree=4, gamma=0.1, kernel=linear..................\n",
      "[CV 7/10; 1/1] END C=1.0, degree=4, gamma=0.1, kernel=linear;, score=0.994 total time=   7.4s\n",
      "[CV 2/10; 1/1] START C=1.0, degree=3, gamma=0.1, kernel=linear..................\n",
      "[CV 2/10; 1/1] END C=1.0, degree=3, gamma=0.1, kernel=linear;, score=0.994 total time=   7.3s\n",
      "[CV 1/10; 1/1] START C=0.1, degree=3, gamma=0.3, kernel=linear..................\n",
      "[CV 1/10; 1/1] END C=0.1, degree=3, gamma=0.3, kernel=linear;, score=0.983 total time=   7.6s\n",
      "[CV 3/10; 1/1] START C=1.0, degree=6, gamma=0.1, kernel=linear..................\n",
      "[CV 3/10; 1/1] END C=1.0, degree=6, gamma=0.1, kernel=linear;, score=0.983 total time=   7.5s\n",
      "[CV 9/10; 1/1] START C=1.0, degree=6, gamma=0.1, kernel=linear..................\n",
      "[CV 9/10; 1/1] END C=1.0, degree=6, gamma=0.1, kernel=linear;, score=0.988 total time=   2.4s\n",
      "[CV 8/10; 1/1] START C=1.0, degree=8, gamma=0.3, kernel=linear..................\n",
      "[CV 8/10; 1/1] END C=1.0, degree=8, gamma=0.3, kernel=linear;, score=1.000 total time=   8.0s\n",
      "[CV 6/10; 1/1] START C=0.5, degree=6, gamma=0.2, kernel=poly....................\n",
      "[CV 6/10; 1/1] END C=0.5, degree=6, gamma=0.2, kernel=poly;, score=0.686 total time=  21.0s\n",
      "[CV 10/10; 1/1] START C=0.5, degree=6, gamma=0.2, kernel=poly...................\n",
      "[CV 10/10; 1/1] END C=0.5, degree=6, gamma=0.2, kernel=poly;, score=0.535 total time=   5.9s\n",
      "[CV 2/10; 1/1] START C=0.5, degree=8, gamma=0.3, kernel=poly....................\n",
      "[CV 2/10; 1/1] END C=0.5, degree=8, gamma=0.3, kernel=poly;, score=0.595 total time=  23.5s\n",
      "[CV 8/10; 1/1] START C=0.5, degree=1, gamma=0.2, kernel=linear..................\n",
      "[CV 8/10; 1/1] END C=0.5, degree=1, gamma=0.2, kernel=linear;, score=1.000 total time=   7.8s\n",
      "[CV 6/10; 1/1] START C=0.1, degree=6, gamma=0.2, kernel=poly....................\n",
      "[CV 6/10; 1/1] END C=0.1, degree=6, gamma=0.2, kernel=poly;, score=0.686 total time=  21.9s\n",
      "[CV 10/10; 1/1] START C=0.1, degree=6, gamma=0.2, kernel=poly...................\n",
      "[CV 10/10; 1/1] END C=0.1, degree=6, gamma=0.2, kernel=poly;, score=0.535 total time=   7.2s\n",
      "[CV 7/10; 1/1] START C=0.1, degree=3, gamma=0.2, kernel=poly....................\n",
      "[CV 7/10; 1/1] END C=0.1, degree=3, gamma=0.2, kernel=poly;, score=0.849 total time=  16.8s\n",
      "[CV 5/10; 1/1] START C=1.0, degree=8, gamma=0.2, kernel=poly....................\n",
      "[CV 5/10; 1/1] END C=1.0, degree=8, gamma=0.2, kernel=poly;, score=0.558 total time=  24.4s\n",
      "[CV 6/10; 1/1] START C=1.0, degree=6, gamma=0.2, kernel=linear..................\n",
      "[CV 6/10; 1/1] END C=1.0, degree=6, gamma=0.2, kernel=linear;, score=0.983 total time=   7.5s\n",
      "[CV 6/10; 1/1] START C=0.5, degree=5, gamma=0.2, kernel=linear..................\n",
      "[CV 6/10; 1/1] END C=0.5, degree=5, gamma=0.2, kernel=linear;, score=0.983 total time=   7.3s\n",
      "[CV 1/10; 1/1] START C=0.1, degree=7, gamma=0.3, kernel=rbf.....................\n",
      "[CV 1/10; 1/1] END C=0.1, degree=7, gamma=0.3, kernel=rbf;, score=0.393 total time=  34.2s\n",
      "[CV 1/10; 1/1] START C=0.5, degree=4, gamma=0.2, kernel=rbf.....................\n",
      "[CV 1/10; 1/1] END C=0.5, degree=4, gamma=0.2, kernel=rbf;, score=0.393 total time=  40.9s\n",
      "[CV 3/10; 1/1] START C=0.1, degree=1, gamma=0.2, kernel=poly....................\n",
      "[CV 3/10; 1/1] END C=0.1, degree=1, gamma=0.2, kernel=poly;, score=0.983 total time=   8.4s\n",
      "[CV 5/10; 1/1] START C=0.1, degree=8, gamma=0.1, kernel=linear..................\n",
      "[CV 5/10; 1/1] END C=0.1, degree=8, gamma=0.1, kernel=linear;, score=0.983 total time=   8.4s\n",
      "[CV 6/10; 1/1] START C=1.0, degree=3, gamma=0.3, kernel=linear..................\n",
      "[CV 6/10; 1/1] END C=1.0, degree=3, gamma=0.3, kernel=linear;, score=0.983 total time=   7.8s\n",
      "[CV 8/10; 1/1] START C=0.1, degree=1, gamma=0.1, kernel=poly....................\n",
      "[CV 8/10; 1/1] END C=0.1, degree=1, gamma=0.1, kernel=poly;, score=1.000 total time=   7.5s\n",
      "[CV 3/10; 1/1] START C=0.1, degree=2, gamma=0.1, kernel=linear..................\n",
      "[CV 3/10; 1/1] END C=0.1, degree=2, gamma=0.1, kernel=linear;, score=0.983 total time=   7.8s\n",
      "[CV 4/10; 1/1] START C=0.1, degree=7, gamma=0.3, kernel=linear..................\n",
      "[CV 4/10; 1/1] END C=0.1, degree=7, gamma=0.3, kernel=linear;, score=0.960 total time=   7.2s\n",
      "[CV 10/10; 1/1] START C=0.1, degree=7, gamma=0.3, kernel=linear.................\n",
      "[CV 10/10; 1/1] END C=0.1, degree=7, gamma=0.3, kernel=linear;, score=0.953 total time=   2.3s\n",
      "[CV 2/10; 1/1] START C=1.0, degree=8, gamma=0.3, kernel=linear..................\n",
      "[CV 2/10; 1/1] END C=1.0, degree=8, gamma=0.3, kernel=linear;, score=0.994 total time=   7.8s\n",
      "[CV 3/10; 1/1] START C=1.0, degree=4, gamma=0.1, kernel=linear..................\n",
      "[CV 3/10; 1/1] END C=1.0, degree=4, gamma=0.1, kernel=linear;, score=0.983 total time=   7.4s\n",
      "[CV 7/10; 1/1] START C=1.0, degree=1, gamma=0.3, kernel=poly....................\n",
      "[CV 7/10; 1/1] END C=1.0, degree=1, gamma=0.3, kernel=poly;, score=0.994 total time=   7.9s\n",
      "[CV 2/10; 1/1] START C=1.0, degree=7, gamma=0.1, kernel=linear..................\n",
      "[CV 2/10; 1/1] END C=1.0, degree=7, gamma=0.1, kernel=linear;, score=0.994 total time=   8.1s\n",
      "[CV 8/10; 1/1] START C=1.0, degree=2, gamma=0.3, kernel=linear..................\n",
      "[CV 8/10; 1/1] END C=1.0, degree=2, gamma=0.3, kernel=linear;, score=1.000 total time=   7.8s\n",
      "[CV 7/10; 1/1] START C=0.1, degree=4, gamma=0.3, kernel=linear..................\n",
      "[CV 7/10; 1/1] END C=0.1, degree=4, gamma=0.3, kernel=linear;, score=0.994 total time=   7.5s\n",
      "[CV 2/10; 1/1] START C=1.0, degree=1, gamma=0.1, kernel=poly....................\n",
      "[CV 2/10; 1/1] END C=1.0, degree=1, gamma=0.1, kernel=poly;, score=0.994 total time=   7.5s\n",
      "[CV 7/10; 1/1] START C=0.1, degree=1, gamma=0.3, kernel=poly....................\n",
      "[CV 7/10; 1/1] END C=0.1, degree=1, gamma=0.3, kernel=poly;, score=0.994 total time=   7.9s\n",
      "[CV 2/10; 1/1] START C=0.1, degree=1, gamma=0.3, kernel=linear..................\n",
      "[CV 2/10; 1/1] END C=0.1, degree=1, gamma=0.3, kernel=linear;, score=0.994 total time=   8.1s\n",
      "[CV 5/10; 1/1] START C=1.0, degree=1, gamma=0.1, kernel=poly....................\n",
      "[CV 5/10; 1/1] END C=1.0, degree=1, gamma=0.1, kernel=poly;, score=0.983 total time=   7.5s\n",
      "[CV 2/10; 1/1] START C=1.0, degree=1, gamma=0.1, kernel=linear..................\n",
      "[CV 2/10; 1/1] END C=1.0, degree=1, gamma=0.1, kernel=linear;, score=0.994 total time=   8.3s\n",
      "[CV 2/10; 1/1] START C=0.1, degree=3, gamma=0.1, kernel=linear..................\n",
      "[CV 2/10; 1/1] END C=0.1, degree=3, gamma=0.1, kernel=linear;, score=0.994 total time=   8.0s\n",
      "[CV 8/10; 1/1] START C=0.1, degree=6, gamma=0.1, kernel=linear..................\n",
      "[CV 8/10; 1/1] END C=0.1, degree=6, gamma=0.1, kernel=linear;, score=1.000 total time=   8.1s\n",
      "[CV 7/10; 1/1] START C=0.1, degree=1, gamma=0.3, kernel=rbf.....................\n",
      "[CV 7/10; 1/1] END C=0.1, degree=1, gamma=0.3, kernel=rbf;, score=0.395 total time=  35.0s\n",
      "[CV 7/10; 1/1] START C=1.0, degree=2, gamma=0.3, kernel=poly....................\n",
      "[CV 7/10; 1/1] END C=1.0, degree=2, gamma=0.3, kernel=poly;, score=0.977 total time=  11.9s\n",
      "[CV 10/10; 1/1] START C=1.0, degree=2, gamma=0.3, kernel=poly...................\n",
      "[CV 10/10; 1/1] END C=1.0, degree=2, gamma=0.3, kernel=poly;, score=0.936 total time=   3.9s\n",
      "[CV 2/10; 1/1] START C=1.0, degree=8, gamma=0.1, kernel=linear..................\n",
      "[CV 2/10; 1/1] END C=1.0, degree=8, gamma=0.1, kernel=linear;, score=0.994 total time=   8.5s\n",
      "[CV 6/10; 1/1] START C=1.0, degree=5, gamma=0.3, kernel=linear..................\n",
      "[CV 6/10; 1/1] END C=1.0, degree=5, gamma=0.3, kernel=linear;, score=0.983 total time=   7.4s\n",
      "[CV 1/10; 1/1] START C=0.1, degree=8, gamma=0.3, kernel=linear..................\n",
      "[CV 1/10; 1/1] END C=0.1, degree=8, gamma=0.3, kernel=linear;, score=0.983 total time=   7.4s\n",
      "[CV 3/10; 1/1] START C=0.1, degree=5, gamma=0.1, kernel=linear..................\n",
      "[CV 3/10; 1/1] END C=0.1, degree=5, gamma=0.1, kernel=linear;, score=0.983 total time=   7.0s\n",
      "[CV 10/10; 1/1] START C=0.1, degree=5, gamma=0.1, kernel=linear.................\n",
      "[CV 10/10; 1/1] END C=0.1, degree=5, gamma=0.1, kernel=linear;, score=0.953 total time=   2.3s\n",
      "[CV 2/10; 1/1] START C=0.1, degree=1, gamma=0.1, kernel=linear..................\n",
      "[CV 2/10; 1/1] END C=0.1, degree=1, gamma=0.1, kernel=linear;, score=0.994 total time=   8.0s\n",
      "[CV 2/10; 1/1] START C=1.0, degree=1, gamma=0.3, kernel=linear..................\n",
      "[CV 2/10; 1/1] END C=1.0, degree=1, gamma=0.3, kernel=linear;, score=0.994 total time=   7.4s\n",
      "[CV 2/10; 1/1] START C=0.1, degree=6, gamma=0.3, kernel=linear..................\n",
      "[CV 2/10; 1/1] END C=0.1, degree=6, gamma=0.3, kernel=linear;, score=0.994 total time=   8.0s\n",
      "[CV 4/10; 1/1] START C=0.1, degree=2, gamma=0.3, kernel=linear..................\n",
      "[CV 4/10; 1/1] END C=0.1, degree=2, gamma=0.3, kernel=linear;, score=0.960 total time=   6.9s\n",
      "[CV 9/10; 1/1] START C=0.1, degree=2, gamma=0.3, kernel=linear..................\n",
      "[CV 9/10; 1/1] END C=0.1, degree=2, gamma=0.3, kernel=linear;, score=0.988 total time=   2.5s\n",
      "[CV 2/10; 1/1] START C=1.0, degree=1, gamma=0.3, kernel=poly....................\n",
      "[CV 2/10; 1/1] END C=1.0, degree=1, gamma=0.3, kernel=poly;, score=0.994 total time=   7.8s\n",
      "[CV 5/10; 1/1] START C=1.0, degree=2, gamma=0.1, kernel=linear..................\n",
      "[CV 5/10; 1/1] END C=1.0, degree=2, gamma=0.1, kernel=linear;, score=0.983 total time=   7.4s\n",
      "[CV 5/10; 1/1] START C=1.0, degree=7, gamma=0.3, kernel=linear..................\n",
      "[CV 5/10; 1/1] END C=1.0, degree=7, gamma=0.3, kernel=linear;, score=0.983 total time=   8.0s\n",
      "[CV 8/10; 1/1] START C=0.1, degree=8, gamma=0.1, kernel=linear..................\n",
      "[CV 8/10; 1/1] END C=0.1, degree=8, gamma=0.1, kernel=linear;, score=1.000 total time=   7.4s\n",
      "[CV 4/10; 1/1] START C=0.1, degree=4, gamma=0.3, kernel=linear..................\n",
      "[CV 4/10; 1/1] END C=0.1, degree=4, gamma=0.3, kernel=linear;, score=0.960 total time=   7.1s\n",
      "[CV 9/10; 1/1] START C=0.1, degree=4, gamma=0.3, kernel=linear..................\n",
      "[CV 9/10; 1/1] END C=0.1, degree=4, gamma=0.3, kernel=linear;, score=0.988 total time=   2.5s\n",
      "[CV 5/10; 1/1] START C=0.1, degree=7, gamma=0.1, kernel=linear..................\n",
      "[CV 5/10; 1/1] END C=0.1, degree=7, gamma=0.1, kernel=linear;, score=0.983 total time=   7.6s\n",
      "[CV 2/10; 1/1] START C=1.0, degree=4, gamma=0.1, kernel=linear..................\n",
      "[CV 2/10; 1/1] END C=1.0, degree=4, gamma=0.1, kernel=linear;, score=0.994 total time=   7.3s\n",
      "[CV 1/10; 1/1] START C=1.0, degree=3, gamma=0.1, kernel=linear..................\n",
      "[CV 1/10; 1/1] END C=1.0, degree=3, gamma=0.1, kernel=linear;, score=0.983 total time=   7.4s\n",
      "[CV 4/10; 1/1] START C=0.1, degree=3, gamma=0.3, kernel=linear..................\n",
      "[CV 4/10; 1/1] END C=0.1, degree=3, gamma=0.3, kernel=linear;, score=0.960 total time=   7.4s\n",
      "[CV 9/10; 1/1] START C=0.1, degree=3, gamma=0.3, kernel=linear..................\n",
      "[CV 9/10; 1/1] END C=0.1, degree=3, gamma=0.3, kernel=linear;, score=0.988 total time=   2.5s\n",
      "[CV 7/10; 1/1] START C=1.0, degree=6, gamma=0.1, kernel=linear..................\n",
      "[CV 7/10; 1/1] END C=1.0, degree=6, gamma=0.1, kernel=linear;, score=0.994 total time=   7.7s\n",
      "[CV 5/10; 1/1] START C=1.0, degree=8, gamma=0.3, kernel=linear..................\n",
      "[CV 5/10; 1/1] END C=1.0, degree=8, gamma=0.3, kernel=linear;, score=0.983 total time=   8.0s\n"
     ]
    },
    {
     "name": "stdout",
     "output_type": "stream",
     "text": [
      "[CV 2/10; 1/1] START C=0.5, degree=6, gamma=0.2, kernel=poly....................\n",
      "[CV 2/10; 1/1] END C=0.5, degree=6, gamma=0.2, kernel=poly;, score=0.798 total time=  21.1s\n",
      "[CV 1/10; 1/1] START C=0.5, degree=8, gamma=0.3, kernel=poly....................\n",
      "[CV 1/10; 1/1] END C=0.5, degree=8, gamma=0.3, kernel=poly;, score=0.613 total time=  22.9s\n",
      "[CV 10/10; 1/1] START C=0.5, degree=8, gamma=0.3, kernel=poly...................\n",
      "[CV 10/10; 1/1] END C=0.5, degree=8, gamma=0.3, kernel=poly;, score=0.494 total time=   6.6s\n",
      "[CV 3/10; 1/1] START C=0.5, degree=1, gamma=0.2, kernel=linear..................\n",
      "[CV 3/10; 1/1] END C=0.5, degree=1, gamma=0.2, kernel=linear;, score=0.983 total time=   7.8s\n",
      "[CV 3/10; 1/1] START C=0.1, degree=6, gamma=0.2, kernel=poly....................\n",
      "[CV 3/10; 1/1] END C=0.1, degree=6, gamma=0.2, kernel=poly;, score=0.613 total time=  22.2s\n",
      "[CV 6/10; 1/1] START C=0.1, degree=3, gamma=0.2, kernel=poly....................\n",
      "[CV 6/10; 1/1] END C=0.1, degree=3, gamma=0.2, kernel=poly;, score=0.901 total time=  16.7s\n",
      "[CV 6/10; 1/1] START C=1.0, degree=8, gamma=0.2, kernel=poly....................\n",
      "[CV 6/10; 1/1] END C=1.0, degree=8, gamma=0.2, kernel=poly;, score=0.529 total time=  24.2s\n",
      "[CV 8/10; 1/1] START C=1.0, degree=6, gamma=0.2, kernel=linear..................\n",
      "[CV 8/10; 1/1] END C=1.0, degree=6, gamma=0.2, kernel=linear;, score=1.000 total time=   7.5s\n",
      "[CV 4/10; 1/1] START C=0.5, degree=5, gamma=0.2, kernel=linear..................\n",
      "[CV 4/10; 1/1] END C=0.5, degree=5, gamma=0.2, kernel=linear;, score=0.960 total time=   7.3s\n",
      "[CV 10/10; 1/1] START C=0.5, degree=5, gamma=0.2, kernel=linear.................\n",
      "[CV 10/10; 1/1] END C=0.5, degree=5, gamma=0.2, kernel=linear;, score=0.953 total time=   2.1s\n",
      "[CV 2/10; 1/1] START C=0.1, degree=7, gamma=0.3, kernel=rbf.....................\n",
      "[CV 2/10; 1/1] END C=0.1, degree=7, gamma=0.3, kernel=rbf;, score=0.387 total time=  34.3s\n",
      "[CV 3/10; 1/1] START C=0.5, degree=4, gamma=0.2, kernel=rbf.....................\n",
      "[CV 3/10; 1/1] END C=0.5, degree=4, gamma=0.2, kernel=rbf;, score=0.387 total time=  40.5s\n",
      "[CV 10/10; 1/1] START C=0.5, degree=4, gamma=0.2, kernel=rbf....................\n",
      "[CV 10/10; 1/1] END C=0.5, degree=4, gamma=0.2, kernel=rbf;, score=0.395 total time=  13.1s\n",
      "[CV 8/10; 1/1] START C=0.1, degree=1, gamma=0.2, kernel=poly....................\n",
      "[CV 8/10; 1/1] END C=0.1, degree=1, gamma=0.2, kernel=poly;, score=1.000 total time=   8.3s\n",
      "[CV 9/10; 1/1] START C=0.1, degree=1, gamma=0.2, kernel=poly....................\n",
      "[CV 9/10; 1/1] END C=0.1, degree=1, gamma=0.2, kernel=poly;, score=0.988 total time=   2.8s\n",
      "[CV 4/10; 1/1] START C=0.1, degree=8, gamma=0.1, kernel=linear..................\n",
      "[CV 4/10; 1/1] END C=0.1, degree=8, gamma=0.1, kernel=linear;, score=0.960 total time=   8.1s\n",
      "[CV 9/10; 1/1] START C=0.1, degree=8, gamma=0.1, kernel=linear..................\n",
      "[CV 9/10; 1/1] END C=0.1, degree=8, gamma=0.1, kernel=linear;, score=0.988 total time=   2.8s\n",
      "[CV 3/10; 1/1] START C=1.0, degree=3, gamma=0.3, kernel=linear..................\n",
      "[CV 3/10; 1/1] END C=1.0, degree=3, gamma=0.3, kernel=linear;, score=0.983 total time=   7.7s\n",
      "[CV 9/10; 1/1] START C=1.0, degree=3, gamma=0.3, kernel=linear..................\n",
      "[CV 9/10; 1/1] END C=1.0, degree=3, gamma=0.3, kernel=linear;, score=0.988 total time=   2.3s\n",
      "[CV 4/10; 1/1] START C=0.1, degree=1, gamma=0.1, kernel=poly....................\n",
      "[CV 4/10; 1/1] END C=0.1, degree=1, gamma=0.1, kernel=poly;, score=0.960 total time=   7.3s\n",
      "[CV 1/10; 1/1] START C=0.1, degree=2, gamma=0.1, kernel=linear..................\n",
      "[CV 1/10; 1/1] END C=0.1, degree=2, gamma=0.1, kernel=linear;, score=0.983 total time=   7.9s\n",
      "[CV 2/10; 1/1] START C=0.1, degree=7, gamma=0.3, kernel=linear..................\n",
      "[CV 2/10; 1/1] END C=0.1, degree=7, gamma=0.3, kernel=linear;, score=0.994 total time=   7.3s\n",
      "[CV 1/10; 1/1] START C=1.0, degree=8, gamma=0.3, kernel=linear..................\n",
      "[CV 1/10; 1/1] END C=1.0, degree=8, gamma=0.3, kernel=linear;, score=0.983 total time=   7.8s\n",
      "[CV 8/10; 1/1] START C=1.0, degree=4, gamma=0.1, kernel=linear..................\n",
      "[CV 8/10; 1/1] END C=1.0, degree=4, gamma=0.1, kernel=linear;, score=1.000 total time=   7.4s\n",
      "[CV 2/10; 1/1] START C=1.0, degree=1, gamma=0.3, kernel=poly....................\n",
      "[CV 2/10; 1/1] END C=1.0, degree=1, gamma=0.3, kernel=poly;, score=0.994 total time=   7.9s\n",
      "[CV 7/10; 1/1] START C=1.0, degree=7, gamma=0.1, kernel=linear..................\n",
      "[CV 7/10; 1/1] END C=1.0, degree=7, gamma=0.1, kernel=linear;, score=0.994 total time=   8.1s\n",
      "[CV 6/10; 1/1] START C=1.0, degree=2, gamma=0.3, kernel=linear..................\n",
      "[CV 6/10; 1/1] END C=1.0, degree=2, gamma=0.3, kernel=linear;, score=0.983 total time=   7.7s\n",
      "[CV 5/10; 1/1] START C=0.1, degree=4, gamma=0.3, kernel=linear..................\n",
      "[CV 5/10; 1/1] END C=0.1, degree=4, gamma=0.3, kernel=linear;, score=0.983 total time=   7.5s\n",
      "[CV 10/10; 1/1] START C=0.1, degree=4, gamma=0.3, kernel=linear.................\n",
      "[CV 10/10; 1/1] END C=0.1, degree=4, gamma=0.3, kernel=linear;, score=0.953 total time=   2.1s\n",
      "[CV 8/10; 1/1] START C=1.0, degree=1, gamma=0.1, kernel=poly....................\n",
      "[CV 8/10; 1/1] END C=1.0, degree=1, gamma=0.1, kernel=poly;, score=1.000 total time=   7.5s\n",
      "[CV 2/10; 1/1] START C=0.1, degree=1, gamma=0.3, kernel=poly....................\n",
      "[CV 2/10; 1/1] END C=0.1, degree=1, gamma=0.3, kernel=poly;, score=0.994 total time=   7.9s\n",
      "[CV 8/10; 1/1] START C=0.1, degree=1, gamma=0.3, kernel=linear..................\n",
      "[CV 8/10; 1/1] END C=0.1, degree=1, gamma=0.3, kernel=linear;, score=1.000 total time=   8.1s\n",
      "[CV 4/10; 1/1] START C=1.0, degree=1, gamma=0.1, kernel=poly....................\n",
      "[CV 4/10; 1/1] END C=1.0, degree=1, gamma=0.1, kernel=poly;, score=0.960 total time=   7.4s\n",
      "[CV 9/10; 1/1] START C=1.0, degree=1, gamma=0.1, kernel=poly....................\n",
      "[CV 9/10; 1/1] END C=1.0, degree=1, gamma=0.1, kernel=poly;, score=0.988 total time=   2.2s\n",
      "[CV 6/10; 1/1] START C=1.0, degree=1, gamma=0.1, kernel=linear..................\n",
      "[CV 6/10; 1/1] END C=1.0, degree=1, gamma=0.1, kernel=linear;, score=0.983 total time=   8.2s\n",
      "[CV 1/10; 1/1] START C=0.1, degree=3, gamma=0.1, kernel=linear..................\n",
      "[CV 1/10; 1/1] END C=0.1, degree=3, gamma=0.1, kernel=linear;, score=0.983 total time=   7.9s\n",
      "[CV 1/10; 1/1] START C=0.1, degree=6, gamma=0.1, kernel=linear..................\n",
      "[CV 1/10; 1/1] END C=0.1, degree=6, gamma=0.1, kernel=linear;, score=0.983 total time=   8.1s\n",
      "[CV 2/10; 1/1] START C=0.1, degree=1, gamma=0.3, kernel=rbf.....................\n",
      "[CV 2/10; 1/1] END C=0.1, degree=1, gamma=0.3, kernel=rbf;, score=0.387 total time=  34.5s\n",
      "[CV 1/10; 1/1] START C=1.0, degree=2, gamma=0.3, kernel=poly....................\n",
      "[CV 1/10; 1/1] END C=1.0, degree=2, gamma=0.3, kernel=poly;, score=0.983 total time=  12.3s\n",
      "[CV 4/10; 1/1] START C=1.0, degree=8, gamma=0.1, kernel=linear..................\n",
      "[CV 4/10; 1/1] END C=1.0, degree=8, gamma=0.1, kernel=linear;, score=0.960 total time=   8.1s\n",
      "[CV 9/10; 1/1] START C=1.0, degree=8, gamma=0.1, kernel=linear..................\n",
      "[CV 9/10; 1/1] END C=1.0, degree=8, gamma=0.1, kernel=linear;, score=0.988 total time=   3.2s\n",
      "[CV 8/10; 1/1] START C=1.0, degree=5, gamma=0.3, kernel=linear..................\n",
      "[CV 8/10; 1/1] END C=1.0, degree=5, gamma=0.3, kernel=linear;, score=1.000 total time=   7.5s\n",
      "[CV 4/10; 1/1] START C=0.1, degree=8, gamma=0.3, kernel=linear..................\n",
      "[CV 4/10; 1/1] END C=0.1, degree=8, gamma=0.3, kernel=linear;, score=0.960 total time=   7.2s\n",
      "[CV 9/10; 1/1] START C=0.1, degree=8, gamma=0.3, kernel=linear..................\n",
      "[CV 9/10; 1/1] END C=0.1, degree=8, gamma=0.3, kernel=linear;, score=0.988 total time=   2.9s\n",
      "[CV 5/10; 1/1] START C=0.1, degree=5, gamma=0.1, kernel=linear..................\n",
      "[CV 5/10; 1/1] END C=0.1, degree=5, gamma=0.1, kernel=linear;, score=0.983 total time=   7.2s\n",
      "[CV 4/10; 1/1] START C=0.1, degree=1, gamma=0.1, kernel=linear..................\n",
      "[CV 4/10; 1/1] END C=0.1, degree=1, gamma=0.1, kernel=linear;, score=0.960 total time=   7.8s\n",
      "[CV 9/10; 1/1] START C=0.1, degree=1, gamma=0.1, kernel=linear..................\n",
      "[CV 9/10; 1/1] END C=0.1, degree=1, gamma=0.1, kernel=linear;, score=0.988 total time=   2.4s\n",
      "[CV 8/10; 1/1] START C=1.0, degree=1, gamma=0.3, kernel=linear..................\n",
      "[CV 8/10; 1/1] END C=1.0, degree=1, gamma=0.3, kernel=linear;, score=1.000 total time=   7.3s\n",
      "[CV 1/10; 1/1] START C=0.1, degree=6, gamma=0.3, kernel=linear..................\n",
      "[CV 1/10; 1/1] END C=0.1, degree=6, gamma=0.3, kernel=linear;, score=0.983 total time=   8.0s\n",
      "[CV 8/10; 1/1] START C=0.1, degree=2, gamma=0.3, kernel=linear..................\n",
      "[CV 8/10; 1/1] END C=0.1, degree=2, gamma=0.3, kernel=linear;, score=1.000 total time=   7.0s\n",
      "[CV 7/10; 1/1] START C=1.0, degree=1, gamma=0.3, kernel=poly....................\n",
      "[CV 7/10; 1/1] END C=1.0, degree=1, gamma=0.3, kernel=poly;, score=0.994 total time=   7.8s\n",
      "[CV 7/10; 1/1] START C=1.0, degree=2, gamma=0.1, kernel=linear..................\n",
      "[CV 7/10; 1/1] END C=1.0, degree=2, gamma=0.1, kernel=linear;, score=0.994 total time=   7.4s\n",
      "[CV 7/10; 1/1] START C=1.0, degree=7, gamma=0.3, kernel=linear..................\n",
      "[CV 7/10; 1/1] END C=1.0, degree=7, gamma=0.3, kernel=linear;, score=0.994 total time=   8.0s\n",
      "[CV 2/10; 1/1] START C=0.1, degree=8, gamma=0.1, kernel=linear..................\n",
      "[CV 2/10; 1/1] END C=0.1, degree=8, gamma=0.1, kernel=linear;, score=0.994 total time=   7.4s\n",
      "[CV 7/10; 1/1] START C=0.1, degree=4, gamma=0.3, kernel=linear..................\n",
      "[CV 7/10; 1/1] END C=0.1, degree=4, gamma=0.3, kernel=linear;, score=0.994 total time=   7.3s\n",
      "[CV 1/10; 1/1] START C=0.1, degree=7, gamma=0.1, kernel=linear..................\n",
      "[CV 1/10; 1/1] END C=0.1, degree=7, gamma=0.1, kernel=linear;, score=0.983 total time=   7.6s\n",
      "[CV 3/10; 1/1] START C=1.0, degree=4, gamma=0.1, kernel=linear..................\n",
      "[CV 3/10; 1/1] END C=1.0, degree=4, gamma=0.1, kernel=linear;, score=0.983 total time=   7.4s\n",
      "[CV 3/10; 1/1] START C=1.0, degree=3, gamma=0.1, kernel=linear..................\n",
      "[CV 3/10; 1/1] END C=1.0, degree=3, gamma=0.1, kernel=linear;, score=0.983 total time=   7.3s\n",
      "[CV 8/10; 1/1] START C=0.1, degree=3, gamma=0.3, kernel=linear..................\n",
      "[CV 8/10; 1/1] END C=0.1, degree=3, gamma=0.3, kernel=linear;, score=1.000 total time=   7.6s\n",
      "[CV 4/10; 1/1] START C=1.0, degree=6, gamma=0.1, kernel=linear..................\n",
      "[CV 4/10; 1/1] END C=1.0, degree=6, gamma=0.1, kernel=linear;, score=0.960 total time=   7.6s\n",
      "[CV 2/10; 1/1] START C=1.0, degree=8, gamma=0.3, kernel=linear..................\n",
      "[CV 2/10; 1/1] END C=1.0, degree=8, gamma=0.3, kernel=linear;, score=0.994 total time=   8.0s\n",
      "[CV 8/10; 1/1] START C=0.5, degree=6, gamma=0.2, kernel=poly....................\n",
      "[CV 8/10; 1/1] END C=0.5, degree=6, gamma=0.2, kernel=poly;, score=0.773 total time=  21.2s\n",
      "[CV 7/10; 1/1] START C=0.5, degree=8, gamma=0.3, kernel=poly....................\n",
      "[CV 7/10; 1/1] END C=0.5, degree=8, gamma=0.3, kernel=poly;, score=0.419 total time=  23.7s\n",
      "[CV 7/10; 1/1] START C=0.5, degree=1, gamma=0.2, kernel=linear..................\n",
      "[CV 7/10; 1/1] END C=0.5, degree=1, gamma=0.2, kernel=linear;, score=0.994 total time=   7.7s\n",
      "[CV 1/10; 1/1] START C=0.1, degree=6, gamma=0.2, kernel=poly....................\n",
      "[CV 1/10; 1/1] END C=0.1, degree=6, gamma=0.2, kernel=poly;, score=0.757 total time=  22.7s\n",
      "[CV 2/10; 1/1] START C=0.1, degree=3, gamma=0.2, kernel=poly....................\n",
      "[CV 2/10; 1/1] END C=0.1, degree=3, gamma=0.2, kernel=poly;, score=0.965 total time=  16.6s\n",
      "[CV 7/10; 1/1] START C=1.0, degree=8, gamma=0.2, kernel=poly....................\n",
      "[CV 7/10; 1/1] END C=1.0, degree=8, gamma=0.2, kernel=poly;, score=0.419 total time=  24.4s\n",
      "[CV 5/10; 1/1] START C=1.0, degree=6, gamma=0.2, kernel=linear..................\n",
      "[CV 5/10; 1/1] END C=1.0, degree=6, gamma=0.2, kernel=linear;, score=0.983 total time=   7.5s\n",
      "[CV 7/10; 1/1] START C=0.5, degree=5, gamma=0.2, kernel=linear..................\n",
      "[CV 7/10; 1/1] END C=0.5, degree=5, gamma=0.2, kernel=linear;, score=0.994 total time=   7.3s\n",
      "[CV 4/10; 1/1] START C=0.1, degree=7, gamma=0.3, kernel=rbf.....................\n",
      "[CV 4/10; 1/1] END C=0.1, degree=7, gamma=0.3, kernel=rbf;, score=0.387 total time=  33.8s\n",
      "[CV 10/10; 1/1] START C=0.1, degree=7, gamma=0.3, kernel=rbf....................\n",
      "[CV 10/10; 1/1] END C=0.1, degree=7, gamma=0.3, kernel=rbf;, score=0.395 total time=  11.1s\n",
      "[CV 5/10; 1/1] START C=0.5, degree=4, gamma=0.2, kernel=rbf.....................\n",
      "[CV 5/10; 1/1] END C=0.5, degree=4, gamma=0.2, kernel=rbf;, score=0.390 total time=  41.0s\n",
      "[CV 7/10; 1/1] START C=0.1, degree=1, gamma=0.2, kernel=poly....................\n",
      "[CV 7/10; 1/1] END C=0.1, degree=1, gamma=0.2, kernel=poly;, score=0.994 total time=   8.4s\n",
      "[CV 1/10; 1/1] START C=0.1, degree=8, gamma=0.1, kernel=linear..................\n",
      "[CV 1/10; 1/1] END C=0.1, degree=8, gamma=0.1, kernel=linear;, score=0.983 total time=   8.3s\n",
      "[CV 1/10; 1/1] START C=1.0, degree=3, gamma=0.3, kernel=linear..................\n",
      "[CV 1/10; 1/1] END C=1.0, degree=3, gamma=0.3, kernel=linear;, score=0.983 total time=   7.8s\n",
      "[CV 6/10; 1/1] START C=0.1, degree=1, gamma=0.1, kernel=poly....................\n",
      "[CV 6/10; 1/1] END C=0.1, degree=1, gamma=0.1, kernel=poly;, score=0.983 total time=   7.5s\n",
      "[CV 8/10; 1/1] START C=0.1, degree=2, gamma=0.1, kernel=linear..................\n",
      "[CV 8/10; 1/1] END C=0.1, degree=2, gamma=0.1, kernel=linear;, score=1.000 total time=   7.8s\n",
      "[CV 6/10; 1/1] START C=0.1, degree=7, gamma=0.3, kernel=linear..................\n",
      "[CV 6/10; 1/1] END C=0.1, degree=7, gamma=0.3, kernel=linear;, score=0.983 total time=   7.4s\n",
      "[CV 5/10; 1/1] START C=1.0, degree=8, gamma=0.3, kernel=linear..................\n",
      "[CV 5/10; 1/1] END C=1.0, degree=8, gamma=0.3, kernel=linear;, score=0.983 total time=   7.7s\n",
      "[CV 1/10; 1/1] START C=1.0, degree=4, gamma=0.1, kernel=linear..................\n",
      "[CV 1/10; 1/1] END C=1.0, degree=4, gamma=0.1, kernel=linear;, score=0.983 total time=   7.5s\n",
      "[CV 5/10; 1/1] START C=1.0, degree=1, gamma=0.3, kernel=poly....................\n",
      "[CV 5/10; 1/1] END C=1.0, degree=1, gamma=0.3, kernel=poly;, score=0.983 total time=   7.9s\n",
      "[CV 6/10; 1/1] START C=1.0, degree=7, gamma=0.1, kernel=linear..................\n",
      "[CV 6/10; 1/1] END C=1.0, degree=7, gamma=0.1, kernel=linear;, score=0.983 total time=   8.0s\n",
      "[CV 7/10; 1/1] START C=1.0, degree=2, gamma=0.3, kernel=linear..................\n",
      "[CV 7/10; 1/1] END C=1.0, degree=2, gamma=0.3, kernel=linear;, score=0.994 total time=   7.8s\n",
      "[CV 4/10; 1/1] START C=0.1, degree=4, gamma=0.3, kernel=linear..................\n",
      "[CV 4/10; 1/1] END C=0.1, degree=4, gamma=0.3, kernel=linear;, score=0.960 total time=   7.6s\n",
      "[CV 7/10; 1/1] START C=1.0, degree=1, gamma=0.1, kernel=poly....................\n",
      "[CV 7/10; 1/1] END C=1.0, degree=1, gamma=0.1, kernel=poly;, score=0.994 total time=   7.5s\n",
      "[CV 4/10; 1/1] START C=0.1, degree=1, gamma=0.3, kernel=poly....................\n",
      "[CV 4/10; 1/1] END C=0.1, degree=1, gamma=0.3, kernel=poly;, score=0.960 total time=   7.6s\n",
      "[CV 9/10; 1/1] START C=0.1, degree=1, gamma=0.3, kernel=poly....................\n",
      "[CV 9/10; 1/1] END C=0.1, degree=1, gamma=0.3, kernel=poly;, score=0.988 total time=   2.4s\n",
      "[CV 4/10; 1/1] START C=0.1, degree=1, gamma=0.3, kernel=linear..................\n",
      "[CV 4/10; 1/1] END C=0.1, degree=1, gamma=0.3, kernel=linear;, score=0.960 total time=   8.0s\n",
      "[CV 1/10; 1/1] START C=1.0, degree=1, gamma=0.1, kernel=poly....................\n",
      "[CV 1/10; 1/1] END C=1.0, degree=1, gamma=0.1, kernel=poly;, score=0.983 total time=   7.5s\n",
      "[CV 7/10; 1/1] START C=1.0, degree=1, gamma=0.1, kernel=linear..................\n",
      "[CV 7/10; 1/1] END C=1.0, degree=1, gamma=0.1, kernel=linear;, score=0.994 total time=   8.3s\n",
      "[CV 3/10; 1/1] START C=0.1, degree=3, gamma=0.1, kernel=linear..................\n",
      "[CV 3/10; 1/1] END C=0.1, degree=3, gamma=0.1, kernel=linear;, score=0.983 total time=   7.8s\n",
      "[CV 9/10; 1/1] START C=0.1, degree=3, gamma=0.1, kernel=linear..................\n",
      "[CV 9/10; 1/1] END C=0.1, degree=3, gamma=0.1, kernel=linear;, score=0.988 total time=   2.3s\n",
      "[CV 3/10; 1/1] START C=0.1, degree=6, gamma=0.1, kernel=linear..................\n",
      "[CV 3/10; 1/1] END C=0.1, degree=6, gamma=0.1, kernel=linear;, score=0.983 total time=   8.0s\n",
      "[CV 10/10; 1/1] START C=0.1, degree=6, gamma=0.1, kernel=linear.................\n",
      "[CV 10/10; 1/1] END C=0.1, degree=6, gamma=0.1, kernel=linear;, score=0.953 total time=   2.2s\n",
      "[CV 3/10; 1/1] START C=0.1, degree=1, gamma=0.3, kernel=rbf.....................\n",
      "[CV 3/10; 1/1] END C=0.1, degree=1, gamma=0.3, kernel=rbf;, score=0.387 total time=  34.2s\n",
      "[CV 10/10; 1/1] START C=0.1, degree=1, gamma=0.3, kernel=rbf....................\n",
      "[CV 10/10; 1/1] END C=0.1, degree=1, gamma=0.3, kernel=rbf;, score=0.395 total time=  11.8s\n",
      "[CV 4/10; 1/1] START C=1.0, degree=2, gamma=0.3, kernel=poly....................\n",
      "[CV 4/10; 1/1] END C=1.0, degree=2, gamma=0.3, kernel=poly;, score=0.936 total time=  11.9s\n",
      "[CV 9/10; 1/1] START C=1.0, degree=2, gamma=0.3, kernel=poly....................\n",
      "[CV 9/10; 1/1] END C=1.0, degree=2, gamma=0.3, kernel=poly;, score=0.971 total time=   4.0s\n",
      "[CV 5/10; 1/1] START C=1.0, degree=8, gamma=0.1, kernel=linear..................\n",
      "[CV 5/10; 1/1] END C=1.0, degree=8, gamma=0.1, kernel=linear;, score=0.983 total time=   8.5s\n",
      "[CV 2/10; 1/1] START C=1.0, degree=5, gamma=0.3, kernel=linear..................\n",
      "[CV 2/10; 1/1] END C=1.0, degree=5, gamma=0.3, kernel=linear;, score=0.994 total time=   7.6s\n",
      "[CV 2/10; 1/1] START C=0.1, degree=8, gamma=0.3, kernel=linear..................\n",
      "[CV 2/10; 1/1] END C=0.1, degree=8, gamma=0.3, kernel=linear;, score=0.994 total time=   7.4s\n",
      "[CV 7/10; 1/1] START C=0.1, degree=5, gamma=0.1, kernel=linear..................\n",
      "[CV 7/10; 1/1] END C=0.1, degree=5, gamma=0.1, kernel=linear;, score=0.994 total time=   7.1s\n",
      "[CV 3/10; 1/1] START C=0.1, degree=1, gamma=0.1, kernel=linear..................\n",
      "[CV 3/10; 1/1] END C=0.1, degree=1, gamma=0.1, kernel=linear;, score=0.983 total time=   7.9s\n",
      "[CV 1/10; 1/1] START C=1.0, degree=1, gamma=0.3, kernel=linear..................\n",
      "[CV 1/10; 1/1] END C=1.0, degree=1, gamma=0.3, kernel=linear;, score=0.983 total time=   7.5s\n",
      "[CV 7/10; 1/1] START C=0.1, degree=6, gamma=0.3, kernel=linear..................\n",
      "[CV 7/10; 1/1] END C=0.1, degree=6, gamma=0.3, kernel=linear;, score=0.994 total time=   8.0s\n",
      "[CV 2/10; 1/1] START C=0.1, degree=2, gamma=0.3, kernel=linear..................\n",
      "[CV 2/10; 1/1] END C=0.1, degree=2, gamma=0.3, kernel=linear;, score=0.994 total time=   7.1s\n",
      "[CV 5/10; 1/1] START C=1.0, degree=1, gamma=0.3, kernel=poly....................\n",
      "[CV 5/10; 1/1] END C=1.0, degree=1, gamma=0.3, kernel=poly;, score=0.983 total time=   7.8s\n",
      "[CV 3/10; 1/1] START C=1.0, degree=2, gamma=0.1, kernel=linear..................\n",
      "[CV 3/10; 1/1] END C=1.0, degree=2, gamma=0.1, kernel=linear;, score=0.983 total time=   7.3s\n",
      "[CV 10/10; 1/1] START C=1.0, degree=2, gamma=0.1, kernel=linear.................\n",
      "[CV 10/10; 1/1] END C=1.0, degree=2, gamma=0.1, kernel=linear;, score=0.953 total time=   2.3s\n",
      "[CV 2/10; 1/1] START C=1.0, degree=7, gamma=0.3, kernel=linear..................\n",
      "[CV 2/10; 1/1] END C=1.0, degree=7, gamma=0.3, kernel=linear;, score=0.994 total time=   8.1s\n",
      "[CV 7/10; 1/1] START C=0.1, degree=8, gamma=0.1, kernel=linear..................\n",
      "[CV 7/10; 1/1] END C=0.1, degree=8, gamma=0.1, kernel=linear;, score=0.994 total time=   7.4s\n",
      "[CV 3/10; 1/1] START C=0.1, degree=4, gamma=0.3, kernel=linear..................\n",
      "[CV 3/10; 1/1] END C=0.1, degree=4, gamma=0.3, kernel=linear;, score=0.983 total time=   7.4s\n",
      "[CV 2/10; 1/1] START C=0.1, degree=7, gamma=0.1, kernel=linear..................\n",
      "[CV 2/10; 1/1] END C=0.1, degree=7, gamma=0.1, kernel=linear;, score=0.994 total time=   7.6s\n",
      "[CV 6/10; 1/1] START C=1.0, degree=4, gamma=0.1, kernel=linear..................\n",
      "[CV 6/10; 1/1] END C=1.0, degree=4, gamma=0.1, kernel=linear;, score=0.983 total time=   7.4s\n",
      "[CV 6/10; 1/1] START C=1.0, degree=3, gamma=0.1, kernel=linear..................\n",
      "[CV 6/10; 1/1] END C=1.0, degree=3, gamma=0.1, kernel=linear;, score=0.983 total time=   7.3s\n",
      "[CV 6/10; 1/1] START C=0.1, degree=3, gamma=0.3, kernel=linear..................\n",
      "[CV 6/10; 1/1] END C=0.1, degree=3, gamma=0.3, kernel=linear;, score=0.983 total time=   7.6s\n",
      "[CV 6/10; 1/1] START C=1.0, degree=6, gamma=0.1, kernel=linear..................\n",
      "[CV 6/10; 1/1] END C=1.0, degree=6, gamma=0.1, kernel=linear;, score=0.983 total time=   7.7s\n",
      "[CV 4/10; 1/1] START C=1.0, degree=8, gamma=0.3, kernel=linear..................\n",
      "[CV 4/10; 1/1] END C=1.0, degree=8, gamma=0.3, kernel=linear;, score=0.960 total time=   8.0s\n",
      "[CV 7/10; 1/1] START C=0.5, degree=6, gamma=0.2, kernel=poly....................\n",
      "[CV 7/10; 1/1] END C=0.5, degree=6, gamma=0.2, kernel=poly;, score=0.523 total time=  21.7s\n",
      "[CV 6/10; 1/1] START C=0.5, degree=8, gamma=0.3, kernel=poly....................\n",
      "[CV 6/10; 1/1] END C=0.5, degree=8, gamma=0.3, kernel=poly;, score=0.529 total time=  23.6s\n",
      "[CV 6/10; 1/1] START C=0.5, degree=1, gamma=0.2, kernel=linear..................\n",
      "[CV 6/10; 1/1] END C=0.5, degree=1, gamma=0.2, kernel=linear;, score=0.983 total time=   7.8s\n",
      "[CV 5/10; 1/1] START C=0.1, degree=6, gamma=0.2, kernel=poly....................\n",
      "[CV 5/10; 1/1] END C=0.1, degree=6, gamma=0.2, kernel=poly;, score=0.721 total time=  22.1s\n",
      "[CV 8/10; 1/1] START C=0.1, degree=3, gamma=0.2, kernel=poly....................\n",
      "[CV 8/10; 1/1] END C=0.1, degree=3, gamma=0.2, kernel=poly;, score=0.948 total time=  16.5s\n",
      "[CV 10/10; 1/1] START C=0.1, degree=3, gamma=0.2, kernel=poly...................\n",
      "[CV 10/10; 1/1] END C=0.1, degree=3, gamma=0.2, kernel=poly;, score=0.872 total time=   4.2s\n",
      "[CV 3/10; 1/1] START C=1.0, degree=8, gamma=0.2, kernel=poly....................\n",
      "[CV 3/10; 1/1] END C=1.0, degree=8, gamma=0.2, kernel=poly;, score=0.509 total time=  24.3s\n",
      "[CV 2/10; 1/1] START C=1.0, degree=6, gamma=0.2, kernel=linear..................\n",
      "[CV 2/10; 1/1] END C=1.0, degree=6, gamma=0.2, kernel=linear;, score=0.994 total time=   7.5s\n",
      "[CV 10/10; 1/1] START C=1.0, degree=6, gamma=0.2, kernel=linear.................\n",
      "[CV 10/10; 1/1] END C=1.0, degree=6, gamma=0.2, kernel=linear;, score=0.953 total time=   2.0s\n",
      "[CV 5/10; 1/1] START C=0.5, degree=5, gamma=0.2, kernel=linear..................\n",
      "[CV 5/10; 1/1] END C=0.5, degree=5, gamma=0.2, kernel=linear;, score=0.983 total time=   7.4s\n",
      "[CV 5/10; 1/1] START C=0.1, degree=7, gamma=0.3, kernel=rbf.....................\n",
      "[CV 5/10; 1/1] END C=0.1, degree=7, gamma=0.3, kernel=rbf;, score=0.390 total time=  34.8s\n",
      "[CV 7/10; 1/1] START C=0.5, degree=4, gamma=0.2, kernel=rbf.....................\n",
      "[CV 7/10; 1/1] END C=0.5, degree=4, gamma=0.2, kernel=rbf;, score=0.395 total time=  40.9s\n",
      "[CV 6/10; 1/1] START C=0.1, degree=1, gamma=0.2, kernel=poly....................\n",
      "[CV 6/10; 1/1] END C=0.1, degree=1, gamma=0.2, kernel=poly;, score=0.983 total time=   8.4s\n",
      "[CV 7/10; 1/1] START C=0.1, degree=8, gamma=0.1, kernel=linear..................\n",
      "[CV 7/10; 1/1] END C=0.1, degree=8, gamma=0.1, kernel=linear;, score=0.994 total time=   8.3s\n",
      "[CV 10/10; 1/1] START C=0.1, degree=8, gamma=0.1, kernel=linear.................\n",
      "[CV 10/10; 1/1] END C=0.1, degree=8, gamma=0.1, kernel=linear;, score=0.953 total time=   2.5s\n",
      "[CV 5/10; 1/1] START C=1.0, degree=3, gamma=0.3, kernel=linear..................\n",
      "[CV 5/10; 1/1] END C=1.0, degree=3, gamma=0.3, kernel=linear;, score=0.983 total time=   7.8s\n",
      "[CV 7/10; 1/1] START C=0.1, degree=1, gamma=0.1, kernel=poly....................\n",
      "[CV 7/10; 1/1] END C=0.1, degree=1, gamma=0.1, kernel=poly;, score=0.994 total time=   7.3s\n",
      "[CV 9/10; 1/1] START C=0.1, degree=1, gamma=0.1, kernel=poly....................\n",
      "[CV 9/10; 1/1] END C=0.1, degree=1, gamma=0.1, kernel=poly;, score=0.988 total time=   2.5s\n",
      "[CV 2/10; 1/1] START C=0.1, degree=2, gamma=0.1, kernel=linear..................\n",
      "[CV 2/10; 1/1] END C=0.1, degree=2, gamma=0.1, kernel=linear;, score=0.994 total time=   7.7s\n",
      "[CV 9/10; 1/1] START C=0.1, degree=2, gamma=0.1, kernel=linear..................\n",
      "[CV 9/10; 1/1] END C=0.1, degree=2, gamma=0.1, kernel=linear;, score=0.988 total time=   2.2s\n",
      "[CV 7/10; 1/1] START C=0.1, degree=7, gamma=0.3, kernel=linear..................\n",
      "[CV 7/10; 1/1] END C=0.1, degree=7, gamma=0.3, kernel=linear;, score=0.994 total time=   7.4s\n",
      "[CV 8/10; 1/1] START C=1.0, degree=8, gamma=0.3, kernel=linear..................\n",
      "[CV 8/10; 1/1] END C=1.0, degree=8, gamma=0.3, kernel=linear;, score=1.000 total time=   7.7s\n",
      "[CV 4/10; 1/1] START C=1.0, degree=4, gamma=0.1, kernel=linear..................\n",
      "[CV 4/10; 1/1] END C=1.0, degree=4, gamma=0.1, kernel=linear;, score=0.960 total time=   7.4s\n",
      "[CV 1/10; 1/1] START C=1.0, degree=1, gamma=0.3, kernel=poly....................\n",
      "[CV 1/10; 1/1] END C=1.0, degree=1, gamma=0.3, kernel=poly;, score=0.983 total time=   7.8s\n",
      "[CV 1/10; 1/1] START C=1.0, degree=7, gamma=0.1, kernel=linear..................\n",
      "[CV 1/10; 1/1] END C=1.0, degree=7, gamma=0.1, kernel=linear;, score=0.983 total time=   8.1s\n",
      "[CV 5/10; 1/1] START C=1.0, degree=2, gamma=0.3, kernel=linear..................\n",
      "[CV 5/10; 1/1] END C=1.0, degree=2, gamma=0.3, kernel=linear;, score=0.983 total time=   7.8s\n",
      "[CV 8/10; 1/1] START C=0.1, degree=4, gamma=0.3, kernel=linear..................\n",
      "[CV 8/10; 1/1] END C=0.1, degree=4, gamma=0.3, kernel=linear;, score=1.000 total time=   7.5s\n",
      "[CV 3/10; 1/1] START C=1.0, degree=1, gamma=0.1, kernel=poly....................\n",
      "[CV 3/10; 1/1] END C=1.0, degree=1, gamma=0.1, kernel=poly;, score=0.983 total time=   7.5s\n",
      "[CV 9/10; 1/1] START C=1.0, degree=1, gamma=0.1, kernel=poly....................\n",
      "[CV 9/10; 1/1] END C=1.0, degree=1, gamma=0.1, kernel=poly;, score=0.988 total time=   2.3s\n",
      "[CV 3/10; 1/1] START C=0.1, degree=1, gamma=0.3, kernel=poly....................\n",
      "[CV 3/10; 1/1] END C=0.1, degree=1, gamma=0.3, kernel=poly;, score=0.983 total time=   7.7s\n",
      "[CV 1/10; 1/1] START C=0.1, degree=1, gamma=0.3, kernel=linear..................\n",
      "[CV 1/10; 1/1] END C=0.1, degree=1, gamma=0.3, kernel=linear;, score=0.983 total time=   8.0s\n",
      "[CV 10/10; 1/1] START C=0.1, degree=1, gamma=0.3, kernel=linear.................\n",
      "[CV 10/10; 1/1] END C=0.1, degree=1, gamma=0.3, kernel=linear;, score=0.953 total time=   2.2s\n",
      "[CV 7/10; 1/1] START C=1.0, degree=1, gamma=0.1, kernel=poly....................\n",
      "[CV 7/10; 1/1] END C=1.0, degree=1, gamma=0.1, kernel=poly;, score=0.994 total time=   7.5s\n",
      "[CV 4/10; 1/1] START C=1.0, degree=1, gamma=0.1, kernel=linear..................\n",
      "[CV 4/10; 1/1] END C=1.0, degree=1, gamma=0.1, kernel=linear;, score=0.960 total time=   8.0s\n",
      "[CV 9/10; 1/1] START C=1.0, degree=1, gamma=0.1, kernel=linear..................\n",
      "[CV 9/10; 1/1] END C=1.0, degree=1, gamma=0.1, kernel=linear;, score=0.988 total time=   2.5s\n",
      "[CV 8/10; 1/1] START C=0.1, degree=3, gamma=0.1, kernel=linear..................\n",
      "[CV 8/10; 1/1] END C=0.1, degree=3, gamma=0.1, kernel=linear;, score=1.000 total time=   8.0s\n",
      "[CV 6/10; 1/1] START C=0.1, degree=6, gamma=0.1, kernel=linear..................\n",
      "[CV 6/10; 1/1] END C=0.1, degree=6, gamma=0.1, kernel=linear;, score=0.983 total time=   8.1s\n",
      "[CV 4/10; 1/1] START C=0.1, degree=1, gamma=0.3, kernel=rbf.....................\n",
      "[CV 4/10; 1/1] END C=0.1, degree=1, gamma=0.3, kernel=rbf;, score=0.387 total time=  33.7s\n",
      "[CV 9/10; 1/1] START C=0.1, degree=1, gamma=0.3, kernel=rbf.....................\n",
      "[CV 9/10; 1/1] END C=0.1, degree=1, gamma=0.3, kernel=rbf;, score=0.395 total time=  12.1s\n",
      "[CV 5/10; 1/1] START C=1.0, degree=2, gamma=0.3, kernel=poly....................\n",
      "[CV 5/10; 1/1] END C=1.0, degree=2, gamma=0.3, kernel=poly;, score=0.977 total time=  12.2s\n",
      "[CV 6/10; 1/1] START C=1.0, degree=8, gamma=0.1, kernel=linear..................\n",
      "[CV 6/10; 1/1] END C=1.0, degree=8, gamma=0.1, kernel=linear;, score=0.983 total time=   8.3s\n",
      "[CV 1/10; 1/1] START C=1.0, degree=5, gamma=0.3, kernel=linear..................\n",
      "[CV 1/10; 1/1] END C=1.0, degree=5, gamma=0.3, kernel=linear;, score=0.983 total time=   7.6s\n",
      "[CV 6/10; 1/1] START C=0.1, degree=8, gamma=0.3, kernel=linear..................\n",
      "[CV 6/10; 1/1] END C=0.1, degree=8, gamma=0.3, kernel=linear;, score=0.983 total time=   7.3s\n",
      "[CV 1/10; 1/1] START C=0.1, degree=5, gamma=0.1, kernel=linear..................\n",
      "[CV 1/10; 1/1] END C=0.1, degree=5, gamma=0.1, kernel=linear;, score=0.983 total time=   7.1s\n",
      "[CV 7/10; 1/1] START C=0.1, degree=1, gamma=0.1, kernel=linear..................\n",
      "[CV 7/10; 1/1] END C=0.1, degree=1, gamma=0.1, kernel=linear;, score=0.994 total time=   8.0s\n",
      "[CV 7/10; 1/1] START C=1.0, degree=1, gamma=0.3, kernel=linear..................\n",
      "[CV 7/10; 1/1] END C=1.0, degree=1, gamma=0.3, kernel=linear;, score=0.994 total time=   7.3s\n",
      "[CV 10/10; 1/1] START C=1.0, degree=1, gamma=0.3, kernel=linear.................\n",
      "[CV 10/10; 1/1] END C=1.0, degree=1, gamma=0.3, kernel=linear;, score=0.953 total time=   2.4s\n",
      "[CV 5/10; 1/1] START C=0.1, degree=6, gamma=0.3, kernel=linear..................\n",
      "[CV 5/10; 1/1] END C=0.1, degree=6, gamma=0.3, kernel=linear;, score=0.983 total time=   8.0s\n",
      "[CV 7/10; 1/1] START C=0.1, degree=2, gamma=0.3, kernel=linear..................\n",
      "[CV 7/10; 1/1] END C=0.1, degree=2, gamma=0.3, kernel=linear;, score=0.994 total time=   6.9s\n",
      "[CV 10/10; 1/1] START C=0.1, degree=2, gamma=0.3, kernel=linear.................\n",
      "[CV 10/10; 1/1] END C=0.1, degree=2, gamma=0.3, kernel=linear;, score=0.953 total time=   2.4s\n",
      "[CV 4/10; 1/1] START C=1.0, degree=1, gamma=0.3, kernel=poly....................\n",
      "[CV 4/10; 1/1] END C=1.0, degree=1, gamma=0.3, kernel=poly;, score=0.960 total time=   7.6s\n",
      "[CV 10/10; 1/1] START C=1.0, degree=1, gamma=0.3, kernel=poly...................\n",
      "[CV 10/10; 1/1] END C=1.0, degree=1, gamma=0.3, kernel=poly;, score=0.953 total time=   2.3s\n",
      "[CV 4/10; 1/1] START C=1.0, degree=2, gamma=0.1, kernel=linear..................\n",
      "[CV 4/10; 1/1] END C=1.0, degree=2, gamma=0.1, kernel=linear;, score=0.960 total time=   7.1s\n",
      "[CV 9/10; 1/1] START C=1.0, degree=2, gamma=0.1, kernel=linear..................\n",
      "[CV 9/10; 1/1] END C=1.0, degree=2, gamma=0.1, kernel=linear;, score=0.988 total time=   2.6s\n",
      "[CV 8/10; 1/1] START C=1.0, degree=7, gamma=0.3, kernel=linear..................\n",
      "[CV 8/10; 1/1] END C=1.0, degree=7, gamma=0.3, kernel=linear;, score=1.000 total time=   8.0s\n",
      "[CV 1/10; 1/1] START C=0.1, degree=8, gamma=0.1, kernel=linear..................\n",
      "[CV 1/10; 1/1] END C=0.1, degree=8, gamma=0.1, kernel=linear;, score=0.983 total time=   7.5s\n",
      "[CV 5/10; 1/1] START C=0.1, degree=4, gamma=0.3, kernel=linear..................\n",
      "[CV 5/10; 1/1] END C=0.1, degree=4, gamma=0.3, kernel=linear;, score=0.983 total time=   7.4s\n",
      "[CV 4/10; 1/1] START C=0.1, degree=7, gamma=0.1, kernel=linear..................\n",
      "[CV 4/10; 1/1] END C=0.1, degree=7, gamma=0.1, kernel=linear;, score=0.960 total time=   7.5s\n",
      "[CV 9/10; 1/1] START C=0.1, degree=7, gamma=0.1, kernel=linear..................\n",
      "[CV 9/10; 1/1] END C=0.1, degree=7, gamma=0.1, kernel=linear;, score=0.988 total time=   2.4s\n",
      "[CV 8/10; 1/1] START C=1.0, degree=4, gamma=0.1, kernel=linear..................\n",
      "[CV 8/10; 1/1] END C=1.0, degree=4, gamma=0.1, kernel=linear;, score=1.000 total time=   7.3s\n",
      "[CV 9/10; 1/1] START C=1.0, degree=4, gamma=0.1, kernel=linear..................\n",
      "[CV 9/10; 1/1] END C=1.0, degree=4, gamma=0.1, kernel=linear;, score=0.988 total time=   2.4s\n",
      "[CV 7/10; 1/1] START C=1.0, degree=3, gamma=0.1, kernel=linear..................\n",
      "[CV 7/10; 1/1] END C=1.0, degree=3, gamma=0.1, kernel=linear;, score=0.994 total time=   7.3s\n",
      "[CV 5/10; 1/1] START C=0.1, degree=3, gamma=0.3, kernel=linear..................\n",
      "[CV 5/10; 1/1] END C=0.1, degree=3, gamma=0.3, kernel=linear;, score=0.983 total time=   7.5s\n",
      "[CV 5/10; 1/1] START C=1.0, degree=6, gamma=0.1, kernel=linear..................\n",
      "[CV 5/10; 1/1] END C=1.0, degree=6, gamma=0.1, kernel=linear;, score=0.983 total time=   7.6s\n",
      "[CV 1/10; 1/1] START C=1.0, degree=8, gamma=0.3, kernel=linear..................\n",
      "[CV 1/10; 1/1] END C=1.0, degree=8, gamma=0.3, kernel=linear;, score=0.983 total time=   8.1s\n"
     ]
    },
    {
     "name": "stdout",
     "output_type": "stream",
     "text": [
      "[CV 5/10; 1/1] START C=0.5, degree=6, gamma=0.2, kernel=poly....................\n",
      "[CV 5/10; 1/1] END C=0.5, degree=6, gamma=0.2, kernel=poly;, score=0.721 total time=  21.2s\n",
      "[CV 4/10; 1/1] START C=0.5, degree=8, gamma=0.3, kernel=poly....................\n",
      "[CV 4/10; 1/1] END C=0.5, degree=8, gamma=0.3, kernel=poly;, score=0.607 total time=  22.1s\n",
      "[CV 9/10; 1/1] START C=0.5, degree=8, gamma=0.3, kernel=poly....................\n",
      "[CV 9/10; 1/1] END C=0.5, degree=8, gamma=0.3, kernel=poly;, score=0.593 total time=   7.5s\n",
      "[CV 2/10; 1/1] START C=0.5, degree=1, gamma=0.2, kernel=linear..................\n",
      "[CV 2/10; 1/1] END C=0.5, degree=1, gamma=0.2, kernel=linear;, score=0.994 total time=   7.7s\n",
      "[CV 10/10; 1/1] START C=0.5, degree=1, gamma=0.2, kernel=linear.................\n",
      "[CV 10/10; 1/1] END C=0.5, degree=1, gamma=0.2, kernel=linear;, score=0.953 total time=   2.2s\n",
      "[CV 4/10; 1/1] START C=0.1, degree=6, gamma=0.2, kernel=poly....................\n",
      "[CV 4/10; 1/1] END C=0.1, degree=6, gamma=0.2, kernel=poly;, score=0.682 total time=  20.8s\n",
      "[CV 9/10; 1/1] START C=0.1, degree=6, gamma=0.2, kernel=poly....................\n",
      "[CV 9/10; 1/1] END C=0.1, degree=6, gamma=0.2, kernel=poly;, score=0.744 total time=   8.2s\n",
      "[CV 4/10; 1/1] START C=0.1, degree=3, gamma=0.2, kernel=poly....................\n",
      "[CV 4/10; 1/1] END C=0.1, degree=3, gamma=0.2, kernel=poly;, score=0.902 total time=  16.0s\n",
      "[CV 9/10; 1/1] START C=0.1, degree=3, gamma=0.2, kernel=poly....................\n",
      "[CV 9/10; 1/1] END C=0.1, degree=3, gamma=0.2, kernel=poly;, score=0.930 total time=   4.9s\n",
      "[CV 2/10; 1/1] START C=1.0, degree=8, gamma=0.2, kernel=poly....................\n",
      "[CV 2/10; 1/1] END C=1.0, degree=8, gamma=0.2, kernel=poly;, score=0.595 total time=  24.1s\n",
      "[CV 7/10; 1/1] START C=1.0, degree=6, gamma=0.2, kernel=linear..................\n",
      "[CV 7/10; 1/1] END C=1.0, degree=6, gamma=0.2, kernel=linear;, score=0.994 total time=   7.5s\n",
      "[CV 8/10; 1/1] START C=0.5, degree=5, gamma=0.2, kernel=linear..................\n",
      "[CV 8/10; 1/1] END C=0.5, degree=5, gamma=0.2, kernel=linear;, score=1.000 total time=   7.4s\n",
      "[CV 8/10; 1/1] START C=0.1, degree=7, gamma=0.3, kernel=rbf.....................\n",
      "[CV 8/10; 1/1] END C=0.1, degree=7, gamma=0.3, kernel=rbf;, score=0.395 total time=  34.8s\n",
      "[CV 2/10; 1/1] START C=0.5, degree=4, gamma=0.2, kernel=rbf.....................\n",
      "[CV 2/10; 1/1] END C=0.5, degree=4, gamma=0.2, kernel=rbf;, score=0.387 total time=  40.4s\n",
      "[CV 9/10; 1/1] START C=0.5, degree=4, gamma=0.2, kernel=rbf.....................\n",
      "[CV 9/10; 1/1] END C=0.5, degree=4, gamma=0.2, kernel=rbf;, score=0.395 total time=  13.2s\n",
      "[CV 4/10; 1/1] START C=0.1, degree=1, gamma=0.2, kernel=poly....................\n",
      "[CV 4/10; 1/1] END C=0.1, degree=1, gamma=0.2, kernel=poly;, score=0.960 total time=   8.3s\n",
      "[CV 10/10; 1/1] START C=0.1, degree=1, gamma=0.2, kernel=poly...................\n",
      "[CV 10/10; 1/1] END C=0.1, degree=1, gamma=0.2, kernel=poly;, score=0.953 total time=   2.7s\n",
      "[CV 6/10; 1/1] START C=0.1, degree=8, gamma=0.1, kernel=linear..................\n",
      "[CV 6/10; 1/1] END C=0.1, degree=8, gamma=0.1, kernel=linear;, score=0.983 total time=   8.4s\n",
      "[CV 2/10; 1/1] START C=1.0, degree=3, gamma=0.3, kernel=linear..................\n",
      "[CV 2/10; 1/1] END C=1.0, degree=3, gamma=0.3, kernel=linear;, score=0.994 total time=   7.7s\n",
      "[CV 10/10; 1/1] START C=1.0, degree=3, gamma=0.3, kernel=linear.................\n",
      "[CV 10/10; 1/1] END C=1.0, degree=3, gamma=0.3, kernel=linear;, score=0.953 total time=   2.2s\n",
      "[CV 3/10; 1/1] START C=0.1, degree=1, gamma=0.1, kernel=poly....................\n",
      "[CV 3/10; 1/1] END C=0.1, degree=1, gamma=0.1, kernel=poly;, score=0.983 total time=   7.3s\n",
      "[CV 10/10; 1/1] START C=0.1, degree=1, gamma=0.1, kernel=poly...................\n",
      "[CV 10/10; 1/1] END C=0.1, degree=1, gamma=0.1, kernel=poly;, score=0.953 total time=   2.3s\n",
      "[CV 5/10; 1/1] START C=0.1, degree=2, gamma=0.1, kernel=linear..................\n",
      "[CV 5/10; 1/1] END C=0.1, degree=2, gamma=0.1, kernel=linear;, score=0.983 total time=   7.9s\n",
      "[CV 5/10; 1/1] START C=0.1, degree=7, gamma=0.3, kernel=linear..................\n",
      "[CV 5/10; 1/1] END C=0.1, degree=7, gamma=0.3, kernel=linear;, score=0.983 total time=   7.5s\n",
      "[CV 3/10; 1/1] START C=1.0, degree=8, gamma=0.3, kernel=linear..................\n",
      "[CV 3/10; 1/1] END C=1.0, degree=8, gamma=0.3, kernel=linear;, score=0.983 total time=   7.6s\n",
      "[CV 10/10; 1/1] START C=1.0, degree=8, gamma=0.3, kernel=linear.................\n",
      "[CV 10/10; 1/1] END C=1.0, degree=8, gamma=0.3, kernel=linear;, score=0.953 total time=   2.2s\n",
      "[CV 6/10; 1/1] START C=1.0, degree=4, gamma=0.1, kernel=linear..................\n",
      "[CV 6/10; 1/1] END C=1.0, degree=4, gamma=0.1, kernel=linear;, score=0.983 total time=   7.4s\n",
      "[CV 10/10; 1/1] START C=1.0, degree=4, gamma=0.1, kernel=linear.................\n",
      "[CV 10/10; 1/1] END C=1.0, degree=4, gamma=0.1, kernel=linear;, score=0.953 total time=   2.2s\n",
      "[CV 6/10; 1/1] START C=1.0, degree=1, gamma=0.3, kernel=poly....................\n",
      "[CV 6/10; 1/1] END C=1.0, degree=1, gamma=0.3, kernel=poly;, score=0.983 total time=   7.9s\n",
      "[CV 8/10; 1/1] START C=1.0, degree=7, gamma=0.1, kernel=linear..................\n",
      "[CV 8/10; 1/1] END C=1.0, degree=7, gamma=0.1, kernel=linear;, score=1.000 total time=   8.0s\n",
      "[CV 2/10; 1/1] START C=1.0, degree=2, gamma=0.3, kernel=linear..................\n",
      "[CV 2/10; 1/1] END C=1.0, degree=2, gamma=0.3, kernel=linear;, score=0.994 total time=   7.7s\n",
      "[CV 10/10; 1/1] START C=1.0, degree=2, gamma=0.3, kernel=linear.................\n",
      "[CV 10/10; 1/1] END C=1.0, degree=2, gamma=0.3, kernel=linear;, score=0.953 total time=   2.2s\n",
      "[CV 2/10; 1/1] START C=0.1, degree=4, gamma=0.3, kernel=linear..................\n",
      "[CV 2/10; 1/1] END C=0.1, degree=4, gamma=0.3, kernel=linear;, score=0.994 total time=   7.5s\n",
      "[CV 5/10; 1/1] START C=1.0, degree=1, gamma=0.1, kernel=poly....................\n",
      "[CV 5/10; 1/1] END C=1.0, degree=1, gamma=0.1, kernel=poly;, score=0.983 total time=   7.5s\n",
      "[CV 8/10; 1/1] START C=0.1, degree=1, gamma=0.3, kernel=poly....................\n",
      "[CV 8/10; 1/1] END C=0.1, degree=1, gamma=0.3, kernel=poly;, score=1.000 total time=   7.8s\n",
      "[CV 5/10; 1/1] START C=0.1, degree=1, gamma=0.3, kernel=linear..................\n",
      "[CV 5/10; 1/1] END C=0.1, degree=1, gamma=0.3, kernel=linear;, score=0.983 total time=   8.0s\n",
      "[CV 6/10; 1/1] START C=1.0, degree=1, gamma=0.1, kernel=poly....................\n",
      "[CV 6/10; 1/1] END C=1.0, degree=1, gamma=0.1, kernel=poly;, score=0.983 total time=   7.4s\n",
      "[CV 5/10; 1/1] START C=1.0, degree=1, gamma=0.1, kernel=linear..................\n",
      "[CV 5/10; 1/1] END C=1.0, degree=1, gamma=0.1, kernel=linear;, score=0.983 total time=   8.4s\n",
      "[CV 5/10; 1/1] START C=0.1, degree=3, gamma=0.1, kernel=linear..................\n",
      "[CV 5/10; 1/1] END C=0.1, degree=3, gamma=0.1, kernel=linear;, score=0.983 total time=   7.9s\n",
      "[CV 2/10; 1/1] START C=0.1, degree=6, gamma=0.1, kernel=linear..................\n",
      "[CV 2/10; 1/1] END C=0.1, degree=6, gamma=0.1, kernel=linear;, score=0.994 total time=   8.1s\n",
      "[CV 6/10; 1/1] START C=0.1, degree=1, gamma=0.3, kernel=rbf.....................\n",
      "[CV 6/10; 1/1] END C=0.1, degree=1, gamma=0.3, kernel=rbf;, score=0.395 total time=  35.0s\n",
      "[CV 2/10; 1/1] START C=1.0, degree=2, gamma=0.3, kernel=poly....................\n",
      "[CV 2/10; 1/1] END C=1.0, degree=2, gamma=0.3, kernel=poly;, score=0.983 total time=  12.2s\n",
      "[CV 7/10; 1/1] START C=1.0, degree=8, gamma=0.1, kernel=linear..................\n",
      "[CV 7/10; 1/1] END C=1.0, degree=8, gamma=0.1, kernel=linear;, score=0.994 total time=   8.3s\n",
      "[CV 10/10; 1/1] START C=1.0, degree=8, gamma=0.1, kernel=linear.................\n",
      "[CV 10/10; 1/1] END C=1.0, degree=8, gamma=0.1, kernel=linear;, score=0.953 total time=   3.0s\n",
      "[CV 5/10; 1/1] START C=1.0, degree=5, gamma=0.3, kernel=linear..................\n",
      "[CV 5/10; 1/1] END C=1.0, degree=5, gamma=0.3, kernel=linear;, score=0.983 total time=   7.6s\n",
      "[CV 3/10; 1/1] START C=0.1, degree=8, gamma=0.3, kernel=linear..................\n",
      "[CV 3/10; 1/1] END C=0.1, degree=8, gamma=0.3, kernel=linear;, score=0.983 total time=   7.3s\n",
      "[CV 10/10; 1/1] START C=0.1, degree=8, gamma=0.3, kernel=linear.................\n",
      "[CV 10/10; 1/1] END C=0.1, degree=8, gamma=0.3, kernel=linear;, score=0.953 total time=   2.7s\n",
      "[CV 4/10; 1/1] START C=0.1, degree=5, gamma=0.1, kernel=linear..................\n",
      "[CV 4/10; 1/1] END C=0.1, degree=5, gamma=0.1, kernel=linear;, score=0.960 total time=   6.9s\n",
      "[CV 9/10; 1/1] START C=0.1, degree=5, gamma=0.1, kernel=linear..................\n",
      "[CV 9/10; 1/1] END C=0.1, degree=5, gamma=0.1, kernel=linear;, score=0.988 total time=   2.5s\n",
      "[CV 6/10; 1/1] START C=0.1, degree=1, gamma=0.1, kernel=linear..................\n",
      "[CV 6/10; 1/1] END C=0.1, degree=1, gamma=0.1, kernel=linear;, score=0.983 total time=   8.0s\n",
      "[CV 4/10; 1/1] START C=1.0, degree=1, gamma=0.3, kernel=linear..................\n",
      "[CV 4/10; 1/1] END C=1.0, degree=1, gamma=0.3, kernel=linear;, score=0.960 total time=   7.3s\n",
      "[CV 9/10; 1/1] START C=1.0, degree=1, gamma=0.3, kernel=linear..................\n",
      "[CV 9/10; 1/1] END C=1.0, degree=1, gamma=0.3, kernel=linear;, score=0.988 total time=   2.5s\n",
      "[CV 4/10; 1/1] START C=0.1, degree=6, gamma=0.3, kernel=linear..................\n",
      "[CV 4/10; 1/1] END C=0.1, degree=6, gamma=0.3, kernel=linear;, score=0.960 total time=   7.7s\n",
      "[CV 9/10; 1/1] START C=0.1, degree=6, gamma=0.3, kernel=linear..................\n",
      "[CV 9/10; 1/1] END C=0.1, degree=6, gamma=0.3, kernel=linear;, score=0.988 total time=   2.4s\n",
      "[CV 5/10; 1/1] START C=0.1, degree=2, gamma=0.3, kernel=linear..................\n",
      "[CV 5/10; 1/1] END C=0.1, degree=2, gamma=0.3, kernel=linear;, score=0.983 total time=   7.0s\n",
      "[CV 6/10; 1/1] START C=1.0, degree=1, gamma=0.3, kernel=poly....................\n",
      "[CV 6/10; 1/1] END C=1.0, degree=1, gamma=0.3, kernel=poly;, score=0.983 total time=   7.6s\n",
      "[CV 1/10; 1/1] START C=1.0, degree=2, gamma=0.1, kernel=linear..................\n",
      "[CV 1/10; 1/1] END C=1.0, degree=2, gamma=0.1, kernel=linear;, score=0.983 total time=   7.4s\n",
      "[CV 4/10; 1/1] START C=1.0, degree=7, gamma=0.3, kernel=linear..................\n",
      "[CV 4/10; 1/1] END C=1.0, degree=7, gamma=0.3, kernel=linear;, score=0.960 total time=   7.6s\n",
      "[CV 9/10; 1/1] START C=1.0, degree=7, gamma=0.3, kernel=linear..................\n",
      "[CV 9/10; 1/1] END C=1.0, degree=7, gamma=0.3, kernel=linear;, score=0.988 total time=   3.1s\n",
      "[CV 5/10; 1/1] START C=0.1, degree=8, gamma=0.1, kernel=linear..................\n",
      "[CV 5/10; 1/1] END C=0.1, degree=8, gamma=0.1, kernel=linear;, score=0.983 total time=   7.5s\n",
      "[CV 2/10; 1/1] START C=0.1, degree=4, gamma=0.3, kernel=linear..................\n",
      "[CV 2/10; 1/1] END C=0.1, degree=4, gamma=0.3, kernel=linear;, score=0.994 total time=   7.4s\n",
      "[CV 7/10; 1/1] START C=0.1, degree=7, gamma=0.1, kernel=linear..................\n",
      "[CV 7/10; 1/1] END C=0.1, degree=7, gamma=0.1, kernel=linear;, score=0.994 total time=   7.6s\n",
      "[CV 5/10; 1/1] START C=1.0, degree=4, gamma=0.1, kernel=linear..................\n",
      "[CV 5/10; 1/1] END C=1.0, degree=4, gamma=0.1, kernel=linear;, score=0.983 total time=   7.4s\n",
      "[CV 8/10; 1/1] START C=1.0, degree=3, gamma=0.1, kernel=linear..................\n",
      "[CV 8/10; 1/1] END C=1.0, degree=3, gamma=0.1, kernel=linear;, score=1.000 total time=   7.3s\n",
      "[CV 7/10; 1/1] START C=0.1, degree=3, gamma=0.3, kernel=linear..................\n",
      "[CV 7/10; 1/1] END C=0.1, degree=3, gamma=0.3, kernel=linear;, score=0.994 total time=   7.4s\n",
      "[CV 10/10; 1/1] START C=0.1, degree=3, gamma=0.3, kernel=linear.................\n",
      "[CV 10/10; 1/1] END C=0.1, degree=3, gamma=0.3, kernel=linear;, score=0.953 total time=   2.4s\n",
      "[CV 2/10; 1/1] START C=1.0, degree=6, gamma=0.1, kernel=linear..................\n",
      "[CV 2/10; 1/1] END C=1.0, degree=6, gamma=0.1, kernel=linear;, score=0.994 total time=   7.6s\n",
      "[CV 7/10; 1/1] START C=1.0, degree=8, gamma=0.3, kernel=linear..................\n",
      "[CV 7/10; 1/1] END C=1.0, degree=8, gamma=0.3, kernel=linear;, score=0.994 total time=   7.9s\n",
      "[CV 10/10; 1/1] START C=1.0, degree=8, gamma=0.3, kernel=linear.................\n",
      "[CV 10/10; 1/1] END C=1.0, degree=8, gamma=0.3, kernel=linear;, score=0.953 total time=   3.0s\n",
      "[CV 1/10; 1/1] START C=0.5, degree=6, gamma=0.2, kernel=poly....................\n",
      "[CV 1/10; 1/1] END C=0.5, degree=6, gamma=0.2, kernel=poly;, score=0.757 total time=  21.8s\n",
      "[CV 5/10; 1/1] START C=0.5, degree=8, gamma=0.3, kernel=poly....................\n",
      "[CV 5/10; 1/1] END C=0.5, degree=8, gamma=0.3, kernel=poly;, score=0.558 total time=  23.7s\n",
      "[CV 4/10; 1/1] START C=0.5, degree=1, gamma=0.2, kernel=linear..................\n",
      "[CV 4/10; 1/1] END C=0.5, degree=1, gamma=0.2, kernel=linear;, score=0.960 total time=   7.6s\n",
      "[CV 9/10; 1/1] START C=0.5, degree=1, gamma=0.2, kernel=linear..................\n",
      "[CV 9/10; 1/1] END C=0.5, degree=1, gamma=0.2, kernel=linear;, score=0.988 total time=   2.3s\n",
      "[CV 2/10; 1/1] START C=0.1, degree=6, gamma=0.2, kernel=poly....................\n",
      "[CV 2/10; 1/1] END C=0.1, degree=6, gamma=0.2, kernel=poly;, score=0.798 total time=  22.2s\n",
      "[CV 5/10; 1/1] START C=0.1, degree=3, gamma=0.2, kernel=poly....................\n",
      "[CV 5/10; 1/1] END C=0.1, degree=3, gamma=0.2, kernel=poly;, score=0.930 total time=  16.8s\n",
      "[CV 8/10; 1/1] START C=1.0, degree=8, gamma=0.2, kernel=poly....................\n",
      "[CV 8/10; 1/1] END C=1.0, degree=8, gamma=0.2, kernel=poly;, score=0.628 total time=  23.8s\n",
      "[CV 1/10; 1/1] START C=1.0, degree=6, gamma=0.2, kernel=linear..................\n",
      "[CV 1/10; 1/1] END C=1.0, degree=6, gamma=0.2, kernel=linear;, score=0.983 total time=   7.5s\n",
      "[CV 3/10; 1/1] START C=0.5, degree=5, gamma=0.2, kernel=linear..................\n",
      "[CV 3/10; 1/1] END C=0.5, degree=5, gamma=0.2, kernel=linear;, score=0.983 total time=   7.3s\n",
      "[CV 9/10; 1/1] START C=0.5, degree=5, gamma=0.2, kernel=linear..................\n",
      "[CV 9/10; 1/1] END C=0.5, degree=5, gamma=0.2, kernel=linear;, score=0.988 total time=   2.2s\n",
      "[CV 3/10; 1/1] START C=0.1, degree=7, gamma=0.3, kernel=rbf.....................\n",
      "[CV 3/10; 1/1] END C=0.1, degree=7, gamma=0.3, kernel=rbf;, score=0.387 total time=  33.7s\n",
      "[CV 9/10; 1/1] START C=0.1, degree=7, gamma=0.3, kernel=rbf.....................\n",
      "[CV 9/10; 1/1] END C=0.1, degree=7, gamma=0.3, kernel=rbf;, score=0.395 total time=  11.3s\n",
      "[CV 6/10; 1/1] START C=0.5, degree=4, gamma=0.2, kernel=rbf.....................\n",
      "[CV 6/10; 1/1] END C=0.5, degree=4, gamma=0.2, kernel=rbf;, score=0.395 total time=  41.0s\n",
      "[CV 5/10; 1/1] START C=0.1, degree=1, gamma=0.2, kernel=poly....................\n",
      "[CV 5/10; 1/1] END C=0.1, degree=1, gamma=0.2, kernel=poly;, score=0.983 total time=   8.4s\n",
      "[CV 3/10; 1/1] START C=0.1, degree=8, gamma=0.1, kernel=linear..................\n",
      "[CV 3/10; 1/1] END C=0.1, degree=8, gamma=0.1, kernel=linear;, score=0.983 total time=   8.4s\n",
      "[CV 4/10; 1/1] START C=1.0, degree=3, gamma=0.3, kernel=linear..................\n",
      "[CV 4/10; 1/1] END C=1.0, degree=3, gamma=0.3, kernel=linear;, score=0.960 total time=   7.8s\n",
      "[CV 5/10; 1/1] START C=0.1, degree=1, gamma=0.1, kernel=poly....................\n",
      "[CV 5/10; 1/1] END C=0.1, degree=1, gamma=0.1, kernel=poly;, score=0.983 total time=   7.5s\n",
      "[CV 6/10; 1/1] START C=0.1, degree=2, gamma=0.1, kernel=linear..................\n",
      "[CV 6/10; 1/1] END C=0.1, degree=2, gamma=0.1, kernel=linear;, score=0.983 total time=   7.8s\n",
      "[CV 1/10; 1/1] START C=0.1, degree=7, gamma=0.3, kernel=linear..................\n",
      "[CV 1/10; 1/1] END C=0.1, degree=7, gamma=0.3, kernel=linear;, score=0.983 total time=   7.4s\n",
      "[CV 7/10; 1/1] START C=1.0, degree=8, gamma=0.3, kernel=linear..................\n",
      "[CV 7/10; 1/1] END C=1.0, degree=8, gamma=0.3, kernel=linear;, score=0.994 total time=   7.7s\n",
      "[CV 2/10; 1/1] START C=1.0, degree=4, gamma=0.1, kernel=linear..................\n",
      "[CV 2/10; 1/1] END C=1.0, degree=4, gamma=0.1, kernel=linear;, score=0.994 total time=   7.4s\n",
      "[CV 4/10; 1/1] START C=1.0, degree=1, gamma=0.3, kernel=poly....................\n",
      "[CV 4/10; 1/1] END C=1.0, degree=1, gamma=0.3, kernel=poly;, score=0.960 total time=   7.7s\n",
      "[CV 9/10; 1/1] START C=1.0, degree=1, gamma=0.3, kernel=poly....................\n",
      "[CV 9/10; 1/1] END C=1.0, degree=1, gamma=0.3, kernel=poly;, score=0.988 total time=   2.7s\n",
      "[CV 3/10; 1/1] START C=1.0, degree=7, gamma=0.1, kernel=linear..................\n",
      "[CV 3/10; 1/1] END C=1.0, degree=7, gamma=0.1, kernel=linear;, score=0.983 total time=   7.8s\n",
      "[CV 10/10; 1/1] START C=1.0, degree=7, gamma=0.1, kernel=linear.................\n",
      "[CV 10/10; 1/1] END C=1.0, degree=7, gamma=0.1, kernel=linear;, score=0.953 total time=   2.9s\n",
      "[CV 3/10; 1/1] START C=1.0, degree=2, gamma=0.3, kernel=linear..................\n",
      "[CV 3/10; 1/1] END C=1.0, degree=2, gamma=0.3, kernel=linear;, score=0.983 total time=   7.7s\n",
      "[CV 1/10; 1/1] START C=0.1, degree=4, gamma=0.3, kernel=linear..................\n",
      "[CV 1/10; 1/1] END C=0.1, degree=4, gamma=0.3, kernel=linear;, score=0.983 total time=   7.6s\n",
      "[CV 4/10; 1/1] START C=1.0, degree=1, gamma=0.1, kernel=poly....................\n",
      "[CV 4/10; 1/1] END C=1.0, degree=1, gamma=0.1, kernel=poly;, score=0.960 total time=   7.5s\n",
      "[CV 10/10; 1/1] START C=1.0, degree=1, gamma=0.1, kernel=poly...................\n",
      "[CV 10/10; 1/1] END C=1.0, degree=1, gamma=0.1, kernel=poly;, score=0.953 total time=   2.2s\n",
      "[CV 6/10; 1/1] START C=0.1, degree=1, gamma=0.3, kernel=poly....................\n",
      "[CV 6/10; 1/1] END C=0.1, degree=1, gamma=0.3, kernel=poly;, score=0.983 total time=   7.7s\n",
      "[CV 10/10; 1/1] START C=0.1, degree=1, gamma=0.3, kernel=poly...................\n",
      "[CV 10/10; 1/1] END C=0.1, degree=1, gamma=0.3, kernel=poly;, score=0.953 total time=   2.2s\n",
      "[CV 6/10; 1/1] START C=0.1, degree=1, gamma=0.3, kernel=linear..................\n",
      "[CV 6/10; 1/1] END C=0.1, degree=1, gamma=0.3, kernel=linear;, score=0.983 total time=   8.1s\n",
      "[CV 8/10; 1/1] START C=1.0, degree=1, gamma=0.1, kernel=poly....................\n",
      "[CV 8/10; 1/1] END C=1.0, degree=1, gamma=0.1, kernel=poly;, score=1.000 total time=   7.5s\n",
      "[CV 3/10; 1/1] START C=1.0, degree=1, gamma=0.1, kernel=linear..................\n",
      "[CV 3/10; 1/1] END C=1.0, degree=1, gamma=0.1, kernel=linear;, score=0.983 total time=   8.2s\n",
      "[CV 10/10; 1/1] START C=1.0, degree=1, gamma=0.1, kernel=linear.................\n",
      "[CV 10/10; 1/1] END C=1.0, degree=1, gamma=0.1, kernel=linear;, score=0.953 total time=   2.3s\n",
      "[CV 6/10; 1/1] START C=0.1, degree=3, gamma=0.1, kernel=linear..................\n",
      "[CV 6/10; 1/1] END C=0.1, degree=3, gamma=0.1, kernel=linear;, score=0.983 total time=   8.0s\n",
      "[CV 4/10; 1/1] START C=0.1, degree=6, gamma=0.1, kernel=linear..................\n",
      "[CV 4/10; 1/1] END C=0.1, degree=6, gamma=0.1, kernel=linear;, score=0.960 total time=   8.0s\n",
      "[CV 1/10; 1/1] START C=0.1, degree=1, gamma=0.3, kernel=rbf.....................\n",
      "[CV 1/10; 1/1] END C=0.1, degree=1, gamma=0.3, kernel=rbf;, score=0.393 total time=  35.0s\n",
      "[CV 6/10; 1/1] START C=1.0, degree=2, gamma=0.3, kernel=poly....................\n",
      "[CV 6/10; 1/1] END C=1.0, degree=2, gamma=0.3, kernel=poly;, score=0.924 total time=  12.1s\n",
      "[CV 3/10; 1/1] START C=1.0, degree=8, gamma=0.1, kernel=linear..................\n",
      "[CV 3/10; 1/1] END C=1.0, degree=8, gamma=0.1, kernel=linear;, score=0.983 total time=   8.3s\n",
      "[CV 4/10; 1/1] START C=1.0, degree=5, gamma=0.3, kernel=linear..................\n",
      "[CV 4/10; 1/1] END C=1.0, degree=5, gamma=0.3, kernel=linear;, score=0.960 total time=   7.4s\n",
      "[CV 9/10; 1/1] START C=1.0, degree=5, gamma=0.3, kernel=linear..................\n",
      "[CV 9/10; 1/1] END C=1.0, degree=5, gamma=0.3, kernel=linear;, score=0.988 total time=   2.5s\n",
      "[CV 5/10; 1/1] START C=0.1, degree=8, gamma=0.3, kernel=linear..................\n",
      "[CV 5/10; 1/1] END C=0.1, degree=8, gamma=0.3, kernel=linear;, score=0.983 total time=   7.5s\n",
      "[CV 2/10; 1/1] START C=0.1, degree=5, gamma=0.1, kernel=linear..................\n",
      "[CV 2/10; 1/1] END C=0.1, degree=5, gamma=0.1, kernel=linear;, score=0.994 total time=   7.2s\n",
      "[CV 8/10; 1/1] START C=0.1, degree=1, gamma=0.1, kernel=linear..................\n",
      "[CV 8/10; 1/1] END C=0.1, degree=1, gamma=0.1, kernel=linear;, score=1.000 total time=   7.8s\n",
      "[CV 10/10; 1/1] START C=0.1, degree=1, gamma=0.1, kernel=linear.................\n",
      "[CV 10/10; 1/1] END C=0.1, degree=1, gamma=0.1, kernel=linear;, score=0.953 total time=   2.4s\n",
      "[CV 3/10; 1/1] START C=1.0, degree=1, gamma=0.3, kernel=linear..................\n",
      "[CV 3/10; 1/1] END C=1.0, degree=1, gamma=0.3, kernel=linear;, score=0.983 total time=   7.4s\n",
      "[CV 8/10; 1/1] START C=0.1, degree=6, gamma=0.3, kernel=linear..................\n",
      "[CV 8/10; 1/1] END C=0.1, degree=6, gamma=0.3, kernel=linear;, score=1.000 total time=   7.9s\n",
      "[CV 1/10; 1/1] START C=0.1, degree=2, gamma=0.3, kernel=linear..................\n",
      "[CV 1/10; 1/1] END C=0.1, degree=2, gamma=0.3, kernel=linear;, score=0.983 total time=   7.1s\n",
      "[CV 3/10; 1/1] START C=1.0, degree=1, gamma=0.3, kernel=poly....................\n",
      "[CV 3/10; 1/1] END C=1.0, degree=1, gamma=0.3, kernel=poly;, score=0.983 total time=   7.6s\n",
      "[CV 9/10; 1/1] START C=1.0, degree=1, gamma=0.3, kernel=poly....................\n",
      "[CV 9/10; 1/1] END C=1.0, degree=1, gamma=0.3, kernel=poly;, score=0.988 total time=   2.5s\n",
      "[CV 2/10; 1/1] START C=1.0, degree=2, gamma=0.1, kernel=linear..................\n",
      "[CV 2/10; 1/1] END C=1.0, degree=2, gamma=0.1, kernel=linear;, score=0.994 total time=   7.4s\n",
      "[CV 3/10; 1/1] START C=1.0, degree=7, gamma=0.3, kernel=linear..................\n",
      "[CV 3/10; 1/1] END C=1.0, degree=7, gamma=0.3, kernel=linear;, score=0.983 total time=   7.9s\n",
      "[CV 10/10; 1/1] START C=1.0, degree=7, gamma=0.3, kernel=linear.................\n",
      "[CV 10/10; 1/1] END C=1.0, degree=7, gamma=0.3, kernel=linear;, score=0.953 total time=   2.9s\n",
      "[CV 4/10; 1/1] START C=0.1, degree=8, gamma=0.1, kernel=linear..................\n",
      "[CV 4/10; 1/1] END C=0.1, degree=8, gamma=0.1, kernel=linear;, score=0.960 total time=   7.3s\n",
      "[CV 10/10; 1/1] START C=0.1, degree=8, gamma=0.1, kernel=linear.................\n",
      "[CV 10/10; 1/1] END C=0.1, degree=8, gamma=0.1, kernel=linear;, score=0.953 total time=   2.4s\n",
      "[CV 6/10; 1/1] START C=0.1, degree=4, gamma=0.3, kernel=linear..................\n",
      "[CV 6/10; 1/1] END C=0.1, degree=4, gamma=0.3, kernel=linear;, score=0.983 total time=   7.3s\n",
      "[CV 6/10; 1/1] START C=0.1, degree=7, gamma=0.1, kernel=linear..................\n",
      "[CV 6/10; 1/1] END C=0.1, degree=7, gamma=0.1, kernel=linear;, score=0.983 total time=   7.5s\n",
      "[CV 10/10; 1/1] START C=0.1, degree=7, gamma=0.1, kernel=linear.................\n",
      "[CV 10/10; 1/1] END C=0.1, degree=7, gamma=0.1, kernel=linear;, score=0.953 total time=   2.4s\n",
      "[CV 4/10; 1/1] START C=1.0, degree=4, gamma=0.1, kernel=linear..................\n",
      "[CV 4/10; 1/1] END C=1.0, degree=4, gamma=0.1, kernel=linear;, score=0.960 total time=   7.3s\n",
      "[CV 10/10; 1/1] START C=1.0, degree=4, gamma=0.1, kernel=linear.................\n",
      "[CV 10/10; 1/1] END C=1.0, degree=4, gamma=0.1, kernel=linear;, score=0.953 total time=   2.4s\n",
      "[CV 4/10; 1/1] START C=1.0, degree=3, gamma=0.1, kernel=linear..................\n",
      "[CV 4/10; 1/1] END C=1.0, degree=3, gamma=0.1, kernel=linear;, score=0.960 total time=   7.2s\n",
      "[CV 10/10; 1/1] START C=1.0, degree=3, gamma=0.1, kernel=linear.................\n",
      "[CV 10/10; 1/1] END C=1.0, degree=3, gamma=0.1, kernel=linear;, score=0.953 total time=   2.4s\n",
      "[CV 3/10; 1/1] START C=0.1, degree=3, gamma=0.3, kernel=linear..................\n",
      "[CV 3/10; 1/1] END C=0.1, degree=3, gamma=0.3, kernel=linear;, score=0.983 total time=   7.5s\n",
      "[CV 1/10; 1/1] START C=1.0, degree=6, gamma=0.1, kernel=linear..................\n",
      "[CV 1/10; 1/1] END C=1.0, degree=6, gamma=0.1, kernel=linear;, score=0.983 total time=   7.7s\n",
      "[CV 6/10; 1/1] START C=1.0, degree=8, gamma=0.3, kernel=linear..................\n",
      "[CV 6/10; 1/1] END C=1.0, degree=8, gamma=0.3, kernel=linear;, score=0.983 total time=   8.0s\n",
      "[CV 9/10; 1/1] START C=1.0, degree=8, gamma=0.3, kernel=linear..................\n",
      "[CV 9/10; 1/1] END C=1.0, degree=8, gamma=0.3, kernel=linear;, score=0.988 total time=   3.1s\n"
     ]
    }
   ],
   "source": [
    "import numpy as np\n",
    "import pandas as pd\n",
    "from sklearn.model_selection import GridSearchCV\n",
    "from sklearn.svm import SVC\n",
    "from sklearn.ensemble import RandomForestClassifier\n",
    "from sklearn.feature_selection import chi2, mutual_info_classif, SelectKBest, f_classif\n",
    "from sklearn.model_selection import cross_val_score \n",
    "import matplotlib.pyplot as plt\n",
    "from sklearn.metrics import confusion_matrix, f1_score\n",
    "from sklearn.model_selection import cross_val_predict\n",
    "from sklearn.metrics import accuracy_score, roc_curve, auc\n",
    "from skopt.space import Real, Categorical, Integer\n",
    "from skopt import BayesSearchCV\n",
    "from sklearn.preprocessing import label_binarize\n",
    "from sklearn.multiclass import OneVsRestClassifier\n",
    "from sklearn.model_selection import train_test_split\n",
    "from sklearn.pipeline import make_pipeline\n",
    "\n",
    "\n",
    "#Load data from csv file\n",
    "data = pd.read_csv(\"data2NormWithColNamesRowNames.csv\")\n",
    "data.head(10) \n",
    "\n",
    "data.set_index(\"Unnamed: 0\", inplace = True)\n",
    "data.index.name = None\n",
    "\n",
    "X = data.iloc[:, data.columns != 'assigned_cluster'].values\n",
    "#X=data.iloc[:,0:4915]\n",
    "X = np.absolute(X) #(1930, 2545), (1724, 2375)\n",
    "\n",
    "y = data.iloc[:,data.columns == 'assigned_cluster'].values.ravel() #(1930,), (1724,)\n",
    "\n",
    "def precision_MC(y_true, y_pred):\n",
    "    TP = np.diag(confusion_matrix(y_true, y_pred))\n",
    "    FP = confusion_matrix(y_true, y_pred).sum(axis=1) - np.diag(confusion_matrix(y_true, y_pred))\n",
    "    FP = FP.astype(float)\n",
    "    TP = TP.astype(float)\n",
    "    precision = TP/(TP+FP) * 100\n",
    "    return precision\n",
    "\n",
    "def recall_MC(y_true, y_pred):\n",
    "    TP = np.diag(confusion_matrix(y_true, y_pred))\n",
    "    FN = confusion_matrix(y_true, y_pred).sum(axis=0) - np.diag(confusion_matrix(y_true, y_pred))\n",
    "    FN = FN.astype(float)\n",
    "    TP = TP.astype(float)\n",
    "    recall =  TP/(TP+FN) * 100\n",
    "    return recall\n",
    "\n",
    "def accuracy_MC(y_true, y_pred):\n",
    "    FP = confusion_matrix(y_true, y_pred).sum(axis=1) - np.diag(confusion_matrix(y_true, y_pred))  \n",
    "    FN = confusion_matrix(y_true, y_pred).sum(axis=0) - np.diag(confusion_matrix(y_true, y_pred))\n",
    "    TP = np.diag(confusion_matrix(y_true, y_pred))\n",
    "    TP = TP.astype(float)\n",
    "    TN = confusion_matrix(y_true, y_pred).sum() - (FP + FN + TP)\n",
    "    FP = FP.astype(float)\n",
    "    FN = FN.astype(float)\n",
    "    TN = TN.astype(float)\n",
    "    accuracy = (TP+TN)/(TP+FP+FN+TN) * 100\n",
    "    return accuracy\n",
    "\n",
    "def npval_MC(y_true, y_pred): \n",
    "    FN = confusion_matrix(y_true, y_pred).sum(axis=0) - np.diag(confusion_matrix(y_true, y_pred))\n",
    "    FN = FN.astype(float)\n",
    "    TP = np.diag(confusion_matrix(y_true, y_pred))\n",
    "    TP = TP.astype(float)\n",
    "    FP = confusion_matrix(y_true, y_pred).sum(axis=1) - np.diag(confusion_matrix(y_true, y_pred)) \n",
    "    FP = FP.astype(float)\n",
    "    TN = confusion_matrix(y_true, y_pred).sum() - (FP + FN + TP)\n",
    "    TN = TN.astype(float)\n",
    "    npv = TN/(TN+FN) * 100\n",
    "    return npv\n",
    "\n",
    "def specificity_MC(y_true, y_pred): \n",
    "    FP = confusion_matrix(y_true, y_pred).sum(axis=1) - np.diag(confusion_matrix(y_true, y_pred)) \n",
    "    FP = FP.astype(float)\n",
    "    FN = confusion_matrix(y_true, y_pred).sum(axis=0) - np.diag(confusion_matrix(y_true, y_pred))\n",
    "    FN = FN.astype(float)\n",
    "    TP = np.diag(confusion_matrix(y_true, y_pred))\n",
    "    TP = TP.astype(float)\n",
    "    TN = confusion_matrix(y_true, y_pred).sum() - (FP + FN + TP)\n",
    "    TN = TN.astype(float)\n",
    "    spec = TN/(TN+FP)  * 100\n",
    "    return spec\n",
    "\n",
    "\n",
    "def plot_ROC_curve_MC(y_true, y_pred, FSName):\n",
    "    n_classes = len(np.unique(y_true))\n",
    "    y_true = label_binarize(y_true, classes=np.arange(n_classes))\n",
    "    #y_pred = label_binarize(y_pred, classes=np.arange(n_classes))\n",
    "    \n",
    "    # Compute ROC curve and ROC area for each class\n",
    "    fpr = dict()\n",
    "    tpr = dict()\n",
    "    roc_auc = dict()\n",
    "    for i in range(n_classes):\n",
    "        fpr[i], tpr[i], _ = roc_curve(y_true[:, i], y_pred[:, i])\n",
    "        roc_auc[i] = auc(fpr[i], tpr[i])\n",
    "        \n",
    "    # First aggregate all false positive rates\n",
    "    all_fpr = np.unique(np.concatenate([fpr[i] for i in range(n_classes)]))\n",
    "\n",
    "    # Then interpolate all ROC curves at this points\n",
    "    mean_tpr = np.zeros_like(all_fpr)\n",
    "    for i in range(n_classes):\n",
    "        mean_tpr += np.interp(all_fpr, fpr[i], tpr[i])\n",
    "\n",
    "    # Finally average it and compute AUC\n",
    "    mean_tpr /= n_classes\n",
    "    \n",
    "    # Plot all ROC curves\n",
    "    plt.figure()\n",
    "    #colors = cycle([\"aqua\", \"darkorange\", \"cornflowerblue\"])\n",
    "    for i in range(n_classes):\n",
    "        plt.plot(\n",
    "            fpr[i],\n",
    "            tpr[i],\n",
    "            label=\"ROC curve of class {0} (area = {1:0.4f})\".format(i, roc_auc[i]),\n",
    "        )\n",
    "\n",
    "    plt.plot([0, 1], [0, 1], \"k--\")\n",
    "    plt.xlim([0.0, 1.0])\n",
    "    plt.ylim([0.0, 1.05])\n",
    "    plt.xlabel(\"False Positive Rate\")\n",
    "    plt.ylabel(\"True Positive Rate\")\n",
    "    plt.title(\"ROC Curve of \" + str(FSName))\n",
    "    plt.legend(loc=\"lower right\")\n",
    "    plt.show()     \n",
    "\n",
    "#Bayesian Search\n",
    "bayesian_search = BayesSearchCV(\n",
    "        SVC(),\n",
    "        {\n",
    "            'C': (0.1,0.5,1),\n",
    "            'gamma':(1e-1,2e-1,3e-1),\n",
    "            'degree':(1,8),\n",
    "            'kernel': ('linear','poly','rbf')\n",
    "            #'max_leaf_nodes':Integer(0,prior='log-uniform'),\n",
    "            #'min_samples_leaf':Real(0.1,0.5,prior='uniform'),\n",
    "            #'min_samples_split':Real(0.1,1,prior='uniform')\n",
    "        },\n",
    "        n_iter=50,scoring='accuracy',n_jobs = -1, verbose = 10,\n",
    "        random_state=0, cv=10\n",
    "    )\n",
    "\n",
    "#grid_search = GridSearchCV(SVC(), tuned_params, cv=10, scoring='accuracy',n_jobs = -1, verbose = 10)\n",
    "#bayesian_search.fit(X_train, y_train)\n",
    "bayesian_search.fit(X, y)\n",
    "bayesian_search.best_params_\n",
    "#print(\"Test score\", bayesian_search.score(X_test, y_test))\n",
    "print(\"\")\n",
    "print(\"Best Parameters Found\")\n",
    "print(bayesian_search.best_params_) \n",
    "\n",
    "clf = SVC(C = bayesian_search.best_params_['C'], gamma = bayesian_search.best_params_['gamma'], degree= bayesian_search.best_params_['degree'],\n",
    "    kernel= bayesian_search.best_params_['kernel'])\n",
    "\n",
    "#clf = SVC(C=0.5, degree=1, gamma=0.2, kernel='linear') - D1\n",
    "#OrderedDict([('C', 0.5), ('degree', 1), ('gamma', 0.2), ('kernel', 'linear')])\n",
    "\n",
    "# Calculating the best k number of features\n",
    "k_range = [100,200,300,400]\n",
    "acc_chi2 = []\n",
    "acc_mi = []\n",
    "acc_annova = []\n",
    "\n",
    "for i in k_range:    \n",
    "    X_kbest_features_annova = SelectKBest(f_classif, k=i).fit_transform(X, y)\n",
    "    \n",
    "    acc = cross_val_score(clf, X_kbest_features_annova, y, cv=10, scoring=\"accuracy\").mean() \n",
    "    acc_annova.append(acc*100)\n",
    "    print(acc_annova)\n",
    "    \n",
    "    X_kbest_features_chi2 = SelectKBest(chi2, k=i).fit_transform(X, y)\n",
    "    \n",
    "    acc1 = cross_val_score(clf, X_kbest_features_chi2, y, cv=10, scoring=\"accuracy\").mean() \n",
    "    acc_chi2.append(acc1*100)\n",
    "    print(acc_chi2)\n",
    "    \n",
    "    X_kbest_features_mi = SelectKBest(mutual_info_classif, k=i).fit_transform(X,y)\n",
    "    \n",
    "    acc2 = cross_val_score(clf, X_kbest_features_mi, y, cv=10, scoring=\"accuracy\").mean()\n",
    "    acc_mi.append(acc2*100)\n",
    "    print(acc_mi)\n",
    "\n",
    "print(\"Accuracy Anova\", acc_annova)\n",
    "print(\"Chi2 accuracy\", acc_chi2)\n",
    "print(\"IG accuracy\", acc_mi)\n",
    "\n",
    "optimal_k_annova = k_range[acc_annova.index(max(acc_annova))]\n",
    "optimal_k_chi2 = k_range[acc_chi2.index(max(acc_chi2))]\n",
    "optimal_k_mi = k_range[acc_mi.index(max(acc_mi))] \n",
    "\n",
    "# optimal_k_annova = 400\n",
    "# optimal_k_chi2 = 400\n",
    "# optimal_k_mi = 400\n",
    "\n",
    "# multiple line plot of all Feature selection methods\n",
    "plt.plot( k_range, acc_annova,color='blue', linewidth=2, label = \"Anova F-value\")\n",
    "plt.plot( k_range, acc_chi2, color='orange', linewidth=2, label =\"Chi2\")\n",
    "plt.plot( k_range, acc_mi, color='green', linewidth=2, label=\"Information Gain\")\n",
    "plt.legend()\n",
    "plt.xlabel(\"Number of Features k\")\n",
    "plt.ylabel(\"Accuracy\")\n",
    "plt.show()\n",
    "\n",
    "#Saving the top k number of features\n",
    "data1 = data\n",
    "data1.drop(columns='assigned_cluster', inplace = True)\n",
    "data1.head(10)\n",
    "\n",
    "df_columns = pd.DataFrame(data1.columns)\n",
    "\n",
    "#Printing top 20 features_anova\n",
    "bestfeatures_anova = SelectKBest(f_classif, k= optimal_k_annova)\n",
    "fit_anova = bestfeatures_anova.fit(X,y)\n",
    "df_scores_anova = pd.DataFrame(fit_anova.scores_)\n",
    "\n",
    "# concatenate dataframes\n",
    "feature_scores_anova = pd.concat([df_columns, df_scores_anova],axis=1)\n",
    "feature_scores_anova.columns = ['Feature_Name','Score']  # name output columns\n",
    "print(feature_scores_anova.nlargest(20,'Score')) \n",
    "# export selected features to .csv\n",
    "df_feat_anova = feature_scores_anova.nlargest(20,'Score')\n",
    "df_feat_anova.to_csv('feature_selected_Anova.csv', index=False)\n",
    "\n",
    "#Printing top 20 features_chi2\n",
    "bestfeatures_chi2 = SelectKBest(chi2, k= optimal_k_chi2)\n",
    "fit_chi2 = bestfeatures_chi2.fit(X,y)\n",
    "df_scores_chi2 = pd.DataFrame(fit_chi2.scores_)\n",
    "\n",
    "# concatenate dataframes\n",
    "feature_scores_chi2 = pd.concat([df_columns, df_scores_chi2],axis=1)\n",
    "feature_scores_chi2.columns = ['Feature_Name','Score']  # name output columns\n",
    "print(feature_scores_chi2.nlargest(20,'Score')) \n",
    "# export selected features to .csv\n",
    "df_feat_chi2 = feature_scores_chi2.nlargest(20,'Score')\n",
    "df_feat_chi2.to_csv('feature_selected_Chi2.csv', index=False)\n",
    "\n",
    "#Printing top 20 features_IG\n",
    "bestfeatures_ig = SelectKBest(mutual_info_classif, k= optimal_k_mi)\n",
    "fit_ig = bestfeatures_ig.fit(X,y)\n",
    "df_scores_ig = pd.DataFrame(fit_ig.scores_)\n",
    "\n",
    "# concatenate dataframes\n",
    "feature_scores_ig = pd.concat([df_columns, df_scores_ig],axis=1)\n",
    "feature_scores_ig.columns = ['Feature_Name','Score']  # name output columns\n",
    "print(feature_scores_ig.nlargest(20,'Score')) \n",
    "# export selected features to .csv\n",
    "df_feat_ig = feature_scores_ig.nlargest(20,'Score')\n",
    "df_feat_ig.to_csv('feature_selected_IG.csv', index=False)\n",
    "\n",
    "\n",
    "perf_cols = [\"Cell Type\", \"Accuracy%\",\"Precision%\",\"Recall%\",\"Negative Predictive Value%\",\"Specificity%\",\"F1-score%\"]\n",
    "perf_anova  = pd.DataFrame(columns = perf_cols)\n",
    "perf_chi2  = pd.DataFrame(columns = perf_cols)\n",
    "perf_mi  = pd.DataFrame(columns = perf_cols)\n",
    "\n",
    "label = np.unique(y.tolist())\n",
    "class_lbl = [int(i) for i in label] \n",
    "class_lbl = ['CellType ' + str(s) for s in class_lbl]\n",
    "\n",
    "#OneVsRest Classifier for ROC curves\n",
    "random_state = np.random.RandomState(0)\n",
    "\n",
    "# # Learn to predict each class against the other\n",
    "classifier = OneVsRestClassifier(\n",
    "    SVC(C = bayesian_search.best_params_['C'], gamma = bayesian_search.best_params_['gamma'], degree= bayesian_search.best_params_['degree'],\n",
    "        kernel= bayesian_search.best_params_['kernel'], probability=True, random_state=random_state)\n",
    ")\n",
    "\n",
    "#classifier = OneVsRestClassifier(SVC(C=0.5, degree=1, gamma=0.2, kernel='linear', probability=True, random_state=random_state))\n",
    "\n",
    "#Feature selection\n",
    "X_kbestfeatures_annova = SelectKBest(f_classif, k = optimal_k_annova).fit_transform(X, y)\n",
    "X_kbestfeatures_chi2 = SelectKBest(chi2, k = optimal_k_chi2).fit_transform(X, y)\n",
    "X_kbestfeatures_mi = SelectKBest(mutual_info_classif, k = optimal_k_mi).fit_transform(X, y)\n",
    "\n",
    "print(X_kbestfeatures_annova.shape) #1930,400, (1724, 400)\n",
    "print(X_kbestfeatures_chi2.shape) #1930,400, (1724, 400)\n",
    "print(X_kbestfeatures_mi.shape) #1930,400, (1724, 400)\n",
    "\n",
    "#Anova + classification Method\n",
    "X_train_anova, X_test_anova, y_train_anova, y_test_anova = train_test_split(X_kbestfeatures_annova, y, test_size = 0.30, stratify=y, random_state= random_state)\n",
    "clf.fit(X_train_anova, y_train_anova)\n",
    "y_pred_anova = clf.predict(X_test_anova)\n",
    "\n",
    "X_train_anova.shape #(1351,400) , (1206, 400)\n",
    "X_test_anova.shape #(579, 400), (518, 400)\n",
    "\n",
    "anova_accuracy = accuracy_score(y_test_anova, y_pred_anova)\n",
    "print(\"Anova Accuracy\")\n",
    "print(anova_accuracy) #0.9792746113989638, 0.9498069498069498\n",
    "\n",
    "pre_anova = precision_MC(y_test_anova,y_pred_anova)\n",
    "rec_anova = recall_MC(y_test_anova,y_pred_anova)\n",
    "acc_anova = accuracy_MC(y_test_anova,y_pred_anova)\n",
    "npv_anova = npval_MC(y_test_anova,y_pred_anova)\n",
    "spe_anova = specificity_MC(y_test_anova,y_pred_anova)\n",
    "f1_anova = 2* (pre_anova * rec_anova)/(pre_anova + rec_anova)\n",
    "\n",
    "print(\"SVC MultiClass and Anova\")\n",
    "print(pre_anova)\n",
    "print(rec_anova)\n",
    "print(acc_anova)\n",
    "print(npv_anova)\n",
    "print(spe_anova)\n",
    "print(f1_anova)\n",
    "\n",
    "perf_anova['Cell Type'] = class_lbl\n",
    "perf_anova['Precision%'] = pre_anova.tolist()\n",
    "perf_anova['Accuracy%'] =  acc_anova.tolist()\n",
    "perf_anova['Recall%']  = rec_anova.tolist()\n",
    "perf_anova['Negative Predictive Value%'] = npv_anova.tolist()\n",
    "perf_anova['Specificity%'] = spe_anova.tolist()\n",
    "perf_anova['F1-score%'] = f1_anova.tolist()\n",
    "\n",
    "perf_anova.to_csv('PerformanceMetrics_Anova.csv', index = False)\n",
    "\n",
    "#Plot ROC curve for OneVsRest + Anova\n",
    "y_score_anova = classifier.fit(X_train_anova, y_train_anova).decision_function(X_test_anova)\n",
    "\n",
    "plot_ROC_curve_MC(y_test_anova, y_score_anova, \"Anova\")\n",
    "\n",
    "#Chi2 + classification Method\n",
    "X_train_chi2, X_test_chi2, y_train_chi2, y_test_chi2 = train_test_split(X_kbestfeatures_chi2, y, test_size = 0.30, stratify=y, random_state= random_state)\n",
    "clf.fit(X_train_chi2, y_train_chi2)\n",
    "y_pred_chi2 = clf.predict(X_test_chi2)\n",
    "\n",
    "X_train_anova.shape #(1351,400), (1206, 400)\n",
    "X_test_anova.shape #(579, 400), (518, 400)\n",
    "\n",
    "chi2_accuracy = accuracy_score(y_test_chi2, y_pred_chi2)\n",
    "print(\"Chi2 Accuracy\")\n",
    "print(chi2_accuracy) #0.9585492227979274, 0.6621621621621622\n",
    "\n",
    "pre_chi2 = precision_MC(y_test_chi2,y_pred_chi2)\n",
    "rec_chi2 = recall_MC(y_test_chi2,y_pred_chi2)\n",
    "acc_chi2 = accuracy_MC(y_test_chi2,y_pred_chi2)\n",
    "npv_chi2 = npval_MC(y_test_chi2,y_pred_chi2)\n",
    "spe_chi2 = specificity_MC(y_test_chi2,y_pred_chi2)\n",
    "f1_chi2 = 2* (pre_chi2 * rec_chi2)/(pre_chi2 + rec_chi2)\n",
    "\n",
    "print(\"SVC MultiClass and Chi2\")\n",
    "print(pre_chi2)\n",
    "print(rec_chi2)\n",
    "print(acc_chi2)\n",
    "print(npv_chi2)\n",
    "print(spe_chi2)\n",
    "print(f1_chi2)\n",
    "\n",
    "perf_chi2['Cell Type'] = class_lbl\n",
    "perf_chi2['Precision%'] = pre_chi2.tolist()\n",
    "perf_chi2['Accuracy%'] =  acc_chi2.tolist()\n",
    "perf_chi2['Recall%']  = rec_chi2.tolist()\n",
    "perf_chi2['Negative Predictive Value%'] = npv_chi2.tolist()\n",
    "perf_chi2['Specificity%'] = spe_chi2.tolist()\n",
    "perf_chi2['F1-score%'] = f1_chi2.tolist()\n",
    "\n",
    "perf_chi2.to_csv('PerformanceMetrics_Chi2.csv', index = False)\n",
    "\n",
    "#Plot ROC curve for OneVsRest + Chi2\n",
    "y_score_chi2 = classifier.fit(X_train_chi2, y_train_chi2).decision_function(X_test_chi2)\n",
    "\n",
    "plot_ROC_curve_MC(y_test_chi2, y_score_chi2, \"Chi2\")\n",
    "\n",
    "#IG + classification Method\n",
    "X_train_mi, X_test_mi, y_train_mi, y_test_mi = train_test_split(X_kbestfeatures_mi, y, test_size = 0.30, stratify=y, random_state= random_state)\n",
    "clf.fit(X_train_mi, y_train_mi)\n",
    "y_pred_mi = clf.predict(X_test_mi)\n",
    "\n",
    "X_train_mi.shape #(1351,400), (1206, 400)\n",
    "X_test_mi.shape #(579, 400), (518, 400)\n",
    "\n",
    "mi_accuracy = accuracy_score(y_test_mi, y_pred_mi)\n",
    "print(\"IG Accuracy\")\n",
    "print(mi_accuracy) #0.9775474956822107, 0.972972972972973\n",
    "\n",
    "pre_mi = precision_MC(y_test_mi,y_pred_mi)\n",
    "rec_mi = recall_MC(y_test_mi,y_pred_mi)\n",
    "acc_mi = accuracy_MC(y_test_mi,y_pred_mi)\n",
    "npv_mi = npval_MC(y_test_mi,y_pred_mi)\n",
    "spe_mi = specificity_MC(y_test_mi,y_pred_mi)\n",
    "f1_mi = 2* (pre_mi * rec_mi)/(pre_mi + rec_mi)\n",
    "\n",
    "print(\"SVC MultiClass and IG\")\n",
    "print(pre_mi)\n",
    "print(rec_mi)\n",
    "print(acc_mi)\n",
    "print(npv_mi)\n",
    "print(spe_mi)\n",
    "print(f1_mi)\n",
    "\n",
    "perf_mi['Cell Type'] = class_lbl\n",
    "perf_mi['Precision%'] = pre_mi.tolist()\n",
    "perf_mi['Accuracy%'] =  acc_mi.tolist()\n",
    "perf_mi['Recall%']  = rec_mi.tolist()\n",
    "perf_mi['Negative Predictive Value%'] = npv_mi.tolist()\n",
    "perf_mi['Specificity%'] = spe_mi.tolist()\n",
    "perf_mi['F1-score%'] = f1_mi.tolist()\n",
    "\n",
    "perf_mi.to_csv('PerformanceMetrics_IG.csv', index = False)\n",
    "\n",
    "#Plot ROC curve for OneVsRest + IG\n",
    "y_score_mi = classifier.fit(X_train_mi, y_train_mi).decision_function(X_test_mi)\n",
    "\n",
    "plot_ROC_curve_MC(y_test_mi, y_score_mi, \"IG\")\n",
    "\n",
    "## Tabular Representation of Efficiency\n",
    "table11= plt.table(cellText=perf_anova.values,\n",
    "          colLabels=perf_anova.columns,\n",
    "          cellLoc = 'center', rowLoc = 'center', colWidths=[0.25 for x in perf_anova.columns],\n",
    "          loc='center')\n",
    "table11.auto_set_font_size(False)\n",
    "table11.set_fontsize(10)\n",
    "table11.scale(2, 2)\n",
    "plt.title('Results - SVM with Anova', pad = '80.0')\n",
    "plt.axis('off')\n",
    "\n",
    "## Tabular Representation of Efficiency\n",
    "table22= plt.table(cellText=perf_chi2.values,\n",
    "          colLabels=perf_chi2.columns,\n",
    "          cellLoc = 'center', rowLoc = 'center', colWidths=[0.25 for x in perf_chi2.columns],\n",
    "          loc='center')\n",
    "table22.auto_set_font_size(False)\n",
    "table22.set_fontsize(10)\n",
    "table22.scale(2, 2)\n",
    "plt.title('Results - SVM with Chi2', pad = '80.0')\n",
    "plt.axis('off')\n",
    "\n",
    "## Tabular Representation of Efficiency\n",
    "table33= plt.table(cellText=perf_mi.values,\n",
    "          colLabels=perf_mi.columns,\n",
    "          cellLoc = 'center', rowLoc = 'center', colWidths=[0.25 for x in perf_mi.columns],\n",
    "          loc='center')\n",
    "table33.auto_set_font_size(False)\n",
    "table33.set_fontsize(10)\n",
    "table33.scale(2, 2)\n",
    "plt.title('Results - SVM with Information Gain', pad = '80.0')\n",
    "plt.axis('off')\n",
    "\n",
    "\n",
    "\n",
    "\n",
    "\n",
    "\n",
    "\n",
    "\n",
    "\n",
    "\n",
    "\n"
   ]
  },
  {
   "cell_type": "code",
   "execution_count": 6,
   "id": "88698a76",
   "metadata": {},
   "outputs": [
    {
     "data": {
      "text/plain": [
       "(1724, 2375)"
      ]
     },
     "execution_count": 6,
     "metadata": {},
     "output_type": "execute_result"
    }
   ],
   "source": [
    "X.shape"
   ]
  },
  {
   "cell_type": "code",
   "execution_count": 7,
   "id": "40cabe56",
   "metadata": {},
   "outputs": [
    {
     "data": {
      "text/plain": [
       "(1724,)"
      ]
     },
     "execution_count": 7,
     "metadata": {},
     "output_type": "execute_result"
    }
   ],
   "source": [
    "y.shape"
   ]
  },
  {
   "cell_type": "code",
   "execution_count": null,
   "id": "7e545469",
   "metadata": {},
   "outputs": [],
   "source": []
  }
 ],
 "metadata": {
  "kernelspec": {
   "display_name": "Python 3 (ipykernel)",
   "language": "python",
   "name": "python3"
  },
  "language_info": {
   "codemirror_mode": {
    "name": "ipython",
    "version": 3
   },
   "file_extension": ".py",
   "mimetype": "text/x-python",
   "name": "python",
   "nbconvert_exporter": "python",
   "pygments_lexer": "ipython3",
   "version": "3.9.7"
  }
 },
 "nbformat": 4,
 "nbformat_minor": 5
}
