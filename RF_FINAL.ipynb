{
 "cells": [
  {
   "cell_type": "code",
   "execution_count": 16,
   "id": "c391a7a0",
   "metadata": {},
   "outputs": [
    {
     "name": "stdout",
     "output_type": "stream",
     "text": [
      "Fitting 10 folds for each of 1 candidates, totalling 10 fits\n"
     ]
    },
    {
     "name": "stderr",
     "output_type": "stream",
     "text": [
      "/opt/anaconda3/lib/python3.9/site-packages/sklearn/model_selection/_split.py:666: UserWarning: The least populated class in y has only 2 members, which is less than n_splits=10.\n",
      "  warnings.warn((\"The least populated class in y has only %d\"\n"
     ]
    },
    {
     "name": "stdout",
     "output_type": "stream",
     "text": [
      "Fitting 10 folds for each of 1 candidates, totalling 10 fits\n"
     ]
    },
    {
     "name": "stderr",
     "output_type": "stream",
     "text": [
      "/opt/anaconda3/lib/python3.9/site-packages/sklearn/model_selection/_split.py:666: UserWarning: The least populated class in y has only 2 members, which is less than n_splits=10.\n",
      "  warnings.warn((\"The least populated class in y has only %d\"\n"
     ]
    },
    {
     "name": "stdout",
     "output_type": "stream",
     "text": [
      "Fitting 10 folds for each of 1 candidates, totalling 10 fits\n"
     ]
    },
    {
     "name": "stderr",
     "output_type": "stream",
     "text": [
      "/opt/anaconda3/lib/python3.9/site-packages/sklearn/model_selection/_split.py:666: UserWarning: The least populated class in y has only 2 members, which is less than n_splits=10.\n",
      "  warnings.warn((\"The least populated class in y has only %d\"\n"
     ]
    },
    {
     "name": "stdout",
     "output_type": "stream",
     "text": [
      "Fitting 10 folds for each of 1 candidates, totalling 10 fits\n"
     ]
    },
    {
     "name": "stderr",
     "output_type": "stream",
     "text": [
      "/opt/anaconda3/lib/python3.9/site-packages/sklearn/model_selection/_split.py:666: UserWarning: The least populated class in y has only 2 members, which is less than n_splits=10.\n",
      "  warnings.warn((\"The least populated class in y has only %d\"\n"
     ]
    },
    {
     "name": "stdout",
     "output_type": "stream",
     "text": [
      "Fitting 10 folds for each of 1 candidates, totalling 10 fits\n"
     ]
    },
    {
     "name": "stderr",
     "output_type": "stream",
     "text": [
      "/opt/anaconda3/lib/python3.9/site-packages/sklearn/model_selection/_split.py:666: UserWarning: The least populated class in y has only 2 members, which is less than n_splits=10.\n",
      "  warnings.warn((\"The least populated class in y has only %d\"\n"
     ]
    },
    {
     "name": "stdout",
     "output_type": "stream",
     "text": [
      "Fitting 10 folds for each of 1 candidates, totalling 10 fits\n"
     ]
    },
    {
     "name": "stderr",
     "output_type": "stream",
     "text": [
      "/opt/anaconda3/lib/python3.9/site-packages/sklearn/model_selection/_split.py:666: UserWarning: The least populated class in y has only 2 members, which is less than n_splits=10.\n",
      "  warnings.warn((\"The least populated class in y has only %d\"\n"
     ]
    },
    {
     "name": "stdout",
     "output_type": "stream",
     "text": [
      "Fitting 10 folds for each of 1 candidates, totalling 10 fits\n"
     ]
    },
    {
     "name": "stderr",
     "output_type": "stream",
     "text": [
      "/opt/anaconda3/lib/python3.9/site-packages/sklearn/model_selection/_split.py:666: UserWarning: The least populated class in y has only 2 members, which is less than n_splits=10.\n",
      "  warnings.warn((\"The least populated class in y has only %d\"\n"
     ]
    },
    {
     "name": "stdout",
     "output_type": "stream",
     "text": [
      "Fitting 10 folds for each of 1 candidates, totalling 10 fits\n"
     ]
    },
    {
     "name": "stderr",
     "output_type": "stream",
     "text": [
      "/opt/anaconda3/lib/python3.9/site-packages/sklearn/model_selection/_split.py:666: UserWarning: The least populated class in y has only 2 members, which is less than n_splits=10.\n",
      "  warnings.warn((\"The least populated class in y has only %d\"\n"
     ]
    },
    {
     "name": "stdout",
     "output_type": "stream",
     "text": [
      "Fitting 10 folds for each of 1 candidates, totalling 10 fits\n"
     ]
    },
    {
     "name": "stderr",
     "output_type": "stream",
     "text": [
      "/opt/anaconda3/lib/python3.9/site-packages/sklearn/model_selection/_split.py:666: UserWarning: The least populated class in y has only 2 members, which is less than n_splits=10.\n",
      "  warnings.warn((\"The least populated class in y has only %d\"\n"
     ]
    },
    {
     "name": "stdout",
     "output_type": "stream",
     "text": [
      "Fitting 10 folds for each of 1 candidates, totalling 10 fits\n"
     ]
    },
    {
     "name": "stderr",
     "output_type": "stream",
     "text": [
      "/opt/anaconda3/lib/python3.9/site-packages/sklearn/model_selection/_split.py:666: UserWarning: The least populated class in y has only 2 members, which is less than n_splits=10.\n",
      "  warnings.warn((\"The least populated class in y has only %d\"\n"
     ]
    },
    {
     "name": "stdout",
     "output_type": "stream",
     "text": [
      "Fitting 10 folds for each of 1 candidates, totalling 10 fits\n"
     ]
    },
    {
     "name": "stderr",
     "output_type": "stream",
     "text": [
      "/opt/anaconda3/lib/python3.9/site-packages/sklearn/model_selection/_split.py:666: UserWarning: The least populated class in y has only 2 members, which is less than n_splits=10.\n",
      "  warnings.warn((\"The least populated class in y has only %d\"\n"
     ]
    },
    {
     "name": "stdout",
     "output_type": "stream",
     "text": [
      "Fitting 10 folds for each of 1 candidates, totalling 10 fits\n"
     ]
    },
    {
     "name": "stderr",
     "output_type": "stream",
     "text": [
      "/opt/anaconda3/lib/python3.9/site-packages/sklearn/model_selection/_split.py:666: UserWarning: The least populated class in y has only 2 members, which is less than n_splits=10.\n",
      "  warnings.warn((\"The least populated class in y has only %d\"\n"
     ]
    },
    {
     "name": "stdout",
     "output_type": "stream",
     "text": [
      "Fitting 10 folds for each of 1 candidates, totalling 10 fits\n"
     ]
    },
    {
     "name": "stderr",
     "output_type": "stream",
     "text": [
      "/opt/anaconda3/lib/python3.9/site-packages/sklearn/model_selection/_split.py:666: UserWarning: The least populated class in y has only 2 members, which is less than n_splits=10.\n",
      "  warnings.warn((\"The least populated class in y has only %d\"\n"
     ]
    },
    {
     "name": "stdout",
     "output_type": "stream",
     "text": [
      "Fitting 10 folds for each of 1 candidates, totalling 10 fits\n"
     ]
    },
    {
     "name": "stderr",
     "output_type": "stream",
     "text": [
      "/opt/anaconda3/lib/python3.9/site-packages/sklearn/model_selection/_split.py:666: UserWarning: The least populated class in y has only 2 members, which is less than n_splits=10.\n",
      "  warnings.warn((\"The least populated class in y has only %d\"\n"
     ]
    },
    {
     "name": "stdout",
     "output_type": "stream",
     "text": [
      "Fitting 10 folds for each of 1 candidates, totalling 10 fits\n"
     ]
    },
    {
     "name": "stderr",
     "output_type": "stream",
     "text": [
      "/opt/anaconda3/lib/python3.9/site-packages/sklearn/model_selection/_split.py:666: UserWarning: The least populated class in y has only 2 members, which is less than n_splits=10.\n",
      "  warnings.warn((\"The least populated class in y has only %d\"\n"
     ]
    },
    {
     "name": "stdout",
     "output_type": "stream",
     "text": [
      "Fitting 10 folds for each of 1 candidates, totalling 10 fits\n"
     ]
    },
    {
     "name": "stderr",
     "output_type": "stream",
     "text": [
      "/opt/anaconda3/lib/python3.9/site-packages/sklearn/model_selection/_split.py:666: UserWarning: The least populated class in y has only 2 members, which is less than n_splits=10.\n",
      "  warnings.warn((\"The least populated class in y has only %d\"\n"
     ]
    },
    {
     "name": "stdout",
     "output_type": "stream",
     "text": [
      "Fitting 10 folds for each of 1 candidates, totalling 10 fits\n"
     ]
    },
    {
     "name": "stderr",
     "output_type": "stream",
     "text": [
      "/opt/anaconda3/lib/python3.9/site-packages/sklearn/model_selection/_split.py:666: UserWarning: The least populated class in y has only 2 members, which is less than n_splits=10.\n",
      "  warnings.warn((\"The least populated class in y has only %d\"\n"
     ]
    },
    {
     "name": "stdout",
     "output_type": "stream",
     "text": [
      "Fitting 10 folds for each of 1 candidates, totalling 10 fits\n"
     ]
    },
    {
     "name": "stderr",
     "output_type": "stream",
     "text": [
      "/opt/anaconda3/lib/python3.9/site-packages/sklearn/model_selection/_split.py:666: UserWarning: The least populated class in y has only 2 members, which is less than n_splits=10.\n",
      "  warnings.warn((\"The least populated class in y has only %d\"\n"
     ]
    },
    {
     "name": "stdout",
     "output_type": "stream",
     "text": [
      "Fitting 10 folds for each of 1 candidates, totalling 10 fits\n"
     ]
    },
    {
     "name": "stderr",
     "output_type": "stream",
     "text": [
      "/opt/anaconda3/lib/python3.9/site-packages/sklearn/model_selection/_split.py:666: UserWarning: The least populated class in y has only 2 members, which is less than n_splits=10.\n",
      "  warnings.warn((\"The least populated class in y has only %d\"\n"
     ]
    },
    {
     "name": "stdout",
     "output_type": "stream",
     "text": [
      "Fitting 10 folds for each of 1 candidates, totalling 10 fits\n"
     ]
    },
    {
     "name": "stderr",
     "output_type": "stream",
     "text": [
      "/opt/anaconda3/lib/python3.9/site-packages/sklearn/model_selection/_split.py:666: UserWarning: The least populated class in y has only 2 members, which is less than n_splits=10.\n",
      "  warnings.warn((\"The least populated class in y has only %d\"\n"
     ]
    },
    {
     "name": "stdout",
     "output_type": "stream",
     "text": [
      "Fitting 10 folds for each of 1 candidates, totalling 10 fits\n"
     ]
    },
    {
     "name": "stderr",
     "output_type": "stream",
     "text": [
      "/opt/anaconda3/lib/python3.9/site-packages/sklearn/model_selection/_split.py:666: UserWarning: The least populated class in y has only 2 members, which is less than n_splits=10.\n",
      "  warnings.warn((\"The least populated class in y has only %d\"\n"
     ]
    },
    {
     "name": "stdout",
     "output_type": "stream",
     "text": [
      "Fitting 10 folds for each of 1 candidates, totalling 10 fits\n"
     ]
    },
    {
     "name": "stderr",
     "output_type": "stream",
     "text": [
      "/opt/anaconda3/lib/python3.9/site-packages/sklearn/model_selection/_split.py:666: UserWarning: The least populated class in y has only 2 members, which is less than n_splits=10.\n",
      "  warnings.warn((\"The least populated class in y has only %d\"\n"
     ]
    },
    {
     "name": "stdout",
     "output_type": "stream",
     "text": [
      "Fitting 10 folds for each of 1 candidates, totalling 10 fits\n"
     ]
    },
    {
     "name": "stderr",
     "output_type": "stream",
     "text": [
      "/opt/anaconda3/lib/python3.9/site-packages/sklearn/model_selection/_split.py:666: UserWarning: The least populated class in y has only 2 members, which is less than n_splits=10.\n",
      "  warnings.warn((\"The least populated class in y has only %d\"\n"
     ]
    },
    {
     "name": "stdout",
     "output_type": "stream",
     "text": [
      "Fitting 10 folds for each of 1 candidates, totalling 10 fits\n"
     ]
    },
    {
     "name": "stderr",
     "output_type": "stream",
     "text": [
      "/opt/anaconda3/lib/python3.9/site-packages/sklearn/model_selection/_split.py:666: UserWarning: The least populated class in y has only 2 members, which is less than n_splits=10.\n",
      "  warnings.warn((\"The least populated class in y has only %d\"\n"
     ]
    },
    {
     "name": "stdout",
     "output_type": "stream",
     "text": [
      "Fitting 10 folds for each of 1 candidates, totalling 10 fits\n"
     ]
    },
    {
     "name": "stderr",
     "output_type": "stream",
     "text": [
      "/opt/anaconda3/lib/python3.9/site-packages/sklearn/model_selection/_split.py:666: UserWarning: The least populated class in y has only 2 members, which is less than n_splits=10.\n",
      "  warnings.warn((\"The least populated class in y has only %d\"\n"
     ]
    },
    {
     "name": "stdout",
     "output_type": "stream",
     "text": [
      "Fitting 10 folds for each of 1 candidates, totalling 10 fits\n"
     ]
    },
    {
     "name": "stderr",
     "output_type": "stream",
     "text": [
      "/opt/anaconda3/lib/python3.9/site-packages/sklearn/model_selection/_split.py:666: UserWarning: The least populated class in y has only 2 members, which is less than n_splits=10.\n",
      "  warnings.warn((\"The least populated class in y has only %d\"\n"
     ]
    },
    {
     "name": "stdout",
     "output_type": "stream",
     "text": [
      "Fitting 10 folds for each of 1 candidates, totalling 10 fits\n"
     ]
    },
    {
     "name": "stderr",
     "output_type": "stream",
     "text": [
      "/opt/anaconda3/lib/python3.9/site-packages/sklearn/model_selection/_split.py:666: UserWarning: The least populated class in y has only 2 members, which is less than n_splits=10.\n",
      "  warnings.warn((\"The least populated class in y has only %d\"\n"
     ]
    },
    {
     "name": "stdout",
     "output_type": "stream",
     "text": [
      "Fitting 10 folds for each of 1 candidates, totalling 10 fits\n"
     ]
    },
    {
     "name": "stderr",
     "output_type": "stream",
     "text": [
      "/opt/anaconda3/lib/python3.9/site-packages/sklearn/model_selection/_split.py:666: UserWarning: The least populated class in y has only 2 members, which is less than n_splits=10.\n",
      "  warnings.warn((\"The least populated class in y has only %d\"\n"
     ]
    },
    {
     "name": "stdout",
     "output_type": "stream",
     "text": [
      "Fitting 10 folds for each of 1 candidates, totalling 10 fits\n"
     ]
    },
    {
     "name": "stderr",
     "output_type": "stream",
     "text": [
      "/opt/anaconda3/lib/python3.9/site-packages/sklearn/model_selection/_split.py:666: UserWarning: The least populated class in y has only 2 members, which is less than n_splits=10.\n",
      "  warnings.warn((\"The least populated class in y has only %d\"\n"
     ]
    },
    {
     "name": "stdout",
     "output_type": "stream",
     "text": [
      "Fitting 10 folds for each of 1 candidates, totalling 10 fits\n"
     ]
    },
    {
     "name": "stderr",
     "output_type": "stream",
     "text": [
      "/opt/anaconda3/lib/python3.9/site-packages/sklearn/model_selection/_split.py:666: UserWarning: The least populated class in y has only 2 members, which is less than n_splits=10.\n",
      "  warnings.warn((\"The least populated class in y has only %d\"\n"
     ]
    },
    {
     "name": "stdout",
     "output_type": "stream",
     "text": [
      "Fitting 10 folds for each of 1 candidates, totalling 10 fits\n"
     ]
    },
    {
     "name": "stderr",
     "output_type": "stream",
     "text": [
      "/opt/anaconda3/lib/python3.9/site-packages/sklearn/model_selection/_split.py:666: UserWarning: The least populated class in y has only 2 members, which is less than n_splits=10.\n",
      "  warnings.warn((\"The least populated class in y has only %d\"\n"
     ]
    },
    {
     "name": "stdout",
     "output_type": "stream",
     "text": [
      "Fitting 10 folds for each of 1 candidates, totalling 10 fits\n"
     ]
    },
    {
     "name": "stderr",
     "output_type": "stream",
     "text": [
      "/opt/anaconda3/lib/python3.9/site-packages/sklearn/model_selection/_split.py:666: UserWarning: The least populated class in y has only 2 members, which is less than n_splits=10.\n",
      "  warnings.warn((\"The least populated class in y has only %d\"\n"
     ]
    },
    {
     "name": "stdout",
     "output_type": "stream",
     "text": [
      "Fitting 10 folds for each of 1 candidates, totalling 10 fits\n"
     ]
    },
    {
     "name": "stderr",
     "output_type": "stream",
     "text": [
      "/opt/anaconda3/lib/python3.9/site-packages/sklearn/model_selection/_split.py:666: UserWarning: The least populated class in y has only 2 members, which is less than n_splits=10.\n",
      "  warnings.warn((\"The least populated class in y has only %d\"\n"
     ]
    },
    {
     "name": "stdout",
     "output_type": "stream",
     "text": [
      "Fitting 10 folds for each of 1 candidates, totalling 10 fits\n"
     ]
    },
    {
     "name": "stderr",
     "output_type": "stream",
     "text": [
      "/opt/anaconda3/lib/python3.9/site-packages/sklearn/model_selection/_split.py:666: UserWarning: The least populated class in y has only 2 members, which is less than n_splits=10.\n",
      "  warnings.warn((\"The least populated class in y has only %d\"\n"
     ]
    },
    {
     "name": "stdout",
     "output_type": "stream",
     "text": [
      "Fitting 10 folds for each of 1 candidates, totalling 10 fits\n"
     ]
    },
    {
     "name": "stderr",
     "output_type": "stream",
     "text": [
      "/opt/anaconda3/lib/python3.9/site-packages/sklearn/model_selection/_split.py:666: UserWarning: The least populated class in y has only 2 members, which is less than n_splits=10.\n",
      "  warnings.warn((\"The least populated class in y has only %d\"\n"
     ]
    },
    {
     "name": "stdout",
     "output_type": "stream",
     "text": [
      "Fitting 10 folds for each of 1 candidates, totalling 10 fits\n"
     ]
    },
    {
     "name": "stderr",
     "output_type": "stream",
     "text": [
      "/opt/anaconda3/lib/python3.9/site-packages/sklearn/model_selection/_split.py:666: UserWarning: The least populated class in y has only 2 members, which is less than n_splits=10.\n",
      "  warnings.warn((\"The least populated class in y has only %d\"\n"
     ]
    },
    {
     "name": "stdout",
     "output_type": "stream",
     "text": [
      "Fitting 10 folds for each of 1 candidates, totalling 10 fits\n"
     ]
    },
    {
     "name": "stderr",
     "output_type": "stream",
     "text": [
      "/opt/anaconda3/lib/python3.9/site-packages/sklearn/model_selection/_split.py:666: UserWarning: The least populated class in y has only 2 members, which is less than n_splits=10.\n",
      "  warnings.warn((\"The least populated class in y has only %d\"\n"
     ]
    },
    {
     "name": "stdout",
     "output_type": "stream",
     "text": [
      "Fitting 10 folds for each of 1 candidates, totalling 10 fits\n"
     ]
    },
    {
     "name": "stderr",
     "output_type": "stream",
     "text": [
      "/opt/anaconda3/lib/python3.9/site-packages/sklearn/model_selection/_split.py:666: UserWarning: The least populated class in y has only 2 members, which is less than n_splits=10.\n",
      "  warnings.warn((\"The least populated class in y has only %d\"\n"
     ]
    },
    {
     "name": "stdout",
     "output_type": "stream",
     "text": [
      "Fitting 10 folds for each of 1 candidates, totalling 10 fits\n"
     ]
    },
    {
     "name": "stderr",
     "output_type": "stream",
     "text": [
      "/opt/anaconda3/lib/python3.9/site-packages/sklearn/model_selection/_split.py:666: UserWarning: The least populated class in y has only 2 members, which is less than n_splits=10.\n",
      "  warnings.warn((\"The least populated class in y has only %d\"\n"
     ]
    },
    {
     "name": "stdout",
     "output_type": "stream",
     "text": [
      "Fitting 10 folds for each of 1 candidates, totalling 10 fits\n"
     ]
    },
    {
     "name": "stderr",
     "output_type": "stream",
     "text": [
      "/opt/anaconda3/lib/python3.9/site-packages/sklearn/model_selection/_split.py:666: UserWarning: The least populated class in y has only 2 members, which is less than n_splits=10.\n",
      "  warnings.warn((\"The least populated class in y has only %d\"\n"
     ]
    },
    {
     "name": "stdout",
     "output_type": "stream",
     "text": [
      "Fitting 10 folds for each of 1 candidates, totalling 10 fits\n"
     ]
    },
    {
     "name": "stderr",
     "output_type": "stream",
     "text": [
      "/opt/anaconda3/lib/python3.9/site-packages/sklearn/model_selection/_split.py:666: UserWarning: The least populated class in y has only 2 members, which is less than n_splits=10.\n",
      "  warnings.warn((\"The least populated class in y has only %d\"\n"
     ]
    },
    {
     "name": "stdout",
     "output_type": "stream",
     "text": [
      "Fitting 10 folds for each of 1 candidates, totalling 10 fits\n"
     ]
    },
    {
     "name": "stderr",
     "output_type": "stream",
     "text": [
      "/opt/anaconda3/lib/python3.9/site-packages/sklearn/model_selection/_split.py:666: UserWarning: The least populated class in y has only 2 members, which is less than n_splits=10.\n",
      "  warnings.warn((\"The least populated class in y has only %d\"\n"
     ]
    },
    {
     "name": "stdout",
     "output_type": "stream",
     "text": [
      "Fitting 10 folds for each of 1 candidates, totalling 10 fits\n"
     ]
    },
    {
     "name": "stderr",
     "output_type": "stream",
     "text": [
      "/opt/anaconda3/lib/python3.9/site-packages/sklearn/model_selection/_split.py:666: UserWarning: The least populated class in y has only 2 members, which is less than n_splits=10.\n",
      "  warnings.warn((\"The least populated class in y has only %d\"\n"
     ]
    },
    {
     "name": "stdout",
     "output_type": "stream",
     "text": [
      "Fitting 10 folds for each of 1 candidates, totalling 10 fits\n"
     ]
    },
    {
     "name": "stderr",
     "output_type": "stream",
     "text": [
      "/opt/anaconda3/lib/python3.9/site-packages/sklearn/model_selection/_split.py:666: UserWarning: The least populated class in y has only 2 members, which is less than n_splits=10.\n",
      "  warnings.warn((\"The least populated class in y has only %d\"\n"
     ]
    },
    {
     "name": "stdout",
     "output_type": "stream",
     "text": [
      "Fitting 10 folds for each of 1 candidates, totalling 10 fits\n"
     ]
    },
    {
     "name": "stderr",
     "output_type": "stream",
     "text": [
      "/opt/anaconda3/lib/python3.9/site-packages/sklearn/model_selection/_split.py:666: UserWarning: The least populated class in y has only 2 members, which is less than n_splits=10.\n",
      "  warnings.warn((\"The least populated class in y has only %d\"\n"
     ]
    },
    {
     "name": "stdout",
     "output_type": "stream",
     "text": [
      "Fitting 10 folds for each of 1 candidates, totalling 10 fits\n"
     ]
    },
    {
     "name": "stderr",
     "output_type": "stream",
     "text": [
      "/opt/anaconda3/lib/python3.9/site-packages/sklearn/model_selection/_split.py:666: UserWarning: The least populated class in y has only 2 members, which is less than n_splits=10.\n",
      "  warnings.warn((\"The least populated class in y has only %d\"\n"
     ]
    },
    {
     "name": "stdout",
     "output_type": "stream",
     "text": [
      "Fitting 10 folds for each of 1 candidates, totalling 10 fits\n"
     ]
    },
    {
     "name": "stderr",
     "output_type": "stream",
     "text": [
      "/opt/anaconda3/lib/python3.9/site-packages/sklearn/model_selection/_split.py:666: UserWarning: The least populated class in y has only 2 members, which is less than n_splits=10.\n",
      "  warnings.warn((\"The least populated class in y has only %d\"\n"
     ]
    },
    {
     "name": "stdout",
     "output_type": "stream",
     "text": [
      "Fitting 10 folds for each of 1 candidates, totalling 10 fits\n"
     ]
    },
    {
     "name": "stderr",
     "output_type": "stream",
     "text": [
      "/opt/anaconda3/lib/python3.9/site-packages/sklearn/model_selection/_split.py:666: UserWarning: The least populated class in y has only 2 members, which is less than n_splits=10.\n",
      "  warnings.warn((\"The least populated class in y has only %d\"\n"
     ]
    },
    {
     "name": "stdout",
     "output_type": "stream",
     "text": [
      "Fitting 10 folds for each of 1 candidates, totalling 10 fits\n"
     ]
    },
    {
     "name": "stderr",
     "output_type": "stream",
     "text": [
      "/opt/anaconda3/lib/python3.9/site-packages/sklearn/model_selection/_split.py:666: UserWarning: The least populated class in y has only 2 members, which is less than n_splits=10.\n",
      "  warnings.warn((\"The least populated class in y has only %d\"\n"
     ]
    },
    {
     "name": "stdout",
     "output_type": "stream",
     "text": [
      "Fitting 10 folds for each of 1 candidates, totalling 10 fits\n"
     ]
    },
    {
     "name": "stderr",
     "output_type": "stream",
     "text": [
      "/opt/anaconda3/lib/python3.9/site-packages/sklearn/model_selection/_split.py:666: UserWarning: The least populated class in y has only 2 members, which is less than n_splits=10.\n",
      "  warnings.warn((\"The least populated class in y has only %d\"\n"
     ]
    },
    {
     "name": "stdout",
     "output_type": "stream",
     "text": [
      "\n",
      "Best Parameters Found\n",
      "OrderedDict([('criterion', 'gini'), ('max_depth', 36), ('max_features', 'sqrt'), ('n_estimators', 124)])\n"
     ]
    },
    {
     "name": "stderr",
     "output_type": "stream",
     "text": [
      "/opt/anaconda3/lib/python3.9/site-packages/sklearn/model_selection/_split.py:666: UserWarning: The least populated class in y has only 2 members, which is less than n_splits=10.\n",
      "  warnings.warn((\"The least populated class in y has only %d\"\n"
     ]
    },
    {
     "name": "stdout",
     "output_type": "stream",
     "text": [
      "[58.87720123672538]\n"
     ]
    },
    {
     "name": "stderr",
     "output_type": "stream",
     "text": [
      "/opt/anaconda3/lib/python3.9/site-packages/sklearn/model_selection/_split.py:666: UserWarning: The least populated class in y has only 2 members, which is less than n_splits=10.\n",
      "  warnings.warn((\"The least populated class in y has only %d\"\n"
     ]
    },
    {
     "name": "stdout",
     "output_type": "stream",
     "text": [
      "[31.614464309719054]\n"
     ]
    },
    {
     "name": "stderr",
     "output_type": "stream",
     "text": [
      "/opt/anaconda3/lib/python3.9/site-packages/sklearn/model_selection/_split.py:666: UserWarning: The least populated class in y has only 2 members, which is less than n_splits=10.\n",
      "  warnings.warn((\"The least populated class in y has only %d\"\n"
     ]
    },
    {
     "name": "stdout",
     "output_type": "stream",
     "text": [
      "[95.30279607474122]\n"
     ]
    },
    {
     "name": "stderr",
     "output_type": "stream",
     "text": [
      "/opt/anaconda3/lib/python3.9/site-packages/sklearn/model_selection/_split.py:666: UserWarning: The least populated class in y has only 2 members, which is less than n_splits=10.\n",
      "  warnings.warn((\"The least populated class in y has only %d\"\n"
     ]
    },
    {
     "name": "stdout",
     "output_type": "stream",
     "text": [
      "[58.87720123672538, 90.13677913698078]\n"
     ]
    },
    {
     "name": "stderr",
     "output_type": "stream",
     "text": [
      "/opt/anaconda3/lib/python3.9/site-packages/sklearn/model_selection/_split.py:666: UserWarning: The least populated class in y has only 2 members, which is less than n_splits=10.\n",
      "  warnings.warn((\"The least populated class in y has only %d\"\n"
     ]
    },
    {
     "name": "stdout",
     "output_type": "stream",
     "text": [
      "[31.614464309719054, 39.385670116951204]\n"
     ]
    },
    {
     "name": "stderr",
     "output_type": "stream",
     "text": [
      "/opt/anaconda3/lib/python3.9/site-packages/sklearn/model_selection/_split.py:666: UserWarning: The least populated class in y has only 2 members, which is less than n_splits=10.\n",
      "  warnings.warn((\"The least populated class in y has only %d\"\n"
     ]
    },
    {
     "name": "stdout",
     "output_type": "stream",
     "text": [
      "[95.30279607474122, 95.99912622664336]\n"
     ]
    },
    {
     "name": "stderr",
     "output_type": "stream",
     "text": [
      "/opt/anaconda3/lib/python3.9/site-packages/sklearn/model_selection/_split.py:666: UserWarning: The least populated class in y has only 2 members, which is less than n_splits=10.\n",
      "  warnings.warn((\"The least populated class in y has only %d\"\n"
     ]
    },
    {
     "name": "stdout",
     "output_type": "stream",
     "text": [
      "[58.87720123672538, 90.13677913698078, 93.03938701438366]\n"
     ]
    },
    {
     "name": "stderr",
     "output_type": "stream",
     "text": [
      "/opt/anaconda3/lib/python3.9/site-packages/sklearn/model_selection/_split.py:666: UserWarning: The least populated class in y has only 2 members, which is less than n_splits=10.\n",
      "  warnings.warn((\"The least populated class in y has only %d\"\n"
     ]
    },
    {
     "name": "stdout",
     "output_type": "stream",
     "text": [
      "[31.614464309719054, 39.385670116951204, 49.42263745127033]\n"
     ]
    },
    {
     "name": "stderr",
     "output_type": "stream",
     "text": [
      "/opt/anaconda3/lib/python3.9/site-packages/sklearn/model_selection/_split.py:666: UserWarning: The least populated class in y has only 2 members, which is less than n_splits=10.\n",
      "  warnings.warn((\"The least populated class in y has only %d\"\n"
     ]
    },
    {
     "name": "stdout",
     "output_type": "stream",
     "text": [
      "[95.30279607474122, 95.99912622664336, 96.52103777389434]\n"
     ]
    },
    {
     "name": "stderr",
     "output_type": "stream",
     "text": [
      "/opt/anaconda3/lib/python3.9/site-packages/sklearn/model_selection/_split.py:666: UserWarning: The least populated class in y has only 2 members, which is less than n_splits=10.\n",
      "  warnings.warn((\"The least populated class in y has only %d\"\n"
     ]
    },
    {
     "name": "stdout",
     "output_type": "stream",
     "text": [
      "[58.87720123672538, 90.13677913698078, 93.03938701438366, 94.6632611910203]\n"
     ]
    },
    {
     "name": "stderr",
     "output_type": "stream",
     "text": [
      "/opt/anaconda3/lib/python3.9/site-packages/sklearn/model_selection/_split.py:666: UserWarning: The least populated class in y has only 2 members, which is less than n_splits=10.\n",
      "  warnings.warn((\"The least populated class in y has only %d\"\n"
     ]
    },
    {
     "name": "stdout",
     "output_type": "stream",
     "text": [
      "[31.614464309719054, 39.385670116951204, 49.42263745127033, 54.29795671461217]\n",
      "[CV 8/10; 1/1] START criterion=gini, max_depth=41, max_features=sqrt, n_estimators=359\n",
      "[CV 8/10; 1/1] END criterion=gini, max_depth=41, max_features=sqrt, n_estimators=359;, score=0.971 total time=  19.0s\n",
      "[CV 5/10; 1/1] START criterion=entropy, max_depth=59, max_features=sqrt, n_estimators=340\n",
      "[CV 5/10; 1/1] END criterion=entropy, max_depth=59, max_features=sqrt, n_estimators=340;, score=0.959 total time=  44.3s\n",
      "[CV 10/10; 1/1] START criterion=entropy, max_depth=59, max_features=sqrt, n_estimators=340\n",
      "[CV 10/10; 1/1] END criterion=entropy, max_depth=59, max_features=sqrt, n_estimators=340;, score=0.913 total time=  27.2s\n",
      "[CV 4/10; 1/1] START criterion=gini, max_depth=4, max_features=log2, n_estimators=177\n",
      "[CV 4/10; 1/1] END criterion=gini, max_depth=4, max_features=log2, n_estimators=177;, score=0.786 total time=   1.2s\n",
      "[CV 10/10; 1/1] START criterion=gini, max_depth=4, max_features=log2, n_estimators=177\n",
      "[CV 10/10; 1/1] END criterion=gini, max_depth=4, max_features=log2, n_estimators=177;, score=0.605 total time=   0.8s\n",
      "[CV 2/10; 1/1] START criterion=entropy, max_depth=47, max_features=log2, n_estimators=282\n",
      "[CV 2/10; 1/1] END criterion=entropy, max_depth=47, max_features=log2, n_estimators=282;, score=0.931 total time=  11.6s\n",
      "[CV 1/10; 1/1] START criterion=entropy, max_depth=15, max_features=sqrt, n_estimators=214\n",
      "[CV 1/10; 1/1] END criterion=entropy, max_depth=15, max_features=sqrt, n_estimators=214;, score=0.913 total time=  30.0s\n",
      "[CV 5/10; 1/1] START criterion=gini, max_depth=59, max_features=sqrt, n_estimators=294\n",
      "[CV 5/10; 1/1] END criterion=gini, max_depth=59, max_features=sqrt, n_estimators=294;, score=0.965 total time=  18.3s\n",
      "[CV 8/10; 1/1] START criterion=gini, max_depth=46, max_features=log2, n_estimators=174\n",
      "[CV 8/10; 1/1] END criterion=gini, max_depth=46, max_features=log2, n_estimators=174;, score=0.919 total time=   3.3s\n",
      "[CV 4/10; 1/1] START criterion=gini, max_depth=32, max_features=sqrt, n_estimators=111\n",
      "[CV 4/10; 1/1] END criterion=gini, max_depth=32, max_features=sqrt, n_estimators=111;, score=0.960 total time=   6.8s\n",
      "[CV 10/10; 1/1] START criterion=gini, max_depth=32, max_features=sqrt, n_estimators=111\n",
      "[CV 10/10; 1/1] END criterion=gini, max_depth=32, max_features=sqrt, n_estimators=111;, score=0.936 total time=   4.3s\n",
      "[CV 2/10; 1/1] START criterion=entropy, max_depth=54, max_features=sqrt, n_estimators=473\n",
      "[CV 2/10; 1/1] END criterion=entropy, max_depth=54, max_features=sqrt, n_estimators=473;, score=0.960 total time= 1.2min\n",
      "[CV 7/10; 1/1] START criterion=entropy, max_depth=27, max_features=log2, n_estimators=419\n",
      "[CV 7/10; 1/1] END criterion=entropy, max_depth=27, max_features=log2, n_estimators=419;, score=0.878 total time=  18.1s\n",
      "[CV 1/10; 1/1] START criterion=gini, max_depth=1, max_features=sqrt, n_estimators=500\n",
      "[CV 1/10; 1/1] END criterion=gini, max_depth=1, max_features=sqrt, n_estimators=500;, score=0.555 total time=   4.2s\n",
      "[CV 10/10; 1/1] START criterion=gini, max_depth=1, max_features=sqrt, n_estimators=500\n",
      "[CV 10/10; 1/1] END criterion=gini, max_depth=1, max_features=sqrt, n_estimators=500;, score=0.552 total time=   2.6s\n",
      "[CV 8/10; 1/1] START criterion=gini, max_depth=21, max_features=sqrt, n_estimators=100\n",
      "[CV 8/10; 1/1] END criterion=gini, max_depth=21, max_features=sqrt, n_estimators=100;, score=0.965 total time=   6.6s\n",
      "[CV 8/10; 1/1] START criterion=gini, max_depth=41, max_features=sqrt, n_estimators=100\n",
      "[CV 8/10; 1/1] END criterion=gini, max_depth=41, max_features=sqrt, n_estimators=100;, score=0.959 total time=   6.2s\n",
      "[CV 5/10; 1/1] START criterion=gini, max_depth=16, max_features=log2, n_estimators=500\n",
      "[CV 5/10; 1/1] END criterion=gini, max_depth=16, max_features=log2, n_estimators=500;, score=0.890 total time=   8.9s\n",
      "[CV 8/10; 1/1] START criterion=gini, max_depth=38, max_features=log2, n_estimators=500\n",
      "[CV 8/10; 1/1] END criterion=gini, max_depth=38, max_features=log2, n_estimators=500;, score=0.907 total time=  12.5s\n",
      "[CV 2/10; 1/1] START criterion=entropy, max_depth=18, max_features=sqrt, n_estimators=500\n",
      "[CV 2/10; 1/1] END criterion=entropy, max_depth=18, max_features=sqrt, n_estimators=500;, score=0.965 total time= 1.5min\n",
      "[CV 7/10; 1/1] START criterion=gini, max_depth=46, max_features=sqrt, n_estimators=500\n",
      "[CV 7/10; 1/1] END criterion=gini, max_depth=46, max_features=sqrt, n_estimators=500;, score=0.965 total time=  37.1s\n",
      "[CV 9/10; 1/1] START criterion=gini, max_depth=46, max_features=sqrt, n_estimators=500\n",
      "[CV 9/10; 1/1] END criterion=gini, max_depth=46, max_features=sqrt, n_estimators=500;, score=0.965 total time=  21.8s\n",
      "[CV 3/10; 1/1] START criterion=gini, max_depth=60, max_features=log2, n_estimators=500\n",
      "[CV 3/10; 1/1] END criterion=gini, max_depth=60, max_features=log2, n_estimators=500;, score=0.890 total time=  10.1s\n",
      "[CV 9/10; 1/1] START criterion=gini, max_depth=60, max_features=log2, n_estimators=500\n",
      "[CV 9/10; 1/1] END criterion=gini, max_depth=60, max_features=log2, n_estimators=500;, score=0.907 total time=   6.7s\n",
      "[CV 2/10; 1/1] START criterion=gini, max_depth=27, max_features=sqrt, n_estimators=500\n",
      "[CV 2/10; 1/1] END criterion=gini, max_depth=27, max_features=sqrt, n_estimators=500;, score=0.971 total time=  41.4s\n",
      "[CV 4/10; 1/1] START criterion=gini, max_depth=16, max_features=sqrt, n_estimators=500\n",
      "[CV 4/10; 1/1] END criterion=gini, max_depth=16, max_features=sqrt, n_estimators=500;, score=0.948 total time=  37.5s\n",
      "[CV 1/10; 1/1] START criterion=gini, max_depth=50, max_features=sqrt, n_estimators=500\n",
      "[CV 1/10; 1/1] END criterion=gini, max_depth=50, max_features=sqrt, n_estimators=500;, score=0.913 total time=  39.9s\n",
      "[CV 1/10; 1/1] START criterion=gini, max_depth=37, max_features=sqrt, n_estimators=500\n",
      "[CV 1/10; 1/1] END criterion=gini, max_depth=37, max_features=sqrt, n_estimators=500;, score=0.913 total time=  33.1s\n",
      "[CV 10/10; 1/1] START criterion=gini, max_depth=37, max_features=sqrt, n_estimators=500\n",
      "[CV 10/10; 1/1] END criterion=gini, max_depth=37, max_features=sqrt, n_estimators=500;, score=0.924 total time=  20.8s\n",
      "[CV 2/10; 1/1] START criterion=gini, max_depth=55, max_features=sqrt, n_estimators=500\n",
      "[CV 2/10; 1/1] END criterion=gini, max_depth=55, max_features=sqrt, n_estimators=500;, score=0.965 total time=  39.4s\n",
      "[CV 7/10; 1/1] START criterion=gini, max_depth=25, max_features=sqrt, n_estimators=100\n",
      "[CV 7/10; 1/1] END criterion=gini, max_depth=25, max_features=sqrt, n_estimators=100;, score=0.971 total time=   6.8s\n",
      "[CV 9/10; 1/1] START criterion=gini, max_depth=25, max_features=sqrt, n_estimators=100\n",
      "[CV 9/10; 1/1] END criterion=gini, max_depth=25, max_features=sqrt, n_estimators=100;, score=0.971 total time=   4.5s\n",
      "[CV 4/10; 1/1] START criterion=entropy, max_depth=28, max_features=sqrt, n_estimators=100\n",
      "[CV 4/10; 1/1] END criterion=entropy, max_depth=28, max_features=sqrt, n_estimators=100;, score=0.954 total time=  17.0s\n",
      "[CV 10/10; 1/1] START criterion=entropy, max_depth=28, max_features=sqrt, n_estimators=100\n",
      "[CV 10/10; 1/1] END criterion=entropy, max_depth=28, max_features=sqrt, n_estimators=100;, score=0.901 total time=   9.5s\n",
      "[CV 2/10; 1/1] START criterion=gini, max_depth=53, max_features=sqrt, n_estimators=100\n",
      "[CV 2/10; 1/1] END criterion=gini, max_depth=53, max_features=sqrt, n_estimators=100;, score=0.977 total time=   7.6s\n",
      "[CV 7/10; 1/1] START criterion=gini, max_depth=60, max_features=sqrt, n_estimators=473\n",
      "[CV 7/10; 1/1] END criterion=gini, max_depth=60, max_features=sqrt, n_estimators=473;, score=0.965 total time=  37.2s\n",
      "[CV 10/10; 1/1] START criterion=gini, max_depth=60, max_features=sqrt, n_estimators=473\n",
      "[CV 10/10; 1/1] END criterion=gini, max_depth=60, max_features=sqrt, n_estimators=473;, score=0.919 total time=  20.9s\n",
      "[CV 4/10; 1/1] START criterion=gini, max_depth=17, max_features=sqrt, n_estimators=113\n",
      "[CV 4/10; 1/1] END criterion=gini, max_depth=17, max_features=sqrt, n_estimators=113;, score=0.948 total time=   8.6s\n",
      "[CV 1/10; 1/1] START criterion=gini, max_depth=54, max_features=log2, n_estimators=480\n",
      "[CV 1/10; 1/1] END criterion=gini, max_depth=54, max_features=log2, n_estimators=480;, score=0.838 total time=  11.9s\n",
      "[CV 10/10; 1/1] START criterion=gini, max_depth=54, max_features=log2, n_estimators=480\n",
      "[CV 10/10; 1/1] END criterion=gini, max_depth=54, max_features=log2, n_estimators=480;, score=0.855 total time=   6.3s\n",
      "[CV 4/10; 1/1] START criterion=entropy, max_depth=40, max_features=sqrt, n_estimators=499\n",
      "[CV 4/10; 1/1] END criterion=entropy, max_depth=40, max_features=sqrt, n_estimators=499;, score=0.942 total time= 1.4min\n",
      "[CV 10/10; 1/1] START criterion=entropy, max_depth=40, max_features=sqrt, n_estimators=499\n",
      "[CV 10/10; 1/1] END criterion=entropy, max_depth=40, max_features=sqrt, n_estimators=499;, score=0.913 total time=  42.2s\n",
      "[CV 6/10; 1/1] START criterion=gini, max_depth=12, max_features=sqrt, n_estimators=103\n",
      "[CV 6/10; 1/1] END criterion=gini, max_depth=12, max_features=sqrt, n_estimators=103;, score=0.924 total time=   6.1s\n",
      "[CV 1/10; 1/1] START criterion=gini, max_depth=39, max_features=sqrt, n_estimators=500\n",
      "[CV 1/10; 1/1] END criterion=gini, max_depth=39, max_features=sqrt, n_estimators=500;, score=0.908 total time=  36.6s\n",
      "[CV 9/10; 1/1] START criterion=gini, max_depth=39, max_features=sqrt, n_estimators=500\n",
      "[CV 9/10; 1/1] END criterion=gini, max_depth=39, max_features=sqrt, n_estimators=500;, score=0.965 total time=  20.4s\n",
      "[CV 6/10; 1/1] START criterion=entropy, max_depth=11, max_features=log2, n_estimators=111\n",
      "[CV 6/10; 1/1] END criterion=entropy, max_depth=11, max_features=log2, n_estimators=111;, score=0.855 total time=   4.4s\n",
      "[CV 2/10; 1/1] START criterion=gini, max_depth=34, max_features=sqrt, n_estimators=496\n",
      "[CV 2/10; 1/1] END criterion=gini, max_depth=34, max_features=sqrt, n_estimators=496;, score=0.971 total time=  36.3s\n",
      "[CV 4/10; 1/1] START criterion=gini, max_depth=32, max_features=log2, n_estimators=101\n",
      "[CV 4/10; 1/1] END criterion=gini, max_depth=32, max_features=log2, n_estimators=101;, score=0.896 total time=   2.2s\n",
      "[CV 4/10; 1/1] START criterion=gini, max_depth=43, max_features=sqrt, n_estimators=496\n",
      "[CV 4/10; 1/1] END criterion=gini, max_depth=43, max_features=sqrt, n_estimators=496;, score=0.948 total time=  35.9s\n",
      "[CV 9/10; 1/1] START criterion=gini, max_depth=43, max_features=sqrt, n_estimators=496\n",
      "[CV 9/10; 1/1] END criterion=gini, max_depth=43, max_features=sqrt, n_estimators=496;, score=0.977 total time=  20.0s\n",
      "[CV 4/10; 1/1] START criterion=gini, max_depth=24, max_features=sqrt, n_estimators=497\n",
      "[CV 4/10; 1/1] END criterion=gini, max_depth=24, max_features=sqrt, n_estimators=497;, score=0.948 total time=  35.7s\n",
      "[CV 4/10; 1/1] START criterion=gini, max_depth=48, max_features=sqrt, n_estimators=102\n",
      "[CV 4/10; 1/1] END criterion=gini, max_depth=48, max_features=sqrt, n_estimators=102;, score=0.954 total time=   8.1s\n",
      "[CV 9/10; 1/1] START criterion=gini, max_depth=48, max_features=sqrt, n_estimators=102\n",
      "[CV 9/10; 1/1] END criterion=gini, max_depth=48, max_features=sqrt, n_estimators=102;, score=0.977 total time=   4.2s\n",
      "[CV 4/10; 1/1] START criterion=gini, max_depth=22, max_features=log2, n_estimators=112\n",
      "[CV 4/10; 1/1] END criterion=gini, max_depth=22, max_features=log2, n_estimators=112;, score=0.879 total time=   2.5s\n",
      "[CV 10/10; 1/1] START criterion=gini, max_depth=22, max_features=log2, n_estimators=112\n",
      "[CV 10/10; 1/1] END criterion=gini, max_depth=22, max_features=log2, n_estimators=112;, score=0.860 total time=   1.3s\n",
      "[CV 7/10; 1/1] START criterion=gini, max_depth=36, max_features=sqrt, n_estimators=124\n",
      "[CV 7/10; 1/1] END criterion=gini, max_depth=36, max_features=sqrt, n_estimators=124;, score=0.965 total time=   9.0s\n",
      "[CV 7/10; 1/1] START criterion=gini, max_depth=37, max_features=sqrt, n_estimators=100\n",
      "[CV 7/10; 1/1] END criterion=gini, max_depth=37, max_features=sqrt, n_estimators=100;, score=0.965 total time=   7.2s\n",
      "[CV 8/10; 1/1] START criterion=gini, max_depth=57, max_features=sqrt, n_estimators=495\n",
      "[CV 8/10; 1/1] END criterion=gini, max_depth=57, max_features=sqrt, n_estimators=495;, score=0.971 total time=  35.4s\n",
      "[CV 2/10; 1/1] START criterion=entropy, max_depth=48, max_features=sqrt, n_estimators=488\n",
      "[CV 2/10; 1/1] END criterion=entropy, max_depth=48, max_features=sqrt, n_estimators=488;, score=0.960 total time= 1.7min\n",
      "[CV 10/10; 1/1] START criterion=entropy, max_depth=48, max_features=sqrt, n_estimators=488\n",
      "[CV 10/10; 1/1] END criterion=entropy, max_depth=48, max_features=sqrt, n_estimators=488;, score=0.930 total time=  44.8s\n",
      "[CV 5/10; 1/1] START criterion=gini, max_depth=29, max_features=sqrt, n_estimators=100\n",
      "[CV 5/10; 1/1] END criterion=gini, max_depth=29, max_features=sqrt, n_estimators=100;, score=0.959 total time=   7.4s\n",
      "[CV 3/10; 1/1] START criterion=gini, max_depth=60, max_features=sqrt, n_estimators=113\n",
      "[CV 3/10; 1/1] END criterion=gini, max_depth=60, max_features=sqrt, n_estimators=113;, score=0.954 total time=   8.5s\n",
      "[CV 4/10; 1/1] START criterion=gini, max_depth=49, max_features=sqrt, n_estimators=500\n",
      "[CV 4/10; 1/1] END criterion=gini, max_depth=49, max_features=sqrt, n_estimators=500;, score=0.960 total time=  36.8s\n",
      "[CV 4/10; 1/1] START criterion=gini, max_depth=45, max_features=sqrt, n_estimators=108\n",
      "[CV 4/10; 1/1] END criterion=gini, max_depth=45, max_features=sqrt, n_estimators=108;, score=0.960 total time=   8.6s\n",
      "[CV 9/10; 1/1] START criterion=gini, max_depth=45, max_features=sqrt, n_estimators=108\n",
      "[CV 9/10; 1/1] END criterion=gini, max_depth=45, max_features=sqrt, n_estimators=108;, score=0.965 total time=   4.5s\n",
      "[CV 7/10; 1/1] START criterion=gini, max_depth=30, max_features=sqrt, n_estimators=495\n",
      "[CV 7/10; 1/1] END criterion=gini, max_depth=30, max_features=sqrt, n_estimators=495;, score=0.977 total time=  38.8s\n",
      "[CV 10/10; 1/1] START criterion=gini, max_depth=30, max_features=sqrt, n_estimators=495\n",
      "[CV 10/10; 1/1] END criterion=gini, max_depth=30, max_features=sqrt, n_estimators=495;, score=0.924 total time=  20.7s\n",
      "[CV 5/10; 1/1] START criterion=gini, max_depth=52, max_features=sqrt, n_estimators=499\n",
      "[CV 5/10; 1/1] END criterion=gini, max_depth=52, max_features=sqrt, n_estimators=499;, score=0.971 total time=  38.9s\n",
      "[CV 7/10; 1/1] START criterion=entropy, max_depth=60, max_features=sqrt, n_estimators=491\n",
      "[CV 7/10; 1/1] END criterion=entropy, max_depth=60, max_features=sqrt, n_estimators=491;, score=0.953 total time= 1.3min\n"
     ]
    },
    {
     "name": "stdout",
     "output_type": "stream",
     "text": [
      "[CV 5/10; 1/1] START criterion=gini, max_depth=41, max_features=sqrt, n_estimators=359\n",
      "[CV 5/10; 1/1] END criterion=gini, max_depth=41, max_features=sqrt, n_estimators=359;, score=0.965 total time=  19.0s\n",
      "[CV 6/10; 1/1] START criterion=entropy, max_depth=59, max_features=sqrt, n_estimators=340\n",
      "[CV 6/10; 1/1] END criterion=entropy, max_depth=59, max_features=sqrt, n_estimators=340;, score=0.948 total time=  44.5s\n",
      "[CV 6/10; 1/1] START criterion=gini, max_depth=4, max_features=log2, n_estimators=177\n",
      "[CV 6/10; 1/1] END criterion=gini, max_depth=4, max_features=log2, n_estimators=177;, score=0.773 total time=   1.2s\n",
      "[CV 5/10; 1/1] START criterion=entropy, max_depth=47, max_features=log2, n_estimators=282\n",
      "[CV 5/10; 1/1] END criterion=entropy, max_depth=47, max_features=log2, n_estimators=282;, score=0.895 total time=  11.7s\n",
      "[CV 7/10; 1/1] START criterion=entropy, max_depth=15, max_features=sqrt, n_estimators=214\n",
      "[CV 7/10; 1/1] END criterion=entropy, max_depth=15, max_features=sqrt, n_estimators=214;, score=0.965 total time=  29.9s\n",
      "[CV 10/10; 1/1] START criterion=entropy, max_depth=15, max_features=sqrt, n_estimators=214\n",
      "[CV 10/10; 1/1] END criterion=entropy, max_depth=15, max_features=sqrt, n_estimators=214;, score=0.907 total time=  17.8s\n",
      "[CV 6/10; 1/1] START criterion=gini, max_depth=59, max_features=sqrt, n_estimators=294\n",
      "[CV 6/10; 1/1] END criterion=gini, max_depth=59, max_features=sqrt, n_estimators=294;, score=0.942 total time=  18.1s\n",
      "[CV 3/10; 1/1] START criterion=gini, max_depth=46, max_features=log2, n_estimators=174\n",
      "[CV 3/10; 1/1] END criterion=gini, max_depth=46, max_features=log2, n_estimators=174;, score=0.879 total time=   3.3s\n",
      "[CV 5/10; 1/1] START criterion=gini, max_depth=32, max_features=sqrt, n_estimators=111\n",
      "[CV 5/10; 1/1] END criterion=gini, max_depth=32, max_features=sqrt, n_estimators=111;, score=0.971 total time=   6.8s\n",
      "[CV 1/10; 1/1] START criterion=entropy, max_depth=54, max_features=sqrt, n_estimators=473\n",
      "[CV 1/10; 1/1] END criterion=entropy, max_depth=54, max_features=sqrt, n_estimators=473;, score=0.913 total time= 1.2min\n",
      "[CV 9/10; 1/1] START criterion=entropy, max_depth=54, max_features=sqrt, n_estimators=473\n",
      "[CV 9/10; 1/1] END criterion=entropy, max_depth=54, max_features=sqrt, n_estimators=473;, score=0.959 total time=  42.1s\n",
      "[CV 3/10; 1/1] START criterion=entropy, max_depth=27, max_features=log2, n_estimators=419\n",
      "[CV 3/10; 1/1] END criterion=entropy, max_depth=27, max_features=log2, n_estimators=419;, score=0.867 total time=  17.7s\n",
      "[CV 9/10; 1/1] START criterion=entropy, max_depth=27, max_features=log2, n_estimators=419\n",
      "[CV 9/10; 1/1] END criterion=entropy, max_depth=27, max_features=log2, n_estimators=419;, score=0.884 total time=  11.5s\n",
      "[CV 7/10; 1/1] START criterion=gini, max_depth=1, max_features=sqrt, n_estimators=500\n",
      "[CV 7/10; 1/1] END criterion=gini, max_depth=1, max_features=sqrt, n_estimators=500;, score=0.570 total time=   4.1s\n",
      "[CV 9/10; 1/1] START criterion=gini, max_depth=1, max_features=sqrt, n_estimators=500\n",
      "[CV 9/10; 1/1] END criterion=gini, max_depth=1, max_features=sqrt, n_estimators=500;, score=0.552 total time=   2.7s\n",
      "[CV 3/10; 1/1] START criterion=gini, max_depth=21, max_features=sqrt, n_estimators=100\n",
      "[CV 3/10; 1/1] END criterion=gini, max_depth=21, max_features=sqrt, n_estimators=100;, score=0.954 total time=   6.4s\n",
      "[CV 10/10; 1/1] START criterion=gini, max_depth=21, max_features=sqrt, n_estimators=100\n",
      "[CV 10/10; 1/1] END criterion=gini, max_depth=21, max_features=sqrt, n_estimators=100;, score=0.930 total time=   4.3s\n",
      "[CV 2/10; 1/1] START criterion=gini, max_depth=41, max_features=sqrt, n_estimators=100\n",
      "[CV 2/10; 1/1] END criterion=gini, max_depth=41, max_features=sqrt, n_estimators=100;, score=0.971 total time=   6.1s\n",
      "[CV 10/10; 1/1] START criterion=gini, max_depth=41, max_features=sqrt, n_estimators=100\n",
      "[CV 10/10; 1/1] END criterion=gini, max_depth=41, max_features=sqrt, n_estimators=100;, score=0.930 total time=   4.2s\n",
      "[CV 2/10; 1/1] START criterion=gini, max_depth=16, max_features=log2, n_estimators=500\n",
      "[CV 2/10; 1/1] END criterion=gini, max_depth=16, max_features=log2, n_estimators=500;, score=0.925 total time=   8.9s\n",
      "[CV 7/10; 1/1] START criterion=gini, max_depth=38, max_features=log2, n_estimators=500\n",
      "[CV 7/10; 1/1] END criterion=gini, max_depth=38, max_features=log2, n_estimators=500;, score=0.901 total time=  12.1s\n",
      "[CV 1/10; 1/1] START criterion=entropy, max_depth=18, max_features=sqrt, n_estimators=500\n",
      "[CV 1/10; 1/1] END criterion=entropy, max_depth=18, max_features=sqrt, n_estimators=500;, score=0.908 total time= 1.5min\n",
      "[CV 9/10; 1/1] START criterion=entropy, max_depth=18, max_features=sqrt, n_estimators=500\n",
      "[CV 9/10; 1/1] END criterion=entropy, max_depth=18, max_features=sqrt, n_estimators=500;, score=0.965 total time=  47.1s\n",
      "[CV 2/10; 1/1] START criterion=gini, max_depth=46, max_features=sqrt, n_estimators=500\n",
      "[CV 2/10; 1/1] END criterion=gini, max_depth=46, max_features=sqrt, n_estimators=500;, score=0.983 total time=  37.4s\n",
      "[CV 1/10; 1/1] START criterion=gini, max_depth=60, max_features=log2, n_estimators=500\n",
      "[CV 1/10; 1/1] END criterion=gini, max_depth=60, max_features=log2, n_estimators=500;, score=0.844 total time=  10.3s\n",
      "[CV 10/10; 1/1] START criterion=gini, max_depth=60, max_features=log2, n_estimators=500\n",
      "[CV 10/10; 1/1] END criterion=gini, max_depth=60, max_features=log2, n_estimators=500;, score=0.843 total time=   6.6s\n",
      "[CV 4/10; 1/1] START criterion=gini, max_depth=27, max_features=sqrt, n_estimators=500\n",
      "[CV 4/10; 1/1] END criterion=gini, max_depth=27, max_features=sqrt, n_estimators=500;, score=0.948 total time=  41.1s\n",
      "[CV 1/10; 1/1] START criterion=gini, max_depth=16, max_features=sqrt, n_estimators=500\n",
      "[CV 1/10; 1/1] END criterion=gini, max_depth=16, max_features=sqrt, n_estimators=500;, score=0.908 total time=  37.1s\n",
      "[CV 9/10; 1/1] START criterion=gini, max_depth=16, max_features=sqrt, n_estimators=500\n",
      "[CV 9/10; 1/1] END criterion=gini, max_depth=16, max_features=sqrt, n_estimators=500;, score=0.959 total time=  21.0s\n",
      "[CV 5/10; 1/1] START criterion=gini, max_depth=50, max_features=sqrt, n_estimators=500\n",
      "[CV 5/10; 1/1] END criterion=gini, max_depth=50, max_features=sqrt, n_estimators=500;, score=0.959 total time=  40.3s\n",
      "[CV 4/10; 1/1] START criterion=gini, max_depth=37, max_features=sqrt, n_estimators=500\n",
      "[CV 4/10; 1/1] END criterion=gini, max_depth=37, max_features=sqrt, n_estimators=500;, score=0.954 total time=  33.2s\n",
      "[CV 1/10; 1/1] START criterion=gini, max_depth=55, max_features=sqrt, n_estimators=500\n",
      "[CV 1/10; 1/1] END criterion=gini, max_depth=55, max_features=sqrt, n_estimators=500;, score=0.908 total time=  38.3s\n",
      "[CV 9/10; 1/1] START criterion=gini, max_depth=55, max_features=sqrt, n_estimators=500\n",
      "[CV 9/10; 1/1] END criterion=gini, max_depth=55, max_features=sqrt, n_estimators=500;, score=0.959 total time=  21.9s\n",
      "[CV 5/10; 1/1] START criterion=gini, max_depth=25, max_features=sqrt, n_estimators=100\n",
      "[CV 5/10; 1/1] END criterion=gini, max_depth=25, max_features=sqrt, n_estimators=100;, score=0.959 total time=   7.1s\n",
      "[CV 5/10; 1/1] START criterion=entropy, max_depth=28, max_features=sqrt, n_estimators=100\n",
      "[CV 5/10; 1/1] END criterion=entropy, max_depth=28, max_features=sqrt, n_estimators=100;, score=0.948 total time=  17.1s\n",
      "[CV 1/10; 1/1] START criterion=gini, max_depth=53, max_features=sqrt, n_estimators=100\n",
      "[CV 1/10; 1/1] END criterion=gini, max_depth=53, max_features=sqrt, n_estimators=100;, score=0.908 total time=   7.1s\n",
      "[CV 9/10; 1/1] START criterion=gini, max_depth=53, max_features=sqrt, n_estimators=100\n",
      "[CV 9/10; 1/1] END criterion=gini, max_depth=53, max_features=sqrt, n_estimators=100;, score=0.965 total time=   4.5s\n",
      "[CV 3/10; 1/1] START criterion=gini, max_depth=60, max_features=sqrt, n_estimators=473\n",
      "[CV 3/10; 1/1] END criterion=gini, max_depth=60, max_features=sqrt, n_estimators=473;, score=0.954 total time=  37.3s\n",
      "[CV 1/10; 1/1] START criterion=gini, max_depth=17, max_features=sqrt, n_estimators=113\n",
      "[CV 1/10; 1/1] END criterion=gini, max_depth=17, max_features=sqrt, n_estimators=113;, score=0.908 total time=   8.6s\n",
      "[CV 9/10; 1/1] START criterion=gini, max_depth=17, max_features=sqrt, n_estimators=113\n",
      "[CV 9/10; 1/1] END criterion=gini, max_depth=17, max_features=sqrt, n_estimators=113;, score=0.971 total time=   4.6s\n",
      "[CV 2/10; 1/1] START criterion=gini, max_depth=54, max_features=log2, n_estimators=480\n",
      "[CV 2/10; 1/1] END criterion=gini, max_depth=54, max_features=log2, n_estimators=480;, score=0.931 total time=  11.9s\n",
      "[CV 1/10; 1/1] START criterion=entropy, max_depth=40, max_features=sqrt, n_estimators=499\n",
      "[CV 1/10; 1/1] END criterion=entropy, max_depth=40, max_features=sqrt, n_estimators=499;, score=0.908 total time= 1.4min\n",
      "[CV 9/10; 1/1] START criterion=entropy, max_depth=40, max_features=sqrt, n_estimators=499\n",
      "[CV 9/10; 1/1] END criterion=entropy, max_depth=40, max_features=sqrt, n_estimators=499;, score=0.959 total time=  43.4s\n",
      "[CV 4/10; 1/1] START criterion=gini, max_depth=12, max_features=sqrt, n_estimators=103\n",
      "[CV 4/10; 1/1] END criterion=gini, max_depth=12, max_features=sqrt, n_estimators=103;, score=0.948 total time=   6.0s\n",
      "[CV 9/10; 1/1] START criterion=gini, max_depth=12, max_features=sqrt, n_estimators=103\n",
      "[CV 9/10; 1/1] END criterion=gini, max_depth=12, max_features=sqrt, n_estimators=103;, score=0.959 total time=   3.9s\n",
      "[CV 6/10; 1/1] START criterion=gini, max_depth=39, max_features=sqrt, n_estimators=500\n",
      "[CV 6/10; 1/1] END criterion=gini, max_depth=39, max_features=sqrt, n_estimators=500;, score=0.948 total time=  36.6s\n",
      "[CV 10/10; 1/1] START criterion=gini, max_depth=39, max_features=sqrt, n_estimators=500\n",
      "[CV 10/10; 1/1] END criterion=gini, max_depth=39, max_features=sqrt, n_estimators=500;, score=0.930 total time=  20.1s\n",
      "[CV 4/10; 1/1] START criterion=entropy, max_depth=11, max_features=log2, n_estimators=111\n",
      "[CV 4/10; 1/1] END criterion=entropy, max_depth=11, max_features=log2, n_estimators=111;, score=0.827 total time=   4.3s\n",
      "[CV 9/10; 1/1] START criterion=entropy, max_depth=11, max_features=log2, n_estimators=111\n",
      "[CV 9/10; 1/1] END criterion=entropy, max_depth=11, max_features=log2, n_estimators=111;, score=0.843 total time=   2.6s\n",
      "[CV 4/10; 1/1] START criterion=gini, max_depth=34, max_features=sqrt, n_estimators=496\n",
      "[CV 4/10; 1/1] END criterion=gini, max_depth=34, max_features=sqrt, n_estimators=496;, score=0.954 total time=  35.7s\n",
      "[CV 1/10; 1/1] START criterion=gini, max_depth=32, max_features=log2, n_estimators=101\n",
      "[CV 1/10; 1/1] END criterion=gini, max_depth=32, max_features=log2, n_estimators=101;, score=0.861 total time=   2.1s\n",
      "[CV 9/10; 1/1] START criterion=gini, max_depth=32, max_features=log2, n_estimators=101\n",
      "[CV 9/10; 1/1] END criterion=gini, max_depth=32, max_features=log2, n_estimators=101;, score=0.907 total time=   1.2s\n",
      "[CV 6/10; 1/1] START criterion=gini, max_depth=43, max_features=sqrt, n_estimators=496\n",
      "[CV 6/10; 1/1] END criterion=gini, max_depth=43, max_features=sqrt, n_estimators=496;, score=0.948 total time=  36.4s\n",
      "[CV 7/10; 1/1] START criterion=gini, max_depth=24, max_features=sqrt, n_estimators=497\n",
      "[CV 7/10; 1/1] END criterion=gini, max_depth=24, max_features=sqrt, n_estimators=497;, score=0.959 total time=  35.0s\n",
      "[CV 10/10; 1/1] START criterion=gini, max_depth=24, max_features=sqrt, n_estimators=497\n",
      "[CV 10/10; 1/1] END criterion=gini, max_depth=24, max_features=sqrt, n_estimators=497;, score=0.930 total time=  19.8s\n",
      "[CV 3/10; 1/1] START criterion=gini, max_depth=48, max_features=sqrt, n_estimators=102\n",
      "[CV 3/10; 1/1] END criterion=gini, max_depth=48, max_features=sqrt, n_estimators=102;, score=0.954 total time=   8.1s\n",
      "[CV 10/10; 1/1] START criterion=gini, max_depth=48, max_features=sqrt, n_estimators=102\n",
      "[CV 10/10; 1/1] END criterion=gini, max_depth=48, max_features=sqrt, n_estimators=102;, score=0.913 total time=   4.1s\n",
      "[CV 2/10; 1/1] START criterion=gini, max_depth=22, max_features=log2, n_estimators=112\n",
      "[CV 2/10; 1/1] END criterion=gini, max_depth=22, max_features=log2, n_estimators=112;, score=0.931 total time=   2.5s\n",
      "[CV 1/10; 1/1] START criterion=gini, max_depth=36, max_features=sqrt, n_estimators=124\n",
      "[CV 1/10; 1/1] END criterion=gini, max_depth=36, max_features=sqrt, n_estimators=124;, score=0.908 total time=   8.9s\n",
      "[CV 9/10; 1/1] START criterion=gini, max_depth=36, max_features=sqrt, n_estimators=124\n",
      "[CV 9/10; 1/1] END criterion=gini, max_depth=36, max_features=sqrt, n_estimators=124;, score=0.977 total time=   4.9s\n",
      "[CV 6/10; 1/1] START criterion=gini, max_depth=37, max_features=sqrt, n_estimators=100\n",
      "[CV 6/10; 1/1] END criterion=gini, max_depth=37, max_features=sqrt, n_estimators=100;, score=0.953 total time=   7.2s\n",
      "[CV 3/10; 1/1] START criterion=gini, max_depth=57, max_features=sqrt, n_estimators=495\n",
      "[CV 3/10; 1/1] END criterion=gini, max_depth=57, max_features=sqrt, n_estimators=495;, score=0.948 total time=  34.7s\n",
      "[CV 10/10; 1/1] START criterion=gini, max_depth=57, max_features=sqrt, n_estimators=495\n",
      "[CV 10/10; 1/1] END criterion=gini, max_depth=57, max_features=sqrt, n_estimators=495;, score=0.936 total time=  19.3s\n",
      "[CV 5/10; 1/1] START criterion=entropy, max_depth=48, max_features=sqrt, n_estimators=488\n",
      "[CV 5/10; 1/1] END criterion=entropy, max_depth=48, max_features=sqrt, n_estimators=488;, score=0.953 total time= 1.8min\n",
      "[CV 6/10; 1/1] START criterion=gini, max_depth=29, max_features=sqrt, n_estimators=100\n",
      "[CV 6/10; 1/1] END criterion=gini, max_depth=29, max_features=sqrt, n_estimators=100;, score=0.942 total time=   7.4s\n",
      "[CV 8/10; 1/1] START criterion=gini, max_depth=60, max_features=sqrt, n_estimators=113\n",
      "[CV 8/10; 1/1] END criterion=gini, max_depth=60, max_features=sqrt, n_estimators=113;, score=0.959 total time=   8.5s\n",
      "[CV 3/10; 1/1] START criterion=gini, max_depth=49, max_features=sqrt, n_estimators=500\n",
      "[CV 3/10; 1/1] END criterion=gini, max_depth=49, max_features=sqrt, n_estimators=500;, score=0.960 total time=  36.1s\n",
      "[CV 9/10; 1/1] START criterion=gini, max_depth=49, max_features=sqrt, n_estimators=500\n",
      "[CV 9/10; 1/1] END criterion=gini, max_depth=49, max_features=sqrt, n_estimators=500;, score=0.965 total time=  20.2s\n",
      "[CV 3/10; 1/1] START criterion=gini, max_depth=45, max_features=sqrt, n_estimators=108\n",
      "[CV 3/10; 1/1] END criterion=gini, max_depth=45, max_features=sqrt, n_estimators=108;, score=0.954 total time=   8.6s\n",
      "[CV 10/10; 1/1] START criterion=gini, max_depth=45, max_features=sqrt, n_estimators=108\n",
      "[CV 10/10; 1/1] END criterion=gini, max_depth=45, max_features=sqrt, n_estimators=108;, score=0.924 total time=   4.5s\n",
      "[CV 6/10; 1/1] START criterion=gini, max_depth=30, max_features=sqrt, n_estimators=495\n",
      "[CV 6/10; 1/1] END criterion=gini, max_depth=30, max_features=sqrt, n_estimators=495;, score=0.948 total time=  38.7s\n",
      "[CV 9/10; 1/1] START criterion=gini, max_depth=30, max_features=sqrt, n_estimators=495\n",
      "[CV 9/10; 1/1] END criterion=gini, max_depth=30, max_features=sqrt, n_estimators=495;, score=0.965 total time=  21.1s\n",
      "[CV 2/10; 1/1] START criterion=gini, max_depth=52, max_features=sqrt, n_estimators=499\n",
      "[CV 2/10; 1/1] END criterion=gini, max_depth=52, max_features=sqrt, n_estimators=499;, score=0.988 total time=  38.1s\n",
      "[CV 10/10; 1/1] START criterion=gini, max_depth=52, max_features=sqrt, n_estimators=499\n",
      "[CV 10/10; 1/1] END criterion=gini, max_depth=52, max_features=sqrt, n_estimators=499;, score=0.913 total time=  20.2s\n",
      "[CV 5/10; 1/1] START criterion=entropy, max_depth=60, max_features=sqrt, n_estimators=491\n",
      "[CV 5/10; 1/1] END criterion=entropy, max_depth=60, max_features=sqrt, n_estimators=491;, score=0.959 total time= 1.3min\n"
     ]
    },
    {
     "name": "stdout",
     "output_type": "stream",
     "text": [
      "[CV 6/10; 1/1] START criterion=gini, max_depth=41, max_features=sqrt, n_estimators=359\n",
      "[CV 6/10; 1/1] END criterion=gini, max_depth=41, max_features=sqrt, n_estimators=359;, score=0.948 total time=  18.8s\n",
      "[CV 1/10; 1/1] START criterion=entropy, max_depth=59, max_features=sqrt, n_estimators=340\n",
      "[CV 1/10; 1/1] END criterion=entropy, max_depth=59, max_features=sqrt, n_estimators=340;, score=0.913 total time=  44.4s\n",
      "[CV 1/10; 1/1] START criterion=gini, max_depth=4, max_features=log2, n_estimators=177\n",
      "[CV 1/10; 1/1] END criterion=gini, max_depth=4, max_features=log2, n_estimators=177;, score=0.734 total time=   1.2s\n",
      "[CV 9/10; 1/1] START criterion=gini, max_depth=4, max_features=log2, n_estimators=177\n",
      "[CV 9/10; 1/1] END criterion=gini, max_depth=4, max_features=log2, n_estimators=177;, score=0.744 total time=   0.8s\n",
      "[CV 3/10; 1/1] START criterion=entropy, max_depth=47, max_features=log2, n_estimators=282\n",
      "[CV 3/10; 1/1] END criterion=entropy, max_depth=47, max_features=log2, n_estimators=282;, score=0.861 total time=  11.5s\n",
      "[CV 9/10; 1/1] START criterion=entropy, max_depth=47, max_features=log2, n_estimators=282\n",
      "[CV 9/10; 1/1] END criterion=entropy, max_depth=47, max_features=log2, n_estimators=282;, score=0.890 total time=   7.4s\n",
      "[CV 2/10; 1/1] START criterion=entropy, max_depth=15, max_features=sqrt, n_estimators=214\n",
      "[CV 2/10; 1/1] END criterion=entropy, max_depth=15, max_features=sqrt, n_estimators=214;, score=0.960 total time=  30.4s\n",
      "[CV 2/10; 1/1] START criterion=gini, max_depth=59, max_features=sqrt, n_estimators=294\n",
      "[CV 2/10; 1/1] END criterion=gini, max_depth=59, max_features=sqrt, n_estimators=294;, score=0.977 total time=  17.8s\n",
      "[CV 10/10; 1/1] START criterion=gini, max_depth=59, max_features=sqrt, n_estimators=294\n",
      "[CV 10/10; 1/1] END criterion=gini, max_depth=59, max_features=sqrt, n_estimators=294;, score=0.919 total time=  11.5s\n",
      "[CV 6/10; 1/1] START criterion=gini, max_depth=46, max_features=log2, n_estimators=174\n",
      "[CV 6/10; 1/1] END criterion=gini, max_depth=46, max_features=log2, n_estimators=174;, score=0.901 total time=   3.2s\n",
      "[CV 6/10; 1/1] START criterion=gini, max_depth=32, max_features=sqrt, n_estimators=111\n",
      "[CV 6/10; 1/1] END criterion=gini, max_depth=32, max_features=sqrt, n_estimators=111;, score=0.948 total time=   6.8s\n",
      "[CV 6/10; 1/1] START criterion=entropy, max_depth=54, max_features=sqrt, n_estimators=473\n",
      "[CV 6/10; 1/1] END criterion=entropy, max_depth=54, max_features=sqrt, n_estimators=473;, score=0.936 total time= 1.2min\n",
      "[CV 1/10; 1/1] START criterion=entropy, max_depth=27, max_features=log2, n_estimators=419\n",
      "[CV 1/10; 1/1] END criterion=entropy, max_depth=27, max_features=log2, n_estimators=419;, score=0.832 total time=  17.8s\n",
      "[CV 10/10; 1/1] START criterion=entropy, max_depth=27, max_features=log2, n_estimators=419\n",
      "[CV 10/10; 1/1] END criterion=entropy, max_depth=27, max_features=log2, n_estimators=419;, score=0.808 total time=  11.1s\n",
      "[CV 2/10; 1/1] START criterion=gini, max_depth=1, max_features=sqrt, n_estimators=500\n",
      "[CV 2/10; 1/1] END criterion=gini, max_depth=1, max_features=sqrt, n_estimators=500;, score=0.561 total time=   4.2s\n",
      "[CV 4/10; 1/1] START criterion=gini, max_depth=21, max_features=sqrt, n_estimators=100\n",
      "[CV 4/10; 1/1] END criterion=gini, max_depth=21, max_features=sqrt, n_estimators=100;, score=0.954 total time=   6.5s\n",
      "[CV 4/10; 1/1] START criterion=gini, max_depth=41, max_features=sqrt, n_estimators=100\n",
      "[CV 4/10; 1/1] END criterion=gini, max_depth=41, max_features=sqrt, n_estimators=100;, score=0.960 total time=   6.3s\n",
      "[CV 7/10; 1/1] START criterion=gini, max_depth=16, max_features=log2, n_estimators=500\n",
      "[CV 7/10; 1/1] END criterion=gini, max_depth=16, max_features=log2, n_estimators=500;, score=0.890 total time=   8.8s\n",
      "[CV 1/10; 1/1] START criterion=gini, max_depth=38, max_features=log2, n_estimators=500\n",
      "[CV 1/10; 1/1] END criterion=gini, max_depth=38, max_features=log2, n_estimators=500;, score=0.838 total time=  12.0s\n",
      "[CV 9/10; 1/1] START criterion=gini, max_depth=38, max_features=log2, n_estimators=500\n",
      "[CV 9/10; 1/1] END criterion=gini, max_depth=38, max_features=log2, n_estimators=500;, score=0.901 total time=   6.6s\n",
      "[CV 6/10; 1/1] START criterion=entropy, max_depth=18, max_features=sqrt, n_estimators=500\n",
      "[CV 6/10; 1/1] END criterion=entropy, max_depth=18, max_features=sqrt, n_estimators=500;, score=0.942 total time= 1.5min\n",
      "[CV 3/10; 1/1] START criterion=gini, max_depth=46, max_features=sqrt, n_estimators=500\n",
      "[CV 3/10; 1/1] END criterion=gini, max_depth=46, max_features=sqrt, n_estimators=500;, score=0.954 total time=  37.2s\n",
      "[CV 10/10; 1/1] START criterion=gini, max_depth=46, max_features=sqrt, n_estimators=500\n",
      "[CV 10/10; 1/1] END criterion=gini, max_depth=46, max_features=sqrt, n_estimators=500;, score=0.924 total time=  21.6s\n",
      "[CV 7/10; 1/1] START criterion=gini, max_depth=60, max_features=log2, n_estimators=500\n",
      "[CV 7/10; 1/1] END criterion=gini, max_depth=60, max_features=log2, n_estimators=500;, score=0.901 total time=  10.4s\n",
      "[CV 7/10; 1/1] START criterion=gini, max_depth=27, max_features=sqrt, n_estimators=500\n",
      "[CV 7/10; 1/1] END criterion=gini, max_depth=27, max_features=sqrt, n_estimators=500;, score=0.959 total time=  40.6s\n",
      "[CV 9/10; 1/1] START criterion=gini, max_depth=27, max_features=sqrt, n_estimators=500\n",
      "[CV 9/10; 1/1] END criterion=gini, max_depth=27, max_features=sqrt, n_estimators=500;, score=0.971 total time=  22.6s\n",
      "[CV 2/10; 1/1] START criterion=gini, max_depth=16, max_features=sqrt, n_estimators=500\n",
      "[CV 2/10; 1/1] END criterion=gini, max_depth=16, max_features=sqrt, n_estimators=500;, score=0.971 total time=  37.8s\n",
      "[CV 4/10; 1/1] START criterion=gini, max_depth=50, max_features=sqrt, n_estimators=500\n",
      "[CV 4/10; 1/1] END criterion=gini, max_depth=50, max_features=sqrt, n_estimators=500;, score=0.954 total time=  39.4s\n",
      "[CV 9/10; 1/1] START criterion=gini, max_depth=50, max_features=sqrt, n_estimators=500\n",
      "[CV 9/10; 1/1] END criterion=gini, max_depth=50, max_features=sqrt, n_estimators=500;, score=0.971 total time=  22.0s\n",
      "[CV 2/10; 1/1] START criterion=gini, max_depth=37, max_features=sqrt, n_estimators=500\n",
      "[CV 2/10; 1/1] END criterion=gini, max_depth=37, max_features=sqrt, n_estimators=500;, score=0.977 total time=  33.5s\n",
      "[CV 8/10; 1/1] START criterion=gini, max_depth=55, max_features=sqrt, n_estimators=500\n",
      "[CV 8/10; 1/1] END criterion=gini, max_depth=55, max_features=sqrt, n_estimators=500;, score=0.971 total time=  39.5s\n",
      "[CV 6/10; 1/1] START criterion=gini, max_depth=25, max_features=sqrt, n_estimators=100\n",
      "[CV 6/10; 1/1] END criterion=gini, max_depth=25, max_features=sqrt, n_estimators=100;, score=0.959 total time=   7.0s\n",
      "[CV 3/10; 1/1] START criterion=entropy, max_depth=28, max_features=sqrt, n_estimators=100\n",
      "[CV 3/10; 1/1] END criterion=entropy, max_depth=28, max_features=sqrt, n_estimators=100;, score=0.942 total time=  16.9s\n",
      "[CV 9/10; 1/1] START criterion=entropy, max_depth=28, max_features=sqrt, n_estimators=100\n",
      "[CV 9/10; 1/1] END criterion=entropy, max_depth=28, max_features=sqrt, n_estimators=100;, score=0.953 total time=   9.6s\n",
      "[CV 4/10; 1/1] START criterion=gini, max_depth=53, max_features=sqrt, n_estimators=100\n",
      "[CV 4/10; 1/1] END criterion=gini, max_depth=53, max_features=sqrt, n_estimators=100;, score=0.936 total time=   7.4s\n",
      "[CV 6/10; 1/1] START criterion=gini, max_depth=60, max_features=sqrt, n_estimators=473\n",
      "[CV 6/10; 1/1] END criterion=gini, max_depth=60, max_features=sqrt, n_estimators=473;, score=0.948 total time=  38.2s\n",
      "[CV 5/10; 1/1] START criterion=gini, max_depth=17, max_features=sqrt, n_estimators=113\n",
      "[CV 5/10; 1/1] END criterion=gini, max_depth=17, max_features=sqrt, n_estimators=113;, score=0.959 total time=   8.7s\n",
      "[CV 4/10; 1/1] START criterion=gini, max_depth=54, max_features=log2, n_estimators=480\n",
      "[CV 4/10; 1/1] END criterion=gini, max_depth=54, max_features=log2, n_estimators=480;, score=0.902 total time=  12.0s\n",
      "[CV 8/10; 1/1] START criterion=entropy, max_depth=40, max_features=sqrt, n_estimators=499\n",
      "[CV 8/10; 1/1] END criterion=entropy, max_depth=40, max_features=sqrt, n_estimators=499;, score=0.953 total time= 1.4min\n",
      "[CV 5/10; 1/1] START criterion=gini, max_depth=12, max_features=sqrt, n_estimators=103\n",
      "[CV 5/10; 1/1] END criterion=gini, max_depth=12, max_features=sqrt, n_estimators=103;, score=0.942 total time=   6.3s\n",
      "[CV 8/10; 1/1] START criterion=gini, max_depth=39, max_features=sqrt, n_estimators=500\n",
      "[CV 8/10; 1/1] END criterion=gini, max_depth=39, max_features=sqrt, n_estimators=500;, score=0.971 total time=  37.2s\n",
      "[CV 3/10; 1/1] START criterion=entropy, max_depth=11, max_features=log2, n_estimators=111\n",
      "[CV 3/10; 1/1] END criterion=entropy, max_depth=11, max_features=log2, n_estimators=111;, score=0.821 total time=   4.4s\n",
      "[CV 10/10; 1/1] START criterion=entropy, max_depth=11, max_features=log2, n_estimators=111\n",
      "[CV 10/10; 1/1] END criterion=entropy, max_depth=11, max_features=log2, n_estimators=111;, score=0.808 total time=   2.6s\n",
      "[CV 3/10; 1/1] START criterion=gini, max_depth=34, max_features=sqrt, n_estimators=496\n",
      "[CV 3/10; 1/1] END criterion=gini, max_depth=34, max_features=sqrt, n_estimators=496;, score=0.954 total time=  35.8s\n",
      "[CV 7/10; 1/1] START criterion=gini, max_depth=32, max_features=log2, n_estimators=101\n",
      "[CV 7/10; 1/1] END criterion=gini, max_depth=32, max_features=log2, n_estimators=101;, score=0.907 total time=   2.1s\n",
      "[CV 10/10; 1/1] START criterion=gini, max_depth=32, max_features=log2, n_estimators=101\n",
      "[CV 10/10; 1/1] END criterion=gini, max_depth=32, max_features=log2, n_estimators=101;, score=0.860 total time=   1.2s\n",
      "[CV 5/10; 1/1] START criterion=gini, max_depth=43, max_features=sqrt, n_estimators=496\n",
      "[CV 5/10; 1/1] END criterion=gini, max_depth=43, max_features=sqrt, n_estimators=496;, score=0.965 total time=  36.4s\n",
      "[CV 1/10; 1/1] START criterion=gini, max_depth=24, max_features=sqrt, n_estimators=497\n",
      "[CV 1/10; 1/1] END criterion=gini, max_depth=24, max_features=sqrt, n_estimators=497;, score=0.908 total time=  34.6s\n",
      "[CV 9/10; 1/1] START criterion=gini, max_depth=24, max_features=sqrt, n_estimators=497\n",
      "[CV 9/10; 1/1] END criterion=gini, max_depth=24, max_features=sqrt, n_estimators=497;, score=0.965 total time=  20.2s\n",
      "[CV 6/10; 1/1] START criterion=gini, max_depth=48, max_features=sqrt, n_estimators=102\n",
      "[CV 6/10; 1/1] END criterion=gini, max_depth=48, max_features=sqrt, n_estimators=102;, score=0.930 total time=   8.2s\n",
      "[CV 1/10; 1/1] START criterion=gini, max_depth=22, max_features=log2, n_estimators=112\n",
      "[CV 1/10; 1/1] END criterion=gini, max_depth=22, max_features=log2, n_estimators=112;, score=0.838 total time=   2.4s\n",
      "[CV 9/10; 1/1] START criterion=gini, max_depth=22, max_features=log2, n_estimators=112\n",
      "[CV 9/10; 1/1] END criterion=gini, max_depth=22, max_features=log2, n_estimators=112;, score=0.913 total time=   1.4s\n",
      "[CV 2/10; 1/1] START criterion=gini, max_depth=36, max_features=sqrt, n_estimators=124\n",
      "[CV 2/10; 1/1] END criterion=gini, max_depth=36, max_features=sqrt, n_estimators=124;, score=0.965 total time=   9.0s\n",
      "[CV 8/10; 1/1] START criterion=gini, max_depth=37, max_features=sqrt, n_estimators=100\n",
      "[CV 8/10; 1/1] END criterion=gini, max_depth=37, max_features=sqrt, n_estimators=100;, score=0.959 total time=   7.4s\n",
      "[CV 7/10; 1/1] START criterion=gini, max_depth=57, max_features=sqrt, n_estimators=495\n",
      "[CV 7/10; 1/1] END criterion=gini, max_depth=57, max_features=sqrt, n_estimators=495;, score=0.965 total time=  34.3s\n",
      "[CV 9/10; 1/1] START criterion=gini, max_depth=57, max_features=sqrt, n_estimators=495\n",
      "[CV 9/10; 1/1] END criterion=gini, max_depth=57, max_features=sqrt, n_estimators=495;, score=0.971 total time=  19.9s\n",
      "[CV 8/10; 1/1] START criterion=entropy, max_depth=48, max_features=sqrt, n_estimators=488\n",
      "[CV 8/10; 1/1] END criterion=entropy, max_depth=48, max_features=sqrt, n_estimators=488;, score=0.953 total time= 1.8min\n",
      "[CV 4/10; 1/1] START criterion=gini, max_depth=29, max_features=sqrt, n_estimators=100\n",
      "[CV 4/10; 1/1] END criterion=gini, max_depth=29, max_features=sqrt, n_estimators=100;, score=0.960 total time=   7.2s\n",
      "[CV 10/10; 1/1] START criterion=gini, max_depth=29, max_features=sqrt, n_estimators=100\n",
      "[CV 10/10; 1/1] END criterion=gini, max_depth=29, max_features=sqrt, n_estimators=100;, score=0.924 total time=   4.1s\n",
      "[CV 7/10; 1/1] START criterion=gini, max_depth=60, max_features=sqrt, n_estimators=113\n",
      "[CV 7/10; 1/1] END criterion=gini, max_depth=60, max_features=sqrt, n_estimators=113;, score=0.965 total time=   8.1s\n",
      "[CV 9/10; 1/1] START criterion=gini, max_depth=60, max_features=sqrt, n_estimators=113\n",
      "[CV 9/10; 1/1] END criterion=gini, max_depth=60, max_features=sqrt, n_estimators=113;, score=0.971 total time=   4.8s\n",
      "[CV 6/10; 1/1] START criterion=gini, max_depth=49, max_features=sqrt, n_estimators=500\n",
      "[CV 6/10; 1/1] END criterion=gini, max_depth=49, max_features=sqrt, n_estimators=500;, score=0.942 total time=  36.6s\n",
      "[CV 2/10; 1/1] START criterion=gini, max_depth=45, max_features=sqrt, n_estimators=108\n",
      "[CV 2/10; 1/1] END criterion=gini, max_depth=45, max_features=sqrt, n_estimators=108;, score=0.971 total time=   8.7s\n",
      "[CV 4/10; 1/1] START criterion=gini, max_depth=30, max_features=sqrt, n_estimators=495\n",
      "[CV 4/10; 1/1] END criterion=gini, max_depth=30, max_features=sqrt, n_estimators=495;, score=0.960 total time=  39.5s\n",
      "[CV 4/10; 1/1] START criterion=gini, max_depth=52, max_features=sqrt, n_estimators=499\n",
      "[CV 4/10; 1/1] END criterion=gini, max_depth=52, max_features=sqrt, n_estimators=499;, score=0.954 total time=  38.5s\n",
      "[CV 8/10; 1/1] START criterion=entropy, max_depth=60, max_features=sqrt, n_estimators=491\n",
      "[CV 8/10; 1/1] END criterion=entropy, max_depth=60, max_features=sqrt, n_estimators=491;, score=0.953 total time= 1.3min\n"
     ]
    },
    {
     "name": "stdout",
     "output_type": "stream",
     "text": [
      "[CV 2/10; 1/1] START criterion=gini, max_depth=41, max_features=sqrt, n_estimators=359\n",
      "[CV 2/10; 1/1] END criterion=gini, max_depth=41, max_features=sqrt, n_estimators=359;, score=0.977 total time=  19.2s\n",
      "[CV 7/10; 1/1] START criterion=entropy, max_depth=59, max_features=sqrt, n_estimators=340\n",
      "[CV 7/10; 1/1] END criterion=entropy, max_depth=59, max_features=sqrt, n_estimators=340;, score=0.959 total time=  44.8s\n",
      "[CV 7/10; 1/1] START criterion=gini, max_depth=4, max_features=log2, n_estimators=177\n",
      "[CV 7/10; 1/1] END criterion=gini, max_depth=4, max_features=log2, n_estimators=177;, score=0.634 total time=   1.2s\n",
      "[CV 6/10; 1/1] START criterion=entropy, max_depth=47, max_features=log2, n_estimators=282\n",
      "[CV 6/10; 1/1] END criterion=entropy, max_depth=47, max_features=log2, n_estimators=282;, score=0.884 total time=  11.7s\n",
      "[CV 5/10; 1/1] START criterion=entropy, max_depth=15, max_features=sqrt, n_estimators=214\n",
      "[CV 5/10; 1/1] END criterion=entropy, max_depth=15, max_features=sqrt, n_estimators=214;, score=0.965 total time=  31.0s\n",
      "[CV 8/10; 1/1] START criterion=gini, max_depth=59, max_features=sqrt, n_estimators=294\n",
      "[CV 8/10; 1/1] END criterion=gini, max_depth=59, max_features=sqrt, n_estimators=294;, score=0.959 total time=  18.5s\n",
      "[CV 7/10; 1/1] START criterion=gini, max_depth=46, max_features=log2, n_estimators=174\n",
      "[CV 7/10; 1/1] END criterion=gini, max_depth=46, max_features=log2, n_estimators=174;, score=0.884 total time=   3.2s\n",
      "[CV 7/10; 1/1] START criterion=gini, max_depth=32, max_features=sqrt, n_estimators=111\n",
      "[CV 7/10; 1/1] END criterion=gini, max_depth=32, max_features=sqrt, n_estimators=111;, score=0.959 total time=   6.9s\n",
      "[CV 4/10; 1/1] START criterion=entropy, max_depth=54, max_features=sqrt, n_estimators=473\n",
      "[CV 4/10; 1/1] END criterion=entropy, max_depth=54, max_features=sqrt, n_estimators=473;, score=0.948 total time= 1.2min\n",
      "[CV 5/10; 1/1] START criterion=entropy, max_depth=27, max_features=log2, n_estimators=419\n",
      "[CV 5/10; 1/1] END criterion=entropy, max_depth=27, max_features=log2, n_estimators=419;, score=0.895 total time=  18.5s\n",
      "[CV 8/10; 1/1] START criterion=gini, max_depth=1, max_features=sqrt, n_estimators=500\n",
      "[CV 8/10; 1/1] END criterion=gini, max_depth=1, max_features=sqrt, n_estimators=500;, score=0.564 total time=   4.2s\n",
      "[CV 5/10; 1/1] START criterion=gini, max_depth=21, max_features=sqrt, n_estimators=100\n",
      "[CV 5/10; 1/1] END criterion=gini, max_depth=21, max_features=sqrt, n_estimators=100;, score=0.959 total time=   6.6s\n",
      "[CV 6/10; 1/1] START criterion=gini, max_depth=41, max_features=sqrt, n_estimators=100\n",
      "[CV 6/10; 1/1] END criterion=gini, max_depth=41, max_features=sqrt, n_estimators=100;, score=0.948 total time=   6.3s\n",
      "[CV 8/10; 1/1] START criterion=gini, max_depth=16, max_features=log2, n_estimators=500\n",
      "[CV 8/10; 1/1] END criterion=gini, max_depth=16, max_features=log2, n_estimators=500;, score=0.901 total time=   9.0s\n",
      "[CV 2/10; 1/1] START criterion=gini, max_depth=38, max_features=log2, n_estimators=500\n",
      "[CV 2/10; 1/1] END criterion=gini, max_depth=38, max_features=log2, n_estimators=500;, score=0.925 total time=  12.4s\n",
      "[CV 5/10; 1/1] START criterion=entropy, max_depth=18, max_features=sqrt, n_estimators=500\n",
      "[CV 5/10; 1/1] END criterion=entropy, max_depth=18, max_features=sqrt, n_estimators=500;, score=0.953 total time= 1.5min\n",
      "[CV 5/10; 1/1] START criterion=gini, max_depth=46, max_features=sqrt, n_estimators=500\n",
      "[CV 5/10; 1/1] END criterion=gini, max_depth=46, max_features=sqrt, n_estimators=500;, score=0.959 total time=  37.8s\n",
      "[CV 4/10; 1/1] START criterion=gini, max_depth=60, max_features=log2, n_estimators=500\n",
      "[CV 4/10; 1/1] END criterion=gini, max_depth=60, max_features=log2, n_estimators=500;, score=0.896 total time=  10.4s\n",
      "[CV 5/10; 1/1] START criterion=gini, max_depth=27, max_features=sqrt, n_estimators=500\n",
      "[CV 5/10; 1/1] END criterion=gini, max_depth=27, max_features=sqrt, n_estimators=500;, score=0.971 total time=  41.9s\n",
      "[CV 8/10; 1/1] START criterion=gini, max_depth=16, max_features=sqrt, n_estimators=500\n",
      "[CV 8/10; 1/1] END criterion=gini, max_depth=16, max_features=sqrt, n_estimators=500;, score=0.965 total time=  38.6s\n",
      "[CV 6/10; 1/1] START criterion=gini, max_depth=50, max_features=sqrt, n_estimators=500\n",
      "[CV 6/10; 1/1] END criterion=gini, max_depth=50, max_features=sqrt, n_estimators=500;, score=0.959 total time=  40.6s\n",
      "[CV 8/10; 1/1] START criterion=gini, max_depth=37, max_features=sqrt, n_estimators=500\n",
      "[CV 8/10; 1/1] END criterion=gini, max_depth=37, max_features=sqrt, n_estimators=500;, score=0.977 total time=  34.0s\n",
      "[CV 5/10; 1/1] START criterion=gini, max_depth=55, max_features=sqrt, n_estimators=500\n",
      "[CV 5/10; 1/1] END criterion=gini, max_depth=55, max_features=sqrt, n_estimators=500;, score=0.965 total time=  39.9s\n",
      "[CV 3/10; 1/1] START criterion=gini, max_depth=25, max_features=sqrt, n_estimators=100\n",
      "[CV 3/10; 1/1] END criterion=gini, max_depth=25, max_features=sqrt, n_estimators=100;, score=0.942 total time=   7.2s\n",
      "[CV 8/10; 1/1] START criterion=entropy, max_depth=28, max_features=sqrt, n_estimators=100\n",
      "[CV 8/10; 1/1] END criterion=entropy, max_depth=28, max_features=sqrt, n_estimators=100;, score=0.948 total time=  17.6s\n",
      "[CV 3/10; 1/1] START criterion=gini, max_depth=53, max_features=sqrt, n_estimators=100\n",
      "[CV 3/10; 1/1] END criterion=gini, max_depth=53, max_features=sqrt, n_estimators=100;, score=0.936 total time=   7.5s\n",
      "[CV 4/10; 1/1] START criterion=gini, max_depth=60, max_features=sqrt, n_estimators=473\n",
      "[CV 4/10; 1/1] END criterion=gini, max_depth=60, max_features=sqrt, n_estimators=473;, score=0.948 total time=  38.6s\n",
      "[CV 6/10; 1/1] START criterion=gini, max_depth=17, max_features=sqrt, n_estimators=113\n",
      "[CV 6/10; 1/1] END criterion=gini, max_depth=17, max_features=sqrt, n_estimators=113;, score=0.948 total time=   8.9s\n",
      "[CV 8/10; 1/1] START criterion=gini, max_depth=54, max_features=log2, n_estimators=480\n",
      "[CV 8/10; 1/1] END criterion=gini, max_depth=54, max_features=log2, n_estimators=480;, score=0.913 total time=  12.2s\n",
      "[CV 7/10; 1/1] START criterion=entropy, max_depth=40, max_features=sqrt, n_estimators=499\n",
      "[CV 7/10; 1/1] END criterion=entropy, max_depth=40, max_features=sqrt, n_estimators=499;, score=0.948 total time= 1.4min\n",
      "[CV 2/10; 1/1] START criterion=gini, max_depth=12, max_features=sqrt, n_estimators=103\n",
      "[CV 2/10; 1/1] END criterion=gini, max_depth=12, max_features=sqrt, n_estimators=103;, score=0.948 total time=   6.4s\n",
      "[CV 4/10; 1/1] START criterion=gini, max_depth=39, max_features=sqrt, n_estimators=500\n",
      "[CV 4/10; 1/1] END criterion=gini, max_depth=39, max_features=sqrt, n_estimators=500;, score=0.948 total time=  37.6s\n",
      "[CV 8/10; 1/1] START criterion=entropy, max_depth=11, max_features=log2, n_estimators=111\n",
      "[CV 8/10; 1/1] END criterion=entropy, max_depth=11, max_features=log2, n_estimators=111;, score=0.872 total time=   4.5s\n",
      "[CV 5/10; 1/1] START criterion=gini, max_depth=34, max_features=sqrt, n_estimators=496\n",
      "[CV 5/10; 1/1] END criterion=gini, max_depth=34, max_features=sqrt, n_estimators=496;, score=0.959 total time=  36.8s\n",
      "[CV 3/10; 1/1] START criterion=gini, max_depth=32, max_features=log2, n_estimators=101\n",
      "[CV 3/10; 1/1] END criterion=gini, max_depth=32, max_features=log2, n_estimators=101;, score=0.879 total time=   2.1s\n",
      "[CV 7/10; 1/1] START criterion=gini, max_depth=43, max_features=sqrt, n_estimators=496\n",
      "[CV 7/10; 1/1] END criterion=gini, max_depth=43, max_features=sqrt, n_estimators=496;, score=0.965 total time=  36.5s\n",
      "[CV 2/10; 1/1] START criterion=gini, max_depth=24, max_features=sqrt, n_estimators=497\n",
      "[CV 2/10; 1/1] END criterion=gini, max_depth=24, max_features=sqrt, n_estimators=497;, score=0.971 total time=  36.1s\n",
      "[CV 7/10; 1/1] START criterion=gini, max_depth=48, max_features=sqrt, n_estimators=102\n",
      "[CV 7/10; 1/1] END criterion=gini, max_depth=48, max_features=sqrt, n_estimators=102;, score=0.965 total time=   8.3s\n",
      "[CV 8/10; 1/1] START criterion=gini, max_depth=22, max_features=log2, n_estimators=112\n",
      "[CV 8/10; 1/1] END criterion=gini, max_depth=22, max_features=log2, n_estimators=112;, score=0.924 total time=   2.5s\n",
      "[CV 8/10; 1/1] START criterion=gini, max_depth=36, max_features=sqrt, n_estimators=124\n",
      "[CV 8/10; 1/1] END criterion=gini, max_depth=36, max_features=sqrt, n_estimators=124;, score=0.971 total time=   9.3s\n",
      "[CV 4/10; 1/1] START criterion=gini, max_depth=37, max_features=sqrt, n_estimators=100\n",
      "[CV 4/10; 1/1] END criterion=gini, max_depth=37, max_features=sqrt, n_estimators=100;, score=0.942 total time=   7.3s\n",
      "[CV 5/10; 1/1] START criterion=gini, max_depth=57, max_features=sqrt, n_estimators=495\n",
      "[CV 5/10; 1/1] END criterion=gini, max_depth=57, max_features=sqrt, n_estimators=495;, score=0.965 total time=  35.8s\n",
      "[CV 7/10; 1/1] START criterion=entropy, max_depth=48, max_features=sqrt, n_estimators=488\n",
      "[CV 7/10; 1/1] END criterion=entropy, max_depth=48, max_features=sqrt, n_estimators=488;, score=0.959 total time= 1.8min\n",
      "[CV 8/10; 1/1] START criterion=gini, max_depth=29, max_features=sqrt, n_estimators=100\n",
      "[CV 8/10; 1/1] END criterion=gini, max_depth=29, max_features=sqrt, n_estimators=100;, score=0.977 total time=   7.3s\n",
      "[CV 1/10; 1/1] START criterion=gini, max_depth=60, max_features=sqrt, n_estimators=113\n",
      "[CV 1/10; 1/1] END criterion=gini, max_depth=60, max_features=sqrt, n_estimators=113;, score=0.902 total time=   8.5s\n",
      "[CV 5/10; 1/1] START criterion=gini, max_depth=49, max_features=sqrt, n_estimators=500\n",
      "[CV 5/10; 1/1] END criterion=gini, max_depth=49, max_features=sqrt, n_estimators=500;, score=0.971 total time=  37.6s\n",
      "[CV 6/10; 1/1] START criterion=gini, max_depth=45, max_features=sqrt, n_estimators=108\n",
      "[CV 6/10; 1/1] END criterion=gini, max_depth=45, max_features=sqrt, n_estimators=108;, score=0.930 total time=   8.9s\n",
      "[CV 8/10; 1/1] START criterion=gini, max_depth=30, max_features=sqrt, n_estimators=495\n",
      "[CV 8/10; 1/1] END criterion=gini, max_depth=30, max_features=sqrt, n_estimators=495;, score=0.965 total time=  40.1s\n",
      "[CV 8/10; 1/1] START criterion=gini, max_depth=52, max_features=sqrt, n_estimators=499\n",
      "[CV 8/10; 1/1] END criterion=gini, max_depth=52, max_features=sqrt, n_estimators=499;, score=0.977 total time=  39.4s\n",
      "[CV 6/10; 1/1] START criterion=entropy, max_depth=60, max_features=sqrt, n_estimators=491\n",
      "[CV 6/10; 1/1] END criterion=entropy, max_depth=60, max_features=sqrt, n_estimators=491;, score=0.948 total time= 1.3min\n",
      "[CV 7/10; 1/1] START criterion=gini, max_depth=41, max_features=sqrt, n_estimators=359\n",
      "[CV 7/10; 1/1] END criterion=gini, max_depth=41, max_features=sqrt, n_estimators=359;, score=0.965 total time=  18.6s\n",
      "[CV 9/10; 1/1] START criterion=gini, max_depth=41, max_features=sqrt, n_estimators=359\n",
      "[CV 9/10; 1/1] END criterion=gini, max_depth=41, max_features=sqrt, n_estimators=359;, score=0.977 total time=  12.8s\n",
      "[CV 4/10; 1/1] START criterion=entropy, max_depth=59, max_features=sqrt, n_estimators=340\n",
      "[CV 4/10; 1/1] END criterion=entropy, max_depth=59, max_features=sqrt, n_estimators=340;, score=0.936 total time=  44.9s\n",
      "[CV 3/10; 1/1] START criterion=gini, max_depth=4, max_features=log2, n_estimators=177\n",
      "[CV 3/10; 1/1] END criterion=gini, max_depth=4, max_features=log2, n_estimators=177;, score=0.723 total time=   1.2s\n",
      "[CV 1/10; 1/1] START criterion=entropy, max_depth=47, max_features=log2, n_estimators=282\n",
      "[CV 1/10; 1/1] END criterion=entropy, max_depth=47, max_features=log2, n_estimators=282;, score=0.832 total time=  11.6s\n",
      "[CV 8/10; 1/1] START criterion=entropy, max_depth=15, max_features=sqrt, n_estimators=214\n",
      "[CV 8/10; 1/1] END criterion=entropy, max_depth=15, max_features=sqrt, n_estimators=214;, score=0.953 total time=  31.1s\n",
      "[CV 4/10; 1/1] START criterion=gini, max_depth=59, max_features=sqrt, n_estimators=294\n",
      "[CV 4/10; 1/1] END criterion=gini, max_depth=59, max_features=sqrt, n_estimators=294;, score=0.948 total time=  18.0s\n",
      "[CV 4/10; 1/1] START criterion=gini, max_depth=46, max_features=log2, n_estimators=174\n",
      "[CV 4/10; 1/1] END criterion=gini, max_depth=46, max_features=log2, n_estimators=174;, score=0.884 total time=   3.2s\n",
      "[CV 1/10; 1/1] START criterion=gini, max_depth=32, max_features=sqrt, n_estimators=111\n",
      "[CV 1/10; 1/1] END criterion=gini, max_depth=32, max_features=sqrt, n_estimators=111;, score=0.902 total time=   6.7s\n",
      "[CV 9/10; 1/1] START criterion=gini, max_depth=32, max_features=sqrt, n_estimators=111\n",
      "[CV 9/10; 1/1] END criterion=gini, max_depth=32, max_features=sqrt, n_estimators=111;, score=0.971 total time=   4.5s\n",
      "[CV 3/10; 1/1] START criterion=entropy, max_depth=54, max_features=sqrt, n_estimators=473\n",
      "[CV 3/10; 1/1] END criterion=entropy, max_depth=54, max_features=sqrt, n_estimators=473;, score=0.936 total time= 1.2min\n",
      "[CV 8/10; 1/1] START criterion=entropy, max_depth=27, max_features=log2, n_estimators=419\n",
      "[CV 8/10; 1/1] END criterion=entropy, max_depth=27, max_features=log2, n_estimators=419;, score=0.895 total time=  18.8s\n",
      "[CV 6/10; 1/1] START criterion=gini, max_depth=1, max_features=sqrt, n_estimators=500\n",
      "[CV 6/10; 1/1] END criterion=gini, max_depth=1, max_features=sqrt, n_estimators=500;, score=0.558 total time=   4.2s\n",
      "[CV 2/10; 1/1] START criterion=gini, max_depth=21, max_features=sqrt, n_estimators=100\n",
      "[CV 2/10; 1/1] END criterion=gini, max_depth=21, max_features=sqrt, n_estimators=100;, score=0.971 total time=   6.4s\n",
      "[CV 1/10; 1/1] START criterion=gini, max_depth=41, max_features=sqrt, n_estimators=100\n",
      "[CV 1/10; 1/1] END criterion=gini, max_depth=41, max_features=sqrt, n_estimators=100;, score=0.908 total time=   6.1s\n",
      "[CV 9/10; 1/1] START criterion=gini, max_depth=41, max_features=sqrt, n_estimators=100\n",
      "[CV 9/10; 1/1] END criterion=gini, max_depth=41, max_features=sqrt, n_estimators=100;, score=0.971 total time=   4.3s\n",
      "[CV 3/10; 1/1] START criterion=gini, max_depth=16, max_features=log2, n_estimators=500\n",
      "[CV 3/10; 1/1] END criterion=gini, max_depth=16, max_features=log2, n_estimators=500;, score=0.879 total time=   8.8s\n",
      "[CV 9/10; 1/1] START criterion=gini, max_depth=16, max_features=log2, n_estimators=500\n",
      "[CV 9/10; 1/1] END criterion=gini, max_depth=16, max_features=log2, n_estimators=500;, score=0.872 total time=   6.1s\n",
      "[CV 3/10; 1/1] START criterion=gini, max_depth=38, max_features=log2, n_estimators=500\n",
      "[CV 3/10; 1/1] END criterion=gini, max_depth=38, max_features=log2, n_estimators=500;, score=0.902 total time=  12.1s\n",
      "[CV 10/10; 1/1] START criterion=gini, max_depth=38, max_features=log2, n_estimators=500\n",
      "[CV 10/10; 1/1] END criterion=gini, max_depth=38, max_features=log2, n_estimators=500;, score=0.843 total time=   6.5s\n",
      "[CV 8/10; 1/1] START criterion=entropy, max_depth=18, max_features=sqrt, n_estimators=500\n",
      "[CV 8/10; 1/1] END criterion=entropy, max_depth=18, max_features=sqrt, n_estimators=500;, score=0.959 total time= 1.6min\n",
      "[CV 6/10; 1/1] START criterion=gini, max_depth=46, max_features=sqrt, n_estimators=500\n",
      "[CV 6/10; 1/1] END criterion=gini, max_depth=46, max_features=sqrt, n_estimators=500;, score=0.948 total time=  37.6s\n",
      "[CV 2/10; 1/1] START criterion=gini, max_depth=60, max_features=log2, n_estimators=500\n",
      "[CV 2/10; 1/1] END criterion=gini, max_depth=60, max_features=log2, n_estimators=500;, score=0.936 total time=  10.3s\n",
      "[CV 1/10; 1/1] START criterion=gini, max_depth=27, max_features=sqrt, n_estimators=500\n",
      "[CV 1/10; 1/1] END criterion=gini, max_depth=27, max_features=sqrt, n_estimators=500;, score=0.908 total time=  41.1s\n",
      "[CV 10/10; 1/1] START criterion=gini, max_depth=27, max_features=sqrt, n_estimators=500\n",
      "[CV 10/10; 1/1] END criterion=gini, max_depth=27, max_features=sqrt, n_estimators=500;, score=0.930 total time=  22.1s\n",
      "[CV 6/10; 1/1] START criterion=gini, max_depth=16, max_features=sqrt, n_estimators=500\n",
      "[CV 6/10; 1/1] END criterion=gini, max_depth=16, max_features=sqrt, n_estimators=500;, score=0.953 total time=  38.2s\n",
      "[CV 8/10; 1/1] START criterion=gini, max_depth=50, max_features=sqrt, n_estimators=500\n",
      "[CV 8/10; 1/1] END criterion=gini, max_depth=50, max_features=sqrt, n_estimators=500;, score=0.971 total time=  39.9s\n",
      "[CV 6/10; 1/1] START criterion=gini, max_depth=37, max_features=sqrt, n_estimators=500\n",
      "[CV 6/10; 1/1] END criterion=gini, max_depth=37, max_features=sqrt, n_estimators=500;, score=0.942 total time=  33.0s\n",
      "[CV 9/10; 1/1] START criterion=gini, max_depth=37, max_features=sqrt, n_estimators=500\n",
      "[CV 9/10; 1/1] END criterion=gini, max_depth=37, max_features=sqrt, n_estimators=500;, score=0.965 total time=  21.4s\n",
      "[CV 4/10; 1/1] START criterion=gini, max_depth=55, max_features=sqrt, n_estimators=500\n",
      "[CV 4/10; 1/1] END criterion=gini, max_depth=55, max_features=sqrt, n_estimators=500;, score=0.954 total time=  39.0s\n",
      "[CV 1/10; 1/1] START criterion=gini, max_depth=25, max_features=sqrt, n_estimators=100\n",
      "[CV 1/10; 1/1] END criterion=gini, max_depth=25, max_features=sqrt, n_estimators=100;, score=0.913 total time=   7.0s\n",
      "[CV 2/10; 1/1] START criterion=entropy, max_depth=28, max_features=sqrt, n_estimators=100\n",
      "[CV 2/10; 1/1] END criterion=entropy, max_depth=28, max_features=sqrt, n_estimators=100;, score=0.948 total time=  17.8s\n",
      "[CV 6/10; 1/1] START criterion=gini, max_depth=53, max_features=sqrt, n_estimators=100\n",
      "[CV 6/10; 1/1] END criterion=gini, max_depth=53, max_features=sqrt, n_estimators=100;, score=0.959 total time=   7.3s\n",
      "[CV 1/10; 1/1] START criterion=gini, max_depth=60, max_features=sqrt, n_estimators=473\n",
      "[CV 1/10; 1/1] END criterion=gini, max_depth=60, max_features=sqrt, n_estimators=473;, score=0.902 total time=  36.9s\n",
      "[CV 9/10; 1/1] START criterion=gini, max_depth=60, max_features=sqrt, n_estimators=473\n",
      "[CV 9/10; 1/1] END criterion=gini, max_depth=60, max_features=sqrt, n_estimators=473;, score=0.971 total time=  21.5s\n",
      "[CV 7/10; 1/1] START criterion=gini, max_depth=17, max_features=sqrt, n_estimators=113\n",
      "[CV 7/10; 1/1] END criterion=gini, max_depth=17, max_features=sqrt, n_estimators=113;, score=0.959 total time=   8.6s\n",
      "[CV 10/10; 1/1] START criterion=gini, max_depth=17, max_features=sqrt, n_estimators=113\n",
      "[CV 10/10; 1/1] END criterion=gini, max_depth=17, max_features=sqrt, n_estimators=113;, score=0.942 total time=   4.5s\n",
      "[CV 6/10; 1/1] START criterion=gini, max_depth=54, max_features=log2, n_estimators=480\n",
      "[CV 6/10; 1/1] END criterion=gini, max_depth=54, max_features=log2, n_estimators=480;, score=0.890 total time=  12.0s\n",
      "[CV 5/10; 1/1] START criterion=entropy, max_depth=40, max_features=sqrt, n_estimators=499\n",
      "[CV 5/10; 1/1] END criterion=entropy, max_depth=40, max_features=sqrt, n_estimators=499;, score=0.959 total time= 1.5min\n",
      "[CV 7/10; 1/1] START criterion=gini, max_depth=12, max_features=sqrt, n_estimators=103\n",
      "[CV 7/10; 1/1] END criterion=gini, max_depth=12, max_features=sqrt, n_estimators=103;, score=0.942 total time=   6.2s\n",
      "[CV 3/10; 1/1] START criterion=gini, max_depth=39, max_features=sqrt, n_estimators=500\n",
      "[CV 3/10; 1/1] END criterion=gini, max_depth=39, max_features=sqrt, n_estimators=500;, score=0.960 total time=  36.7s\n",
      "[CV 1/10; 1/1] START criterion=entropy, max_depth=11, max_features=log2, n_estimators=111\n",
      "[CV 1/10; 1/1] END criterion=entropy, max_depth=11, max_features=log2, n_estimators=111;, score=0.844 total time=   4.5s\n",
      "[CV 7/10; 1/1] START criterion=gini, max_depth=34, max_features=sqrt, n_estimators=496\n",
      "[CV 7/10; 1/1] END criterion=gini, max_depth=34, max_features=sqrt, n_estimators=496;, score=0.965 total time=  35.4s\n",
      "[CV 10/10; 1/1] START criterion=gini, max_depth=34, max_features=sqrt, n_estimators=496\n",
      "[CV 10/10; 1/1] END criterion=gini, max_depth=34, max_features=sqrt, n_estimators=496;, score=0.913 total time=  19.5s\n",
      "[CV 8/10; 1/1] START criterion=gini, max_depth=32, max_features=log2, n_estimators=101\n",
      "[CV 8/10; 1/1] END criterion=gini, max_depth=32, max_features=log2, n_estimators=101;, score=0.913 total time=   2.1s\n",
      "[CV 8/10; 1/1] START criterion=gini, max_depth=43, max_features=sqrt, n_estimators=496\n",
      "[CV 8/10; 1/1] END criterion=gini, max_depth=43, max_features=sqrt, n_estimators=496;, score=0.971 total time=  36.6s\n",
      "[CV 8/10; 1/1] START criterion=gini, max_depth=24, max_features=sqrt, n_estimators=497\n",
      "[CV 8/10; 1/1] END criterion=gini, max_depth=24, max_features=sqrt, n_estimators=497;, score=0.971 total time=  35.3s\n",
      "[CV 1/10; 1/1] START criterion=gini, max_depth=48, max_features=sqrt, n_estimators=102\n",
      "[CV 1/10; 1/1] END criterion=gini, max_depth=48, max_features=sqrt, n_estimators=102;, score=0.919 total time=   8.3s\n",
      "[CV 7/10; 1/1] START criterion=gini, max_depth=22, max_features=log2, n_estimators=112\n",
      "[CV 7/10; 1/1] END criterion=gini, max_depth=22, max_features=log2, n_estimators=112;, score=0.907 total time=   2.5s\n",
      "[CV 6/10; 1/1] START criterion=gini, max_depth=36, max_features=sqrt, n_estimators=124\n",
      "[CV 6/10; 1/1] END criterion=gini, max_depth=36, max_features=sqrt, n_estimators=124;, score=0.948 total time=   9.1s\n",
      "[CV 5/10; 1/1] START criterion=gini, max_depth=37, max_features=sqrt, n_estimators=100\n",
      "[CV 5/10; 1/1] END criterion=gini, max_depth=37, max_features=sqrt, n_estimators=100;, score=0.971 total time=   7.1s\n",
      "[CV 10/10; 1/1] START criterion=gini, max_depth=37, max_features=sqrt, n_estimators=100\n",
      "[CV 10/10; 1/1] END criterion=gini, max_depth=37, max_features=sqrt, n_estimators=100;, score=0.924 total time=   4.0s\n",
      "[CV 4/10; 1/1] START criterion=gini, max_depth=57, max_features=sqrt, n_estimators=495\n",
      "[CV 4/10; 1/1] END criterion=gini, max_depth=57, max_features=sqrt, n_estimators=495;, score=0.954 total time=  35.1s\n",
      "[CV 3/10; 1/1] START criterion=entropy, max_depth=48, max_features=sqrt, n_estimators=488\n",
      "[CV 3/10; 1/1] END criterion=entropy, max_depth=48, max_features=sqrt, n_estimators=488;, score=0.948 total time= 1.8min\n",
      "[CV 3/10; 1/1] START criterion=gini, max_depth=29, max_features=sqrt, n_estimators=100\n",
      "[CV 3/10; 1/1] END criterion=gini, max_depth=29, max_features=sqrt, n_estimators=100;, score=0.960 total time=   7.4s\n",
      "[CV 2/10; 1/1] START criterion=gini, max_depth=60, max_features=sqrt, n_estimators=113\n",
      "[CV 2/10; 1/1] END criterion=gini, max_depth=60, max_features=sqrt, n_estimators=113;, score=0.965 total time=   8.3s\n",
      "[CV 10/10; 1/1] START criterion=gini, max_depth=60, max_features=sqrt, n_estimators=113\n",
      "[CV 10/10; 1/1] END criterion=gini, max_depth=60, max_features=sqrt, n_estimators=113;, score=0.890 total time=   4.6s\n",
      "[CV 8/10; 1/1] START criterion=gini, max_depth=49, max_features=sqrt, n_estimators=500\n",
      "[CV 8/10; 1/1] END criterion=gini, max_depth=49, max_features=sqrt, n_estimators=500;, score=0.959 total time=  36.7s\n",
      "[CV 7/10; 1/1] START criterion=gini, max_depth=45, max_features=sqrt, n_estimators=108\n",
      "[CV 7/10; 1/1] END criterion=gini, max_depth=45, max_features=sqrt, n_estimators=108;, score=0.971 total time=   8.7s\n",
      "[CV 2/10; 1/1] START criterion=gini, max_depth=30, max_features=sqrt, n_estimators=495\n",
      "[CV 2/10; 1/1] END criterion=gini, max_depth=30, max_features=sqrt, n_estimators=495;, score=0.977 total time=  38.9s\n",
      "[CV 1/10; 1/1] START criterion=gini, max_depth=52, max_features=sqrt, n_estimators=499\n",
      "[CV 1/10; 1/1] END criterion=gini, max_depth=52, max_features=sqrt, n_estimators=499;, score=0.913 total time=  38.0s\n",
      "[CV 9/10; 1/1] START criterion=gini, max_depth=52, max_features=sqrt, n_estimators=499\n",
      "[CV 9/10; 1/1] END criterion=gini, max_depth=52, max_features=sqrt, n_estimators=499;, score=0.971 total time=  20.6s\n",
      "[CV 4/10; 1/1] START criterion=entropy, max_depth=60, max_features=sqrt, n_estimators=491\n",
      "[CV 4/10; 1/1] END criterion=entropy, max_depth=60, max_features=sqrt, n_estimators=491;, score=0.954 total time= 1.3min\n"
     ]
    },
    {
     "name": "stdout",
     "output_type": "stream",
     "text": [
      "[CV 3/10; 1/1] START criterion=gini, max_depth=41, max_features=sqrt, n_estimators=359\n",
      "[CV 3/10; 1/1] END criterion=gini, max_depth=41, max_features=sqrt, n_estimators=359;, score=0.942 total time=  18.7s\n",
      "[CV 10/10; 1/1] START criterion=gini, max_depth=41, max_features=sqrt, n_estimators=359\n",
      "[CV 10/10; 1/1] END criterion=gini, max_depth=41, max_features=sqrt, n_estimators=359;, score=0.936 total time=  12.8s\n",
      "[CV 2/10; 1/1] START criterion=entropy, max_depth=59, max_features=sqrt, n_estimators=340\n",
      "[CV 2/10; 1/1] END criterion=entropy, max_depth=59, max_features=sqrt, n_estimators=340;, score=0.960 total time=  45.6s\n",
      "[CV 5/10; 1/1] START criterion=gini, max_depth=4, max_features=log2, n_estimators=177\n",
      "[CV 5/10; 1/1] END criterion=gini, max_depth=4, max_features=log2, n_estimators=177;, score=0.791 total time=   1.2s\n",
      "[CV 4/10; 1/1] START criterion=entropy, max_depth=47, max_features=log2, n_estimators=282\n",
      "[CV 4/10; 1/1] END criterion=entropy, max_depth=47, max_features=log2, n_estimators=282;, score=0.879 total time=  11.8s\n",
      "[CV 6/10; 1/1] START criterion=entropy, max_depth=15, max_features=sqrt, n_estimators=214\n",
      "[CV 6/10; 1/1] END criterion=entropy, max_depth=15, max_features=sqrt, n_estimators=214;, score=0.942 total time=  31.0s\n",
      "[CV 7/10; 1/1] START criterion=gini, max_depth=59, max_features=sqrt, n_estimators=294\n",
      "[CV 7/10; 1/1] END criterion=gini, max_depth=59, max_features=sqrt, n_estimators=294;, score=0.959 total time=  17.9s\n",
      "[CV 1/10; 1/1] START criterion=gini, max_depth=46, max_features=log2, n_estimators=174\n",
      "[CV 1/10; 1/1] END criterion=gini, max_depth=46, max_features=log2, n_estimators=174;, score=0.873 total time=   3.2s\n",
      "[CV 10/10; 1/1] START criterion=gini, max_depth=46, max_features=log2, n_estimators=174\n",
      "[CV 10/10; 1/1] END criterion=gini, max_depth=46, max_features=log2, n_estimators=174;, score=0.855 total time=   2.1s\n",
      "[CV 3/10; 1/1] START criterion=gini, max_depth=32, max_features=sqrt, n_estimators=111\n",
      "[CV 3/10; 1/1] END criterion=gini, max_depth=32, max_features=sqrt, n_estimators=111;, score=0.942 total time=   6.8s\n",
      "[CV 8/10; 1/1] START criterion=entropy, max_depth=54, max_features=sqrt, n_estimators=473\n",
      "[CV 8/10; 1/1] END criterion=entropy, max_depth=54, max_features=sqrt, n_estimators=473;, score=0.965 total time= 1.2min\n",
      "[CV 2/10; 1/1] START criterion=entropy, max_depth=27, max_features=log2, n_estimators=419\n",
      "[CV 2/10; 1/1] END criterion=entropy, max_depth=27, max_features=log2, n_estimators=419;, score=0.925 total time=  18.7s\n",
      "[CV 5/10; 1/1] START criterion=gini, max_depth=1, max_features=sqrt, n_estimators=500\n",
      "[CV 5/10; 1/1] END criterion=gini, max_depth=1, max_features=sqrt, n_estimators=500;, score=0.564 total time=   4.2s\n",
      "[CV 1/10; 1/1] START criterion=gini, max_depth=21, max_features=sqrt, n_estimators=100\n",
      "[CV 1/10; 1/1] END criterion=gini, max_depth=21, max_features=sqrt, n_estimators=100;, score=0.902 total time=   6.5s\n",
      "[CV 7/10; 1/1] START criterion=gini, max_depth=41, max_features=sqrt, n_estimators=100\n",
      "[CV 7/10; 1/1] END criterion=gini, max_depth=41, max_features=sqrt, n_estimators=100;, score=0.971 total time=   6.2s\n",
      "[CV 4/10; 1/1] START criterion=gini, max_depth=16, max_features=log2, n_estimators=500\n",
      "[CV 4/10; 1/1] END criterion=gini, max_depth=16, max_features=log2, n_estimators=500;, score=0.873 total time=   8.9s\n",
      "[CV 5/10; 1/1] START criterion=gini, max_depth=38, max_features=log2, n_estimators=500\n",
      "[CV 5/10; 1/1] END criterion=gini, max_depth=38, max_features=log2, n_estimators=500;, score=0.913 total time=  12.5s\n",
      "[CV 3/10; 1/1] START criterion=entropy, max_depth=18, max_features=sqrt, n_estimators=500\n",
      "[CV 3/10; 1/1] END criterion=entropy, max_depth=18, max_features=sqrt, n_estimators=500;, score=0.931 total time= 1.5min\n",
      "[CV 4/10; 1/1] START criterion=gini, max_depth=46, max_features=sqrt, n_estimators=500\n",
      "[CV 4/10; 1/1] END criterion=gini, max_depth=46, max_features=sqrt, n_estimators=500;, score=0.965 total time=  37.7s\n",
      "[CV 8/10; 1/1] START criterion=gini, max_depth=60, max_features=log2, n_estimators=500\n",
      "[CV 8/10; 1/1] END criterion=gini, max_depth=60, max_features=log2, n_estimators=500;, score=0.907 total time=  10.3s\n",
      "[CV 3/10; 1/1] START criterion=gini, max_depth=27, max_features=sqrt, n_estimators=500\n",
      "[CV 3/10; 1/1] END criterion=gini, max_depth=27, max_features=sqrt, n_estimators=500;, score=0.948 total time=  41.4s\n",
      "[CV 7/10; 1/1] START criterion=gini, max_depth=16, max_features=sqrt, n_estimators=500\n",
      "[CV 7/10; 1/1] END criterion=gini, max_depth=16, max_features=sqrt, n_estimators=500;, score=0.959 total time=  37.4s\n",
      "[CV 10/10; 1/1] START criterion=gini, max_depth=16, max_features=sqrt, n_estimators=500\n",
      "[CV 10/10; 1/1] END criterion=gini, max_depth=16, max_features=sqrt, n_estimators=500;, score=0.913 total time=  20.6s\n",
      "[CV 7/10; 1/1] START criterion=gini, max_depth=50, max_features=sqrt, n_estimators=500\n",
      "[CV 7/10; 1/1] END criterion=gini, max_depth=50, max_features=sqrt, n_estimators=500;, score=0.971 total time=  39.5s\n",
      "[CV 10/10; 1/1] START criterion=gini, max_depth=50, max_features=sqrt, n_estimators=500\n",
      "[CV 10/10; 1/1] END criterion=gini, max_depth=50, max_features=sqrt, n_estimators=500;, score=0.930 total time=  21.6s\n",
      "[CV 3/10; 1/1] START criterion=gini, max_depth=37, max_features=sqrt, n_estimators=500\n",
      "[CV 3/10; 1/1] END criterion=gini, max_depth=37, max_features=sqrt, n_estimators=500;, score=0.954 total time=  33.4s\n",
      "[CV 3/10; 1/1] START criterion=gini, max_depth=55, max_features=sqrt, n_estimators=500\n",
      "[CV 3/10; 1/1] END criterion=gini, max_depth=55, max_features=sqrt, n_estimators=500;, score=0.954 total time=  39.2s\n",
      "[CV 2/10; 1/1] START criterion=gini, max_depth=25, max_features=sqrt, n_estimators=100\n",
      "[CV 2/10; 1/1] END criterion=gini, max_depth=25, max_features=sqrt, n_estimators=100;, score=0.965 total time=   7.0s\n",
      "[CV 10/10; 1/1] START criterion=gini, max_depth=25, max_features=sqrt, n_estimators=100\n",
      "[CV 10/10; 1/1] END criterion=gini, max_depth=25, max_features=sqrt, n_estimators=100;, score=0.948 total time=   4.4s\n",
      "[CV 7/10; 1/1] START criterion=entropy, max_depth=28, max_features=sqrt, n_estimators=100\n",
      "[CV 7/10; 1/1] END criterion=entropy, max_depth=28, max_features=sqrt, n_estimators=100;, score=0.948 total time=  17.6s\n",
      "[CV 8/10; 1/1] START criterion=gini, max_depth=53, max_features=sqrt, n_estimators=100\n",
      "[CV 8/10; 1/1] END criterion=gini, max_depth=53, max_features=sqrt, n_estimators=100;, score=0.977 total time=   7.5s\n",
      "[CV 8/10; 1/1] START criterion=gini, max_depth=60, max_features=sqrt, n_estimators=473\n",
      "[CV 8/10; 1/1] END criterion=gini, max_depth=60, max_features=sqrt, n_estimators=473;, score=0.965 total time=  38.2s\n",
      "[CV 2/10; 1/1] START criterion=gini, max_depth=17, max_features=sqrt, n_estimators=113\n",
      "[CV 2/10; 1/1] END criterion=gini, max_depth=17, max_features=sqrt, n_estimators=113;, score=0.977 total time=   8.8s\n",
      "[CV 3/10; 1/1] START criterion=gini, max_depth=54, max_features=log2, n_estimators=480\n",
      "[CV 3/10; 1/1] END criterion=gini, max_depth=54, max_features=log2, n_estimators=480;, score=0.896 total time=  12.0s\n",
      "[CV 3/10; 1/1] START criterion=entropy, max_depth=40, max_features=sqrt, n_estimators=499\n",
      "[CV 3/10; 1/1] END criterion=entropy, max_depth=40, max_features=sqrt, n_estimators=499;, score=0.948 total time= 1.4min\n",
      "[CV 3/10; 1/1] START criterion=gini, max_depth=12, max_features=sqrt, n_estimators=103\n",
      "[CV 3/10; 1/1] END criterion=gini, max_depth=12, max_features=sqrt, n_estimators=103;, score=0.919 total time=   6.2s\n",
      "[CV 2/10; 1/1] START criterion=gini, max_depth=39, max_features=sqrt, n_estimators=500\n",
      "[CV 2/10; 1/1] END criterion=gini, max_depth=39, max_features=sqrt, n_estimators=500;, score=0.983 total time=  37.0s\n",
      "[CV 2/10; 1/1] START criterion=entropy, max_depth=11, max_features=log2, n_estimators=111\n",
      "[CV 2/10; 1/1] END criterion=entropy, max_depth=11, max_features=log2, n_estimators=111;, score=0.913 total time=   4.5s\n",
      "[CV 8/10; 1/1] START criterion=gini, max_depth=34, max_features=sqrt, n_estimators=496\n",
      "[CV 8/10; 1/1] END criterion=gini, max_depth=34, max_features=sqrt, n_estimators=496;, score=0.971 total time=  36.6s\n",
      "[CV 2/10; 1/1] START criterion=gini, max_depth=32, max_features=log2, n_estimators=101\n",
      "[CV 2/10; 1/1] END criterion=gini, max_depth=32, max_features=log2, n_estimators=101;, score=0.931 total time=   2.1s\n",
      "[CV 1/10; 1/1] START criterion=gini, max_depth=43, max_features=sqrt, n_estimators=496\n",
      "[CV 1/10; 1/1] END criterion=gini, max_depth=43, max_features=sqrt, n_estimators=496;, score=0.908 total time=  36.2s\n",
      "[CV 10/10; 1/1] START criterion=gini, max_depth=43, max_features=sqrt, n_estimators=496\n",
      "[CV 10/10; 1/1] END criterion=gini, max_depth=43, max_features=sqrt, n_estimators=496;, score=0.930 total time=  19.7s\n",
      "[CV 6/10; 1/1] START criterion=gini, max_depth=24, max_features=sqrt, n_estimators=497\n",
      "[CV 6/10; 1/1] END criterion=gini, max_depth=24, max_features=sqrt, n_estimators=497;, score=0.948 total time=  35.6s\n",
      "[CV 2/10; 1/1] START criterion=gini, max_depth=48, max_features=sqrt, n_estimators=102\n",
      "[CV 2/10; 1/1] END criterion=gini, max_depth=48, max_features=sqrt, n_estimators=102;, score=0.971 total time=   8.3s\n",
      "[CV 3/10; 1/1] START criterion=gini, max_depth=22, max_features=log2, n_estimators=112\n",
      "[CV 3/10; 1/1] END criterion=gini, max_depth=22, max_features=log2, n_estimators=112;, score=0.902 total time=   2.5s\n",
      "[CV 5/10; 1/1] START criterion=gini, max_depth=36, max_features=sqrt, n_estimators=124\n",
      "[CV 5/10; 1/1] END criterion=gini, max_depth=36, max_features=sqrt, n_estimators=124;, score=0.971 total time=   9.0s\n",
      "[CV 1/10; 1/1] START criterion=gini, max_depth=37, max_features=sqrt, n_estimators=100\n",
      "[CV 1/10; 1/1] END criterion=gini, max_depth=37, max_features=sqrt, n_estimators=100;, score=0.902 total time=   7.1s\n",
      "[CV 9/10; 1/1] START criterion=gini, max_depth=37, max_features=sqrt, n_estimators=100\n",
      "[CV 9/10; 1/1] END criterion=gini, max_depth=37, max_features=sqrt, n_estimators=100;, score=0.977 total time=   4.2s\n",
      "[CV 2/10; 1/1] START criterion=gini, max_depth=57, max_features=sqrt, n_estimators=495\n",
      "[CV 2/10; 1/1] END criterion=gini, max_depth=57, max_features=sqrt, n_estimators=495;, score=0.977 total time=  35.4s\n",
      "[CV 4/10; 1/1] START criterion=entropy, max_depth=48, max_features=sqrt, n_estimators=488\n",
      "[CV 4/10; 1/1] END criterion=entropy, max_depth=48, max_features=sqrt, n_estimators=488;, score=0.942 total time= 1.8min\n",
      "[CV 7/10; 1/1] START criterion=gini, max_depth=29, max_features=sqrt, n_estimators=100\n",
      "[CV 7/10; 1/1] END criterion=gini, max_depth=29, max_features=sqrt, n_estimators=100;, score=0.948 total time=   7.4s\n",
      "[CV 5/10; 1/1] START criterion=gini, max_depth=60, max_features=sqrt, n_estimators=113\n",
      "[CV 5/10; 1/1] END criterion=gini, max_depth=60, max_features=sqrt, n_estimators=113;, score=0.965 total time=   8.4s\n",
      "[CV 2/10; 1/1] START criterion=gini, max_depth=49, max_features=sqrt, n_estimators=500\n",
      "[CV 2/10; 1/1] END criterion=gini, max_depth=49, max_features=sqrt, n_estimators=500;, score=0.977 total time=  36.4s\n",
      "[CV 5/10; 1/1] START criterion=gini, max_depth=45, max_features=sqrt, n_estimators=108\n",
      "[CV 5/10; 1/1] END criterion=gini, max_depth=45, max_features=sqrt, n_estimators=108;, score=0.953 total time=   8.8s\n",
      "[CV 3/10; 1/1] START criterion=gini, max_depth=30, max_features=sqrt, n_estimators=495\n",
      "[CV 3/10; 1/1] END criterion=gini, max_depth=30, max_features=sqrt, n_estimators=495;, score=0.948 total time=  39.4s\n",
      "[CV 7/10; 1/1] START criterion=gini, max_depth=52, max_features=sqrt, n_estimators=499\n",
      "[CV 7/10; 1/1] END criterion=gini, max_depth=52, max_features=sqrt, n_estimators=499;, score=0.971 total time=  38.6s\n",
      "[CV 2/10; 1/1] START criterion=entropy, max_depth=60, max_features=sqrt, n_estimators=491\n",
      "[CV 2/10; 1/1] END criterion=entropy, max_depth=60, max_features=sqrt, n_estimators=491;, score=0.960 total time= 1.4min\n"
     ]
    },
    {
     "name": "stderr",
     "output_type": "stream",
     "text": [
      "/opt/anaconda3/lib/python3.9/site-packages/sklearn/model_selection/_split.py:666: UserWarning: The least populated class in y has only 2 members, which is less than n_splits=10.\n",
      "  warnings.warn((\"The least populated class in y has only %d\"\n"
     ]
    },
    {
     "name": "stdout",
     "output_type": "stream",
     "text": [
      "[95.30279607474122, 95.99912622664336, 96.52103777389434, 96.05692969485146]\n",
      "Accuracy Anova [58.87720123672538, 90.13677913698078, 93.03938701438366, 94.6632611910203]\n",
      "Chi2 accuracy [31.614464309719054, 39.385670116951204, 49.42263745127033, 54.29795671461217]\n",
      "IG accuracy [95.30279607474122, 95.99912622664336, 96.52103777389434, 96.05692969485146]\n"
     ]
    },
    {
     "data": {
      "image/png": "[encoded data removed]",
      "text/plain": [
       "<Figure size 432x288 with 1 Axes>"
      ]
     },
     "metadata": {
      "needs_background": "light"
     },
     "output_type": "display_data"
    },
    {
     "name": "stdout",
     "output_type": "stream",
     "text": [
      "Anova\n",
      "     Feature_Name          Score\n",
      "1979        SOX10  129648.912347\n",
      "358          CD93    5794.987848\n",
      "1782        ROBO4    3040.364027\n",
      "461        COL3A1    1620.796419\n",
      "236          C1QC    1573.923843\n",
      "1989        SPARC    1531.386002\n",
      "1139          KDR    1423.430465\n",
      "459        COL1A2    1421.989899\n",
      "1604        PLVAP    1353.370100\n",
      "1536       PDGFRB    1282.268041\n",
      "469        COL6A3    1266.671253\n",
      "201           BGN    1214.913382\n",
      "1192       LAPTM5    1109.772747\n",
      "2289          VWF    1102.487984\n",
      "2230       TYROBP    1058.400823\n",
      "468        COL6A2    1026.674118\n",
      "1836          SDS    1020.630772\n",
      "1982        SOX18     953.458944\n",
      "664           ENG     912.784831\n",
      "780          FLT1     800.726011\n",
      "CHI2\n",
      "     Feature_Name        Score\n",
      "1979        SOX10  8171.632717\n",
      "236          C1QC  7390.864303\n",
      "358          CD93  6880.810570\n",
      "1782        ROBO4  6772.320803\n",
      "1836          SDS  6678.318485\n",
      "1139          KDR  6569.154303\n",
      "1982        SOX18  6282.452739\n",
      "2185        TPSB2  6181.856113\n",
      "484          CPA3  6102.068417\n",
      "371          CDH5  6050.141898\n",
      "234          C1QA  6025.973515\n",
      "1093        ITGB2  5987.713698\n",
      "2230       TYROBP  5920.655340\n",
      "1517       PCAT19  5870.660813\n",
      "1344        MS4A2  5789.009887\n",
      "2191        TRBC2  5717.475964\n",
      "2118         TIE1  5672.609519\n",
      "2289          VWF  5668.761860\n",
      "235          C1QB  5666.473200\n",
      "1604        PLVAP  5577.068366\n",
      "[CV 4/10; 1/1] START criterion=gini, max_depth=41, max_features=sqrt, n_estimators=359\n",
      "[CV 4/10; 1/1] END criterion=gini, max_depth=41, max_features=sqrt, n_estimators=359;, score=0.954 total time=  19.0s\n",
      "[CV 3/10; 1/1] START criterion=entropy, max_depth=59, max_features=sqrt, n_estimators=340\n",
      "[CV 3/10; 1/1] END criterion=entropy, max_depth=59, max_features=sqrt, n_estimators=340;, score=0.948 total time=  43.9s\n",
      "[CV 9/10; 1/1] START criterion=entropy, max_depth=59, max_features=sqrt, n_estimators=340\n",
      "[CV 9/10; 1/1] END criterion=entropy, max_depth=59, max_features=sqrt, n_estimators=340;, score=0.959 total time=  28.0s\n",
      "[CV 2/10; 1/1] START criterion=gini, max_depth=4, max_features=log2, n_estimators=177\n",
      "[CV 2/10; 1/1] END criterion=gini, max_depth=4, max_features=log2, n_estimators=177;, score=0.821 total time=   1.2s\n",
      "[CV 8/10; 1/1] START criterion=entropy, max_depth=47, max_features=log2, n_estimators=282\n",
      "[CV 8/10; 1/1] END criterion=entropy, max_depth=47, max_features=log2, n_estimators=282;, score=0.901 total time=  11.6s\n",
      "[CV 3/10; 1/1] START criterion=entropy, max_depth=15, max_features=sqrt, n_estimators=214\n",
      "[CV 3/10; 1/1] END criterion=entropy, max_depth=15, max_features=sqrt, n_estimators=214;, score=0.936 total time=  29.8s\n",
      "[CV 9/10; 1/1] START criterion=entropy, max_depth=15, max_features=sqrt, n_estimators=214\n",
      "[CV 9/10; 1/1] END criterion=entropy, max_depth=15, max_features=sqrt, n_estimators=214;, score=0.971 total time=  18.7s\n",
      "[CV 3/10; 1/1] START criterion=gini, max_depth=59, max_features=sqrt, n_estimators=294\n",
      "[CV 3/10; 1/1] END criterion=gini, max_depth=59, max_features=sqrt, n_estimators=294;, score=0.954 total time=  18.1s\n",
      "[CV 5/10; 1/1] START criterion=gini, max_depth=46, max_features=log2, n_estimators=174\n",
      "[CV 5/10; 1/1] END criterion=gini, max_depth=46, max_features=log2, n_estimators=174;, score=0.924 total time=   3.3s\n",
      "[CV 8/10; 1/1] START criterion=gini, max_depth=32, max_features=sqrt, n_estimators=111\n",
      "[CV 8/10; 1/1] END criterion=gini, max_depth=32, max_features=sqrt, n_estimators=111;, score=0.953 total time=   6.9s\n",
      "[CV 7/10; 1/1] START criterion=entropy, max_depth=54, max_features=sqrt, n_estimators=473\n",
      "[CV 7/10; 1/1] END criterion=entropy, max_depth=54, max_features=sqrt, n_estimators=473;, score=0.959 total time= 1.2min\n",
      "[CV 10/10; 1/1] START criterion=entropy, max_depth=54, max_features=sqrt, n_estimators=473\n",
      "[CV 10/10; 1/1] END criterion=entropy, max_depth=54, max_features=sqrt, n_estimators=473;, score=0.913 total time=  40.7s\n",
      "[CV 6/10; 1/1] START criterion=entropy, max_depth=27, max_features=log2, n_estimators=419\n",
      "[CV 6/10; 1/1] END criterion=entropy, max_depth=27, max_features=log2, n_estimators=419;, score=0.890 total time=  18.3s\n",
      "[CV 3/10; 1/1] START criterion=gini, max_depth=1, max_features=sqrt, n_estimators=500\n",
      "[CV 3/10; 1/1] END criterion=gini, max_depth=1, max_features=sqrt, n_estimators=500;, score=0.561 total time=   4.2s\n",
      "[CV 6/10; 1/1] START criterion=gini, max_depth=21, max_features=sqrt, n_estimators=100\n",
      "[CV 6/10; 1/1] END criterion=gini, max_depth=21, max_features=sqrt, n_estimators=100;, score=0.948 total time=   6.6s\n",
      "[CV 5/10; 1/1] START criterion=gini, max_depth=41, max_features=sqrt, n_estimators=100\n",
      "[CV 5/10; 1/1] END criterion=gini, max_depth=41, max_features=sqrt, n_estimators=100;, score=0.959 total time=   6.3s\n",
      "[CV 6/10; 1/1] START criterion=gini, max_depth=16, max_features=log2, n_estimators=500\n",
      "[CV 6/10; 1/1] END criterion=gini, max_depth=16, max_features=log2, n_estimators=500;, score=0.890 total time=   8.9s\n",
      "[CV 4/10; 1/1] START criterion=gini, max_depth=38, max_features=log2, n_estimators=500\n",
      "[CV 4/10; 1/1] END criterion=gini, max_depth=38, max_features=log2, n_estimators=500;, score=0.902 total time=  12.4s\n",
      "[CV 4/10; 1/1] START criterion=entropy, max_depth=18, max_features=sqrt, n_estimators=500\n",
      "[CV 4/10; 1/1] END criterion=entropy, max_depth=18, max_features=sqrt, n_estimators=500;, score=0.942 total time= 1.5min\n",
      "[CV 1/10; 1/1] START criterion=gini, max_depth=46, max_features=sqrt, n_estimators=500\n",
      "[CV 1/10; 1/1] END criterion=gini, max_depth=46, max_features=sqrt, n_estimators=500;, score=0.908 total time=  37.7s\n",
      "[CV 6/10; 1/1] START criterion=gini, max_depth=60, max_features=log2, n_estimators=500\n",
      "[CV 6/10; 1/1] END criterion=gini, max_depth=60, max_features=log2, n_estimators=500;, score=0.890 total time=  10.5s\n",
      "[CV 8/10; 1/1] START criterion=gini, max_depth=27, max_features=sqrt, n_estimators=500\n",
      "[CV 8/10; 1/1] END criterion=gini, max_depth=27, max_features=sqrt, n_estimators=500;, score=0.971 total time=  41.4s\n",
      "[CV 3/10; 1/1] START criterion=gini, max_depth=16, max_features=sqrt, n_estimators=500\n",
      "[CV 3/10; 1/1] END criterion=gini, max_depth=16, max_features=sqrt, n_estimators=500;, score=0.948 total time=  38.2s\n",
      "[CV 3/10; 1/1] START criterion=gini, max_depth=50, max_features=sqrt, n_estimators=500\n",
      "[CV 3/10; 1/1] END criterion=gini, max_depth=50, max_features=sqrt, n_estimators=500;, score=0.954 total time=  40.1s\n",
      "[CV 7/10; 1/1] START criterion=gini, max_depth=37, max_features=sqrt, n_estimators=500\n",
      "[CV 7/10; 1/1] END criterion=gini, max_depth=37, max_features=sqrt, n_estimators=500;, score=0.965 total time=  33.4s\n",
      "[CV 7/10; 1/1] START criterion=gini, max_depth=55, max_features=sqrt, n_estimators=500\n",
      "[CV 7/10; 1/1] END criterion=gini, max_depth=55, max_features=sqrt, n_estimators=500;, score=0.965 total time=  38.9s\n",
      "[CV 10/10; 1/1] START criterion=gini, max_depth=55, max_features=sqrt, n_estimators=500\n",
      "[CV 10/10; 1/1] END criterion=gini, max_depth=55, max_features=sqrt, n_estimators=500;, score=0.936 total time=  21.0s\n",
      "[CV 4/10; 1/1] START criterion=gini, max_depth=25, max_features=sqrt, n_estimators=100\n",
      "[CV 4/10; 1/1] END criterion=gini, max_depth=25, max_features=sqrt, n_estimators=100;, score=0.960 total time=   7.0s\n",
      "[CV 1/10; 1/1] START criterion=entropy, max_depth=28, max_features=sqrt, n_estimators=100\n",
      "[CV 1/10; 1/1] END criterion=entropy, max_depth=28, max_features=sqrt, n_estimators=100;, score=0.913 total time=  17.3s\n",
      "[CV 7/10; 1/1] START criterion=gini, max_depth=53, max_features=sqrt, n_estimators=100\n",
      "[CV 7/10; 1/1] END criterion=gini, max_depth=53, max_features=sqrt, n_estimators=100;, score=0.953 total time=   7.4s\n",
      "[CV 5/10; 1/1] START criterion=gini, max_depth=60, max_features=sqrt, n_estimators=473\n",
      "[CV 5/10; 1/1] END criterion=gini, max_depth=60, max_features=sqrt, n_estimators=473;, score=0.965 total time=  38.3s\n",
      "[CV 8/10; 1/1] START criterion=gini, max_depth=17, max_features=sqrt, n_estimators=113\n",
      "[CV 8/10; 1/1] END criterion=gini, max_depth=17, max_features=sqrt, n_estimators=113;, score=0.959 total time=   8.8s\n",
      "[CV 5/10; 1/1] START criterion=gini, max_depth=54, max_features=log2, n_estimators=480\n",
      "[CV 5/10; 1/1] END criterion=gini, max_depth=54, max_features=log2, n_estimators=480;, score=0.901 total time=  12.2s\n",
      "[CV 6/10; 1/1] START criterion=entropy, max_depth=40, max_features=sqrt, n_estimators=499\n",
      "[CV 6/10; 1/1] END criterion=entropy, max_depth=40, max_features=sqrt, n_estimators=499;, score=0.942 total time= 1.4min\n",
      "[CV 8/10; 1/1] START criterion=gini, max_depth=12, max_features=sqrt, n_estimators=103\n",
      "[CV 8/10; 1/1] END criterion=gini, max_depth=12, max_features=sqrt, n_estimators=103;, score=0.959 total time=   6.3s\n",
      "[CV 7/10; 1/1] START criterion=gini, max_depth=39, max_features=sqrt, n_estimators=500\n",
      "[CV 7/10; 1/1] END criterion=gini, max_depth=39, max_features=sqrt, n_estimators=500;, score=0.971 total time=  37.3s\n",
      "[CV 5/10; 1/1] START criterion=entropy, max_depth=11, max_features=log2, n_estimators=111\n",
      "[CV 5/10; 1/1] END criterion=entropy, max_depth=11, max_features=log2, n_estimators=111;, score=0.901 total time=   4.4s\n",
      "[CV 6/10; 1/1] START criterion=gini, max_depth=34, max_features=sqrt, n_estimators=496\n",
      "[CV 6/10; 1/1] END criterion=gini, max_depth=34, max_features=sqrt, n_estimators=496;, score=0.959 total time=  36.7s\n",
      "[CV 6/10; 1/1] START criterion=gini, max_depth=32, max_features=log2, n_estimators=101\n",
      "[CV 6/10; 1/1] END criterion=gini, max_depth=32, max_features=log2, n_estimators=101;, score=0.895 total time=   2.1s\n",
      "[CV 3/10; 1/1] START criterion=gini, max_depth=43, max_features=sqrt, n_estimators=496\n",
      "[CV 3/10; 1/1] END criterion=gini, max_depth=43, max_features=sqrt, n_estimators=496;, score=0.948 total time=  36.6s\n",
      "[CV 3/10; 1/1] START criterion=gini, max_depth=24, max_features=sqrt, n_estimators=497\n",
      "[CV 3/10; 1/1] END criterion=gini, max_depth=24, max_features=sqrt, n_estimators=497;, score=0.954 total time=  35.6s\n",
      "[CV 8/10; 1/1] START criterion=gini, max_depth=48, max_features=sqrt, n_estimators=102\n",
      "[CV 8/10; 1/1] END criterion=gini, max_depth=48, max_features=sqrt, n_estimators=102;, score=0.965 total time=   8.2s\n",
      "[CV 5/10; 1/1] START criterion=gini, max_depth=22, max_features=log2, n_estimators=112\n",
      "[CV 5/10; 1/1] END criterion=gini, max_depth=22, max_features=log2, n_estimators=112;, score=0.901 total time=   2.5s\n",
      "[CV 3/10; 1/1] START criterion=gini, max_depth=36, max_features=sqrt, n_estimators=124\n",
      "[CV 3/10; 1/1] END criterion=gini, max_depth=36, max_features=sqrt, n_estimators=124;, score=0.954 total time=   9.1s\n",
      "[CV 2/10; 1/1] START criterion=gini, max_depth=37, max_features=sqrt, n_estimators=100\n",
      "[CV 2/10; 1/1] END criterion=gini, max_depth=37, max_features=sqrt, n_estimators=100;, score=0.977 total time=   7.2s\n",
      "[CV 1/10; 1/1] START criterion=gini, max_depth=57, max_features=sqrt, n_estimators=495\n",
      "[CV 1/10; 1/1] END criterion=gini, max_depth=57, max_features=sqrt, n_estimators=495;, score=0.913 total time=  34.9s\n",
      "[CV 1/10; 1/1] START criterion=entropy, max_depth=48, max_features=sqrt, n_estimators=488\n",
      "[CV 1/10; 1/1] END criterion=entropy, max_depth=48, max_features=sqrt, n_estimators=488;, score=0.908 total time= 1.7min\n",
      "[CV 9/10; 1/1] START criterion=entropy, max_depth=48, max_features=sqrt, n_estimators=488\n",
      "[CV 9/10; 1/1] END criterion=entropy, max_depth=48, max_features=sqrt, n_estimators=488;, score=0.965 total time=  46.2s\n",
      "[CV 2/10; 1/1] START criterion=gini, max_depth=29, max_features=sqrt, n_estimators=100\n",
      "[CV 2/10; 1/1] END criterion=gini, max_depth=29, max_features=sqrt, n_estimators=100;, score=0.977 total time=   7.5s\n",
      "[CV 4/10; 1/1] START criterion=gini, max_depth=60, max_features=sqrt, n_estimators=113\n",
      "[CV 4/10; 1/1] END criterion=gini, max_depth=60, max_features=sqrt, n_estimators=113;, score=0.936 total time=   8.4s\n",
      "[CV 1/10; 1/1] START criterion=gini, max_depth=49, max_features=sqrt, n_estimators=500\n",
      "[CV 1/10; 1/1] END criterion=gini, max_depth=49, max_features=sqrt, n_estimators=500;, score=0.913 total time=  36.3s\n",
      "[CV 1/10; 1/1] START criterion=gini, max_depth=45, max_features=sqrt, n_estimators=108\n",
      "[CV 1/10; 1/1] END criterion=gini, max_depth=45, max_features=sqrt, n_estimators=108;, score=0.913 total time=   8.6s\n",
      "[CV 1/10; 1/1] START criterion=gini, max_depth=30, max_features=sqrt, n_estimators=495\n",
      "[CV 1/10; 1/1] END criterion=gini, max_depth=30, max_features=sqrt, n_estimators=495;, score=0.913 total time=  39.0s\n",
      "[CV 3/10; 1/1] START criterion=gini, max_depth=52, max_features=sqrt, n_estimators=499\n",
      "[CV 3/10; 1/1] END criterion=gini, max_depth=52, max_features=sqrt, n_estimators=499;, score=0.954 total time=  38.1s\n",
      "[CV 1/10; 1/1] START criterion=entropy, max_depth=60, max_features=sqrt, n_estimators=491\n",
      "[CV 1/10; 1/1] END criterion=entropy, max_depth=60, max_features=sqrt, n_estimators=491;, score=0.908 total time= 1.3min\n",
      "[CV 10/10; 1/1] START criterion=entropy, max_depth=60, max_features=sqrt, n_estimators=491\n",
      "[CV 10/10; 1/1] END criterion=entropy, max_depth=60, max_features=sqrt, n_estimators=491;, score=0.919 total time=  42.9s\n"
     ]
    },
    {
     "name": "stdout",
     "output_type": "stream",
     "text": [
      "[CV 1/10; 1/1] START criterion=gini, max_depth=41, max_features=sqrt, n_estimators=359\n",
      "[CV 1/10; 1/1] END criterion=gini, max_depth=41, max_features=sqrt, n_estimators=359;, score=0.908 total time=  18.8s\n",
      "[CV 8/10; 1/1] START criterion=entropy, max_depth=59, max_features=sqrt, n_estimators=340\n",
      "[CV 8/10; 1/1] END criterion=entropy, max_depth=59, max_features=sqrt, n_estimators=340;, score=0.953 total time=  44.5s\n",
      "[CV 8/10; 1/1] START criterion=gini, max_depth=4, max_features=log2, n_estimators=177\n",
      "[CV 8/10; 1/1] END criterion=gini, max_depth=4, max_features=log2, n_estimators=177;, score=0.802 total time=   1.2s\n",
      "[CV 7/10; 1/1] START criterion=entropy, max_depth=47, max_features=log2, n_estimators=282\n",
      "[CV 7/10; 1/1] END criterion=entropy, max_depth=47, max_features=log2, n_estimators=282;, score=0.878 total time=  11.4s\n",
      "[CV 10/10; 1/1] START criterion=entropy, max_depth=47, max_features=log2, n_estimators=282\n",
      "[CV 10/10; 1/1] END criterion=entropy, max_depth=47, max_features=log2, n_estimators=282;, score=0.820 total time=   7.2s\n",
      "[CV 4/10; 1/1] START criterion=entropy, max_depth=15, max_features=sqrt, n_estimators=214\n",
      "[CV 4/10; 1/1] END criterion=entropy, max_depth=15, max_features=sqrt, n_estimators=214;, score=0.936 total time=  30.0s\n",
      "[CV 1/10; 1/1] START criterion=gini, max_depth=59, max_features=sqrt, n_estimators=294\n",
      "[CV 1/10; 1/1] END criterion=gini, max_depth=59, max_features=sqrt, n_estimators=294;, score=0.902 total time=  17.8s\n",
      "[CV 9/10; 1/1] START criterion=gini, max_depth=59, max_features=sqrt, n_estimators=294\n",
      "[CV 9/10; 1/1] END criterion=gini, max_depth=59, max_features=sqrt, n_estimators=294;, score=0.971 total time=  11.8s\n",
      "[CV 2/10; 1/1] START criterion=gini, max_depth=46, max_features=log2, n_estimators=174\n",
      "[CV 2/10; 1/1] END criterion=gini, max_depth=46, max_features=log2, n_estimators=174;, score=0.931 total time=   3.2s\n",
      "[CV 9/10; 1/1] START criterion=gini, max_depth=46, max_features=log2, n_estimators=174\n",
      "[CV 9/10; 1/1] END criterion=gini, max_depth=46, max_features=log2, n_estimators=174;, score=0.901 total time=   2.2s\n",
      "[CV 2/10; 1/1] START criterion=gini, max_depth=32, max_features=sqrt, n_estimators=111\n",
      "[CV 2/10; 1/1] END criterion=gini, max_depth=32, max_features=sqrt, n_estimators=111;, score=0.960 total time=   6.9s\n",
      "[CV 5/10; 1/1] START criterion=entropy, max_depth=54, max_features=sqrt, n_estimators=473\n",
      "[CV 5/10; 1/1] END criterion=entropy, max_depth=54, max_features=sqrt, n_estimators=473;, score=0.959 total time= 1.2min\n",
      "[CV 4/10; 1/1] START criterion=entropy, max_depth=27, max_features=log2, n_estimators=419\n",
      "[CV 4/10; 1/1] END criterion=entropy, max_depth=27, max_features=log2, n_estimators=419;, score=0.867 total time=  18.2s\n",
      "[CV 4/10; 1/1] START criterion=gini, max_depth=1, max_features=sqrt, n_estimators=500\n",
      "[CV 4/10; 1/1] END criterion=gini, max_depth=1, max_features=sqrt, n_estimators=500;, score=0.532 total time=   4.2s\n",
      "[CV 7/10; 1/1] START criterion=gini, max_depth=21, max_features=sqrt, n_estimators=100\n",
      "[CV 7/10; 1/1] END criterion=gini, max_depth=21, max_features=sqrt, n_estimators=100;, score=0.965 total time=   6.3s\n",
      "[CV 9/10; 1/1] START criterion=gini, max_depth=21, max_features=sqrt, n_estimators=100\n",
      "[CV 9/10; 1/1] END criterion=gini, max_depth=21, max_features=sqrt, n_estimators=100;, score=0.965 total time=   4.4s\n",
      "[CV 3/10; 1/1] START criterion=gini, max_depth=41, max_features=sqrt, n_estimators=100\n",
      "[CV 3/10; 1/1] END criterion=gini, max_depth=41, max_features=sqrt, n_estimators=100;, score=0.948 total time=   6.1s\n",
      "[CV 1/10; 1/1] START criterion=gini, max_depth=16, max_features=log2, n_estimators=500\n",
      "[CV 1/10; 1/1] END criterion=gini, max_depth=16, max_features=log2, n_estimators=500;, score=0.838 total time=   8.8s\n",
      "[CV 10/10; 1/1] START criterion=gini, max_depth=16, max_features=log2, n_estimators=500\n",
      "[CV 10/10; 1/1] END criterion=gini, max_depth=16, max_features=log2, n_estimators=500;, score=0.837 total time=   6.1s\n",
      "[CV 6/10; 1/1] START criterion=gini, max_depth=38, max_features=log2, n_estimators=500\n",
      "[CV 6/10; 1/1] END criterion=gini, max_depth=38, max_features=log2, n_estimators=500;, score=0.890 total time=  12.3s\n",
      "[CV 7/10; 1/1] START criterion=entropy, max_depth=18, max_features=sqrt, n_estimators=500\n",
      "[CV 7/10; 1/1] END criterion=entropy, max_depth=18, max_features=sqrt, n_estimators=500;, score=0.959 total time= 1.5min\n",
      "[CV 10/10; 1/1] START criterion=entropy, max_depth=18, max_features=sqrt, n_estimators=500\n",
      "[CV 10/10; 1/1] END criterion=entropy, max_depth=18, max_features=sqrt, n_estimators=500;, score=0.913 total time=  45.6s\n",
      "[CV 8/10; 1/1] START criterion=gini, max_depth=46, max_features=sqrt, n_estimators=500\n",
      "[CV 8/10; 1/1] END criterion=gini, max_depth=46, max_features=sqrt, n_estimators=500;, score=0.971 total time=  37.7s\n",
      "[CV 5/10; 1/1] START criterion=gini, max_depth=60, max_features=log2, n_estimators=500\n",
      "[CV 5/10; 1/1] END criterion=gini, max_depth=60, max_features=log2, n_estimators=500;, score=0.919 total time=  10.6s\n",
      "[CV 6/10; 1/1] START criterion=gini, max_depth=27, max_features=sqrt, n_estimators=500\n",
      "[CV 6/10; 1/1] END criterion=gini, max_depth=27, max_features=sqrt, n_estimators=500;, score=0.953 total time=  41.4s\n",
      "[CV 5/10; 1/1] START criterion=gini, max_depth=16, max_features=sqrt, n_estimators=500\n",
      "[CV 5/10; 1/1] END criterion=gini, max_depth=16, max_features=sqrt, n_estimators=500;, score=0.959 total time=  37.8s\n",
      "[CV 2/10; 1/1] START criterion=gini, max_depth=50, max_features=sqrt, n_estimators=500\n",
      "[CV 2/10; 1/1] END criterion=gini, max_depth=50, max_features=sqrt, n_estimators=500;, score=0.971 total time=  40.4s\n",
      "[CV 5/10; 1/1] START criterion=gini, max_depth=37, max_features=sqrt, n_estimators=500\n",
      "[CV 5/10; 1/1] END criterion=gini, max_depth=37, max_features=sqrt, n_estimators=500;, score=0.977 total time=  33.4s\n",
      "[CV 6/10; 1/1] START criterion=gini, max_depth=55, max_features=sqrt, n_estimators=500\n",
      "[CV 6/10; 1/1] END criterion=gini, max_depth=55, max_features=sqrt, n_estimators=500;, score=0.959 total time=  39.5s\n",
      "[CV 8/10; 1/1] START criterion=gini, max_depth=25, max_features=sqrt, n_estimators=100\n",
      "[CV 8/10; 1/1] END criterion=gini, max_depth=25, max_features=sqrt, n_estimators=100;, score=0.953 total time=   7.1s\n",
      "[CV 6/10; 1/1] START criterion=entropy, max_depth=28, max_features=sqrt, n_estimators=100\n",
      "[CV 6/10; 1/1] END criterion=entropy, max_depth=28, max_features=sqrt, n_estimators=100;, score=0.936 total time=  17.2s\n",
      "[CV 5/10; 1/1] START criterion=gini, max_depth=53, max_features=sqrt, n_estimators=100\n",
      "[CV 5/10; 1/1] END criterion=gini, max_depth=53, max_features=sqrt, n_estimators=100;, score=0.953 total time=   7.2s\n",
      "[CV 10/10; 1/1] START criterion=gini, max_depth=53, max_features=sqrt, n_estimators=100\n",
      "[CV 10/10; 1/1] END criterion=gini, max_depth=53, max_features=sqrt, n_estimators=100;, score=0.919 total time=   4.4s\n",
      "[CV 2/10; 1/1] START criterion=gini, max_depth=60, max_features=sqrt, n_estimators=473\n",
      "[CV 2/10; 1/1] END criterion=gini, max_depth=60, max_features=sqrt, n_estimators=473;, score=0.983 total time=  38.2s\n",
      "[CV 3/10; 1/1] START criterion=gini, max_depth=17, max_features=sqrt, n_estimators=113\n",
      "[CV 3/10; 1/1] END criterion=gini, max_depth=17, max_features=sqrt, n_estimators=113;, score=0.954 total time=   8.7s\n",
      "[CV 7/10; 1/1] START criterion=gini, max_depth=54, max_features=log2, n_estimators=480\n",
      "[CV 7/10; 1/1] END criterion=gini, max_depth=54, max_features=log2, n_estimators=480;, score=0.895 total time=  11.8s\n",
      "[CV 9/10; 1/1] START criterion=gini, max_depth=54, max_features=log2, n_estimators=480\n",
      "[CV 9/10; 1/1] END criterion=gini, max_depth=54, max_features=log2, n_estimators=480;, score=0.901 total time=   6.5s\n",
      "[CV 2/10; 1/1] START criterion=entropy, max_depth=40, max_features=sqrt, n_estimators=499\n",
      "[CV 2/10; 1/1] END criterion=entropy, max_depth=40, max_features=sqrt, n_estimators=499;, score=0.960 total time= 1.4min\n",
      "[CV 1/10; 1/1] START criterion=gini, max_depth=12, max_features=sqrt, n_estimators=103\n",
      "[CV 1/10; 1/1] END criterion=gini, max_depth=12, max_features=sqrt, n_estimators=103;, score=0.902 total time=   6.0s\n",
      "[CV 10/10; 1/1] START criterion=gini, max_depth=12, max_features=sqrt, n_estimators=103\n",
      "[CV 10/10; 1/1] END criterion=gini, max_depth=12, max_features=sqrt, n_estimators=103;, score=0.895 total time=   3.9s\n",
      "[CV 5/10; 1/1] START criterion=gini, max_depth=39, max_features=sqrt, n_estimators=500\n",
      "[CV 5/10; 1/1] END criterion=gini, max_depth=39, max_features=sqrt, n_estimators=500;, score=0.959 total time=  36.9s\n",
      "[CV 7/10; 1/1] START criterion=entropy, max_depth=11, max_features=log2, n_estimators=111\n",
      "[CV 7/10; 1/1] END criterion=entropy, max_depth=11, max_features=log2, n_estimators=111;, score=0.826 total time=   4.4s\n",
      "[CV 1/10; 1/1] START criterion=gini, max_depth=34, max_features=sqrt, n_estimators=496\n",
      "[CV 1/10; 1/1] END criterion=gini, max_depth=34, max_features=sqrt, n_estimators=496;, score=0.908 total time=  35.4s\n",
      "[CV 9/10; 1/1] START criterion=gini, max_depth=34, max_features=sqrt, n_estimators=496\n",
      "[CV 9/10; 1/1] END criterion=gini, max_depth=34, max_features=sqrt, n_estimators=496;, score=0.971 total time=  20.0s\n",
      "[CV 5/10; 1/1] START criterion=gini, max_depth=32, max_features=log2, n_estimators=101\n",
      "[CV 5/10; 1/1] END criterion=gini, max_depth=32, max_features=log2, n_estimators=101;, score=0.913 total time=   2.1s\n",
      "[CV 2/10; 1/1] START criterion=gini, max_depth=43, max_features=sqrt, n_estimators=496\n",
      "[CV 2/10; 1/1] END criterion=gini, max_depth=43, max_features=sqrt, n_estimators=496;, score=0.971 total time=  36.5s\n",
      "[CV 5/10; 1/1] START criterion=gini, max_depth=24, max_features=sqrt, n_estimators=497\n",
      "[CV 5/10; 1/1] END criterion=gini, max_depth=24, max_features=sqrt, n_estimators=497;, score=0.971 total time=  35.4s\n",
      "[CV 5/10; 1/1] START criterion=gini, max_depth=48, max_features=sqrt, n_estimators=102\n",
      "[CV 5/10; 1/1] END criterion=gini, max_depth=48, max_features=sqrt, n_estimators=102;, score=0.965 total time=   8.3s\n",
      "[CV 6/10; 1/1] START criterion=gini, max_depth=22, max_features=log2, n_estimators=112\n",
      "[CV 6/10; 1/1] END criterion=gini, max_depth=22, max_features=log2, n_estimators=112;, score=0.878 total time=   2.5s\n",
      "[CV 4/10; 1/1] START criterion=gini, max_depth=36, max_features=sqrt, n_estimators=124\n",
      "[CV 4/10; 1/1] END criterion=gini, max_depth=36, max_features=sqrt, n_estimators=124;, score=0.960 total time=   8.9s\n",
      "[CV 10/10; 1/1] START criterion=gini, max_depth=36, max_features=sqrt, n_estimators=124\n",
      "[CV 10/10; 1/1] END criterion=gini, max_depth=36, max_features=sqrt, n_estimators=124;, score=0.942 total time=   4.9s\n",
      "[CV 3/10; 1/1] START criterion=gini, max_depth=37, max_features=sqrt, n_estimators=100\n",
      "[CV 3/10; 1/1] END criterion=gini, max_depth=37, max_features=sqrt, n_estimators=100;, score=0.960 total time=   7.2s\n",
      "[CV 6/10; 1/1] START criterion=gini, max_depth=57, max_features=sqrt, n_estimators=495\n",
      "[CV 6/10; 1/1] END criterion=gini, max_depth=57, max_features=sqrt, n_estimators=495;, score=0.948 total time=  35.2s\n",
      "[CV 6/10; 1/1] START criterion=entropy, max_depth=48, max_features=sqrt, n_estimators=488\n",
      "[CV 6/10; 1/1] END criterion=entropy, max_depth=48, max_features=sqrt, n_estimators=488;, score=0.948 total time= 1.8min\n",
      "[CV 1/10; 1/1] START criterion=gini, max_depth=29, max_features=sqrt, n_estimators=100\n",
      "[CV 1/10; 1/1] END criterion=gini, max_depth=29, max_features=sqrt, n_estimators=100;, score=0.913 total time=   7.1s\n",
      "[CV 9/10; 1/1] START criterion=gini, max_depth=29, max_features=sqrt, n_estimators=100\n",
      "[CV 9/10; 1/1] END criterion=gini, max_depth=29, max_features=sqrt, n_estimators=100;, score=0.971 total time=   4.3s\n",
      "[CV 6/10; 1/1] START criterion=gini, max_depth=60, max_features=sqrt, n_estimators=113\n",
      "[CV 6/10; 1/1] END criterion=gini, max_depth=60, max_features=sqrt, n_estimators=113;, score=0.959 total time=   8.4s\n",
      "[CV 7/10; 1/1] START criterion=gini, max_depth=49, max_features=sqrt, n_estimators=500\n",
      "[CV 7/10; 1/1] END criterion=gini, max_depth=49, max_features=sqrt, n_estimators=500;, score=0.965 total time=  36.2s\n",
      "[CV 10/10; 1/1] START criterion=gini, max_depth=49, max_features=sqrt, n_estimators=500\n",
      "[CV 10/10; 1/1] END criterion=gini, max_depth=49, max_features=sqrt, n_estimators=500;, score=0.924 total time=  19.9s\n",
      "[CV 8/10; 1/1] START criterion=gini, max_depth=45, max_features=sqrt, n_estimators=108\n",
      "[CV 8/10; 1/1] END criterion=gini, max_depth=45, max_features=sqrt, n_estimators=108;, score=0.959 total time=   8.8s\n",
      "[CV 5/10; 1/1] START criterion=gini, max_depth=30, max_features=sqrt, n_estimators=495\n",
      "[CV 5/10; 1/1] END criterion=gini, max_depth=30, max_features=sqrt, n_estimators=495;, score=0.977 total time=  38.9s\n",
      "[CV 6/10; 1/1] START criterion=gini, max_depth=52, max_features=sqrt, n_estimators=499\n",
      "[CV 6/10; 1/1] END criterion=gini, max_depth=52, max_features=sqrt, n_estimators=499;, score=0.948 total time=  38.8s\n",
      "[CV 3/10; 1/1] START criterion=entropy, max_depth=60, max_features=sqrt, n_estimators=491\n",
      "[CV 3/10; 1/1] END criterion=entropy, max_depth=60, max_features=sqrt, n_estimators=491;, score=0.942 total time= 1.3min\n",
      "[CV 9/10; 1/1] START criterion=entropy, max_depth=60, max_features=sqrt, n_estimators=491\n",
      "[CV 9/10; 1/1] END criterion=entropy, max_depth=60, max_features=sqrt, n_estimators=491;, score=0.959 total time=  44.1s\n"
     ]
    },
    {
     "name": "stdout",
     "output_type": "stream",
     "text": [
      "IG\n",
      "     Feature_Name     Score\n",
      "458       COL18A1  0.439659\n",
      "2069      TACSTD2  0.393233\n",
      "925          HADH  0.391744\n",
      "1076         IRX2  0.386295\n",
      "1274         MAFA  0.382855\n",
      "1331        MMP14  0.379180\n",
      "1609       PMEPA1  0.377889\n",
      "1174         KRT7  0.370396\n",
      "157           ARX  0.363023\n",
      "1528        PCSK1  0.361565\n",
      "1859     SERPING1  0.352625\n",
      "777          FLNA  0.352142\n",
      "838            GC  0.347470\n",
      "237         C1QL1  0.345958\n",
      "1028       IFITM3  0.344534\n",
      "811         FXYD3  0.337246\n",
      "664           ENG  0.331376\n",
      "1170        KRT19  0.331151\n",
      "1833         SDC4  0.331093\n",
      "362      CDC42EP1  0.328337\n",
      "(1724, 400)\n",
      "(1724, 400)\n",
      "(1724, 300)\n",
      "Anova Accuracy\n",
      "0.9459459459459459\n",
      "RF MultiClass and Anova\n",
      "[ 89.18918919  99.50738916  95.83333333 100.          97.2972973\n",
      "  80.          85.71428571  50.         100.           0.\n",
      "  50.         100.           0.           0.        ]\n",
      "[ 97.05882353  91.81818182  95.83333333  98.9010989   94.73684211\n",
      " 100.         100.          92.85714286 100.                  nan\n",
      " 100.         100.                  nan          nan]\n",
      "[ 99.03474903  96.33204633  99.61389961  99.80694981  98.26254826\n",
      "  99.80694981  99.80694981  97.2972973  100.          99.80694981\n",
      "  99.80694981 100.          99.80694981  99.80694981]\n",
      "[ 99.79209979  94.28571429  99.79757085  99.76635514  98.52579853\n",
      " 100.         100.          99.79674797 100.         100.\n",
      " 100.         100.         100.         100.        ]\n",
      "[ 99.17355372  99.66442953  99.79757085 100.          99.25742574\n",
      "  99.80544747  99.8046875   97.42063492 100.          99.80694981\n",
      "  99.8065764  100.          99.80694981  99.80694981]\n",
      "[ 92.95774648  95.50827423  95.83333333  99.44751381  96.\n",
      "  88.88888889  92.30769231  65.         100.                  nan\n",
      "  66.66666667 100.                  nan          nan]\n"
     ]
    },
    {
     "name": "stderr",
     "output_type": "stream",
     "text": [
      "/var/folders/fh/mtkq58kd5ks3szv1j095_fbc0000gp/T/ipykernel_32627/1145178971.py:44: RuntimeWarning: invalid value encountered in true_divide\n",
      "  recall =  TP/(TP+FN) * 100\n"
     ]
    },
    {
     "name": "stdout",
     "output_type": "stream",
     "text": [
      "Chi2 Accuracy\n",
      "0.5077220077220077\n",
      "SVC MultiClass and Chi2\n",
      "[ 13.51351351  57.14285714 100.          65.55555556  24.32432432\n",
      " 100.          85.71428571  38.46153846 100.           0.\n",
      "  50.         100.           0.           0.        ]\n",
      "[ 17.24137931  48.53556485  96.          71.08433735  27.\n",
      " 100.         100.          50.         100.                  nan\n",
      " 100.         100.                  nan          nan]\n",
      "[ 89.18918919  59.45945946  99.80694981  89.38223938  69.69111969\n",
      " 100.          99.80694981  94.98069498 100.          99.80694981\n",
      "  99.80694981 100.          99.80694981  99.80694981]\n",
      "[ 95.01039501  60.95238095  99.79757085  94.39252336  82.06388206\n",
      " 100.         100.          97.96747967 100.         100.\n",
      " 100.         100.         100.         100.        ]\n",
      "[ 93.45603272  68.8172043  100.          92.87356322  79.90430622\n",
      " 100.          99.8046875   96.78714859 100.          99.80694981\n",
      "  99.8065764  100.          99.80694981  99.80694981]\n",
      "[ 15.15151515  52.48868778  97.95918367  68.20809249  25.59241706\n",
      " 100.          92.30769231  43.47826087 100.                  nan\n",
      "  66.66666667 100.                  nan          nan]\n"
     ]
    },
    {
     "name": "stderr",
     "output_type": "stream",
     "text": [
      "/var/folders/fh/mtkq58kd5ks3szv1j095_fbc0000gp/T/ipykernel_32627/1145178971.py:44: RuntimeWarning: invalid value encountered in true_divide\n",
      "  recall =  TP/(TP+FN) * 100\n"
     ]
    },
    {
     "name": "stdout",
     "output_type": "stream",
     "text": [
      "IG Accuracy\n",
      "0.9652509652509652\n",
      "SVC MultiClass and IG\n",
      "[ 97.2972973   99.50738916  95.83333333 100.          98.1981982\n",
      "  80.         100.          73.07692308 100.           0.\n",
      "  50.          66.66666667   0.           0.        ]\n",
      "[ 92.30769231  95.28301887 100.          97.82608696  97.32142857\n",
      " 100.         100.         100.         100.                  nan\n",
      " 100.         100.                  nan          nan]\n",
      "[ 99.22779923  97.87644788  99.80694981  99.61389961  99.03474903\n",
      "  99.80694981 100.          98.64864865 100.          99.80694981\n",
      "  99.80694981  99.80694981  99.80694981  99.80694981]\n",
      "[ 99.37629938  96.82539683 100.          99.53271028  99.26289926\n",
      " 100.         100.         100.         100.         100.\n",
      " 100.         100.         100.         100.        ]\n",
      "[ 99.79123173  99.67320261  99.7979798  100.          99.50738916\n",
      "  99.80544747 100.          98.59719439 100.          99.80694981\n",
      "  99.8065764   99.80620155  99.80694981  99.80694981]\n",
      "[ 94.73684211  97.34939759  97.87234043  98.9010989   97.75784753\n",
      "  88.88888889 100.          84.44444444 100.                  nan\n",
      "  66.66666667  80.                  nan          nan]\n"
     ]
    },
    {
     "name": "stderr",
     "output_type": "stream",
     "text": [
      "/var/folders/fh/mtkq58kd5ks3szv1j095_fbc0000gp/T/ipykernel_32627/1145178971.py:44: RuntimeWarning: invalid value encountered in true_divide\n",
      "  recall =  TP/(TP+FN) * 100\n"
     ]
    },
    {
     "data": {
      "text/plain": [
       "<Figure size 432x288 with 0 Axes>"
      ]
     },
     "metadata": {},
     "output_type": "display_data"
    },
    {
     "data": {
      "image/png": "[encoded data removed]",
      "text/plain": [
       "<Figure size 432x288 with 1 Axes>"
      ]
     },
     "metadata": {
      "needs_background": "light"
     },
     "output_type": "display_data"
    },
    {
     "data": {
      "image/png": "[encoded data removed]",
      "text/plain": [
       "<Figure size 432x288 with 1 Axes>"
      ]
     },
     "metadata": {
      "needs_background": "light"
     },
     "output_type": "display_data"
    },
    {
     "data": {
      "image/png": "[encoded data removed]",
      "text/plain": [
       "<Figure size 432x288 with 1 Axes>"
      ]
     },
     "metadata": {
      "needs_background": "light"
     },
     "output_type": "display_data"
    }
   ],
   "source": [
    "### import numpy as np\n",
    "import pandas as pd\n",
    "from sklearn.model_selection import GridSearchCV\n",
    "from sklearn.svm import SVC\n",
    "from sklearn.ensemble import RandomForestClassifier\n",
    "from sklearn.neighbors import KNeighborsClassifier\n",
    "from sklearn.feature_selection import chi2, mutual_info_classif, SelectKBest, f_classif\n",
    "from sklearn.model_selection import cross_val_score \n",
    "import matplotlib.pyplot as plt\n",
    "from sklearn.metrics import confusion_matrix, f1_score\n",
    "from sklearn.model_selection import cross_val_predict\n",
    "from sklearn.metrics import accuracy_score, roc_curve, auc\n",
    "from skopt.space import Real, Categorical, Integer\n",
    "from skopt import BayesSearchCV\n",
    "from sklearn.preprocessing import label_binarize\n",
    "from sklearn.multiclass import OneVsRestClassifier\n",
    "from sklearn.model_selection import train_test_split\n",
    "\n",
    "#Load data from csv file\n",
    "data = pd.read_csv(\"data2NormWithColNamesRowNames.csv\")\n",
    "data.head(10) \n",
    "\n",
    "data.set_index(\"Unnamed: 0\", inplace = True)\n",
    "data.index.name = None\n",
    "\n",
    "X = data.iloc[:, data.columns != 'assigned_cluster'].values\n",
    "#X=data.iloc[:,0:4915]\n",
    "X = np.absolute(X)\n",
    "\n",
    "y = data.iloc[:,data.columns == 'assigned_cluster'].values.ravel()\n",
    "def precision_MC(y_true, y_pred):\n",
    "    TP = np.diag(confusion_matrix(y_true, y_pred))\n",
    "    FP = confusion_matrix(y_true, y_pred).sum(axis=1) - np.diag(confusion_matrix(y_true, y_pred))\n",
    "    FP = FP.astype(float)\n",
    "    TP = TP.astype(float)\n",
    "    precision = TP/(TP+FP) * 100\n",
    "    return precision\n",
    "\n",
    "def recall_MC(y_true, y_pred):\n",
    "    TP = np.diag(confusion_matrix(y_true, y_pred))\n",
    "    FN = confusion_matrix(y_true, y_pred).sum(axis=0) - np.diag(confusion_matrix(y_true, y_pred))\n",
    "    FN = FN.astype(float)\n",
    "    TP = TP.astype(float)\n",
    "    recall =  TP/(TP+FN) * 100\n",
    "    return recall\n",
    "\n",
    "def accuracy_MC(y_true, y_pred):\n",
    "    FP = confusion_matrix(y_true, y_pred).sum(axis=1) - np.diag(confusion_matrix(y_true, y_pred))  \n",
    "    FN = confusion_matrix(y_true, y_pred).sum(axis=0) - np.diag(confusion_matrix(y_true, y_pred))\n",
    "    TP = np.diag(confusion_matrix(y_true, y_pred))\n",
    "    TP = TP.astype(float)\n",
    "    TN = confusion_matrix(y_true, y_pred).sum() - (FP + FN + TP)\n",
    "    FP = FP.astype(float)\n",
    "    FN = FN.astype(float)\n",
    "    TN = TN.astype(float)\n",
    "    accuracy = (TP+TN)/(TP+FP+FN+TN) * 100\n",
    "    return accuracy\n",
    "\n",
    "def npval_MC(y_true, y_pred): \n",
    "    FN = confusion_matrix(y_true, y_pred).sum(axis=0) - np.diag(confusion_matrix(y_true, y_pred))\n",
    "    FN = FN.astype(float)\n",
    "    TP = np.diag(confusion_matrix(y_true, y_pred))\n",
    "    TP = TP.astype(float)\n",
    "    FP = confusion_matrix(y_true, y_pred).sum(axis=1) - np.diag(confusion_matrix(y_true, y_pred)) \n",
    "    FP = FP.astype(float)\n",
    "    TN = confusion_matrix(y_true, y_pred).sum() - (FP + FN + TP)\n",
    "    TN = TN.astype(float)\n",
    "    npv = TN/(TN+FN) * 100\n",
    "    return npv\n",
    "\n",
    "def specificity_MC(y_true, y_pred): \n",
    "    FP = confusion_matrix(y_true, y_pred).sum(axis=1) - np.diag(confusion_matrix(y_true, y_pred)) \n",
    "    FP = FP.astype(float)\n",
    "    FN = confusion_matrix(y_true, y_pred).sum(axis=0) - np.diag(confusion_matrix(y_true, y_pred))\n",
    "    FN = FN.astype(float)\n",
    "    TP = np.diag(confusion_matrix(y_true, y_pred))\n",
    "    TP = TP.astype(float)\n",
    "    TN = confusion_matrix(y_true, y_pred).sum() - (FP + FN + TP)\n",
    "    TN = TN.astype(float)\n",
    "    spec = TN/(TN+FP)  * 100\n",
    "    return spec\n",
    "\n",
    "\n",
    "def plot_ROC_curve_MC(y_true, y_pred, FSName):\n",
    "    n_classes = len(np.unique(y_true))\n",
    "    y_true = label_binarize(y_true, classes=np.arange(n_classes))\n",
    "    #y_pred = label_binarize(y_pred, classes=np.arange(n_classes))\n",
    "    \n",
    "    # Compute ROC curve and ROC area for each class\n",
    "    fpr = dict()\n",
    "    tpr = dict()\n",
    "    roc_auc = dict()\n",
    "    for i in range(n_classes):\n",
    "        fpr[i], tpr[i], _ = roc_curve(y_true[:, i], y_pred[:, i])\n",
    "        roc_auc[i] = auc(fpr[i], tpr[i])\n",
    "        \n",
    "    # First aggregate all false positive rates\n",
    "    all_fpr = np.unique(np.concatenate([fpr[i] for i in range(n_classes)]))\n",
    "\n",
    "    # Then interpolate all ROC curves at this points\n",
    "    mean_tpr = np.zeros_like(all_fpr)\n",
    "    for i in range(n_classes):\n",
    "        mean_tpr += np.interp(all_fpr, fpr[i], tpr[i])\n",
    "\n",
    "    # Finally average it and compute AUC\n",
    "    mean_tpr /= n_classes\n",
    "    \n",
    "    # Plot all ROC curves\n",
    "    plt.figure()\n",
    "    #colors = cycle([\"aqua\", \"darkorange\", \"cornflowerblue\"])\n",
    "    for i in range(n_classes):\n",
    "        plt.plot(\n",
    "            fpr[i],\n",
    "            tpr[i],\n",
    "            label=\"ROC curve of class {0} (area = {1:0.4f})\".format(i, roc_auc[i]),\n",
    "        )\n",
    "\n",
    "    plt.plot([0, 1], [0, 1], \"k--\")\n",
    "    plt.xlim([0.0, 1.0])\n",
    "    plt.ylim([0.0, 1.05])\n",
    "    plt.xlabel(\"False Positive Rate\")\n",
    "    plt.ylabel(\"True Positive Rate\")\n",
    "    plt.title(\"ROC Curve of \" + str(FSName))\n",
    "    plt.legend(loc=\"lower right\")\n",
    "    path = \"ROC_\"+ str(FSName)\n",
    "    plt.savefig(f'{path}.png')\n",
    "\n",
    "#Bayesian Search\n",
    "bayesian_search = BayesSearchCV(\n",
    "        RandomForestClassifier(),\n",
    "        {\n",
    "            'criterion': Categorical(['gini','entropy']),\n",
    "            'max_depth': Integer(1,60),\n",
    "            'n_estimators':(100,500),\n",
    "            'max_features': (['sqrt','log2'])\n",
    "            #'max_leaf_nodes':Integer(0,prior='log-uniform'),\n",
    "            #'min_samples_leaf':Real(0.1,0.5,prior='uniform'),\n",
    "            #'min_samples_split':Real(0.1,1,prior='uniform')\n",
    "        },\n",
    "        n_iter=50,scoring='accuracy',n_jobs = -1, verbose = 10,\n",
    "        random_state=0, cv=10\n",
    "    )\n",
    "\n",
    "#grid_search = GridSearchCV(SVC(), tuned_params, cv=10, scoring='accuracy',n_jobs = -1, verbose = 10)\n",
    "bayesian_search.fit(X, y)\n",
    "bayesian_search.best_params_\n",
    "print(\"\")\n",
    "print(\"Best Parameters Found\")\n",
    "print(bayesian_search.best_params_) \n",
    "clf = RandomForestClassifier(criterion = bayesian_search.best_params_['criterion'], max_depth = bayesian_search.best_params_['max_depth'], n_estimators= bayesian_search.best_params_['n_estimators'],\n",
    "      max_features= bayesian_search.best_params_['max_features'])\n",
    "\n",
    "#clf = SVC(kernel = 'linear', C= 0.1)\n",
    "k_range = [100,200,300,400]\n",
    "acc_chi2 = []\n",
    "acc_mi = []\n",
    "acc_annova = []\n",
    "\n",
    "for i in k_range:    \n",
    "    X_kbest_features_annova = SelectKBest(f_classif, k=i).fit_transform(X, y)\n",
    "    \n",
    "    acc = cross_val_score(clf, X_kbest_features_annova, y, cv=10, scoring=\"accuracy\").mean() \n",
    "    acc_annova.append(acc*100)\n",
    "    print(acc_annova)\n",
    "    \n",
    "    X_kbest_features_chi2 = SelectKBest(chi2, k=i).fit_transform(X, y)\n",
    "    \n",
    "    acc1 = cross_val_score(clf, X_kbest_features_chi2, y, cv=10, scoring=\"accuracy\").mean() \n",
    "    acc_chi2.append(acc1*100)\n",
    "    print(acc_chi2)\n",
    "    \n",
    "    X_kbest_features_mi = SelectKBest(mutual_info_classif, k=i).fit_transform(X,y)\n",
    "    \n",
    "    acc2 = cross_val_score(clf, X_kbest_features_mi, y, cv=10, scoring=\"accuracy\").mean()\n",
    "    acc_mi.append(acc2*100)\n",
    "    print(acc_mi)\n",
    "\n",
    "print(\"Accuracy Anova\", acc_annova)\n",
    "print(\"Chi2 accuracy\", acc_chi2)\n",
    "print(\"IG accuracy\", acc_mi)\n",
    "\n",
    "optimal_k_annova = k_range[acc_annova.index(max(acc_annova))]\n",
    "optimal_k_chi2 = k_range[acc_chi2.index(max(acc_chi2))]\n",
    "optimal_k_mi = k_range[acc_mi.index(max(acc_mi))]\n",
    "\n",
    "# multiple line plot of all Feature selection methods\n",
    "plt.plot( k_range, acc_annova,color='blue', linewidth=2, label = \"Anova F-value\")\n",
    "plt.plot( k_range, acc_chi2, color='orange', linewidth=2, label =\"Chi2\")\n",
    "plt.plot( k_range, acc_mi, color='green', linewidth=2, label=\"Information Gain\")\n",
    "plt.legend()\n",
    "plt.xlabel(\"Number of Features k\")\n",
    "plt.ylabel(\"Accuracy\")\n",
    "plt.show()\n",
    "plt.savefig('Bestk.png')\n",
    "\n",
    "data1 = data\n",
    "data1.drop(columns='assigned_cluster', inplace = True)\n",
    "data1.head(10)\n",
    "\n",
    "df_columns = pd.DataFrame(data1.columns)\n",
    "\n",
    "#Printing top 20 features_anova\n",
    "bestfeatures_anova = SelectKBest(f_classif, k= optimal_k_annova)\n",
    "fit_anova = bestfeatures_anova.fit(X,y)\n",
    "df_scores_anova = pd.DataFrame(fit_anova.scores_)\n",
    "\n",
    "# concatenate dataframes\n",
    "feature_scores_anova = pd.concat([df_columns, df_scores_anova],axis=1)\n",
    "feature_scores_anova.columns = ['Feature_Name','Score']  # name output columns\n",
    "print(\"Anova\")\n",
    "print(feature_scores_anova.nlargest(20,'Score')) \n",
    "# export selected features to .csv\n",
    "df_feat_anova = feature_scores_anova.nlargest(20,'Score')\n",
    "df_feat_anova.to_csv('RF_1_feature_selected_Anova.csv', index=False)\n",
    "\n",
    "#Printing top 20 features_chi2\n",
    "bestfeatures_chi2 = SelectKBest(chi2, k= optimal_k_chi2)\n",
    "fit_chi2 = bestfeatures_chi2.fit(X,y)\n",
    "df_scores_chi2 = pd.DataFrame(fit_chi2.scores_)\n",
    "\n",
    "# concatenate dataframes\n",
    "feature_scores_chi2 = pd.concat([df_columns, df_scores_chi2],axis=1)\n",
    "feature_scores_chi2.columns = ['Feature_Name','Score']  # name output columns\n",
    "print(\"CHI2\")\n",
    "print(feature_scores_chi2.nlargest(20,'Score')) \n",
    "# export selected features to .csv\n",
    "df_feat_chi2 = feature_scores_chi2.nlargest(20,'Score')\n",
    "df_feat_chi2.to_csv('RF_1_feature_selected_Chi2.csv', index=False)\n",
    "\n",
    "#Printing top 20 features_IG\n",
    "bestfeatures_ig = SelectKBest(mutual_info_classif, k= optimal_k_mi)\n",
    "fit_ig = bestfeatures_ig.fit(X,y)\n",
    "df_scores_ig = pd.DataFrame(fit_ig.scores_)\n",
    "\n",
    "# concatenate dataframes\n",
    "feature_scores_ig = pd.concat([df_columns, df_scores_ig],axis=1)\n",
    "feature_scores_ig.columns = ['Feature_Name','Score']  # name output columns\n",
    "print(\"IG\")\n",
    "print(feature_scores_ig.nlargest(20,'Score')) \n",
    "# export selected features to .csv\n",
    "df_feat_ig = feature_scores_ig.nlargest(20,'Score')\n",
    "df_feat_ig.to_csv('RF_1_feature_selected_IG.csv', index=False)\n",
    "\n",
    "perf_cols = [\"Cell Type\", \"Accuracy%\",\"Precision%\",\"Recall%\",\"Negative Predictive Value%\",\"Specificity%\",\"F1-score%\"]\n",
    "perf_anova  = pd.DataFrame(columns = perf_cols)\n",
    "perf_chi2  = pd.DataFrame(columns = perf_cols)\n",
    "perf_mi  = pd.DataFrame(columns = perf_cols)\n",
    "\n",
    "label = np.unique(y.tolist())\n",
    "class_lbl = [int(i) for i in label] \n",
    "class_lbl = ['CellType ' + str(s) for s in class_lbl]\n",
    "\n",
    "#Feature selection\n",
    "X_kbestfeatures_annova = SelectKBest(f_classif, k = optimal_k_annova).fit_transform(X, y)\n",
    "X_kbestfeatures_chi2 = SelectKBest(chi2, k = optimal_k_chi2).fit_transform(X, y)\n",
    "X_kbestfeatures_mi = SelectKBest(mutual_info_classif, k = optimal_k_mi).fit_transform(X, y)\n",
    "\n",
    "print(X_kbestfeatures_annova.shape) #(1724, 300)\n",
    "print(X_kbestfeatures_chi2.shape) #(1724, 400)\n",
    "print(X_kbestfeatures_mi.shape) #(1724, 200)\n",
    "\n",
    "#Anova + classification Method\n",
    "random_state = np.random.RandomState(0)\n",
    "\n",
    "X_train_anova, X_test_anova, y_train_anova, y_test_anova = train_test_split(X_kbestfeatures_annova, y, test_size = 0.30, stratify=y)\n",
    "clf.fit(X_train_anova, y_train_anova)\n",
    "y_pred_anova = clf.predict(X_test_anova)\n",
    "\n",
    "X_train_anova.shape #(1351,400) , (1206, 300)\n",
    "X_test_anova.shape #(579, 400), (518, 300)\n",
    "\n",
    "anova_accuracy = accuracy_score(y_test_anova, y_pred_anova)\n",
    "print(\"Anova Accuracy\")\n",
    "print(anova_accuracy) #0.9792746113989638, 0.8687258687258688\n",
    "\n",
    "pre_anova = precision_MC(y_test_anova,y_pred_anova)\n",
    "rec_anova = recall_MC(y_test_anova,y_pred_anova)\n",
    "acc_anova = accuracy_MC(y_test_anova,y_pred_anova)\n",
    "npv_anova = npval_MC(y_test_anova,y_pred_anova)\n",
    "spe_anova = specificity_MC(y_test_anova,y_pred_anova)\n",
    "f1_anova = 2* (pre_anova * rec_anova)/(pre_anova + rec_anova)\n",
    "\n",
    "print(\"RF MultiClass and Anova\")\n",
    "print(pre_anova)\n",
    "print(rec_anova)\n",
    "print(acc_anova)\n",
    "print(npv_anova)\n",
    "print(spe_anova)\n",
    "print(f1_anova)\n",
    "\n",
    "perf_anova['Cell Type'] = class_lbl\n",
    "perf_anova['Precision%'] = pre_anova.tolist()\n",
    "perf_anova['Accuracy%'] =  acc_anova.tolist()\n",
    "perf_anova['Recall%']  = rec_anova.tolist()\n",
    "perf_anova['Negative Predictive Value%'] = npv_anova.tolist()\n",
    "perf_anova['Specificity%'] = spe_anova.tolist()\n",
    "perf_anova['F1-score%'] = f1_anova.tolist()\n",
    "\n",
    "perf_anova.to_csv('RF_1_PerformanceMetrics_Anova.csv', index = False)\n",
    "\n",
    "#Plot ROC curve for OneVsRest + Anova\n",
    "#y_score_anova = classifier.fit(X_train_anova, y_train_anova).decision_function(X_test_anova)\n",
    "\n",
    "n_classes = len(np.unique(y_test_anova))\n",
    "y_pred_an = label_binarize(y_pred_anova, classes=np.arange(n_classes))\n",
    "\n",
    "plot_ROC_curve_MC(y_test_anova, y_pred_an, \"Anova\")\n",
    "\n",
    "#Chi2 + classification Method\n",
    "X_train_chi2, X_test_chi2, y_train_chi2, y_test_chi2 = train_test_split(X_kbestfeatures_chi2, y, test_size = 0.30, stratify=y)\n",
    "clf.fit(X_train_chi2, y_train_chi2)\n",
    "y_pred_chi2 = clf.predict(X_test_chi2)\n",
    "\n",
    "X_train_anova.shape #(1351,400), (1206, 400)\n",
    "X_test_anova.shape #(579, 400), (518, 400)\n",
    "\n",
    "chi2_accuracy = accuracy_score(y_test_chi2, y_pred_chi2)\n",
    "print(\"Chi2 Accuracy\")\n",
    "print(chi2_accuracy) #0.9585492227979274, 0.6621621621621622\n",
    "\n",
    "pre_chi2 = precision_MC(y_test_chi2,y_pred_chi2)\n",
    "rec_chi2 = recall_MC(y_test_chi2,y_pred_chi2)\n",
    "acc_chi2 = accuracy_MC(y_test_chi2,y_pred_chi2)\n",
    "npv_chi2 = npval_MC(y_test_chi2,y_pred_chi2)\n",
    "spe_chi2 = specificity_MC(y_test_chi2,y_pred_chi2)\n",
    "f1_chi2 = 2* (pre_chi2 * rec_chi2)/(pre_chi2 + rec_chi2)\n",
    "\n",
    "print(\"SVC MultiClass and Chi2\")\n",
    "print(pre_chi2)\n",
    "print(rec_chi2)\n",
    "print(acc_chi2)\n",
    "print(npv_chi2)\n",
    "print(spe_chi2)\n",
    "print(f1_chi2)\n",
    "\n",
    "perf_chi2['Cell Type'] = class_lbl\n",
    "perf_chi2['Precision%'] = pre_chi2.tolist()\n",
    "perf_chi2['Accuracy%'] =  acc_chi2.tolist()\n",
    "perf_chi2['Recall%']  = rec_chi2.tolist()\n",
    "perf_chi2['Negative Predictive Value%'] = npv_chi2.tolist()\n",
    "perf_chi2['Specificity%'] = spe_chi2.tolist()\n",
    "perf_chi2['F1-score%'] = f1_chi2.tolist()\n",
    "\n",
    "perf_chi2.to_csv('RF_1_PerformanceMetrics_Chi2.csv', index = False)\n",
    "\n",
    "#Plot ROC curve for OneVsRest + Chi2\n",
    "#y_score_chi2 = classifier.fit(X_train_chi2, y_train_chi2).decision_function(X_test_chi2)\n",
    "\n",
    "n_classes = len(np.unique(y_test_chi2))\n",
    "y_pred_chi = label_binarize(y_pred_chi2, classes=np.arange(n_classes))\n",
    "\n",
    "plot_ROC_curve_MC(y_test_chi2, y_pred_chi, \"Chi2\")\n",
    "\n",
    "#IG + classification Method\n",
    "X_train_mi, X_test_mi, y_train_mi, y_test_mi = train_test_split(X_kbestfeatures_mi, y, test_size = 0.30, stratify=y)\n",
    "clf.fit(X_train_mi, y_train_mi)\n",
    "y_pred_mi = clf.predict(X_test_mi)\n",
    "\n",
    "X_train_mi.shape #(1351,400), (1206, 400)\n",
    "X_test_mi.shape #(579, 400), (518, 400)\n",
    "\n",
    "mi_accuracy = accuracy_score(y_test_mi, y_pred_mi)\n",
    "print(\"IG Accuracy\")\n",
    "print(mi_accuracy) #0.9775474956822107, 0.972972972972973\n",
    "\n",
    "pre_mi = precision_MC(y_test_mi,y_pred_mi)\n",
    "rec_mi = recall_MC(y_test_mi,y_pred_mi)\n",
    "acc_mi = accuracy_MC(y_test_mi,y_pred_mi)\n",
    "npv_mi = npval_MC(y_test_mi,y_pred_mi)\n",
    "spe_mi = specificity_MC(y_test_mi,y_pred_mi)\n",
    "f1_mi = 2* (pre_mi * rec_mi)/(pre_mi + rec_mi)\n",
    "\n",
    "print(\"SVC MultiClass and IG\")\n",
    "print(pre_mi)\n",
    "print(rec_mi)\n",
    "print(acc_mi)\n",
    "print(npv_mi)\n",
    "print(spe_mi)\n",
    "print(f1_mi)\n",
    "\n",
    "perf_mi['Cell Type'] = class_lbl\n",
    "perf_mi['Precision%'] = pre_mi.tolist()\n",
    "perf_mi['Accuracy%'] =  acc_mi.tolist()\n",
    "perf_mi['Recall%']  = rec_mi.tolist()\n",
    "perf_mi['Negative Predictive Value%'] = npv_mi.tolist()\n",
    "perf_mi['Specificity%'] = spe_mi.tolist()\n",
    "perf_mi['F1-score%'] = f1_mi.tolist()\n",
    "\n",
    "perf_mi.to_csv('RF_1_PerformanceMetrics_IG.csv', index = False)\n",
    "\n",
    "#Plot ROC curve for OneVsRest + IG\n",
    "#y_score_mi = classifier.fit(X_train_mi, y_train_mi).decision_function(X_test_mi)\n",
    "\n",
    "n_classes = len(np.unique(y_test_mi))\n",
    "y_pred_ig = label_binarize(y_pred_mi, classes=np.arange(n_classes))\n",
    "\n",
    "plot_ROC_curve_MC(y_test_mi, y_pred_ig, \"IG\")\n",
    "\n",
    "\n",
    "               "
   ]
  },
  {
   "cell_type": "code",
   "execution_count": null,
   "id": "0fcb0d37",
   "metadata": {},
   "outputs": [],
   "source": []
  }
 ],
 "metadata": {
  "kernelspec": {
   "display_name": "Python 3 (ipykernel)",
   "language": "python",
   "name": "python3"
  },
  "language_info": {
   "codemirror_mode": {
    "name": "ipython",
    "version": 3
   },
   "file_extension": ".py",
   "mimetype": "text/x-python",
   "name": "python",
   "nbconvert_exporter": "python",
   "pygments_lexer": "ipython3",
   "version": "3.9.12"
  }
 },
 "nbformat": 4,
 "nbformat_minor": 5
}
