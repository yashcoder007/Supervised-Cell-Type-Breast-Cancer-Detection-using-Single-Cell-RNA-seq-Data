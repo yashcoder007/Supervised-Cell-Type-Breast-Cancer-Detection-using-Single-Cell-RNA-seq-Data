{
 "cells": [
  {
   "cell_type": "code",
   "execution_count": 8,
   "id": "05ae4c4d",
   "metadata": {},
   "outputs": [
    {
     "name": "stdout",
     "output_type": "stream",
     "text": [
      "Fitting 10 folds for each of 1 candidates, totalling 10 fits\n"
     ]
    },
    {
     "name": "stderr",
     "output_type": "stream",
     "text": [
      "/opt/anaconda3/lib/python3.9/site-packages/sklearn/model_selection/_split.py:666: UserWarning: The least populated class in y has only 2 members, which is less than n_splits=10.\n",
      "  warnings.warn((\"The least populated class in y has only %d\"\n"
     ]
    },
    {
     "name": "stdout",
     "output_type": "stream",
     "text": [
      "Fitting 10 folds for each of 1 candidates, totalling 10 fits\n"
     ]
    },
    {
     "name": "stderr",
     "output_type": "stream",
     "text": [
      "/opt/anaconda3/lib/python3.9/site-packages/sklearn/model_selection/_split.py:666: UserWarning: The least populated class in y has only 2 members, which is less than n_splits=10.\n",
      "  warnings.warn((\"The least populated class in y has only %d\"\n"
     ]
    },
    {
     "name": "stdout",
     "output_type": "stream",
     "text": [
      "Fitting 10 folds for each of 1 candidates, totalling 10 fits\n"
     ]
    },
    {
     "name": "stderr",
     "output_type": "stream",
     "text": [
      "/opt/anaconda3/lib/python3.9/site-packages/sklearn/model_selection/_split.py:666: UserWarning: The least populated class in y has only 2 members, which is less than n_splits=10.\n",
      "  warnings.warn((\"The least populated class in y has only %d\"\n"
     ]
    },
    {
     "name": "stdout",
     "output_type": "stream",
     "text": [
      "Fitting 10 folds for each of 1 candidates, totalling 10 fits\n"
     ]
    },
    {
     "name": "stderr",
     "output_type": "stream",
     "text": [
      "/opt/anaconda3/lib/python3.9/site-packages/sklearn/model_selection/_split.py:666: UserWarning: The least populated class in y has only 2 members, which is less than n_splits=10.\n",
      "  warnings.warn((\"The least populated class in y has only %d\"\n"
     ]
    },
    {
     "name": "stdout",
     "output_type": "stream",
     "text": [
      "Fitting 10 folds for each of 1 candidates, totalling 10 fits\n"
     ]
    },
    {
     "name": "stderr",
     "output_type": "stream",
     "text": [
      "/opt/anaconda3/lib/python3.9/site-packages/sklearn/model_selection/_split.py:666: UserWarning: The least populated class in y has only 2 members, which is less than n_splits=10.\n",
      "  warnings.warn((\"The least populated class in y has only %d\"\n"
     ]
    },
    {
     "name": "stdout",
     "output_type": "stream",
     "text": [
      "Fitting 10 folds for each of 1 candidates, totalling 10 fits\n"
     ]
    },
    {
     "name": "stderr",
     "output_type": "stream",
     "text": [
      "/opt/anaconda3/lib/python3.9/site-packages/sklearn/model_selection/_split.py:666: UserWarning: The least populated class in y has only 2 members, which is less than n_splits=10.\n",
      "  warnings.warn((\"The least populated class in y has only %d\"\n"
     ]
    },
    {
     "name": "stdout",
     "output_type": "stream",
     "text": [
      "Fitting 10 folds for each of 1 candidates, totalling 10 fits\n"
     ]
    },
    {
     "name": "stderr",
     "output_type": "stream",
     "text": [
      "/opt/anaconda3/lib/python3.9/site-packages/sklearn/model_selection/_split.py:666: UserWarning: The least populated class in y has only 2 members, which is less than n_splits=10.\n",
      "  warnings.warn((\"The least populated class in y has only %d\"\n"
     ]
    },
    {
     "name": "stdout",
     "output_type": "stream",
     "text": [
      "Fitting 10 folds for each of 1 candidates, totalling 10 fits\n"
     ]
    },
    {
     "name": "stderr",
     "output_type": "stream",
     "text": [
      "/opt/anaconda3/lib/python3.9/site-packages/sklearn/model_selection/_split.py:666: UserWarning: The least populated class in y has only 2 members, which is less than n_splits=10.\n",
      "  warnings.warn((\"The least populated class in y has only %d\"\n"
     ]
    },
    {
     "name": "stdout",
     "output_type": "stream",
     "text": [
      "Fitting 10 folds for each of 1 candidates, totalling 10 fits\n"
     ]
    },
    {
     "name": "stderr",
     "output_type": "stream",
     "text": [
      "/opt/anaconda3/lib/python3.9/site-packages/sklearn/model_selection/_split.py:666: UserWarning: The least populated class in y has only 2 members, which is less than n_splits=10.\n",
      "  warnings.warn((\"The least populated class in y has only %d\"\n"
     ]
    },
    {
     "name": "stdout",
     "output_type": "stream",
     "text": [
      "Fitting 10 folds for each of 1 candidates, totalling 10 fits\n"
     ]
    },
    {
     "name": "stderr",
     "output_type": "stream",
     "text": [
      "/opt/anaconda3/lib/python3.9/site-packages/sklearn/model_selection/_split.py:666: UserWarning: The least populated class in y has only 2 members, which is less than n_splits=10.\n",
      "  warnings.warn((\"The least populated class in y has only %d\"\n",
      "/opt/anaconda3/lib/python3.9/site-packages/skopt/optimizer/optimizer.py:449: UserWarning: The objective has been evaluated at this point before.\n",
      "  warnings.warn(\"The objective has been evaluated \"\n",
      "/opt/anaconda3/lib/python3.9/site-packages/sklearn/model_selection/_split.py:666: UserWarning: The least populated class in y has only 2 members, which is less than n_splits=10.\n",
      "  warnings.warn((\"The least populated class in y has only %d\"\n"
     ]
    },
    {
     "name": "stdout",
     "output_type": "stream",
     "text": [
      "Fitting 10 folds for each of 1 candidates, totalling 10 fits\n"
     ]
    },
    {
     "name": "stderr",
     "output_type": "stream",
     "text": [
      "/opt/anaconda3/lib/python3.9/site-packages/skopt/optimizer/optimizer.py:449: UserWarning: The objective has been evaluated at this point before.\n",
      "  warnings.warn(\"The objective has been evaluated \"\n",
      "/opt/anaconda3/lib/python3.9/site-packages/sklearn/model_selection/_split.py:666: UserWarning: The least populated class in y has only 2 members, which is less than n_splits=10.\n",
      "  warnings.warn((\"The least populated class in y has only %d\"\n"
     ]
    },
    {
     "name": "stdout",
     "output_type": "stream",
     "text": [
      "Fitting 10 folds for each of 1 candidates, totalling 10 fits\n"
     ]
    },
    {
     "name": "stderr",
     "output_type": "stream",
     "text": [
      "/opt/anaconda3/lib/python3.9/site-packages/skopt/optimizer/optimizer.py:449: UserWarning: The objective has been evaluated at this point before.\n",
      "  warnings.warn(\"The objective has been evaluated \"\n",
      "/opt/anaconda3/lib/python3.9/site-packages/sklearn/model_selection/_split.py:666: UserWarning: The least populated class in y has only 2 members, which is less than n_splits=10.\n",
      "  warnings.warn((\"The least populated class in y has only %d\"\n"
     ]
    },
    {
     "name": "stdout",
     "output_type": "stream",
     "text": [
      "Fitting 10 folds for each of 1 candidates, totalling 10 fits\n"
     ]
    },
    {
     "name": "stderr",
     "output_type": "stream",
     "text": [
      "/opt/anaconda3/lib/python3.9/site-packages/skopt/optimizer/optimizer.py:449: UserWarning: The objective has been evaluated at this point before.\n",
      "  warnings.warn(\"The objective has been evaluated \"\n",
      "/opt/anaconda3/lib/python3.9/site-packages/sklearn/model_selection/_split.py:666: UserWarning: The least populated class in y has only 2 members, which is less than n_splits=10.\n",
      "  warnings.warn((\"The least populated class in y has only %d\"\n"
     ]
    },
    {
     "name": "stdout",
     "output_type": "stream",
     "text": [
      "Fitting 10 folds for each of 1 candidates, totalling 10 fits\n"
     ]
    },
    {
     "name": "stderr",
     "output_type": "stream",
     "text": [
      "/opt/anaconda3/lib/python3.9/site-packages/skopt/optimizer/optimizer.py:449: UserWarning: The objective has been evaluated at this point before.\n",
      "  warnings.warn(\"The objective has been evaluated \"\n",
      "/opt/anaconda3/lib/python3.9/site-packages/sklearn/model_selection/_split.py:666: UserWarning: The least populated class in y has only 2 members, which is less than n_splits=10.\n",
      "  warnings.warn((\"The least populated class in y has only %d\"\n"
     ]
    },
    {
     "name": "stdout",
     "output_type": "stream",
     "text": [
      "Fitting 10 folds for each of 1 candidates, totalling 10 fits\n"
     ]
    },
    {
     "name": "stderr",
     "output_type": "stream",
     "text": [
      "/opt/anaconda3/lib/python3.9/site-packages/skopt/optimizer/optimizer.py:449: UserWarning: The objective has been evaluated at this point before.\n",
      "  warnings.warn(\"The objective has been evaluated \"\n",
      "/opt/anaconda3/lib/python3.9/site-packages/sklearn/model_selection/_split.py:666: UserWarning: The least populated class in y has only 2 members, which is less than n_splits=10.\n",
      "  warnings.warn((\"The least populated class in y has only %d\"\n"
     ]
    },
    {
     "name": "stdout",
     "output_type": "stream",
     "text": [
      "Fitting 10 folds for each of 1 candidates, totalling 10 fits\n"
     ]
    },
    {
     "name": "stderr",
     "output_type": "stream",
     "text": [
      "/opt/anaconda3/lib/python3.9/site-packages/skopt/optimizer/optimizer.py:449: UserWarning: The objective has been evaluated at this point before.\n",
      "  warnings.warn(\"The objective has been evaluated \"\n",
      "/opt/anaconda3/lib/python3.9/site-packages/sklearn/model_selection/_split.py:666: UserWarning: The least populated class in y has only 2 members, which is less than n_splits=10.\n",
      "  warnings.warn((\"The least populated class in y has only %d\"\n"
     ]
    },
    {
     "name": "stdout",
     "output_type": "stream",
     "text": [
      "Fitting 10 folds for each of 1 candidates, totalling 10 fits\n"
     ]
    },
    {
     "name": "stderr",
     "output_type": "stream",
     "text": [
      "/opt/anaconda3/lib/python3.9/site-packages/skopt/optimizer/optimizer.py:449: UserWarning: The objective has been evaluated at this point before.\n",
      "  warnings.warn(\"The objective has been evaluated \"\n",
      "/opt/anaconda3/lib/python3.9/site-packages/sklearn/model_selection/_split.py:666: UserWarning: The least populated class in y has only 2 members, which is less than n_splits=10.\n",
      "  warnings.warn((\"The least populated class in y has only %d\"\n"
     ]
    },
    {
     "name": "stdout",
     "output_type": "stream",
     "text": [
      "Fitting 10 folds for each of 1 candidates, totalling 10 fits\n"
     ]
    },
    {
     "name": "stderr",
     "output_type": "stream",
     "text": [
      "/opt/anaconda3/lib/python3.9/site-packages/skopt/optimizer/optimizer.py:449: UserWarning: The objective has been evaluated at this point before.\n",
      "  warnings.warn(\"The objective has been evaluated \"\n",
      "/opt/anaconda3/lib/python3.9/site-packages/sklearn/model_selection/_split.py:666: UserWarning: The least populated class in y has only 2 members, which is less than n_splits=10.\n",
      "  warnings.warn((\"The least populated class in y has only %d\"\n"
     ]
    },
    {
     "name": "stdout",
     "output_type": "stream",
     "text": [
      "Fitting 10 folds for each of 1 candidates, totalling 10 fits\n"
     ]
    },
    {
     "name": "stderr",
     "output_type": "stream",
     "text": [
      "/opt/anaconda3/lib/python3.9/site-packages/skopt/optimizer/optimizer.py:449: UserWarning: The objective has been evaluated at this point before.\n",
      "  warnings.warn(\"The objective has been evaluated \"\n",
      "/opt/anaconda3/lib/python3.9/site-packages/sklearn/model_selection/_split.py:666: UserWarning: The least populated class in y has only 2 members, which is less than n_splits=10.\n",
      "  warnings.warn((\"The least populated class in y has only %d\"\n"
     ]
    },
    {
     "name": "stdout",
     "output_type": "stream",
     "text": [
      "Fitting 10 folds for each of 1 candidates, totalling 10 fits\n"
     ]
    },
    {
     "name": "stderr",
     "output_type": "stream",
     "text": [
      "/opt/anaconda3/lib/python3.9/site-packages/skopt/optimizer/optimizer.py:449: UserWarning: The objective has been evaluated at this point before.\n",
      "  warnings.warn(\"The objective has been evaluated \"\n",
      "/opt/anaconda3/lib/python3.9/site-packages/sklearn/model_selection/_split.py:666: UserWarning: The least populated class in y has only 2 members, which is less than n_splits=10.\n",
      "  warnings.warn((\"The least populated class in y has only %d\"\n"
     ]
    },
    {
     "name": "stdout",
     "output_type": "stream",
     "text": [
      "Fitting 10 folds for each of 1 candidates, totalling 10 fits\n"
     ]
    },
    {
     "name": "stderr",
     "output_type": "stream",
     "text": [
      "/opt/anaconda3/lib/python3.9/site-packages/skopt/optimizer/optimizer.py:449: UserWarning: The objective has been evaluated at this point before.\n",
      "  warnings.warn(\"The objective has been evaluated \"\n",
      "/opt/anaconda3/lib/python3.9/site-packages/sklearn/model_selection/_split.py:666: UserWarning: The least populated class in y has only 2 members, which is less than n_splits=10.\n",
      "  warnings.warn((\"The least populated class in y has only %d\"\n"
     ]
    },
    {
     "name": "stdout",
     "output_type": "stream",
     "text": [
      "Fitting 10 folds for each of 1 candidates, totalling 10 fits\n"
     ]
    },
    {
     "name": "stderr",
     "output_type": "stream",
     "text": [
      "/opt/anaconda3/lib/python3.9/site-packages/skopt/optimizer/optimizer.py:449: UserWarning: The objective has been evaluated at this point before.\n",
      "  warnings.warn(\"The objective has been evaluated \"\n",
      "/opt/anaconda3/lib/python3.9/site-packages/sklearn/model_selection/_split.py:666: UserWarning: The least populated class in y has only 2 members, which is less than n_splits=10.\n",
      "  warnings.warn((\"The least populated class in y has only %d\"\n"
     ]
    },
    {
     "name": "stdout",
     "output_type": "stream",
     "text": [
      "Fitting 10 folds for each of 1 candidates, totalling 10 fits\n"
     ]
    },
    {
     "name": "stderr",
     "output_type": "stream",
     "text": [
      "/opt/anaconda3/lib/python3.9/site-packages/skopt/optimizer/optimizer.py:449: UserWarning: The objective has been evaluated at this point before.\n",
      "  warnings.warn(\"The objective has been evaluated \"\n",
      "/opt/anaconda3/lib/python3.9/site-packages/sklearn/model_selection/_split.py:666: UserWarning: The least populated class in y has only 2 members, which is less than n_splits=10.\n",
      "  warnings.warn((\"The least populated class in y has only %d\"\n"
     ]
    },
    {
     "name": "stdout",
     "output_type": "stream",
     "text": [
      "Fitting 10 folds for each of 1 candidates, totalling 10 fits\n"
     ]
    },
    {
     "name": "stderr",
     "output_type": "stream",
     "text": [
      "/opt/anaconda3/lib/python3.9/site-packages/skopt/optimizer/optimizer.py:449: UserWarning: The objective has been evaluated at this point before.\n",
      "  warnings.warn(\"The objective has been evaluated \"\n",
      "/opt/anaconda3/lib/python3.9/site-packages/sklearn/model_selection/_split.py:666: UserWarning: The least populated class in y has only 2 members, which is less than n_splits=10.\n",
      "  warnings.warn((\"The least populated class in y has only %d\"\n"
     ]
    },
    {
     "name": "stdout",
     "output_type": "stream",
     "text": [
      "Fitting 10 folds for each of 1 candidates, totalling 10 fits\n"
     ]
    },
    {
     "name": "stderr",
     "output_type": "stream",
     "text": [
      "/opt/anaconda3/lib/python3.9/site-packages/skopt/optimizer/optimizer.py:449: UserWarning: The objective has been evaluated at this point before.\n",
      "  warnings.warn(\"The objective has been evaluated \"\n",
      "/opt/anaconda3/lib/python3.9/site-packages/sklearn/model_selection/_split.py:666: UserWarning: The least populated class in y has only 2 members, which is less than n_splits=10.\n",
      "  warnings.warn((\"The least populated class in y has only %d\"\n"
     ]
    },
    {
     "name": "stdout",
     "output_type": "stream",
     "text": [
      "Fitting 10 folds for each of 1 candidates, totalling 10 fits\n"
     ]
    },
    {
     "name": "stderr",
     "output_type": "stream",
     "text": [
      "/opt/anaconda3/lib/python3.9/site-packages/skopt/optimizer/optimizer.py:449: UserWarning: The objective has been evaluated at this point before.\n",
      "  warnings.warn(\"The objective has been evaluated \"\n",
      "/opt/anaconda3/lib/python3.9/site-packages/sklearn/model_selection/_split.py:666: UserWarning: The least populated class in y has only 2 members, which is less than n_splits=10.\n",
      "  warnings.warn((\"The least populated class in y has only %d\"\n"
     ]
    },
    {
     "name": "stdout",
     "output_type": "stream",
     "text": [
      "Fitting 10 folds for each of 1 candidates, totalling 10 fits\n"
     ]
    },
    {
     "name": "stderr",
     "output_type": "stream",
     "text": [
      "/opt/anaconda3/lib/python3.9/site-packages/skopt/optimizer/optimizer.py:449: UserWarning: The objective has been evaluated at this point before.\n",
      "  warnings.warn(\"The objective has been evaluated \"\n",
      "/opt/anaconda3/lib/python3.9/site-packages/sklearn/model_selection/_split.py:666: UserWarning: The least populated class in y has only 2 members, which is less than n_splits=10.\n",
      "  warnings.warn((\"The least populated class in y has only %d\"\n"
     ]
    },
    {
     "name": "stdout",
     "output_type": "stream",
     "text": [
      "Fitting 10 folds for each of 1 candidates, totalling 10 fits\n"
     ]
    },
    {
     "name": "stderr",
     "output_type": "stream",
     "text": [
      "/opt/anaconda3/lib/python3.9/site-packages/skopt/optimizer/optimizer.py:449: UserWarning: The objective has been evaluated at this point before.\n",
      "  warnings.warn(\"The objective has been evaluated \"\n",
      "/opt/anaconda3/lib/python3.9/site-packages/sklearn/model_selection/_split.py:666: UserWarning: The least populated class in y has only 2 members, which is less than n_splits=10.\n",
      "  warnings.warn((\"The least populated class in y has only %d\"\n"
     ]
    },
    {
     "name": "stdout",
     "output_type": "stream",
     "text": [
      "Fitting 10 folds for each of 1 candidates, totalling 10 fits\n"
     ]
    },
    {
     "name": "stderr",
     "output_type": "stream",
     "text": [
      "/opt/anaconda3/lib/python3.9/site-packages/skopt/optimizer/optimizer.py:449: UserWarning: The objective has been evaluated at this point before.\n",
      "  warnings.warn(\"The objective has been evaluated \"\n",
      "/opt/anaconda3/lib/python3.9/site-packages/sklearn/model_selection/_split.py:666: UserWarning: The least populated class in y has only 2 members, which is less than n_splits=10.\n",
      "  warnings.warn((\"The least populated class in y has only %d\"\n"
     ]
    },
    {
     "name": "stdout",
     "output_type": "stream",
     "text": [
      "Fitting 10 folds for each of 1 candidates, totalling 10 fits\n"
     ]
    },
    {
     "name": "stderr",
     "output_type": "stream",
     "text": [
      "/opt/anaconda3/lib/python3.9/site-packages/skopt/optimizer/optimizer.py:449: UserWarning: The objective has been evaluated at this point before.\n",
      "  warnings.warn(\"The objective has been evaluated \"\n",
      "/opt/anaconda3/lib/python3.9/site-packages/sklearn/model_selection/_split.py:666: UserWarning: The least populated class in y has only 2 members, which is less than n_splits=10.\n",
      "  warnings.warn((\"The least populated class in y has only %d\"\n"
     ]
    },
    {
     "name": "stdout",
     "output_type": "stream",
     "text": [
      "Fitting 10 folds for each of 1 candidates, totalling 10 fits\n"
     ]
    },
    {
     "name": "stderr",
     "output_type": "stream",
     "text": [
      "/opt/anaconda3/lib/python3.9/site-packages/skopt/optimizer/optimizer.py:449: UserWarning: The objective has been evaluated at this point before.\n",
      "  warnings.warn(\"The objective has been evaluated \"\n",
      "/opt/anaconda3/lib/python3.9/site-packages/sklearn/model_selection/_split.py:666: UserWarning: The least populated class in y has only 2 members, which is less than n_splits=10.\n",
      "  warnings.warn((\"The least populated class in y has only %d\"\n"
     ]
    },
    {
     "name": "stdout",
     "output_type": "stream",
     "text": [
      "Fitting 10 folds for each of 1 candidates, totalling 10 fits\n"
     ]
    },
    {
     "name": "stderr",
     "output_type": "stream",
     "text": [
      "/opt/anaconda3/lib/python3.9/site-packages/skopt/optimizer/optimizer.py:449: UserWarning: The objective has been evaluated at this point before.\n",
      "  warnings.warn(\"The objective has been evaluated \"\n",
      "/opt/anaconda3/lib/python3.9/site-packages/sklearn/model_selection/_split.py:666: UserWarning: The least populated class in y has only 2 members, which is less than n_splits=10.\n",
      "  warnings.warn((\"The least populated class in y has only %d\"\n"
     ]
    },
    {
     "name": "stdout",
     "output_type": "stream",
     "text": [
      "Fitting 10 folds for each of 1 candidates, totalling 10 fits\n"
     ]
    },
    {
     "name": "stderr",
     "output_type": "stream",
     "text": [
      "/opt/anaconda3/lib/python3.9/site-packages/skopt/optimizer/optimizer.py:449: UserWarning: The objective has been evaluated at this point before.\n",
      "  warnings.warn(\"The objective has been evaluated \"\n",
      "/opt/anaconda3/lib/python3.9/site-packages/sklearn/model_selection/_split.py:666: UserWarning: The least populated class in y has only 2 members, which is less than n_splits=10.\n",
      "  warnings.warn((\"The least populated class in y has only %d\"\n"
     ]
    },
    {
     "name": "stdout",
     "output_type": "stream",
     "text": [
      "Fitting 10 folds for each of 1 candidates, totalling 10 fits\n"
     ]
    },
    {
     "name": "stderr",
     "output_type": "stream",
     "text": [
      "/opt/anaconda3/lib/python3.9/site-packages/skopt/optimizer/optimizer.py:449: UserWarning: The objective has been evaluated at this point before.\n",
      "  warnings.warn(\"The objective has been evaluated \"\n",
      "/opt/anaconda3/lib/python3.9/site-packages/sklearn/model_selection/_split.py:666: UserWarning: The least populated class in y has only 2 members, which is less than n_splits=10.\n",
      "  warnings.warn((\"The least populated class in y has only %d\"\n"
     ]
    },
    {
     "name": "stdout",
     "output_type": "stream",
     "text": [
      "Fitting 10 folds for each of 1 candidates, totalling 10 fits\n"
     ]
    },
    {
     "name": "stderr",
     "output_type": "stream",
     "text": [
      "/opt/anaconda3/lib/python3.9/site-packages/skopt/optimizer/optimizer.py:449: UserWarning: The objective has been evaluated at this point before.\n",
      "  warnings.warn(\"The objective has been evaluated \"\n",
      "/opt/anaconda3/lib/python3.9/site-packages/sklearn/model_selection/_split.py:666: UserWarning: The least populated class in y has only 2 members, which is less than n_splits=10.\n",
      "  warnings.warn((\"The least populated class in y has only %d\"\n"
     ]
    },
    {
     "name": "stdout",
     "output_type": "stream",
     "text": [
      "Fitting 10 folds for each of 1 candidates, totalling 10 fits\n"
     ]
    },
    {
     "name": "stderr",
     "output_type": "stream",
     "text": [
      "/opt/anaconda3/lib/python3.9/site-packages/skopt/optimizer/optimizer.py:449: UserWarning: The objective has been evaluated at this point before.\n",
      "  warnings.warn(\"The objective has been evaluated \"\n",
      "/opt/anaconda3/lib/python3.9/site-packages/sklearn/model_selection/_split.py:666: UserWarning: The least populated class in y has only 2 members, which is less than n_splits=10.\n",
      "  warnings.warn((\"The least populated class in y has only %d\"\n"
     ]
    },
    {
     "name": "stdout",
     "output_type": "stream",
     "text": [
      "Fitting 10 folds for each of 1 candidates, totalling 10 fits\n"
     ]
    },
    {
     "name": "stderr",
     "output_type": "stream",
     "text": [
      "/opt/anaconda3/lib/python3.9/site-packages/skopt/optimizer/optimizer.py:449: UserWarning: The objective has been evaluated at this point before.\n",
      "  warnings.warn(\"The objective has been evaluated \"\n",
      "/opt/anaconda3/lib/python3.9/site-packages/sklearn/model_selection/_split.py:666: UserWarning: The least populated class in y has only 2 members, which is less than n_splits=10.\n",
      "  warnings.warn((\"The least populated class in y has only %d\"\n"
     ]
    },
    {
     "name": "stdout",
     "output_type": "stream",
     "text": [
      "Fitting 10 folds for each of 1 candidates, totalling 10 fits\n"
     ]
    },
    {
     "name": "stderr",
     "output_type": "stream",
     "text": [
      "/opt/anaconda3/lib/python3.9/site-packages/skopt/optimizer/optimizer.py:449: UserWarning: The objective has been evaluated at this point before.\n",
      "  warnings.warn(\"The objective has been evaluated \"\n",
      "/opt/anaconda3/lib/python3.9/site-packages/sklearn/model_selection/_split.py:666: UserWarning: The least populated class in y has only 2 members, which is less than n_splits=10.\n",
      "  warnings.warn((\"The least populated class in y has only %d\"\n"
     ]
    },
    {
     "name": "stdout",
     "output_type": "stream",
     "text": [
      "Fitting 10 folds for each of 1 candidates, totalling 10 fits\n"
     ]
    },
    {
     "name": "stderr",
     "output_type": "stream",
     "text": [
      "/opt/anaconda3/lib/python3.9/site-packages/skopt/optimizer/optimizer.py:449: UserWarning: The objective has been evaluated at this point before.\n",
      "  warnings.warn(\"The objective has been evaluated \"\n",
      "/opt/anaconda3/lib/python3.9/site-packages/sklearn/model_selection/_split.py:666: UserWarning: The least populated class in y has only 2 members, which is less than n_splits=10.\n",
      "  warnings.warn((\"The least populated class in y has only %d\"\n"
     ]
    },
    {
     "name": "stdout",
     "output_type": "stream",
     "text": [
      "Fitting 10 folds for each of 1 candidates, totalling 10 fits\n"
     ]
    },
    {
     "name": "stderr",
     "output_type": "stream",
     "text": [
      "/opt/anaconda3/lib/python3.9/site-packages/skopt/optimizer/optimizer.py:449: UserWarning: The objective has been evaluated at this point before.\n",
      "  warnings.warn(\"The objective has been evaluated \"\n",
      "/opt/anaconda3/lib/python3.9/site-packages/sklearn/model_selection/_split.py:666: UserWarning: The least populated class in y has only 2 members, which is less than n_splits=10.\n",
      "  warnings.warn((\"The least populated class in y has only %d\"\n"
     ]
    },
    {
     "name": "stdout",
     "output_type": "stream",
     "text": [
      "Fitting 10 folds for each of 1 candidates, totalling 10 fits\n"
     ]
    },
    {
     "name": "stderr",
     "output_type": "stream",
     "text": [
      "/opt/anaconda3/lib/python3.9/site-packages/skopt/optimizer/optimizer.py:449: UserWarning: The objective has been evaluated at this point before.\n",
      "  warnings.warn(\"The objective has been evaluated \"\n",
      "/opt/anaconda3/lib/python3.9/site-packages/sklearn/model_selection/_split.py:666: UserWarning: The least populated class in y has only 2 members, which is less than n_splits=10.\n",
      "  warnings.warn((\"The least populated class in y has only %d\"\n"
     ]
    },
    {
     "name": "stdout",
     "output_type": "stream",
     "text": [
      "Fitting 10 folds for each of 1 candidates, totalling 10 fits\n"
     ]
    },
    {
     "name": "stderr",
     "output_type": "stream",
     "text": [
      "/opt/anaconda3/lib/python3.9/site-packages/skopt/optimizer/optimizer.py:449: UserWarning: The objective has been evaluated at this point before.\n",
      "  warnings.warn(\"The objective has been evaluated \"\n",
      "/opt/anaconda3/lib/python3.9/site-packages/sklearn/model_selection/_split.py:666: UserWarning: The least populated class in y has only 2 members, which is less than n_splits=10.\n",
      "  warnings.warn((\"The least populated class in y has only %d\"\n"
     ]
    },
    {
     "name": "stdout",
     "output_type": "stream",
     "text": [
      "Fitting 10 folds for each of 1 candidates, totalling 10 fits\n"
     ]
    },
    {
     "name": "stderr",
     "output_type": "stream",
     "text": [
      "/opt/anaconda3/lib/python3.9/site-packages/skopt/optimizer/optimizer.py:449: UserWarning: The objective has been evaluated at this point before.\n",
      "  warnings.warn(\"The objective has been evaluated \"\n",
      "/opt/anaconda3/lib/python3.9/site-packages/sklearn/model_selection/_split.py:666: UserWarning: The least populated class in y has only 2 members, which is less than n_splits=10.\n",
      "  warnings.warn((\"The least populated class in y has only %d\"\n"
     ]
    },
    {
     "name": "stdout",
     "output_type": "stream",
     "text": [
      "Fitting 10 folds for each of 1 candidates, totalling 10 fits\n"
     ]
    },
    {
     "name": "stderr",
     "output_type": "stream",
     "text": [
      "/opt/anaconda3/lib/python3.9/site-packages/skopt/optimizer/optimizer.py:449: UserWarning: The objective has been evaluated at this point before.\n",
      "  warnings.warn(\"The objective has been evaluated \"\n"
     ]
    },
    {
     "name": "stdout",
     "output_type": "stream",
     "text": [
      "Fitting 10 folds for each of 1 candidates, totalling 10 fits\n"
     ]
    },
    {
     "name": "stderr",
     "output_type": "stream",
     "text": [
      "/opt/anaconda3/lib/python3.9/site-packages/sklearn/model_selection/_split.py:666: UserWarning: The least populated class in y has only 2 members, which is less than n_splits=10.\n",
      "  warnings.warn((\"The least populated class in y has only %d\"\n",
      "/opt/anaconda3/lib/python3.9/site-packages/skopt/optimizer/optimizer.py:449: UserWarning: The objective has been evaluated at this point before.\n",
      "  warnings.warn(\"The objective has been evaluated \"\n",
      "/opt/anaconda3/lib/python3.9/site-packages/sklearn/model_selection/_split.py:666: UserWarning: The least populated class in y has only 2 members, which is less than n_splits=10.\n",
      "  warnings.warn((\"The least populated class in y has only %d\"\n"
     ]
    },
    {
     "name": "stdout",
     "output_type": "stream",
     "text": [
      "Fitting 10 folds for each of 1 candidates, totalling 10 fits\n"
     ]
    },
    {
     "name": "stderr",
     "output_type": "stream",
     "text": [
      "/opt/anaconda3/lib/python3.9/site-packages/skopt/optimizer/optimizer.py:449: UserWarning: The objective has been evaluated at this point before.\n",
      "  warnings.warn(\"The objective has been evaluated \"\n",
      "/opt/anaconda3/lib/python3.9/site-packages/sklearn/model_selection/_split.py:666: UserWarning: The least populated class in y has only 2 members, which is less than n_splits=10.\n",
      "  warnings.warn((\"The least populated class in y has only %d\"\n"
     ]
    },
    {
     "name": "stdout",
     "output_type": "stream",
     "text": [
      "Fitting 10 folds for each of 1 candidates, totalling 10 fits\n"
     ]
    },
    {
     "name": "stderr",
     "output_type": "stream",
     "text": [
      "/opt/anaconda3/lib/python3.9/site-packages/skopt/optimizer/optimizer.py:449: UserWarning: The objective has been evaluated at this point before.\n",
      "  warnings.warn(\"The objective has been evaluated \"\n",
      "/opt/anaconda3/lib/python3.9/site-packages/sklearn/model_selection/_split.py:666: UserWarning: The least populated class in y has only 2 members, which is less than n_splits=10.\n",
      "  warnings.warn((\"The least populated class in y has only %d\"\n"
     ]
    },
    {
     "name": "stdout",
     "output_type": "stream",
     "text": [
      "Fitting 10 folds for each of 1 candidates, totalling 10 fits\n"
     ]
    },
    {
     "name": "stderr",
     "output_type": "stream",
     "text": [
      "/opt/anaconda3/lib/python3.9/site-packages/skopt/optimizer/optimizer.py:449: UserWarning: The objective has been evaluated at this point before.\n",
      "  warnings.warn(\"The objective has been evaluated \"\n"
     ]
    },
    {
     "name": "stdout",
     "output_type": "stream",
     "text": [
      "Fitting 10 folds for each of 1 candidates, totalling 10 fits\n"
     ]
    },
    {
     "name": "stderr",
     "output_type": "stream",
     "text": [
      "/opt/anaconda3/lib/python3.9/site-packages/sklearn/model_selection/_split.py:666: UserWarning: The least populated class in y has only 2 members, which is less than n_splits=10.\n",
      "  warnings.warn((\"The least populated class in y has only %d\"\n",
      "/opt/anaconda3/lib/python3.9/site-packages/skopt/optimizer/optimizer.py:449: UserWarning: The objective has been evaluated at this point before.\n",
      "  warnings.warn(\"The objective has been evaluated \"\n"
     ]
    },
    {
     "name": "stdout",
     "output_type": "stream",
     "text": [
      "Fitting 10 folds for each of 1 candidates, totalling 10 fits\n"
     ]
    },
    {
     "name": "stderr",
     "output_type": "stream",
     "text": [
      "/opt/anaconda3/lib/python3.9/site-packages/sklearn/model_selection/_split.py:666: UserWarning: The least populated class in y has only 2 members, which is less than n_splits=10.\n",
      "  warnings.warn((\"The least populated class in y has only %d\"\n"
     ]
    },
    {
     "name": "stdout",
     "output_type": "stream",
     "text": [
      "\n",
      "Best Parameters Found\n",
      "OrderedDict([('n_neighbors', 4)])\n",
      "[59.16285791100954]\n"
     ]
    },
    {
     "name": "stderr",
     "output_type": "stream",
     "text": [
      "/opt/anaconda3/lib/python3.9/site-packages/sklearn/model_selection/_split.py:666: UserWarning: The least populated class in y has only 2 members, which is less than n_splits=10.\n",
      "  warnings.warn((\"The least populated class in y has only %d\"\n",
      "/opt/anaconda3/lib/python3.9/site-packages/sklearn/model_selection/_split.py:666: UserWarning: The least populated class in y has only 2 members, which is less than n_splits=10.\n",
      "  warnings.warn((\"The least populated class in y has only %d\"\n"
     ]
    },
    {
     "name": "stdout",
     "output_type": "stream",
     "text": [
      "[37.8226240086033]\n"
     ]
    },
    {
     "name": "stderr",
     "output_type": "stream",
     "text": [
      "/opt/anaconda3/lib/python3.9/site-packages/sklearn/model_selection/_split.py:666: UserWarning: The least populated class in y has only 2 members, which is less than n_splits=10.\n",
      "  warnings.warn((\"The least populated class in y has only %d\"\n",
      "/opt/anaconda3/lib/python3.9/site-packages/sklearn/model_selection/_split.py:666: UserWarning: The least populated class in y has only 2 members, which is less than n_splits=10.\n",
      "  warnings.warn((\"The least populated class in y has only %d\"\n"
     ]
    },
    {
     "name": "stdout",
     "output_type": "stream",
     "text": [
      "[94.25863691356365]\n",
      "[59.16285791100954, 86.66084151095576]\n"
     ]
    },
    {
     "name": "stderr",
     "output_type": "stream",
     "text": [
      "/opt/anaconda3/lib/python3.9/site-packages/sklearn/model_selection/_split.py:666: UserWarning: The least populated class in y has only 2 members, which is less than n_splits=10.\n",
      "  warnings.warn((\"The least populated class in y has only %d\"\n"
     ]
    },
    {
     "name": "stdout",
     "output_type": "stream",
     "text": [
      "[37.8226240086033, 47.276515660707084]\n"
     ]
    },
    {
     "name": "stderr",
     "output_type": "stream",
     "text": [
      "/opt/anaconda3/lib/python3.9/site-packages/sklearn/model_selection/_split.py:666: UserWarning: The least populated class in y has only 2 members, which is less than n_splits=10.\n",
      "  warnings.warn((\"The least populated class in y has only %d\"\n",
      "/opt/anaconda3/lib/python3.9/site-packages/sklearn/model_selection/_split.py:666: UserWarning: The least populated class in y has only 2 members, which is less than n_splits=10.\n",
      "  warnings.warn((\"The least populated class in y has only %d\"\n"
     ]
    },
    {
     "name": "stdout",
     "output_type": "stream",
     "text": [
      "[94.25863691356365, 94.6632611910203]\n",
      "[59.16285791100954, 86.66084151095576, 87.58771340233903]\n"
     ]
    },
    {
     "name": "stderr",
     "output_type": "stream",
     "text": [
      "/opt/anaconda3/lib/python3.9/site-packages/sklearn/model_selection/_split.py:666: UserWarning: The least populated class in y has only 2 members, which is less than n_splits=10.\n",
      "  warnings.warn((\"The least populated class in y has only %d\"\n"
     ]
    },
    {
     "name": "stdout",
     "output_type": "stream",
     "text": [
      "[37.8226240086033, 47.276515660707084, 54.81247479499931]\n"
     ]
    },
    {
     "name": "stderr",
     "output_type": "stream",
     "text": [
      "/opt/anaconda3/lib/python3.9/site-packages/sklearn/model_selection/_split.py:666: UserWarning: The least populated class in y has only 2 members, which is less than n_splits=10.\n",
      "  warnings.warn((\"The least populated class in y has only %d\"\n",
      "/opt/anaconda3/lib/python3.9/site-packages/sklearn/model_selection/_split.py:666: UserWarning: The least populated class in y has only 2 members, which is less than n_splits=10.\n",
      "  warnings.warn((\"The least populated class in y has only %d\"\n"
     ]
    },
    {
     "name": "stdout",
     "output_type": "stream",
     "text": [
      "[94.25863691356365, 94.6632611910203, 93.79352063449389]\n",
      "[59.16285791100954, 86.66084151095576, 87.58771340233903, 87.52789353407715]\n"
     ]
    },
    {
     "name": "stderr",
     "output_type": "stream",
     "text": [
      "/opt/anaconda3/lib/python3.9/site-packages/sklearn/model_selection/_split.py:666: UserWarning: The least populated class in y has only 2 members, which is less than n_splits=10.\n",
      "  warnings.warn((\"The least populated class in y has only %d\"\n"
     ]
    },
    {
     "name": "stdout",
     "output_type": "stream",
     "text": [
      "[37.8226240086033, 47.276515660707084, 54.81247479499931, 56.37820943675224]\n"
     ]
    },
    {
     "name": "stderr",
     "output_type": "stream",
     "text": [
      "/opt/anaconda3/lib/python3.9/site-packages/sklearn/model_selection/_split.py:666: UserWarning: The least populated class in y has only 2 members, which is less than n_splits=10.\n",
      "  warnings.warn((\"The least populated class in y has only %d\"\n"
     ]
    },
    {
     "name": "stdout",
     "output_type": "stream",
     "text": [
      "[94.25863691356365, 94.6632611910203, 93.79352063449389, 92.34339292915715]\n",
      "Accuracy Anova [59.16285791100954, 86.66084151095576, 87.58771340233903, 87.52789353407715]\n",
      "Chi2 accuracy [37.8226240086033, 47.276515660707084, 54.81247479499931, 56.37820943675224]\n",
      "IG accuracy [94.25863691356365, 94.6632611910203, 93.79352063449389, 92.34339292915715]\n"
     ]
    },
    {
     "data": {
      "image/png": "[encoded data removed]",
      "text/plain": [
       "<Figure size 432x288 with 1 Axes>"
      ]
     },
     "metadata": {
      "needs_background": "light"
     },
     "output_type": "display_data"
    },
    {
     "name": "stdout",
     "output_type": "stream",
     "text": [
      "     Feature_Name          Score\n",
      "1979        SOX10  129648.912347\n",
      "358          CD93    5794.987848\n",
      "1782        ROBO4    3040.364027\n",
      "461        COL3A1    1620.796419\n",
      "236          C1QC    1573.923843\n",
      "1989        SPARC    1531.386002\n",
      "1139          KDR    1423.430465\n",
      "459        COL1A2    1421.989899\n",
      "1604        PLVAP    1353.370100\n",
      "1536       PDGFRB    1282.268041\n",
      "469        COL6A3    1266.671253\n",
      "201           BGN    1214.913382\n",
      "1192       LAPTM5    1109.772747\n",
      "2289          VWF    1102.487984\n",
      "2230       TYROBP    1058.400823\n",
      "468        COL6A2    1026.674118\n",
      "1836          SDS    1020.630772\n",
      "1982        SOX18     953.458944\n",
      "664           ENG     912.784831\n",
      "780          FLT1     800.726011\n",
      "     Feature_Name        Score\n",
      "1979        SOX10  8171.632717\n",
      "236          C1QC  7390.864303\n",
      "358          CD93  6880.810570\n",
      "1782        ROBO4  6772.320803\n",
      "1836          SDS  6678.318485\n",
      "1139          KDR  6569.154303\n",
      "1982        SOX18  6282.452739\n",
      "2185        TPSB2  6181.856113\n",
      "484          CPA3  6102.068417\n",
      "371          CDH5  6050.141898\n",
      "234          C1QA  6025.973515\n",
      "1093        ITGB2  5987.713698\n",
      "2230       TYROBP  5920.655340\n",
      "1517       PCAT19  5870.660813\n",
      "1344        MS4A2  5789.009887\n",
      "2191        TRBC2  5717.475964\n",
      "2118         TIE1  5672.609519\n",
      "2289          VWF  5668.761860\n",
      "235          C1QB  5666.473200\n",
      "1604        PLVAP  5577.068366\n",
      "     Feature_Name     Score\n",
      "458       COL18A1  0.437064\n",
      "2069      TACSTD2  0.394338\n",
      "925          HADH  0.390799\n",
      "1076         IRX2  0.386621\n",
      "1274         MAFA  0.384126\n",
      "1609       PMEPA1  0.378172\n",
      "1331        MMP14  0.377940\n",
      "1174         KRT7  0.369386\n",
      "157           ARX  0.363808\n",
      "1528        PCSK1  0.362225\n",
      "777          FLNA  0.352940\n",
      "1859     SERPING1  0.352768\n",
      "838            GC  0.347223\n",
      "237         C1QL1  0.345253\n",
      "1028       IFITM3  0.344262\n",
      "811         FXYD3  0.336771\n",
      "1170        KRT19  0.333003\n",
      "1833         SDC4  0.331208\n",
      "664           ENG  0.330739\n",
      "362      CDC42EP1  0.326631\n",
      "(1724, 300)\n",
      "(1724, 400)\n",
      "(1724, 200)\n",
      "Anova Accuracy\n",
      "0.862934362934363\n",
      "KNN MultiClass and Anova\n",
      "[ 83.78378378  97.04433498 100.          83.33333333  85.58558559\n",
      "  80.          85.71428571  15.38461538 100.           0.\n",
      "  50.         100.           0.           0.        ]\n",
      "[ 75.6097561   79.11646586 100.         100.          94.05940594\n",
      " 100.         100.          57.14285714 100.                  nan\n",
      " 100.         100.                  nan          nan]\n",
      "[ 96.91119691  88.8030888  100.          97.1042471   95.75289575\n",
      "  99.80694981  99.80694981  95.17374517 100.          99.80694981\n",
      "  99.80694981 100.          99.80694981  99.80694981]\n",
      "[ 97.92099792  83.49206349 100.         100.          98.52579853\n",
      " 100.         100.          99.3902439  100.         100.\n",
      " 100.         100.         100.         100.        ]\n",
      "[ 98.74213836  97.76951673 100.          96.61399549  96.16306954\n",
      "  99.80544747  99.8046875   95.69471624 100.          99.80694981\n",
      "  99.8065764  100.          99.80694981  99.80694981]\n",
      "[ 79.48717949  87.16814159 100.          90.90909091  89.62264151\n",
      "  88.88888889  92.30769231  24.24242424 100.                  nan\n",
      "  66.66666667 100.                  nan          nan]\n"
     ]
    },
    {
     "name": "stderr",
     "output_type": "stream",
     "text": [
      "/var/folders/fh/mtkq58kd5ks3szv1j095_fbc0000gp/T/ipykernel_30065/2527552423.py:51: RuntimeWarning: invalid value encountered in true_divide\n",
      "  recall =  TP/(TP+FN) * 100\n"
     ]
    },
    {
     "data": {
      "image/png": "[encoded data removed]",
      "text/plain": [
       "<Figure size 432x288 with 1 Axes>"
      ]
     },
     "metadata": {
      "needs_background": "light"
     },
     "output_type": "display_data"
    },
    {
     "name": "stderr",
     "output_type": "stream",
     "text": [
      "/var/folders/fh/mtkq58kd5ks3szv1j095_fbc0000gp/T/ipykernel_30065/2527552423.py:51: RuntimeWarning: invalid value encountered in true_divide\n",
      "  recall =  TP/(TP+FN) * 100\n"
     ]
    },
    {
     "name": "stdout",
     "output_type": "stream",
     "text": [
      "Chi2 Accuracy\n",
      "0.5096525096525096\n",
      "SVC MultiClass and Chi2\n",
      "[ 43.24324324  72.90640394  79.16666667  32.22222222  20.72072072\n",
      "  80.          42.85714286  42.30769231 100.           0.\n",
      " 100.          66.66666667   0.           0.        ]\n",
      "[ 37.20930233  51.56794425  90.47619048  61.70212766  25.55555556\n",
      " 100.         100.          91.66666667 100.                  nan\n",
      " 100.         100.                  nan          nan]\n",
      "[ 90.73359073  62.54826255  98.64864865  84.74903475  70.07722008\n",
      "  99.80694981  99.22779923  96.91119691 100.          99.80694981\n",
      " 100.          99.80694981  99.80694981  99.80694981]\n",
      "[ 94.38669439  55.87301587  99.5951417   95.79439252  83.53808354\n",
      " 100.         100.          99.79674797 100.         100.\n",
      " 100.         100.         100.         100.        ]\n",
      "[ 95.57894737  76.19047619  98.99396378  87.04883227  79.43925234\n",
      "  99.80544747  99.22330097  97.03557312 100.          99.80694981\n",
      " 100.          99.80620155  99.80694981  99.80694981]\n",
      "[ 40.          60.40816327  84.44444444  42.33576642  22.88557214\n",
      "  88.88888889  60.          57.89473684 100.                  nan\n",
      " 100.          80.                  nan          nan]\n"
     ]
    },
    {
     "data": {
      "image/png": "[encoded data removed]",
      "text/plain": [
       "<Figure size 432x288 with 1 Axes>"
      ]
     },
     "metadata": {
      "needs_background": "light"
     },
     "output_type": "display_data"
    },
    {
     "name": "stdout",
     "output_type": "stream",
     "text": [
      "IG Accuracy\n",
      "0.9401544401544402\n",
      "SVC MultiClass and IG\n",
      "[ 97.2972973   99.50738916  95.83333333  93.33333333  99.0990991\n",
      "  80.          42.85714286  57.69230769 100.           0.\n",
      " 100.          33.33333333   0.           0.        ]\n",
      "[ 92.30769231  91.40271493  92.          98.82352941  96.49122807\n",
      "  66.66666667 100.         100.         100.                  nan\n",
      " 100.         100.                  nan          nan]\n",
      "[ 99.22779923  96.13899614  99.42084942  98.64864865  99.03474903\n",
      "  99.42084942  99.22779923  97.87644788 100.          99.80694981\n",
      " 100.          99.61389961  99.80694981  99.80694981]\n",
      "[ 99.37629938  93.96825397  99.5951417   99.76635514  99.01719902\n",
      "  99.61013645 100.         100.         100.         100.\n",
      " 100.         100.         100.         100.        ]\n",
      "[ 99.79123173  99.66329966  99.79716024  98.61431871  99.75247525\n",
      "  99.8046875   99.22330097  97.81312127 100.          99.80694981\n",
      " 100.          99.6131528   99.80694981  99.80694981]\n",
      "[ 94.73684211  95.28301887  93.87755102  96.          97.77777778\n",
      "  72.72727273  60.          73.17073171 100.                  nan\n",
      " 100.          50.                  nan          nan]\n"
     ]
    },
    {
     "name": "stderr",
     "output_type": "stream",
     "text": [
      "/var/folders/fh/mtkq58kd5ks3szv1j095_fbc0000gp/T/ipykernel_30065/2527552423.py:51: RuntimeWarning: invalid value encountered in true_divide\n",
      "  recall =  TP/(TP+FN) * 100\n"
     ]
    },
    {
     "data": {
      "image/png": "[encoded data removed]",
      "text/plain": [
       "<Figure size 432x288 with 1 Axes>"
      ]
     },
     "metadata": {
      "needs_background": "light"
     },
     "output_type": "display_data"
    },
    {
     "data": {
      "text/plain": [
       "(0.0, 1.0, 0.0, 1.0)"
      ]
     },
     "execution_count": 8,
     "metadata": {},
     "output_type": "execute_result"
    },
    {
     "data": {
      "image/png": "[encoded data removed]",
      "text/plain": [
       "<Figure size 432x288 with 1 Axes>"
      ]
     },
     "metadata": {
      "needs_background": "light"
     },
     "output_type": "display_data"
    },
    {
     "name": "stdout",
     "output_type": "stream",
     "text": [
      "[CV 2/10; 1/1] START n_neighbors=5..............................................\n",
      "[CV 2/10; 1/1] END ...............n_neighbors=5;, score=0.555 total time=   0.2s\n",
      "[CV 10/10; 1/1] START n_neighbors=5.............................................\n",
      "[CV 10/10; 1/1] END ..............n_neighbors=5;, score=0.634 total time=   0.1s\n",
      "[CV 3/10; 1/1] START n_neighbors=5..............................................\n",
      "[CV 3/10; 1/1] END ...............n_neighbors=5;, score=0.607 total time=   0.1s\n",
      "[CV 9/10; 1/1] START n_neighbors=5..............................................\n",
      "[CV 9/10; 1/1] END ...............n_neighbors=5;, score=0.663 total time=   0.1s\n",
      "[CV 2/10; 1/1] START n_neighbors=5..............................................\n",
      "[CV 2/10; 1/1] END ...............n_neighbors=5;, score=0.555 total time=   0.1s\n",
      "[CV 7/10; 1/1] START n_neighbors=4..............................................\n",
      "[CV 7/10; 1/1] END ...............n_neighbors=4;, score=0.686 total time=   0.1s\n",
      "[CV 4/10; 1/1] START n_neighbors=4..............................................\n",
      "[CV 4/10; 1/1] END ...............n_neighbors=4;, score=0.665 total time=   0.1s\n",
      "[CV 9/10; 1/1] START n_neighbors=4..............................................\n",
      "[CV 9/10; 1/1] END ...............n_neighbors=4;, score=0.674 total time=   0.1s\n",
      "[CV 2/10; 1/1] START n_neighbors=6..............................................\n",
      "[CV 2/10; 1/1] END ...............n_neighbors=6;, score=0.618 total time=   0.1s\n",
      "[CV 10/10; 1/1] START n_neighbors=6.............................................\n",
      "[CV 10/10; 1/1] END ..............n_neighbors=6;, score=0.610 total time=   0.1s\n",
      "[CV 4/10; 1/1] START n_neighbors=6..............................................\n",
      "[CV 4/10; 1/1] END ...............n_neighbors=6;, score=0.647 total time=   0.1s\n",
      "[CV 10/10; 1/1] START n_neighbors=6.............................................\n",
      "[CV 10/10; 1/1] END ..............n_neighbors=6;, score=0.610 total time=   0.1s\n",
      "[CV 3/10; 1/1] START n_neighbors=5..............................................\n",
      "[CV 3/10; 1/1] END ...............n_neighbors=5;, score=0.607 total time=   0.1s\n",
      "[CV 8/10; 1/1] START n_neighbors=4..............................................\n",
      "[CV 8/10; 1/1] END ...............n_neighbors=4;, score=0.686 total time=   0.1s\n",
      "[CV 2/10; 1/1] START n_neighbors=5..............................................\n",
      "[CV 2/10; 1/1] END ...............n_neighbors=5;, score=0.555 total time=   0.1s\n",
      "[CV 9/10; 1/1] START n_neighbors=5..............................................\n",
      "[CV 9/10; 1/1] END ...............n_neighbors=5;, score=0.663 total time=   0.1s\n",
      "[CV 5/10; 1/1] START n_neighbors=5..............................................\n",
      "[CV 5/10; 1/1] END ...............n_neighbors=5;, score=0.674 total time=   0.2s\n",
      "[CV 8/10; 1/1] START n_neighbors=4..............................................\n",
      "[CV 8/10; 1/1] END ...............n_neighbors=4;, score=0.686 total time=   0.1s\n",
      "[CV 7/10; 1/1] START n_neighbors=5..............................................\n",
      "[CV 7/10; 1/1] END ...............n_neighbors=5;, score=0.651 total time=   0.1s\n",
      "[CV 3/10; 1/1] START n_neighbors=6..............................................\n",
      "[CV 3/10; 1/1] END ...............n_neighbors=6;, score=0.590 total time=   0.1s\n",
      "[CV 10/10; 1/1] START n_neighbors=6.............................................\n",
      "[CV 10/10; 1/1] END ..............n_neighbors=6;, score=0.610 total time=   0.1s\n",
      "[CV 7/10; 1/1] START n_neighbors=5..............................................\n",
      "[CV 7/10; 1/1] END ...............n_neighbors=5;, score=0.651 total time=   0.1s\n",
      "[CV 6/10; 1/1] START n_neighbors=6..............................................\n",
      "[CV 6/10; 1/1] END ...............n_neighbors=6;, score=0.634 total time=   0.1s\n",
      "[CV 6/10; 1/1] START n_neighbors=5..............................................\n",
      "[CV 6/10; 1/1] END ...............n_neighbors=5;, score=0.622 total time=   0.1s\n",
      "[CV 2/10; 1/1] START n_neighbors=5..............................................\n",
      "[CV 2/10; 1/1] END ...............n_neighbors=5;, score=0.555 total time=   0.1s\n",
      "[CV 9/10; 1/1] START n_neighbors=5..............................................\n",
      "[CV 9/10; 1/1] END ...............n_neighbors=5;, score=0.663 total time=   0.1s\n",
      "[CV 7/10; 1/1] START n_neighbors=5..............................................\n",
      "[CV 7/10; 1/1] END ...............n_neighbors=5;, score=0.651 total time=   0.1s\n",
      "[CV 8/10; 1/1] START n_neighbors=5..............................................\n",
      "[CV 8/10; 1/1] END ...............n_neighbors=5;, score=0.634 total time=   0.1s\n",
      "[CV 7/10; 1/1] START n_neighbors=4..............................................\n",
      "[CV 7/10; 1/1] END ...............n_neighbors=4;, score=0.686 total time=   0.1s\n",
      "[CV 4/10; 1/1] START n_neighbors=4..............................................\n",
      "[CV 4/10; 1/1] END ...............n_neighbors=4;, score=0.665 total time=   0.1s\n",
      "[CV 1/10; 1/1] START n_neighbors=4..............................................\n",
      "[CV 1/10; 1/1] END ...............n_neighbors=4;, score=0.751 total time=   0.1s\n",
      "[CV 1/10; 1/1] START n_neighbors=4..............................................\n",
      "[CV 1/10; 1/1] END ...............n_neighbors=4;, score=0.751 total time=   0.1s\n",
      "[CV 10/10; 1/1] START n_neighbors=4.............................................\n",
      "[CV 10/10; 1/1] END ..............n_neighbors=4;, score=0.628 total time=   0.1s\n",
      "[CV 8/10; 1/1] START n_neighbors=4..............................................\n",
      "[CV 8/10; 1/1] END ...............n_neighbors=4;, score=0.686 total time=   0.1s\n",
      "[CV 4/10; 1/1] START n_neighbors=6..............................................\n",
      "[CV 4/10; 1/1] END ...............n_neighbors=6;, score=0.647 total time=   0.1s\n",
      "[CV 8/10; 1/1] START n_neighbors=5..............................................\n",
      "[CV 8/10; 1/1] END ...............n_neighbors=5;, score=0.634 total time=   0.1s\n",
      "[CV 7/10; 1/1] START n_neighbors=4..............................................\n",
      "[CV 7/10; 1/1] END ...............n_neighbors=4;, score=0.686 total time=   0.1s\n",
      "[CV 2/10; 1/1] START n_neighbors=6..............................................\n",
      "[CV 2/10; 1/1] END ...............n_neighbors=6;, score=0.618 total time=   0.1s\n",
      "[CV 1/10; 1/1] START n_neighbors=4..............................................\n",
      "[CV 1/10; 1/1] END ...............n_neighbors=4;, score=0.751 total time=   0.1s\n",
      "[CV 10/10; 1/1] START n_neighbors=4.............................................\n",
      "[CV 10/10; 1/1] END ..............n_neighbors=4;, score=0.628 total time=   0.1s\n",
      "[CV 3/10; 1/1] START n_neighbors=4..............................................\n",
      "[CV 3/10; 1/1] END ...............n_neighbors=4;, score=0.578 total time=   0.2s\n",
      "[CV 3/10; 1/1] START n_neighbors=6..............................................\n",
      "[CV 3/10; 1/1] END ...............n_neighbors=6;, score=0.590 total time=   0.1s\n",
      "[CV 10/10; 1/1] START n_neighbors=6.............................................\n",
      "[CV 10/10; 1/1] END ..............n_neighbors=6;, score=0.610 total time=   0.1s\n",
      "[CV 4/10; 1/1] START n_neighbors=6..............................................\n",
      "[CV 4/10; 1/1] END ...............n_neighbors=6;, score=0.647 total time=   0.1s\n",
      "[CV 9/10; 1/1] START n_neighbors=6..............................................\n",
      "[CV 9/10; 1/1] END ...............n_neighbors=6;, score=0.715 total time=   0.1s\n",
      "[CV 2/10; 1/1] START n_neighbors=4..............................................\n",
      "[CV 2/10; 1/1] END ...............n_neighbors=4;, score=0.613 total time=   0.1s\n",
      "[CV 9/10; 1/1] START n_neighbors=4..............................................\n",
      "[CV 9/10; 1/1] END ...............n_neighbors=4;, score=0.674 total time=   0.1s\n",
      "[CV 3/10; 1/1] START n_neighbors=4..............................................\n",
      "[CV 3/10; 1/1] END ...............n_neighbors=4;, score=0.578 total time=   0.1s\n",
      "[CV 1/10; 1/1] START n_neighbors=4..............................................\n",
      "[CV 1/10; 1/1] END ...............n_neighbors=4;, score=0.751 total time=   0.1s\n",
      "[CV 2/10; 1/1] START n_neighbors=5..............................................\n",
      "[CV 2/10; 1/1] END ...............n_neighbors=5;, score=0.555 total time=   0.1s\n",
      "[CV 10/10; 1/1] START n_neighbors=5.............................................\n",
      "[CV 10/10; 1/1] END ..............n_neighbors=5;, score=0.634 total time=   0.1s\n",
      "[CV 7/10; 1/1] START n_neighbors=6..............................................\n",
      "[CV 7/10; 1/1] END ...............n_neighbors=6;, score=0.663 total time=   0.1s\n",
      "[CV 3/10; 1/1] START n_neighbors=4..............................................\n",
      "[CV 3/10; 1/1] END ...............n_neighbors=4;, score=0.578 total time=   0.1s\n",
      "[CV 1/10; 1/1] START n_neighbors=4..............................................\n",
      "[CV 1/10; 1/1] END ...............n_neighbors=4;, score=0.751 total time=   0.1s\n",
      "[CV 9/10; 1/1] START n_neighbors=4..............................................\n",
      "[CV 9/10; 1/1] END ...............n_neighbors=4;, score=0.674 total time=   0.1s\n",
      "[CV 2/10; 1/1] START n_neighbors=4..............................................\n",
      "[CV 2/10; 1/1] END ...............n_neighbors=4;, score=0.613 total time=   0.1s\n",
      "[CV 9/10; 1/1] START n_neighbors=4..............................................\n",
      "[CV 9/10; 1/1] END ...............n_neighbors=4;, score=0.674 total time=   0.1s\n",
      "[CV 5/10; 1/1] START n_neighbors=6..............................................\n",
      "[CV 5/10; 1/1] END ...............n_neighbors=6;, score=0.669 total time=   0.1s\n",
      "[CV 10/10; 1/1] START n_neighbors=6.............................................\n",
      "[CV 10/10; 1/1] END ..............n_neighbors=6;, score=0.610 total time=   0.1s\n",
      "[CV 3/10; 1/1] START n_neighbors=4..............................................\n",
      "[CV 3/10; 1/1] END ...............n_neighbors=4;, score=0.578 total time=   0.1s\n",
      "[CV 9/10; 1/1] START n_neighbors=4..............................................\n",
      "[CV 9/10; 1/1] END ...............n_neighbors=4;, score=0.674 total time=   0.1s\n",
      "[CV 7/10; 1/1] START n_neighbors=4..............................................\n",
      "[CV 7/10; 1/1] END ...............n_neighbors=4;, score=0.686 total time=   0.1s\n",
      "[CV 3/10; 1/1] START n_neighbors=5..............................................\n",
      "[CV 3/10; 1/1] END ...............n_neighbors=5;, score=0.607 total time=   0.1s\n",
      "[CV 9/10; 1/1] START n_neighbors=5..............................................\n",
      "[CV 9/10; 1/1] END ...............n_neighbors=5;, score=0.663 total time=   0.1s\n",
      "[CV 6/10; 1/1] START n_neighbors=4..............................................\n",
      "[CV 6/10; 1/1] END ...............n_neighbors=4;, score=0.651 total time=   0.1s\n",
      "[CV 3/10; 1/1] START n_neighbors=4..............................................\n",
      "[CV 3/10; 1/1] END ...............n_neighbors=4;, score=0.578 total time=   0.1s\n",
      "[CV 2/10; 1/1] START n_neighbors=4..............................................\n",
      "[CV 2/10; 1/1] END ...............n_neighbors=4;, score=0.613 total time=   0.1s\n",
      "[CV 1/10; 1/1] START n_neighbors=4..............................................\n",
      "[CV 1/10; 1/1] END ...............n_neighbors=4;, score=0.751 total time=   0.1s\n",
      "[CV 9/10; 1/1] START n_neighbors=4..............................................\n",
      "[CV 9/10; 1/1] END ...............n_neighbors=4;, score=0.674 total time=   0.1s\n",
      "[CV 3/10; 1/1] START n_neighbors=4..............................................\n",
      "[CV 3/10; 1/1] END ...............n_neighbors=4;, score=0.578 total time=   0.1s\n",
      "[CV 7/10; 1/1] START n_neighbors=5..............................................\n",
      "[CV 7/10; 1/1] END ...............n_neighbors=5;, score=0.651 total time=   0.2s\n",
      "[CV 5/10; 1/1] START n_neighbors=5..............................................\n",
      "[CV 5/10; 1/1] END ...............n_neighbors=5;, score=0.674 total time=   0.2s\n",
      "[CV 4/10; 1/1] START n_neighbors=5..............................................\n",
      "[CV 4/10; 1/1] END ...............n_neighbors=5;, score=0.601 total time=   0.1s\n",
      "[CV 6/10; 1/1] START n_neighbors=4..............................................\n",
      "[CV 6/10; 1/1] END ...............n_neighbors=4;, score=0.651 total time=   0.1s\n",
      "[CV 6/10; 1/1] START n_neighbors=4..............................................\n",
      "[CV 6/10; 1/1] END ...............n_neighbors=4;, score=0.651 total time=   0.1s\n",
      "[CV 5/10; 1/1] START n_neighbors=6..............................................\n",
      "[CV 5/10; 1/1] END ...............n_neighbors=6;, score=0.669 total time=   0.1s\n",
      "[CV 5/10; 1/1] START n_neighbors=6..............................................\n",
      "[CV 5/10; 1/1] END ...............n_neighbors=6;, score=0.669 total time=   0.2s\n",
      "[CV 7/10; 1/1] START n_neighbors=5..............................................\n",
      "[CV 7/10; 1/1] END ...............n_neighbors=5;, score=0.651 total time=   0.1s\n",
      "[CV 5/10; 1/1] START n_neighbors=4..............................................\n",
      "[CV 5/10; 1/1] END ...............n_neighbors=4;, score=0.715 total time=   0.1s\n",
      "[CV 7/10; 1/1] START n_neighbors=5..............................................\n",
      "[CV 7/10; 1/1] END ...............n_neighbors=5;, score=0.651 total time=   0.1s\n",
      "[CV 10/10; 1/1] START n_neighbors=5.............................................\n",
      "[CV 10/10; 1/1] END ..............n_neighbors=5;, score=0.634 total time=   0.1s\n",
      "[CV 4/10; 1/1] START n_neighbors=5..............................................\n",
      "[CV 4/10; 1/1] END ...............n_neighbors=5;, score=0.601 total time=   0.1s\n",
      "[CV 7/10; 1/1] START n_neighbors=4..............................................\n",
      "[CV 7/10; 1/1] END ...............n_neighbors=4;, score=0.686 total time=   0.1s\n",
      "[CV 6/10; 1/1] START n_neighbors=5..............................................\n",
      "[CV 6/10; 1/1] END ...............n_neighbors=5;, score=0.622 total time=   0.1s\n",
      "[CV 6/10; 1/1] START n_neighbors=6..............................................\n",
      "[CV 6/10; 1/1] END ...............n_neighbors=6;, score=0.634 total time=   0.1s\n",
      "[CV 4/10; 1/1] START n_neighbors=5..............................................\n",
      "[CV 4/10; 1/1] END ...............n_neighbors=5;, score=0.601 total time=   0.2s\n",
      "[CV 7/10; 1/1] START n_neighbors=6..............................................\n",
      "[CV 7/10; 1/1] END ...............n_neighbors=6;, score=0.663 total time=   0.1s\n",
      "[CV 3/10; 1/1] START n_neighbors=5..............................................\n",
      "[CV 3/10; 1/1] END ...............n_neighbors=5;, score=0.607 total time=   0.1s\n",
      "[CV 1/10; 1/1] START n_neighbors=5..............................................\n",
      "[CV 1/10; 1/1] END ...............n_neighbors=5;, score=0.740 total time=   0.1s\n",
      "[CV 10/10; 1/1] START n_neighbors=5.............................................\n",
      "[CV 10/10; 1/1] END ..............n_neighbors=5;, score=0.634 total time=   0.1s\n",
      "[CV 6/10; 1/1] START n_neighbors=5..............................................\n",
      "[CV 6/10; 1/1] END ...............n_neighbors=5;, score=0.622 total time=   0.1s\n",
      "[CV 2/10; 1/1] START n_neighbors=5..............................................\n",
      "[CV 2/10; 1/1] END ...............n_neighbors=5;, score=0.555 total time=   0.1s\n",
      "[CV 9/10; 1/1] START n_neighbors=5..............................................\n",
      "[CV 9/10; 1/1] END ...............n_neighbors=5;, score=0.663 total time=   0.1s\n",
      "[CV 5/10; 1/1] START n_neighbors=4..............................................\n",
      "[CV 5/10; 1/1] END ...............n_neighbors=4;, score=0.715 total time=   0.1s\n",
      "[CV 2/10; 1/1] START n_neighbors=4..............................................\n",
      "[CV 2/10; 1/1] END ...............n_neighbors=4;, score=0.613 total time=   0.1s\n",
      "[CV 4/10; 1/1] START n_neighbors=4..............................................\n",
      "[CV 4/10; 1/1] END ...............n_neighbors=4;, score=0.665 total time=   0.1s\n",
      "[CV 4/10; 1/1] START n_neighbors=4..............................................\n",
      "[CV 4/10; 1/1] END ...............n_neighbors=4;, score=0.665 total time=   0.1s\n",
      "[CV 6/10; 1/1] START n_neighbors=4..............................................\n",
      "[CV 6/10; 1/1] END ...............n_neighbors=4;, score=0.651 total time=   0.1s\n",
      "[CV 6/10; 1/1] START n_neighbors=6..............................................\n",
      "[CV 6/10; 1/1] END ...............n_neighbors=6;, score=0.634 total time=   0.1s\n",
      "[CV 6/10; 1/1] START n_neighbors=5..............................................\n",
      "[CV 6/10; 1/1] END ...............n_neighbors=5;, score=0.622 total time=   0.1s\n",
      "[CV 3/10; 1/1] START n_neighbors=4..............................................\n",
      "[CV 3/10; 1/1] END ...............n_neighbors=4;, score=0.578 total time=   0.1s\n",
      "[CV 1/10; 1/1] START n_neighbors=6..............................................\n",
      "[CV 1/10; 1/1] END ...............n_neighbors=6;, score=0.740 total time=   0.1s\n",
      "[CV 9/10; 1/1] START n_neighbors=6..............................................\n",
      "[CV 9/10; 1/1] END ...............n_neighbors=6;, score=0.715 total time=   0.1s\n",
      "[CV 6/10; 1/1] START n_neighbors=4..............................................\n",
      "[CV 6/10; 1/1] END ...............n_neighbors=4;, score=0.651 total time=   0.1s\n",
      "[CV 8/10; 1/1] START n_neighbors=4..............................................\n",
      "[CV 8/10; 1/1] END ...............n_neighbors=4;, score=0.686 total time=   0.1s\n",
      "[CV 8/10; 1/1] START n_neighbors=6..............................................\n",
      "[CV 8/10; 1/1] END ...............n_neighbors=6;, score=0.674 total time=   0.1s\n",
      "[CV 7/10; 1/1] START n_neighbors=6..............................................\n",
      "[CV 7/10; 1/1] END ...............n_neighbors=6;, score=0.663 total time=   0.1s\n",
      "[CV 5/10; 1/1] START n_neighbors=4..............................................\n",
      "[CV 5/10; 1/1] END ...............n_neighbors=4;, score=0.715 total time=   0.1s\n",
      "[CV 4/10; 1/1] START n_neighbors=4..............................................\n",
      "[CV 4/10; 1/1] END ...............n_neighbors=4;, score=0.665 total time=   0.1s\n",
      "[CV 7/10; 1/1] START n_neighbors=4..............................................\n",
      "[CV 7/10; 1/1] END ...............n_neighbors=4;, score=0.686 total time=   0.1s\n",
      "[CV 4/10; 1/1] START n_neighbors=5..............................................\n",
      "[CV 4/10; 1/1] END ...............n_neighbors=5;, score=0.601 total time=   0.1s\n",
      "[CV 1/10; 1/1] START n_neighbors=6..............................................\n",
      "[CV 1/10; 1/1] END ...............n_neighbors=6;, score=0.740 total time=   0.1s\n",
      "[CV 9/10; 1/1] START n_neighbors=6..............................................\n",
      "[CV 9/10; 1/1] END ...............n_neighbors=6;, score=0.715 total time=   0.1s\n",
      "[CV 5/10; 1/1] START n_neighbors=4..............................................\n",
      "[CV 5/10; 1/1] END ...............n_neighbors=4;, score=0.715 total time=   0.1s\n",
      "[CV 6/10; 1/1] START n_neighbors=4..............................................\n",
      "[CV 6/10; 1/1] END ...............n_neighbors=4;, score=0.651 total time=   0.1s\n",
      "[CV 7/10; 1/1] START n_neighbors=4..............................................\n",
      "[CV 7/10; 1/1] END ...............n_neighbors=4;, score=0.686 total time=   0.1s\n",
      "[CV 4/10; 1/1] START n_neighbors=6..............................................\n",
      "[CV 4/10; 1/1] END ...............n_neighbors=6;, score=0.647 total time=   0.1s\n",
      "[CV 8/10; 1/1] START n_neighbors=4..............................................\n",
      "[CV 8/10; 1/1] END ...............n_neighbors=4;, score=0.686 total time=   0.1s\n",
      "[CV 2/10; 1/1] START n_neighbors=4..............................................\n",
      "[CV 2/10; 1/1] END ...............n_neighbors=4;, score=0.613 total time=   0.1s\n",
      "[CV 9/10; 1/1] START n_neighbors=4..............................................\n",
      "[CV 9/10; 1/1] END ...............n_neighbors=4;, score=0.674 total time=   0.1s\n",
      "[CV 4/10; 1/1] START n_neighbors=5..............................................\n",
      "[CV 4/10; 1/1] END ...............n_neighbors=5;, score=0.601 total time=   0.2s\n",
      "[CV 4/10; 1/1] START n_neighbors=4..............................................\n",
      "[CV 4/10; 1/1] END ...............n_neighbors=4;, score=0.665 total time=   0.1s\n",
      "[CV 2/10; 1/1] START n_neighbors=4..............................................\n",
      "[CV 2/10; 1/1] END ...............n_neighbors=4;, score=0.613 total time=   0.2s\n",
      "[CV 6/10; 1/1] START n_neighbors=4..............................................\n",
      "[CV 6/10; 1/1] END ...............n_neighbors=4;, score=0.651 total time=   0.1s\n",
      "[CV 4/10; 1/1] START n_neighbors=4..............................................\n",
      "[CV 4/10; 1/1] END ...............n_neighbors=4;, score=0.665 total time=   0.1s\n",
      "[CV 6/10; 1/1] START n_neighbors=4..............................................\n",
      "[CV 6/10; 1/1] END ...............n_neighbors=4;, score=0.651 total time=   0.1s\n",
      "[CV 1/10; 1/1] START n_neighbors=5..............................................\n",
      "[CV 1/10; 1/1] END ...............n_neighbors=5;, score=0.740 total time=   0.2s\n",
      "[CV 9/10; 1/1] START n_neighbors=5..............................................\n",
      "[CV 9/10; 1/1] END ...............n_neighbors=5;, score=0.663 total time=   0.1s\n",
      "[CV 2/10; 1/1] START n_neighbors=5..............................................\n",
      "[CV 2/10; 1/1] END ...............n_neighbors=5;, score=0.555 total time=   0.2s\n",
      "[CV 5/10; 1/1] START n_neighbors=5..............................................\n",
      "[CV 5/10; 1/1] END ...............n_neighbors=5;, score=0.674 total time=   0.1s\n",
      "[CV 10/10; 1/1] START n_neighbors=5.............................................\n",
      "[CV 10/10; 1/1] END ..............n_neighbors=5;, score=0.634 total time=   0.1s\n",
      "[CV 5/10; 1/1] START n_neighbors=4..............................................\n",
      "[CV 5/10; 1/1] END ...............n_neighbors=4;, score=0.715 total time=   0.1s\n",
      "[CV 1/10; 1/1] START n_neighbors=4..............................................\n",
      "[CV 1/10; 1/1] END ...............n_neighbors=4;, score=0.751 total time=   0.1s\n",
      "[CV 1/10; 1/1] START n_neighbors=6..............................................\n",
      "[CV 1/10; 1/1] END ...............n_neighbors=6;, score=0.740 total time=   0.1s\n",
      "[CV 9/10; 1/1] START n_neighbors=6..............................................\n",
      "[CV 9/10; 1/1] END ...............n_neighbors=6;, score=0.715 total time=   0.1s\n",
      "[CV 6/10; 1/1] START n_neighbors=6..............................................\n",
      "[CV 6/10; 1/1] END ...............n_neighbors=6;, score=0.634 total time=   0.1s\n",
      "[CV 2/10; 1/1] START n_neighbors=5..............................................\n",
      "[CV 2/10; 1/1] END ...............n_neighbors=5;, score=0.555 total time=   0.1s\n",
      "[CV 3/10; 1/1] START n_neighbors=4..............................................\n",
      "[CV 3/10; 1/1] END ...............n_neighbors=4;, score=0.578 total time=   0.1s\n",
      "[CV 1/10; 1/1] START n_neighbors=5..............................................\n",
      "[CV 1/10; 1/1] END ...............n_neighbors=5;, score=0.740 total time=   0.1s\n",
      "[CV 7/10; 1/1] START n_neighbors=5..............................................\n",
      "[CV 7/10; 1/1] END ...............n_neighbors=5;, score=0.651 total time=   0.1s\n",
      "[CV 4/10; 1/1] START n_neighbors=4..............................................\n",
      "[CV 4/10; 1/1] END ...............n_neighbors=4;, score=0.665 total time=   0.1s\n",
      "[CV 8/10; 1/1] START n_neighbors=5..............................................\n",
      "[CV 8/10; 1/1] END ...............n_neighbors=5;, score=0.634 total time=   0.1s\n",
      "[CV 7/10; 1/1] START n_neighbors=6..............................................\n",
      "[CV 7/10; 1/1] END ...............n_neighbors=6;, score=0.663 total time=   0.1s\n",
      "[CV 5/10; 1/1] START n_neighbors=5..............................................\n",
      "[CV 5/10; 1/1] END ...............n_neighbors=5;, score=0.674 total time=   0.1s\n",
      "[CV 5/10; 1/1] START n_neighbors=6..............................................\n",
      "[CV 5/10; 1/1] END ...............n_neighbors=6;, score=0.669 total time=   0.1s\n",
      "[CV 8/10; 1/1] START n_neighbors=5..............................................\n",
      "[CV 8/10; 1/1] END ...............n_neighbors=5;, score=0.634 total time=   0.1s\n",
      "[CV 7/10; 1/1] START n_neighbors=5..............................................\n",
      "[CV 7/10; 1/1] END ...............n_neighbors=5;, score=0.651 total time=   0.1s\n",
      "[CV 8/10; 1/1] START n_neighbors=5..............................................\n",
      "[CV 8/10; 1/1] END ...............n_neighbors=5;, score=0.634 total time=   0.1s\n",
      "[CV 7/10; 1/1] START n_neighbors=5..............................................\n",
      "[CV 7/10; 1/1] END ...............n_neighbors=5;, score=0.651 total time=   0.1s\n",
      "[CV 3/10; 1/1] START n_neighbors=4..............................................\n",
      "[CV 3/10; 1/1] END ...............n_neighbors=4;, score=0.578 total time=   0.1s\n",
      "[CV 9/10; 1/1] START n_neighbors=4..............................................\n",
      "[CV 9/10; 1/1] END ...............n_neighbors=4;, score=0.674 total time=   0.1s\n",
      "[CV 3/10; 1/1] START n_neighbors=4..............................................\n",
      "[CV 3/10; 1/1] END ...............n_neighbors=4;, score=0.578 total time=   0.1s\n",
      "[CV 10/10; 1/1] START n_neighbors=4.............................................\n",
      "[CV 10/10; 1/1] END ..............n_neighbors=4;, score=0.628 total time=   0.1s\n",
      "[CV 6/10; 1/1] START n_neighbors=4..............................................\n",
      "[CV 6/10; 1/1] END ...............n_neighbors=4;, score=0.651 total time=   0.1s\n",
      "[CV 3/10; 1/1] START n_neighbors=4..............................................\n",
      "[CV 3/10; 1/1] END ...............n_neighbors=4;, score=0.578 total time=   0.1s\n",
      "[CV 2/10; 1/1] START n_neighbors=4..............................................\n",
      "[CV 2/10; 1/1] END ...............n_neighbors=4;, score=0.613 total time=   0.1s\n",
      "[CV 1/10; 1/1] START n_neighbors=6..............................................\n",
      "[CV 1/10; 1/1] END ...............n_neighbors=6;, score=0.740 total time=   0.1s\n",
      "[CV 10/10; 1/1] START n_neighbors=6.............................................\n",
      "[CV 10/10; 1/1] END ..............n_neighbors=6;, score=0.610 total time=   0.1s\n",
      "[CV 4/10; 1/1] START n_neighbors=5..............................................\n",
      "[CV 4/10; 1/1] END ...............n_neighbors=5;, score=0.601 total time=   0.1s\n",
      "[CV 6/10; 1/1] START n_neighbors=4..............................................\n",
      "[CV 6/10; 1/1] END ...............n_neighbors=4;, score=0.651 total time=   0.2s\n",
      "[CV 7/10; 1/1] START n_neighbors=6..............................................\n",
      "[CV 7/10; 1/1] END ...............n_neighbors=6;, score=0.663 total time=   0.1s\n",
      "[CV 7/10; 1/1] START n_neighbors=4..............................................\n",
      "[CV 7/10; 1/1] END ...............n_neighbors=4;, score=0.686 total time=   0.1s\n",
      "[CV 5/10; 1/1] START n_neighbors=4..............................................\n",
      "[CV 5/10; 1/1] END ...............n_neighbors=4;, score=0.715 total time=   0.2s\n",
      "[CV 4/10; 1/1] START n_neighbors=6..............................................\n",
      "[CV 4/10; 1/1] END ...............n_neighbors=6;, score=0.647 total time=   0.1s\n",
      "[CV 9/10; 1/1] START n_neighbors=6..............................................\n",
      "[CV 9/10; 1/1] END ...............n_neighbors=6;, score=0.715 total time=   0.1s\n",
      "[CV 5/10; 1/1] START n_neighbors=6..............................................\n",
      "[CV 5/10; 1/1] END ...............n_neighbors=6;, score=0.669 total time=   0.1s\n",
      "[CV 4/10; 1/1] START n_neighbors=4..............................................\n",
      "[CV 4/10; 1/1] END ...............n_neighbors=4;, score=0.665 total time=   0.1s\n",
      "[CV 10/10; 1/1] START n_neighbors=4.............................................\n",
      "[CV 10/10; 1/1] END ..............n_neighbors=4;, score=0.628 total time=   0.1s\n",
      "[CV 8/10; 1/1] START n_neighbors=4..............................................\n",
      "[CV 8/10; 1/1] END ...............n_neighbors=4;, score=0.686 total time=   0.1s\n",
      "[CV 8/10; 1/1] START n_neighbors=4..............................................\n",
      "[CV 8/10; 1/1] END ...............n_neighbors=4;, score=0.686 total time=   0.1s\n",
      "[CV 8/10; 1/1] START n_neighbors=5..............................................\n",
      "[CV 8/10; 1/1] END ...............n_neighbors=5;, score=0.634 total time=   0.1s\n",
      "[CV 4/10; 1/1] START n_neighbors=6..............................................\n",
      "[CV 4/10; 1/1] END ...............n_neighbors=6;, score=0.647 total time=   0.1s\n",
      "[CV 2/10; 1/1] START n_neighbors=4..............................................\n",
      "[CV 2/10; 1/1] END ...............n_neighbors=4;, score=0.613 total time=   0.1s\n",
      "[CV 10/10; 1/1] START n_neighbors=4.............................................\n",
      "[CV 10/10; 1/1] END ..............n_neighbors=4;, score=0.628 total time=   0.1s\n",
      "[CV 2/10; 1/1] START n_neighbors=4..............................................\n",
      "[CV 2/10; 1/1] END ...............n_neighbors=4;, score=0.613 total time=   0.1s\n",
      "[CV 10/10; 1/1] START n_neighbors=4.............................................\n",
      "[CV 10/10; 1/1] END ..............n_neighbors=4;, score=0.628 total time=   0.1s\n",
      "[CV 5/10; 1/1] START n_neighbors=4..............................................\n",
      "[CV 5/10; 1/1] END ...............n_neighbors=4;, score=0.715 total time=   0.1s\n",
      "[CV 3/10; 1/1] START n_neighbors=6..............................................\n",
      "[CV 3/10; 1/1] END ...............n_neighbors=6;, score=0.590 total time=   0.1s\n",
      "[CV 9/10; 1/1] START n_neighbors=6..............................................\n",
      "[CV 9/10; 1/1] END ...............n_neighbors=6;, score=0.715 total time=   0.1s\n",
      "[CV 4/10; 1/1] START n_neighbors=4..............................................\n",
      "[CV 4/10; 1/1] END ...............n_neighbors=4;, score=0.665 total time=   0.1s\n",
      "[CV 5/10; 1/1] START n_neighbors=4..............................................\n",
      "[CV 5/10; 1/1] END ...............n_neighbors=4;, score=0.715 total time=   0.1s\n",
      "[CV 1/10; 1/1] START n_neighbors=5..............................................\n",
      "[CV 1/10; 1/1] END ...............n_neighbors=5;, score=0.740 total time=   0.1s\n",
      "[CV 2/10; 1/1] START n_neighbors=4..............................................\n",
      "[CV 2/10; 1/1] END ...............n_neighbors=4;, score=0.613 total time=   0.1s\n",
      "[CV 10/10; 1/1] START n_neighbors=4.............................................\n",
      "[CV 10/10; 1/1] END ..............n_neighbors=4;, score=0.628 total time=   0.1s\n",
      "[CV 6/10; 1/1] START n_neighbors=4..............................................\n",
      "[CV 6/10; 1/1] END ...............n_neighbors=4;, score=0.651 total time=   0.1s\n",
      "[CV 10/10; 1/1] START n_neighbors=4.............................................\n",
      "[CV 10/10; 1/1] END ..............n_neighbors=4;, score=0.628 total time=   0.1s\n",
      "[CV 5/10; 1/1] START n_neighbors=4..............................................\n",
      "[CV 5/10; 1/1] END ...............n_neighbors=4;, score=0.715 total time=   0.1s\n",
      "[CV 6/10; 1/1] START n_neighbors=4..............................................\n",
      "[CV 6/10; 1/1] END ...............n_neighbors=4;, score=0.651 total time=   0.1s\n",
      "[CV 4/10; 1/1] START n_neighbors=4..............................................\n",
      "[CV 4/10; 1/1] END ...............n_neighbors=4;, score=0.665 total time=   0.1s\n",
      "[CV 5/10; 1/1] START n_neighbors=5..............................................\n",
      "[CV 5/10; 1/1] END ...............n_neighbors=5;, score=0.674 total time=   0.2s\n",
      "[CV 1/10; 1/1] START n_neighbors=5..............................................\n",
      "[CV 1/10; 1/1] END ...............n_neighbors=5;, score=0.740 total time=   0.1s\n",
      "[CV 10/10; 1/1] START n_neighbors=5.............................................\n",
      "[CV 10/10; 1/1] END ..............n_neighbors=5;, score=0.634 total time=   0.1s\n",
      "[CV 3/10; 1/1] START n_neighbors=5..............................................\n",
      "[CV 3/10; 1/1] END ...............n_neighbors=5;, score=0.607 total time=   0.1s\n",
      "[CV 1/10; 1/1] START n_neighbors=4..............................................\n",
      "[CV 1/10; 1/1] END ...............n_neighbors=4;, score=0.751 total time=   0.1s\n",
      "[CV 10/10; 1/1] START n_neighbors=4.............................................\n",
      "[CV 10/10; 1/1] END ..............n_neighbors=4;, score=0.628 total time=   0.1s\n",
      "[CV 2/10; 1/1] START n_neighbors=4..............................................\n",
      "[CV 2/10; 1/1] END ...............n_neighbors=4;, score=0.613 total time=   0.1s\n",
      "[CV 10/10; 1/1] START n_neighbors=4.............................................\n",
      "[CV 10/10; 1/1] END ..............n_neighbors=4;, score=0.628 total time=   0.1s\n",
      "[CV 3/10; 1/1] START n_neighbors=6..............................................\n",
      "[CV 3/10; 1/1] END ...............n_neighbors=6;, score=0.590 total time=   0.1s\n",
      "[CV 1/10; 1/1] START n_neighbors=6..............................................\n",
      "[CV 1/10; 1/1] END ...............n_neighbors=6;, score=0.740 total time=   0.1s\n",
      "[CV 5/10; 1/1] START n_neighbors=5..............................................\n",
      "[CV 5/10; 1/1] END ...............n_neighbors=5;, score=0.674 total time=   0.1s\n",
      "[CV 9/10; 1/1] START n_neighbors=5..............................................\n",
      "[CV 9/10; 1/1] END ...............n_neighbors=5;, score=0.663 total time=   0.1s\n",
      "[CV 4/10; 1/1] START n_neighbors=4..............................................\n",
      "[CV 4/10; 1/1] END ...............n_neighbors=4;, score=0.665 total time=   0.1s\n",
      "[CV 4/10; 1/1] START n_neighbors=5..............................................\n",
      "[CV 4/10; 1/1] END ...............n_neighbors=5;, score=0.601 total time=   0.1s\n",
      "[CV 6/10; 1/1] START n_neighbors=5..............................................\n",
      "[CV 6/10; 1/1] END ...............n_neighbors=5;, score=0.622 total time=   0.2s\n",
      "[CV 2/10; 1/1] START n_neighbors=4..............................................\n",
      "[CV 2/10; 1/1] END ...............n_neighbors=4;, score=0.613 total time=   0.1s\n",
      "[CV 9/10; 1/1] START n_neighbors=4..............................................\n",
      "[CV 9/10; 1/1] END ...............n_neighbors=4;, score=0.674 total time=   0.1s\n",
      "[CV 3/10; 1/1] START n_neighbors=5..............................................\n",
      "[CV 3/10; 1/1] END ...............n_neighbors=5;, score=0.607 total time=   0.1s\n",
      "[CV 1/10; 1/1] START n_neighbors=6..............................................\n",
      "[CV 1/10; 1/1] END ...............n_neighbors=6;, score=0.740 total time=   0.1s\n",
      "[CV 9/10; 1/1] START n_neighbors=6..............................................\n",
      "[CV 9/10; 1/1] END ...............n_neighbors=6;, score=0.715 total time=   0.1s\n",
      "[CV 2/10; 1/1] START n_neighbors=5..............................................\n",
      "[CV 2/10; 1/1] END ...............n_neighbors=5;, score=0.555 total time=   0.1s\n",
      "[CV 10/10; 1/1] START n_neighbors=5.............................................\n",
      "[CV 10/10; 1/1] END ..............n_neighbors=5;, score=0.634 total time=   0.1s\n",
      "[CV 8/10; 1/1] START n_neighbors=6..............................................\n",
      "[CV 8/10; 1/1] END ...............n_neighbors=6;, score=0.674 total time=   0.1s\n",
      "[CV 5/10; 1/1] START n_neighbors=5..............................................\n",
      "[CV 5/10; 1/1] END ...............n_neighbors=5;, score=0.674 total time=   0.1s\n",
      "[CV 10/10; 1/1] START n_neighbors=5.............................................\n",
      "[CV 10/10; 1/1] END ..............n_neighbors=5;, score=0.634 total time=   0.1s\n",
      "[CV 3/10; 1/1] START n_neighbors=5..............................................\n",
      "[CV 3/10; 1/1] END ...............n_neighbors=5;, score=0.607 total time=   0.1s\n",
      "[CV 1/10; 1/1] START n_neighbors=5..............................................\n",
      "[CV 1/10; 1/1] END ...............n_neighbors=5;, score=0.740 total time=   0.1s\n",
      "[CV 10/10; 1/1] START n_neighbors=5.............................................\n",
      "[CV 10/10; 1/1] END ..............n_neighbors=5;, score=0.634 total time=   0.1s\n",
      "[CV 3/10; 1/1] START n_neighbors=5..............................................\n",
      "[CV 3/10; 1/1] END ...............n_neighbors=5;, score=0.607 total time=   0.1s\n",
      "[CV 8/10; 1/1] START n_neighbors=4..............................................\n",
      "[CV 8/10; 1/1] END ...............n_neighbors=4;, score=0.686 total time=   0.1s\n",
      "[CV 7/10; 1/1] START n_neighbors=4..............................................\n",
      "[CV 7/10; 1/1] END ...............n_neighbors=4;, score=0.686 total time=   0.1s\n",
      "[CV 5/10; 1/1] START n_neighbors=4..............................................\n",
      "[CV 5/10; 1/1] END ...............n_neighbors=4;, score=0.715 total time=   0.1s\n",
      "[CV 9/10; 1/1] START n_neighbors=4..............................................\n",
      "[CV 9/10; 1/1] END ...............n_neighbors=4;, score=0.674 total time=   0.1s\n",
      "[CV 7/10; 1/1] START n_neighbors=4..............................................\n",
      "[CV 7/10; 1/1] END ...............n_neighbors=4;, score=0.686 total time=   0.1s\n",
      "[CV 1/10; 1/1] START n_neighbors=4..............................................\n",
      "[CV 1/10; 1/1] END ...............n_neighbors=4;, score=0.751 total time=   0.1s\n",
      "[CV 5/10; 1/1] START n_neighbors=6..............................................\n",
      "[CV 5/10; 1/1] END ...............n_neighbors=6;, score=0.669 total time=   0.1s\n",
      "[CV 1/10; 1/1] START n_neighbors=5..............................................\n",
      "[CV 1/10; 1/1] END ...............n_neighbors=5;, score=0.740 total time=   0.1s\n",
      "[CV 1/10; 1/1] START n_neighbors=4..............................................\n",
      "[CV 1/10; 1/1] END ...............n_neighbors=4;, score=0.751 total time=   0.1s\n",
      "[CV 9/10; 1/1] START n_neighbors=4..............................................\n",
      "[CV 9/10; 1/1] END ...............n_neighbors=4;, score=0.674 total time=   0.1s\n",
      "[CV 5/10; 1/1] START n_neighbors=6..............................................\n",
      "[CV 5/10; 1/1] END ...............n_neighbors=6;, score=0.669 total time=   0.1s\n",
      "[CV 5/10; 1/1] START n_neighbors=4..............................................\n",
      "[CV 5/10; 1/1] END ...............n_neighbors=4;, score=0.715 total time=   0.1s\n",
      "[CV 4/10; 1/1] START n_neighbors=4..............................................\n",
      "[CV 4/10; 1/1] END ...............n_neighbors=4;, score=0.665 total time=   0.1s\n",
      "[CV 1/10; 1/1] START n_neighbors=6..............................................\n",
      "[CV 1/10; 1/1] END ...............n_neighbors=6;, score=0.740 total time=   0.1s\n",
      "[CV 1/10; 1/1] START n_neighbors=6..............................................\n",
      "[CV 1/10; 1/1] END ...............n_neighbors=6;, score=0.740 total time=   0.1s\n",
      "[CV 1/10; 1/1] START n_neighbors=4..............................................\n",
      "[CV 1/10; 1/1] END ...............n_neighbors=4;, score=0.751 total time=   0.1s\n",
      "[CV 1/10; 1/1] START n_neighbors=4..............................................\n",
      "[CV 1/10; 1/1] END ...............n_neighbors=4;, score=0.751 total time=   0.1s\n",
      "[CV 9/10; 1/1] START n_neighbors=4..............................................\n",
      "[CV 9/10; 1/1] END ...............n_neighbors=4;, score=0.674 total time=   0.1s\n",
      "[CV 3/10; 1/1] START n_neighbors=4..............................................\n",
      "[CV 3/10; 1/1] END ...............n_neighbors=4;, score=0.578 total time=   0.1s\n",
      "[CV 10/10; 1/1] START n_neighbors=4.............................................\n",
      "[CV 10/10; 1/1] END ..............n_neighbors=4;, score=0.628 total time=   0.1s\n",
      "[CV 3/10; 1/1] START n_neighbors=5..............................................\n",
      "[CV 3/10; 1/1] END ...............n_neighbors=5;, score=0.607 total time=   0.1s\n",
      "[CV 5/10; 1/1] START n_neighbors=6..............................................\n",
      "[CV 5/10; 1/1] END ...............n_neighbors=6;, score=0.669 total time=   0.1s\n",
      "[CV 4/10; 1/1] START n_neighbors=4..............................................\n",
      "[CV 4/10; 1/1] END ...............n_neighbors=4;, score=0.665 total time=   0.1s\n",
      "[CV 9/10; 1/1] START n_neighbors=4..............................................\n",
      "[CV 9/10; 1/1] END ...............n_neighbors=4;, score=0.674 total time=   0.1s\n",
      "[CV 3/10; 1/1] START n_neighbors=4..............................................\n",
      "[CV 3/10; 1/1] END ...............n_neighbors=4;, score=0.578 total time=   0.1s\n",
      "[CV 1/10; 1/1] START n_neighbors=4..............................................\n",
      "[CV 1/10; 1/1] END ...............n_neighbors=4;, score=0.751 total time=   0.1s\n",
      "[CV 10/10; 1/1] START n_neighbors=4.............................................\n",
      "[CV 10/10; 1/1] END ..............n_neighbors=4;, score=0.628 total time=   0.1s\n",
      "[CV 7/10; 1/1] START n_neighbors=6..............................................\n",
      "[CV 7/10; 1/1] END ...............n_neighbors=6;, score=0.663 total time=   0.1s\n",
      "[CV 6/10; 1/1] START n_neighbors=4..............................................\n",
      "[CV 6/10; 1/1] END ...............n_neighbors=4;, score=0.651 total time=   0.1s\n",
      "[CV 1/10; 1/1] START n_neighbors=4..............................................\n",
      "[CV 1/10; 1/1] END ...............n_neighbors=4;, score=0.751 total time=   0.1s\n",
      "[CV 10/10; 1/1] START n_neighbors=4.............................................\n",
      "[CV 10/10; 1/1] END ..............n_neighbors=4;, score=0.628 total time=   0.1s\n",
      "[CV 2/10; 1/1] START n_neighbors=5..............................................\n",
      "[CV 2/10; 1/1] END ...............n_neighbors=5;, score=0.555 total time=   0.1s\n",
      "[CV 5/10; 1/1] START n_neighbors=4..............................................\n",
      "[CV 5/10; 1/1] END ...............n_neighbors=4;, score=0.715 total time=   0.1s\n",
      "[CV 4/10; 1/1] START n_neighbors=4..............................................\n",
      "[CV 4/10; 1/1] END ...............n_neighbors=4;, score=0.665 total time=   0.1s\n",
      "[CV 8/10; 1/1] START n_neighbors=4..............................................\n",
      "[CV 8/10; 1/1] END ...............n_neighbors=4;, score=0.686 total time=   0.1s\n",
      "[CV 2/10; 1/1] START n_neighbors=4..............................................\n",
      "[CV 2/10; 1/1] END ...............n_neighbors=4;, score=0.613 total time=   0.1s\n",
      "[CV 10/10; 1/1] START n_neighbors=4.............................................\n",
      "[CV 10/10; 1/1] END ..............n_neighbors=4;, score=0.628 total time=   0.1s\n",
      "[CV 5/10; 1/1] START n_neighbors=4..............................................\n",
      "[CV 5/10; 1/1] END ...............n_neighbors=4;, score=0.715 total time=   0.1s\n"
     ]
    },
    {
     "name": "stdout",
     "output_type": "stream",
     "text": [
      "[CV 6/10; 1/1] START n_neighbors=5..............................................\n",
      "[CV 6/10; 1/1] END ...............n_neighbors=5;, score=0.622 total time=   0.2s\n",
      "[CV 8/10; 1/1] START n_neighbors=5..............................................\n",
      "[CV 8/10; 1/1] END ...............n_neighbors=5;, score=0.634 total time=   0.1s\n",
      "[CV 7/10; 1/1] START n_neighbors=5..............................................\n",
      "[CV 7/10; 1/1] END ...............n_neighbors=5;, score=0.651 total time=   0.1s\n",
      "[CV 8/10; 1/1] START n_neighbors=4..............................................\n",
      "[CV 8/10; 1/1] END ...............n_neighbors=4;, score=0.686 total time=   0.1s\n",
      "[CV 3/10; 1/1] START n_neighbors=4..............................................\n",
      "[CV 3/10; 1/1] END ...............n_neighbors=4;, score=0.578 total time=   0.1s\n",
      "[CV 8/10; 1/1] START n_neighbors=6..............................................\n",
      "[CV 8/10; 1/1] END ...............n_neighbors=6;, score=0.674 total time=   0.1s\n",
      "[CV 7/10; 1/1] START n_neighbors=6..............................................\n",
      "[CV 7/10; 1/1] END ...............n_neighbors=6;, score=0.663 total time=   0.1s\n",
      "[CV 1/10; 1/1] START n_neighbors=5..............................................\n",
      "[CV 1/10; 1/1] END ...............n_neighbors=5;, score=0.740 total time=   0.1s\n",
      "[CV 10/10; 1/1] START n_neighbors=5.............................................\n",
      "[CV 10/10; 1/1] END ..............n_neighbors=5;, score=0.634 total time=   0.1s\n",
      "[CV 2/10; 1/1] START n_neighbors=4..............................................\n",
      "[CV 2/10; 1/1] END ...............n_neighbors=4;, score=0.613 total time=   0.1s\n",
      "[CV 9/10; 1/1] START n_neighbors=4..............................................\n",
      "[CV 9/10; 1/1] END ...............n_neighbors=4;, score=0.674 total time=   0.1s\n",
      "[CV 3/10; 1/1] START n_neighbors=5..............................................\n",
      "[CV 3/10; 1/1] END ...............n_neighbors=5;, score=0.607 total time=   0.1s\n",
      "[CV 1/10; 1/1] START n_neighbors=5..............................................\n",
      "[CV 1/10; 1/1] END ...............n_neighbors=5;, score=0.740 total time=   0.1s\n",
      "[CV 9/10; 1/1] START n_neighbors=5..............................................\n",
      "[CV 9/10; 1/1] END ...............n_neighbors=5;, score=0.663 total time=   0.1s\n",
      "[CV 3/10; 1/1] START n_neighbors=4..............................................\n",
      "[CV 3/10; 1/1] END ...............n_neighbors=4;, score=0.578 total time=   0.1s\n",
      "[CV 1/10; 1/1] START n_neighbors=5..............................................\n",
      "[CV 1/10; 1/1] END ...............n_neighbors=5;, score=0.740 total time=   0.1s\n",
      "[CV 9/10; 1/1] START n_neighbors=5..............................................\n",
      "[CV 9/10; 1/1] END ...............n_neighbors=5;, score=0.663 total time=   0.1s\n",
      "[CV 2/10; 1/1] START n_neighbors=6..............................................\n",
      "[CV 2/10; 1/1] END ...............n_neighbors=6;, score=0.618 total time=   0.1s\n",
      "[CV 1/10; 1/1] START n_neighbors=5..............................................\n",
      "[CV 1/10; 1/1] END ...............n_neighbors=5;, score=0.740 total time=   0.1s\n",
      "[CV 1/10; 1/1] START n_neighbors=6..............................................\n",
      "[CV 1/10; 1/1] END ...............n_neighbors=6;, score=0.740 total time=   0.1s\n",
      "[CV 10/10; 1/1] START n_neighbors=6.............................................\n",
      "[CV 10/10; 1/1] END ..............n_neighbors=6;, score=0.610 total time=   0.1s\n",
      "[CV 2/10; 1/1] START n_neighbors=5..............................................\n",
      "[CV 2/10; 1/1] END ...............n_neighbors=5;, score=0.555 total time=   0.2s\n",
      "[CV 5/10; 1/1] START n_neighbors=5..............................................\n",
      "[CV 5/10; 1/1] END ...............n_neighbors=5;, score=0.674 total time=   0.1s\n",
      "[CV 3/10; 1/1] START n_neighbors=5..............................................\n",
      "[CV 3/10; 1/1] END ...............n_neighbors=5;, score=0.607 total time=   0.1s\n",
      "[CV 1/10; 1/1] START n_neighbors=5..............................................\n",
      "[CV 1/10; 1/1] END ...............n_neighbors=5;, score=0.740 total time=   0.1s\n",
      "[CV 10/10; 1/1] START n_neighbors=5.............................................\n",
      "[CV 10/10; 1/1] END ..............n_neighbors=5;, score=0.634 total time=   0.1s\n",
      "[CV 4/10; 1/1] START n_neighbors=4..............................................\n",
      "[CV 4/10; 1/1] END ...............n_neighbors=4;, score=0.665 total time=   0.1s\n",
      "[CV 1/10; 1/1] START n_neighbors=4..............................................\n",
      "[CV 1/10; 1/1] END ...............n_neighbors=4;, score=0.751 total time=   0.1s\n",
      "[CV 9/10; 1/1] START n_neighbors=4..............................................\n",
      "[CV 9/10; 1/1] END ...............n_neighbors=4;, score=0.674 total time=   0.1s\n",
      "[CV 2/10; 1/1] START n_neighbors=4..............................................\n",
      "[CV 2/10; 1/1] END ...............n_neighbors=4;, score=0.613 total time=   0.1s\n",
      "[CV 2/10; 1/1] START n_neighbors=4..............................................\n",
      "[CV 2/10; 1/1] END ...............n_neighbors=4;, score=0.613 total time=   0.1s\n",
      "[CV 9/10; 1/1] START n_neighbors=4..............................................\n",
      "[CV 9/10; 1/1] END ...............n_neighbors=4;, score=0.674 total time=   0.1s\n",
      "[CV 5/10; 1/1] START n_neighbors=4..............................................\n",
      "[CV 5/10; 1/1] END ...............n_neighbors=4;, score=0.715 total time=   0.1s\n",
      "[CV 9/10; 1/1] START n_neighbors=4..............................................\n",
      "[CV 9/10; 1/1] END ...............n_neighbors=4;, score=0.674 total time=   0.1s\n",
      "[CV 2/10; 1/1] START n_neighbors=6..............................................\n",
      "[CV 2/10; 1/1] END ...............n_neighbors=6;, score=0.618 total time=   0.1s\n",
      "[CV 9/10; 1/1] START n_neighbors=6..............................................\n",
      "[CV 9/10; 1/1] END ...............n_neighbors=6;, score=0.715 total time=   0.1s\n",
      "[CV 3/10; 1/1] START n_neighbors=5..............................................\n",
      "[CV 3/10; 1/1] END ...............n_neighbors=5;, score=0.607 total time=   0.1s\n",
      "[CV 9/10; 1/1] START n_neighbors=5..............................................\n",
      "[CV 9/10; 1/1] END ...............n_neighbors=5;, score=0.663 total time=   0.1s\n",
      "[CV 2/10; 1/1] START n_neighbors=4..............................................\n",
      "[CV 2/10; 1/1] END ...............n_neighbors=4;, score=0.613 total time=   0.1s\n",
      "[CV 10/10; 1/1] START n_neighbors=4.............................................\n",
      "[CV 10/10; 1/1] END ..............n_neighbors=4;, score=0.628 total time=   0.1s\n",
      "[CV 4/10; 1/1] START n_neighbors=6..............................................\n",
      "[CV 4/10; 1/1] END ...............n_neighbors=6;, score=0.647 total time=   0.1s\n",
      "[CV 8/10; 1/1] START n_neighbors=4..............................................\n",
      "[CV 8/10; 1/1] END ...............n_neighbors=4;, score=0.686 total time=   0.1s\n",
      "[CV 2/10; 1/1] START n_neighbors=4..............................................\n",
      "[CV 2/10; 1/1] END ...............n_neighbors=4;, score=0.613 total time=   0.1s\n",
      "[CV 10/10; 1/1] START n_neighbors=4.............................................\n",
      "[CV 10/10; 1/1] END ..............n_neighbors=4;, score=0.628 total time=   0.1s\n",
      "[CV 7/10; 1/1] START n_neighbors=6..............................................\n",
      "[CV 7/10; 1/1] END ...............n_neighbors=6;, score=0.663 total time=   0.1s\n",
      "[CV 6/10; 1/1] START n_neighbors=6..............................................\n",
      "[CV 6/10; 1/1] END ...............n_neighbors=6;, score=0.634 total time=   0.1s\n",
      "[CV 8/10; 1/1] START n_neighbors=4..............................................\n",
      "[CV 8/10; 1/1] END ...............n_neighbors=4;, score=0.686 total time=   0.1s\n",
      "[CV 2/10; 1/1] START n_neighbors=4..............................................\n",
      "[CV 2/10; 1/1] END ...............n_neighbors=4;, score=0.613 total time=   0.1s\n",
      "[CV 10/10; 1/1] START n_neighbors=4.............................................\n",
      "[CV 10/10; 1/1] END ..............n_neighbors=4;, score=0.628 total time=   0.1s\n",
      "[CV 5/10; 1/1] START n_neighbors=4..............................................\n",
      "[CV 5/10; 1/1] END ...............n_neighbors=4;, score=0.715 total time=   0.1s\n",
      "[CV 6/10; 1/1] START n_neighbors=5..............................................\n",
      "[CV 6/10; 1/1] END ...............n_neighbors=5;, score=0.622 total time=   0.2s\n",
      "[CV 6/10; 1/1] START n_neighbors=6..............................................\n",
      "[CV 6/10; 1/1] END ...............n_neighbors=6;, score=0.634 total time=   0.1s\n",
      "[CV 8/10; 1/1] START n_neighbors=4..............................................\n",
      "[CV 8/10; 1/1] END ...............n_neighbors=4;, score=0.686 total time=   0.1s\n",
      "[CV 4/10; 1/1] START n_neighbors=4..............................................\n",
      "[CV 4/10; 1/1] END ...............n_neighbors=4;, score=0.665 total time=   0.1s\n",
      "[CV 8/10; 1/1] START n_neighbors=4..............................................\n",
      "[CV 8/10; 1/1] END ...............n_neighbors=4;, score=0.686 total time=   0.2s\n",
      "[CV 6/10; 1/1] START n_neighbors=6..............................................\n",
      "[CV 6/10; 1/1] END ...............n_neighbors=6;, score=0.634 total time=   0.1s\n",
      "[CV 5/10; 1/1] START n_neighbors=4..............................................\n",
      "[CV 5/10; 1/1] END ...............n_neighbors=4;, score=0.715 total time=   0.2s\n",
      "[CV 8/10; 1/1] START n_neighbors=4..............................................\n",
      "[CV 8/10; 1/1] END ...............n_neighbors=4;, score=0.686 total time=   0.1s\n",
      "[CV 7/10; 1/1] START n_neighbors=5..............................................\n",
      "[CV 7/10; 1/1] END ...............n_neighbors=5;, score=0.651 total time=   0.1s\n",
      "[CV 1/10; 1/1] START n_neighbors=4..............................................\n",
      "[CV 1/10; 1/1] END ...............n_neighbors=4;, score=0.751 total time=   0.1s\n",
      "[CV 9/10; 1/1] START n_neighbors=4..............................................\n",
      "[CV 9/10; 1/1] END ...............n_neighbors=4;, score=0.674 total time=   0.1s\n",
      "[CV 5/10; 1/1] START n_neighbors=4..............................................\n",
      "[CV 5/10; 1/1] END ...............n_neighbors=4;, score=0.715 total time=   0.1s\n",
      "[CV 9/10; 1/1] START n_neighbors=4..............................................\n",
      "[CV 9/10; 1/1] END ...............n_neighbors=4;, score=0.674 total time=   0.1s\n",
      "[CV 7/10; 1/1] START n_neighbors=4..............................................\n",
      "[CV 7/10; 1/1] END ...............n_neighbors=4;, score=0.686 total time=   0.1s\n",
      "[CV 7/10; 1/1] START n_neighbors=4..............................................\n",
      "[CV 7/10; 1/1] END ...............n_neighbors=4;, score=0.686 total time=   0.1s\n",
      "[CV 7/10; 1/1] START n_neighbors=4..............................................\n",
      "[CV 7/10; 1/1] END ...............n_neighbors=4;, score=0.686 total time=   0.1s\n",
      "[CV 4/10; 1/1] START n_neighbors=5..............................................\n",
      "[CV 4/10; 1/1] END ...............n_neighbors=5;, score=0.601 total time=   0.2s\n",
      "[CV 7/10; 1/1] START n_neighbors=5..............................................\n",
      "[CV 7/10; 1/1] END ...............n_neighbors=5;, score=0.651 total time=   0.1s\n",
      "[CV 8/10; 1/1] START n_neighbors=5..............................................\n",
      "[CV 8/10; 1/1] END ...............n_neighbors=5;, score=0.634 total time=   0.1s\n",
      "[CV 2/10; 1/1] START n_neighbors=4..............................................\n",
      "[CV 2/10; 1/1] END ...............n_neighbors=4;, score=0.613 total time=   0.1s\n",
      "[CV 8/10; 1/1] START n_neighbors=4..............................................\n",
      "[CV 8/10; 1/1] END ...............n_neighbors=4;, score=0.686 total time=   0.1s\n",
      "[CV 6/10; 1/1] START n_neighbors=6..............................................\n",
      "[CV 6/10; 1/1] END ...............n_neighbors=6;, score=0.634 total time=   0.1s\n",
      "[CV 3/10; 1/1] START n_neighbors=6..............................................\n",
      "[CV 3/10; 1/1] END ...............n_neighbors=6;, score=0.590 total time=   0.1s\n",
      "[CV 9/10; 1/1] START n_neighbors=6..............................................\n",
      "[CV 9/10; 1/1] END ...............n_neighbors=6;, score=0.715 total time=   0.1s\n",
      "[CV 4/10; 1/1] START n_neighbors=5..............................................\n",
      "[CV 4/10; 1/1] END ...............n_neighbors=5;, score=0.601 total time=   0.1s\n",
      "[CV 1/10; 1/1] START n_neighbors=4..............................................\n",
      "[CV 1/10; 1/1] END ...............n_neighbors=4;, score=0.751 total time=   0.1s\n",
      "[CV 10/10; 1/1] START n_neighbors=4.............................................\n",
      "[CV 10/10; 1/1] END ..............n_neighbors=4;, score=0.628 total time=   0.1s\n",
      "[CV 8/10; 1/1] START n_neighbors=5..............................................\n",
      "[CV 8/10; 1/1] END ...............n_neighbors=5;, score=0.634 total time=   0.1s\n",
      "[CV 2/10; 1/1] START n_neighbors=5..............................................\n",
      "[CV 2/10; 1/1] END ...............n_neighbors=5;, score=0.555 total time=   0.1s\n",
      "[CV 10/10; 1/1] START n_neighbors=5.............................................\n",
      "[CV 10/10; 1/1] END ..............n_neighbors=5;, score=0.634 total time=   0.1s\n",
      "[CV 5/10; 1/1] START n_neighbors=4..............................................\n",
      "[CV 5/10; 1/1] END ...............n_neighbors=4;, score=0.715 total time=   0.1s\n",
      "[CV 2/10; 1/1] START n_neighbors=5..............................................\n",
      "[CV 2/10; 1/1] END ...............n_neighbors=5;, score=0.555 total time=   0.1s\n",
      "[CV 10/10; 1/1] START n_neighbors=5.............................................\n",
      "[CV 10/10; 1/1] END ..............n_neighbors=5;, score=0.634 total time=   0.1s\n",
      "[CV 5/10; 1/1] START n_neighbors=6..............................................\n",
      "[CV 5/10; 1/1] END ...............n_neighbors=6;, score=0.669 total time=   0.1s\n",
      "[CV 8/10; 1/1] START n_neighbors=5..............................................\n",
      "[CV 8/10; 1/1] END ...............n_neighbors=5;, score=0.634 total time=   0.1s\n",
      "[CV 2/10; 1/1] START n_neighbors=6..............................................\n",
      "[CV 2/10; 1/1] END ...............n_neighbors=6;, score=0.618 total time=   0.1s\n",
      "[CV 9/10; 1/1] START n_neighbors=6..............................................\n",
      "[CV 9/10; 1/1] END ...............n_neighbors=6;, score=0.715 total time=   0.1s\n",
      "[CV 4/10; 1/1] START n_neighbors=5..............................................\n",
      "[CV 4/10; 1/1] END ...............n_neighbors=5;, score=0.601 total time=   0.2s\n",
      "[CV 6/10; 1/1] START n_neighbors=5..............................................\n",
      "[CV 6/10; 1/1] END ...............n_neighbors=5;, score=0.622 total time=   0.1s\n",
      "[CV 4/10; 1/1] START n_neighbors=5..............................................\n",
      "[CV 4/10; 1/1] END ...............n_neighbors=5;, score=0.601 total time=   0.1s\n",
      "[CV 4/10; 1/1] START n_neighbors=5..............................................\n",
      "[CV 4/10; 1/1] END ...............n_neighbors=5;, score=0.601 total time=   0.1s\n",
      "[CV 1/10; 1/1] START n_neighbors=4..............................................\n",
      "[CV 1/10; 1/1] END ...............n_neighbors=4;, score=0.751 total time=   0.1s\n",
      "[CV 8/10; 1/1] START n_neighbors=4..............................................\n",
      "[CV 8/10; 1/1] END ...............n_neighbors=4;, score=0.686 total time=   0.1s\n",
      "[CV 3/10; 1/1] START n_neighbors=4..............................................\n",
      "[CV 3/10; 1/1] END ...............n_neighbors=4;, score=0.578 total time=   0.1s\n",
      "[CV 10/10; 1/1] START n_neighbors=4.............................................\n",
      "[CV 10/10; 1/1] END ..............n_neighbors=4;, score=0.628 total time=   0.1s\n",
      "[CV 6/10; 1/1] START n_neighbors=4..............................................\n",
      "[CV 6/10; 1/1] END ...............n_neighbors=4;, score=0.651 total time=   0.1s\n",
      "[CV 3/10; 1/1] START n_neighbors=4..............................................\n",
      "[CV 3/10; 1/1] END ...............n_neighbors=4;, score=0.578 total time=   0.1s\n",
      "[CV 10/10; 1/1] START n_neighbors=4.............................................\n",
      "[CV 10/10; 1/1] END ..............n_neighbors=4;, score=0.628 total time=   0.1s\n",
      "[CV 7/10; 1/1] START n_neighbors=6..............................................\n",
      "[CV 7/10; 1/1] END ...............n_neighbors=6;, score=0.663 total time=   0.1s\n",
      "[CV 2/10; 1/1] START n_neighbors=5..............................................\n",
      "[CV 2/10; 1/1] END ...............n_neighbors=5;, score=0.555 total time=   0.1s\n",
      "[CV 5/10; 1/1] START n_neighbors=4..............................................\n",
      "[CV 5/10; 1/1] END ...............n_neighbors=4;, score=0.715 total time=   0.1s\n",
      "[CV 8/10; 1/1] START n_neighbors=6..............................................\n",
      "[CV 8/10; 1/1] END ...............n_neighbors=6;, score=0.674 total time=   0.1s\n",
      "[CV 4/10; 1/1] START n_neighbors=4..............................................\n",
      "[CV 4/10; 1/1] END ...............n_neighbors=4;, score=0.665 total time=   0.1s\n",
      "[CV 6/10; 1/1] START n_neighbors=4..............................................\n",
      "[CV 6/10; 1/1] END ...............n_neighbors=4;, score=0.651 total time=   0.1s\n",
      "[CV 2/10; 1/1] START n_neighbors=6..............................................\n",
      "[CV 2/10; 1/1] END ...............n_neighbors=6;, score=0.618 total time=   0.2s\n",
      "[CV 2/10; 1/1] START n_neighbors=6..............................................\n",
      "[CV 2/10; 1/1] END ...............n_neighbors=6;, score=0.618 total time=   0.1s\n",
      "[CV 10/10; 1/1] START n_neighbors=6.............................................\n",
      "[CV 10/10; 1/1] END ..............n_neighbors=6;, score=0.610 total time=   0.1s\n",
      "[CV 6/10; 1/1] START n_neighbors=4..............................................\n",
      "[CV 6/10; 1/1] END ...............n_neighbors=4;, score=0.651 total time=   0.1s\n",
      "[CV 5/10; 1/1] START n_neighbors=4..............................................\n",
      "[CV 5/10; 1/1] END ...............n_neighbors=4;, score=0.715 total time=   0.1s\n",
      "[CV 6/10; 1/1] START n_neighbors=4..............................................\n",
      "[CV 6/10; 1/1] END ...............n_neighbors=4;, score=0.651 total time=   0.1s\n",
      "[CV 7/10; 1/1] START n_neighbors=5..............................................\n",
      "[CV 7/10; 1/1] END ...............n_neighbors=5;, score=0.651 total time=   0.1s\n",
      "[CV 3/10; 1/1] START n_neighbors=6..............................................\n",
      "[CV 3/10; 1/1] END ...............n_neighbors=6;, score=0.590 total time=   0.1s\n",
      "[CV 1/10; 1/1] START n_neighbors=4..............................................\n",
      "[CV 1/10; 1/1] END ...............n_neighbors=4;, score=0.751 total time=   0.1s\n",
      "[CV 7/10; 1/1] START n_neighbors=4..............................................\n",
      "[CV 7/10; 1/1] END ...............n_neighbors=4;, score=0.686 total time=   0.1s\n",
      "[CV 4/10; 1/1] START n_neighbors=4..............................................\n",
      "[CV 4/10; 1/1] END ...............n_neighbors=4;, score=0.665 total time=   0.1s\n",
      "[CV 2/10; 1/1] START n_neighbors=6..............................................\n",
      "[CV 2/10; 1/1] END ...............n_neighbors=6;, score=0.618 total time=   0.1s\n",
      "[CV 7/10; 1/1] START n_neighbors=4..............................................\n",
      "[CV 7/10; 1/1] END ...............n_neighbors=4;, score=0.686 total time=   0.1s\n",
      "[CV 4/10; 1/1] START n_neighbors=4..............................................\n",
      "[CV 4/10; 1/1] END ...............n_neighbors=4;, score=0.665 total time=   0.1s\n",
      "[CV 6/10; 1/1] START n_neighbors=5..............................................\n",
      "[CV 6/10; 1/1] END ...............n_neighbors=5;, score=0.622 total time=   0.1s\n",
      "[CV 10/10; 1/1] START n_neighbors=5.............................................\n",
      "[CV 10/10; 1/1] END ..............n_neighbors=5;, score=0.634 total time=   0.1s\n",
      "[CV 8/10; 1/1] START n_neighbors=4..............................................\n",
      "[CV 8/10; 1/1] END ...............n_neighbors=4;, score=0.686 total time=   0.1s\n",
      "[CV 8/10; 1/1] START n_neighbors=4..............................................\n",
      "[CV 8/10; 1/1] END ...............n_neighbors=4;, score=0.686 total time=   0.1s\n",
      "[CV 3/10; 1/1] START n_neighbors=4..............................................\n",
      "[CV 3/10; 1/1] END ...............n_neighbors=4;, score=0.578 total time=   0.1s\n",
      "[CV 10/10; 1/1] START n_neighbors=4.............................................\n",
      "[CV 10/10; 1/1] END ..............n_neighbors=4;, score=0.628 total time=   0.1s\n",
      "[CV 5/10; 1/1] START n_neighbors=4..............................................\n",
      "[CV 5/10; 1/1] END ...............n_neighbors=4;, score=0.715 total time=   0.1s\n",
      "[CV 8/10; 1/1] START n_neighbors=4..............................................\n",
      "[CV 8/10; 1/1] END ...............n_neighbors=4;, score=0.686 total time=   0.1s\n",
      "[CV 3/10; 1/1] START n_neighbors=5..............................................\n",
      "[CV 3/10; 1/1] END ...............n_neighbors=5;, score=0.607 total time=   0.2s\n",
      "[CV 4/10; 1/1] START n_neighbors=5..............................................\n",
      "[CV 4/10; 1/1] END ...............n_neighbors=5;, score=0.601 total time=   0.1s\n",
      "[CV 1/10; 1/1] START n_neighbors=5..............................................\n",
      "[CV 1/10; 1/1] END ...............n_neighbors=5;, score=0.740 total time=   0.1s\n",
      "[CV 9/10; 1/1] START n_neighbors=5..............................................\n",
      "[CV 9/10; 1/1] END ...............n_neighbors=5;, score=0.663 total time=   0.1s\n",
      "[CV 3/10; 1/1] START n_neighbors=4..............................................\n",
      "[CV 3/10; 1/1] END ...............n_neighbors=4;, score=0.578 total time=   0.1s\n",
      "[CV 9/10; 1/1] START n_neighbors=4..............................................\n",
      "[CV 9/10; 1/1] END ...............n_neighbors=4;, score=0.674 total time=   0.1s\n",
      "[CV 5/10; 1/1] START n_neighbors=4..............................................\n",
      "[CV 5/10; 1/1] END ...............n_neighbors=4;, score=0.715 total time=   0.1s\n",
      "[CV 7/10; 1/1] START n_neighbors=6..............................................\n",
      "[CV 7/10; 1/1] END ...............n_neighbors=6;, score=0.663 total time=   0.1s\n",
      "[CV 8/10; 1/1] START n_neighbors=6..............................................\n",
      "[CV 8/10; 1/1] END ...............n_neighbors=6;, score=0.674 total time=   0.1s\n",
      "[CV 6/10; 1/1] START n_neighbors=5..............................................\n",
      "[CV 6/10; 1/1] END ...............n_neighbors=5;, score=0.622 total time=   0.1s\n",
      "[CV 6/10; 1/1] START n_neighbors=4..............................................\n",
      "[CV 6/10; 1/1] END ...............n_neighbors=4;, score=0.651 total time=   0.1s\n",
      "[CV 6/10; 1/1] START n_neighbors=5..............................................\n",
      "[CV 6/10; 1/1] END ...............n_neighbors=5;, score=0.622 total time=   0.2s\n",
      "[CV 3/10; 1/1] START n_neighbors=5..............................................\n",
      "[CV 3/10; 1/1] END ...............n_neighbors=5;, score=0.607 total time=   0.1s\n",
      "[CV 1/10; 1/1] START n_neighbors=4..............................................\n",
      "[CV 1/10; 1/1] END ...............n_neighbors=4;, score=0.751 total time=   0.1s\n",
      "[CV 10/10; 1/1] START n_neighbors=4.............................................\n",
      "[CV 10/10; 1/1] END ..............n_neighbors=4;, score=0.628 total time=   0.1s\n",
      "[CV 5/10; 1/1] START n_neighbors=5..............................................\n",
      "[CV 5/10; 1/1] END ...............n_neighbors=5;, score=0.674 total time=   0.1s\n",
      "[CV 4/10; 1/1] START n_neighbors=6..............................................\n",
      "[CV 4/10; 1/1] END ...............n_neighbors=6;, score=0.647 total time=   0.1s\n",
      "[CV 6/10; 1/1] START n_neighbors=5..............................................\n",
      "[CV 6/10; 1/1] END ...............n_neighbors=5;, score=0.622 total time=   0.1s\n",
      "[CV 9/10; 1/1] START n_neighbors=5..............................................\n",
      "[CV 9/10; 1/1] END ...............n_neighbors=5;, score=0.663 total time=   0.1s\n",
      "[CV 4/10; 1/1] START n_neighbors=6..............................................\n",
      "[CV 4/10; 1/1] END ...............n_neighbors=6;, score=0.647 total time=   0.1s\n",
      "[CV 7/10; 1/1] START n_neighbors=5..............................................\n",
      "[CV 7/10; 1/1] END ...............n_neighbors=5;, score=0.651 total time=   0.1s\n",
      "[CV 4/10; 1/1] START n_neighbors=5..............................................\n",
      "[CV 4/10; 1/1] END ...............n_neighbors=5;, score=0.601 total time=   0.1s\n",
      "[CV 2/10; 1/1] START n_neighbors=5..............................................\n",
      "[CV 2/10; 1/1] END ...............n_neighbors=5;, score=0.555 total time=   0.1s\n",
      "[CV 9/10; 1/1] START n_neighbors=5..............................................\n",
      "[CV 9/10; 1/1] END ...............n_neighbors=5;, score=0.663 total time=   0.1s\n",
      "[CV 6/10; 1/1] START n_neighbors=5..............................................\n",
      "[CV 6/10; 1/1] END ...............n_neighbors=5;, score=0.622 total time=   0.2s\n",
      "[CV 2/10; 1/1] START n_neighbors=4..............................................\n",
      "[CV 2/10; 1/1] END ...............n_neighbors=4;, score=0.613 total time=   0.1s\n",
      "[CV 6/10; 1/1] START n_neighbors=4..............................................\n",
      "[CV 6/10; 1/1] END ...............n_neighbors=4;, score=0.651 total time=   0.1s\n",
      "[CV 7/10; 1/1] START n_neighbors=4..............................................\n",
      "[CV 7/10; 1/1] END ...............n_neighbors=4;, score=0.686 total time=   0.2s\n",
      "[CV 5/10; 1/1] START n_neighbors=4..............................................\n",
      "[CV 5/10; 1/1] END ...............n_neighbors=4;, score=0.715 total time=   0.1s\n",
      "[CV 4/10; 1/1] START n_neighbors=4..............................................\n",
      "[CV 4/10; 1/1] END ...............n_neighbors=4;, score=0.665 total time=   0.2s\n",
      "[CV 3/10; 1/1] START n_neighbors=6..............................................\n",
      "[CV 3/10; 1/1] END ...............n_neighbors=6;, score=0.590 total time=   0.1s\n",
      "[CV 5/10; 1/1] START n_neighbors=5..............................................\n",
      "[CV 5/10; 1/1] END ...............n_neighbors=5;, score=0.674 total time=   0.1s\n",
      "[CV 10/10; 1/1] START n_neighbors=5.............................................\n",
      "[CV 10/10; 1/1] END ..............n_neighbors=5;, score=0.634 total time=   0.1s\n",
      "[CV 8/10; 1/1] START n_neighbors=4..............................................\n",
      "[CV 8/10; 1/1] END ...............n_neighbors=4;, score=0.686 total time=   0.1s\n",
      "[CV 3/10; 1/1] START n_neighbors=6..............................................\n",
      "[CV 3/10; 1/1] END ...............n_neighbors=6;, score=0.590 total time=   0.1s\n",
      "[CV 10/10; 1/1] START n_neighbors=6.............................................\n",
      "[CV 10/10; 1/1] END ..............n_neighbors=6;, score=0.610 total time=   0.1s\n",
      "[CV 3/10; 1/1] START n_neighbors=4..............................................\n",
      "[CV 3/10; 1/1] END ...............n_neighbors=4;, score=0.578 total time=   0.1s\n",
      "[CV 9/10; 1/1] START n_neighbors=4..............................................\n",
      "[CV 9/10; 1/1] END ...............n_neighbors=4;, score=0.674 total time=   0.1s\n",
      "[CV 7/10; 1/1] START n_neighbors=4..............................................\n",
      "[CV 7/10; 1/1] END ...............n_neighbors=4;, score=0.686 total time=   0.1s\n",
      "[CV 5/10; 1/1] START n_neighbors=6..............................................\n",
      "[CV 5/10; 1/1] END ...............n_neighbors=6;, score=0.669 total time=   0.1s\n",
      "[CV 3/10; 1/1] START n_neighbors=6..............................................\n",
      "[CV 3/10; 1/1] END ...............n_neighbors=6;, score=0.590 total time=   0.1s\n",
      "[CV 3/10; 1/1] START n_neighbors=4..............................................\n",
      "[CV 3/10; 1/1] END ...............n_neighbors=4;, score=0.578 total time=   0.1s\n",
      "[CV 7/10; 1/1] START n_neighbors=4..............................................\n",
      "[CV 7/10; 1/1] END ...............n_neighbors=4;, score=0.686 total time=   0.1s\n",
      "[CV 4/10; 1/1] START n_neighbors=4..............................................\n",
      "[CV 4/10; 1/1] END ...............n_neighbors=4;, score=0.665 total time=   0.1s\n",
      "[CV 9/10; 1/1] START n_neighbors=4..............................................\n",
      "[CV 9/10; 1/1] END ...............n_neighbors=4;, score=0.674 total time=   0.1s\n",
      "[CV 5/10; 1/1] START n_neighbors=5..............................................\n",
      "[CV 5/10; 1/1] END ...............n_neighbors=5;, score=0.674 total time=   0.1s\n",
      "[CV 8/10; 1/1] START n_neighbors=6..............................................\n",
      "[CV 8/10; 1/1] END ...............n_neighbors=6;, score=0.674 total time=   0.1s\n",
      "[CV 7/10; 1/1] START n_neighbors=4..............................................\n",
      "[CV 7/10; 1/1] END ...............n_neighbors=4;, score=0.686 total time=   0.1s\n",
      "[CV 5/10; 1/1] START n_neighbors=4..............................................\n",
      "[CV 5/10; 1/1] END ...............n_neighbors=4;, score=0.715 total time=   0.1s\n",
      "[CV 3/10; 1/1] START n_neighbors=4..............................................\n",
      "[CV 3/10; 1/1] END ...............n_neighbors=4;, score=0.578 total time=   0.1s\n",
      "[CV 1/10; 1/1] START n_neighbors=6..............................................\n",
      "[CV 1/10; 1/1] END ...............n_neighbors=6;, score=0.740 total time=   0.1s\n",
      "[CV 1/10; 1/1] START n_neighbors=4..............................................\n",
      "[CV 1/10; 1/1] END ...............n_neighbors=4;, score=0.751 total time=   0.1s\n",
      "[CV 6/10; 1/1] START n_neighbors=4..............................................\n",
      "[CV 6/10; 1/1] END ...............n_neighbors=4;, score=0.651 total time=   0.1s\n",
      "[CV 5/10; 1/1] START n_neighbors=5..............................................\n",
      "[CV 5/10; 1/1] END ...............n_neighbors=5;, score=0.674 total time=   0.2s\n",
      "[CV 7/10; 1/1] START n_neighbors=4..............................................\n",
      "[CV 7/10; 1/1] END ...............n_neighbors=4;, score=0.686 total time=   0.1s\n",
      "[CV 7/10; 1/1] START n_neighbors=4..............................................\n",
      "[CV 7/10; 1/1] END ...............n_neighbors=4;, score=0.686 total time=   0.1s\n",
      "[CV 1/10; 1/1] START n_neighbors=4..............................................\n",
      "[CV 1/10; 1/1] END ...............n_neighbors=4;, score=0.751 total time=   0.1s\n",
      "[CV 9/10; 1/1] START n_neighbors=4..............................................\n",
      "[CV 9/10; 1/1] END ...............n_neighbors=4;, score=0.674 total time=   0.1s\n",
      "[CV 3/10; 1/1] START n_neighbors=4..............................................\n",
      "[CV 3/10; 1/1] END ...............n_neighbors=4;, score=0.578 total time=   0.1s\n",
      "[CV 1/10; 1/1] START n_neighbors=4..............................................\n",
      "[CV 1/10; 1/1] END ...............n_neighbors=4;, score=0.751 total time=   0.1s\n",
      "[CV 9/10; 1/1] START n_neighbors=4..............................................\n",
      "[CV 9/10; 1/1] END ...............n_neighbors=4;, score=0.674 total time=   0.1s\n",
      "[CV 8/10; 1/1] START n_neighbors=5..............................................\n",
      "[CV 8/10; 1/1] END ...............n_neighbors=5;, score=0.634 total time=   0.2s\n",
      "[CV 6/10; 1/1] START n_neighbors=5..............................................\n",
      "[CV 6/10; 1/1] END ...............n_neighbors=5;, score=0.622 total time=   0.1s\n",
      "[CV 6/10; 1/1] START n_neighbors=5..............................................\n",
      "[CV 6/10; 1/1] END ...............n_neighbors=5;, score=0.622 total time=   0.2s\n",
      "[CV 4/10; 1/1] START n_neighbors=4..............................................\n",
      "[CV 4/10; 1/1] END ...............n_neighbors=4;, score=0.665 total time=   0.1s\n",
      "[CV 7/10; 1/1] START n_neighbors=4..............................................\n",
      "[CV 7/10; 1/1] END ...............n_neighbors=4;, score=0.686 total time=   0.1s\n",
      "[CV 4/10; 1/1] START n_neighbors=6..............................................\n",
      "[CV 4/10; 1/1] END ...............n_neighbors=6;, score=0.647 total time=   0.2s\n",
      "[CV 2/10; 1/1] START n_neighbors=6..............................................\n",
      "[CV 2/10; 1/1] END ...............n_neighbors=6;, score=0.618 total time=   0.1s\n",
      "[CV 8/10; 1/1] START n_neighbors=5..............................................\n",
      "[CV 8/10; 1/1] END ...............n_neighbors=5;, score=0.634 total time=   0.1s\n",
      "[CV 7/10; 1/1] START n_neighbors=4..............................................\n",
      "[CV 7/10; 1/1] END ...............n_neighbors=4;, score=0.686 total time=   0.1s\n",
      "[CV 5/10; 1/1] START n_neighbors=5..............................................\n",
      "[CV 5/10; 1/1] END ...............n_neighbors=5;, score=0.674 total time=   0.1s\n",
      "[CV 8/10; 1/1] START n_neighbors=5..............................................\n",
      "[CV 8/10; 1/1] END ...............n_neighbors=5;, score=0.634 total time=   0.1s\n",
      "[CV 6/10; 1/1] START n_neighbors=4..............................................\n",
      "[CV 6/10; 1/1] END ...............n_neighbors=4;, score=0.651 total time=   0.1s\n",
      "[CV 4/10; 1/1] START n_neighbors=5..............................................\n",
      "[CV 4/10; 1/1] END ...............n_neighbors=5;, score=0.601 total time=   0.1s\n",
      "[CV 8/10; 1/1] START n_neighbors=6..............................................\n",
      "[CV 8/10; 1/1] END ...............n_neighbors=6;, score=0.674 total time=   0.1s\n",
      "[CV 3/10; 1/1] START n_neighbors=5..............................................\n",
      "[CV 3/10; 1/1] END ...............n_neighbors=5;, score=0.607 total time=   0.1s\n",
      "[CV 3/10; 1/1] START n_neighbors=6..............................................\n",
      "[CV 3/10; 1/1] END ...............n_neighbors=6;, score=0.590 total time=   0.1s\n",
      "[CV 1/10; 1/1] START n_neighbors=5..............................................\n",
      "[CV 1/10; 1/1] END ...............n_neighbors=5;, score=0.740 total time=   0.1s\n",
      "[CV 9/10; 1/1] START n_neighbors=5..............................................\n",
      "[CV 9/10; 1/1] END ...............n_neighbors=5;, score=0.663 total time=   0.1s\n",
      "[CV 8/10; 1/1] START n_neighbors=5..............................................\n",
      "[CV 8/10; 1/1] END ...............n_neighbors=5;, score=0.634 total time=   0.1s\n",
      "[CV 5/10; 1/1] START n_neighbors=5..............................................\n",
      "[CV 5/10; 1/1] END ...............n_neighbors=5;, score=0.674 total time=   0.1s\n",
      "[CV 5/10; 1/1] START n_neighbors=5..............................................\n",
      "[CV 5/10; 1/1] END ...............n_neighbors=5;, score=0.674 total time=   0.1s\n",
      "[CV 6/10; 1/1] START n_neighbors=4..............................................\n",
      "[CV 6/10; 1/1] END ...............n_neighbors=4;, score=0.651 total time=   0.1s\n",
      "[CV 10/10; 1/1] START n_neighbors=4.............................................\n",
      "[CV 10/10; 1/1] END ..............n_neighbors=4;, score=0.628 total time=   0.1s\n",
      "[CV 5/10; 1/1] START n_neighbors=4..............................................\n",
      "[CV 5/10; 1/1] END ...............n_neighbors=4;, score=0.715 total time=   0.1s\n",
      "[CV 8/10; 1/1] START n_neighbors=4..............................................\n",
      "[CV 8/10; 1/1] END ...............n_neighbors=4;, score=0.686 total time=   0.1s\n",
      "[CV 8/10; 1/1] START n_neighbors=4..............................................\n",
      "[CV 8/10; 1/1] END ...............n_neighbors=4;, score=0.686 total time=   0.1s\n",
      "[CV 7/10; 1/1] START n_neighbors=4..............................................\n",
      "[CV 7/10; 1/1] END ...............n_neighbors=4;, score=0.686 total time=   0.1s\n",
      "[CV 8/10; 1/1] START n_neighbors=6..............................................\n",
      "[CV 8/10; 1/1] END ...............n_neighbors=6;, score=0.674 total time=   0.1s\n",
      "[CV 7/10; 1/1] START n_neighbors=5..............................................\n",
      "[CV 7/10; 1/1] END ...............n_neighbors=5;, score=0.651 total time=   0.1s\n",
      "[CV 4/10; 1/1] START n_neighbors=4..............................................\n",
      "[CV 4/10; 1/1] END ...............n_neighbors=4;, score=0.665 total time=   0.1s\n",
      "[CV 6/10; 1/1] START n_neighbors=6..............................................\n",
      "[CV 6/10; 1/1] END ...............n_neighbors=6;, score=0.634 total time=   0.1s\n",
      "[CV 2/10; 1/1] START n_neighbors=4..............................................\n",
      "[CV 2/10; 1/1] END ...............n_neighbors=4;, score=0.613 total time=   0.1s\n",
      "[CV 1/10; 1/1] START n_neighbors=4..............................................\n",
      "[CV 1/10; 1/1] END ...............n_neighbors=4;, score=0.751 total time=   0.1s\n",
      "[CV 9/10; 1/1] START n_neighbors=4..............................................\n",
      "[CV 9/10; 1/1] END ...............n_neighbors=4;, score=0.674 total time=   0.1s\n",
      "[CV 6/10; 1/1] START n_neighbors=6..............................................\n",
      "[CV 6/10; 1/1] END ...............n_neighbors=6;, score=0.634 total time=   0.1s\n",
      "[CV 8/10; 1/1] START n_neighbors=6..............................................\n",
      "[CV 8/10; 1/1] END ...............n_neighbors=6;, score=0.674 total time=   0.1s\n",
      "[CV 7/10; 1/1] START n_neighbors=4..............................................\n",
      "[CV 7/10; 1/1] END ...............n_neighbors=4;, score=0.686 total time=   0.1s\n",
      "[CV 6/10; 1/1] START n_neighbors=4..............................................\n",
      "[CV 6/10; 1/1] END ...............n_neighbors=4;, score=0.651 total time=   0.1s\n",
      "[CV 2/10; 1/1] START n_neighbors=4..............................................\n",
      "[CV 2/10; 1/1] END ...............n_neighbors=4;, score=0.613 total time=   0.1s\n",
      "[CV 1/10; 1/1] START n_neighbors=5..............................................\n",
      "[CV 1/10; 1/1] END ...............n_neighbors=5;, score=0.740 total time=   0.1s\n",
      "[CV 9/10; 1/1] START n_neighbors=5..............................................\n",
      "[CV 9/10; 1/1] END ...............n_neighbors=5;, score=0.663 total time=   0.1s\n",
      "[CV 2/10; 1/1] START n_neighbors=6..............................................\n",
      "[CV 2/10; 1/1] END ...............n_neighbors=6;, score=0.618 total time=   0.1s\n",
      "[CV 10/10; 1/1] START n_neighbors=6.............................................\n",
      "[CV 10/10; 1/1] END ..............n_neighbors=6;, score=0.610 total time=   0.1s\n",
      "[CV 6/10; 1/1] START n_neighbors=4..............................................\n",
      "[CV 6/10; 1/1] END ...............n_neighbors=4;, score=0.651 total time=   0.1s\n",
      "[CV 8/10; 1/1] START n_neighbors=4..............................................\n",
      "[CV 8/10; 1/1] END ...............n_neighbors=4;, score=0.686 total time=   0.1s\n",
      "[CV 6/10; 1/1] START n_neighbors=4..............................................\n",
      "[CV 6/10; 1/1] END ...............n_neighbors=4;, score=0.651 total time=   0.2s\n",
      "[CV 8/10; 1/1] START n_neighbors=6..............................................\n",
      "[CV 8/10; 1/1] END ...............n_neighbors=6;, score=0.674 total time=   0.1s\n",
      "[CV 2/10; 1/1] START n_neighbors=4..............................................\n",
      "[CV 2/10; 1/1] END ...............n_neighbors=4;, score=0.613 total time=   0.1s\n",
      "[CV 10/10; 1/1] START n_neighbors=4.............................................\n",
      "[CV 10/10; 1/1] END ..............n_neighbors=4;, score=0.628 total time=   0.1s\n",
      "[CV 3/10; 1/1] START n_neighbors=4..............................................\n",
      "[CV 3/10; 1/1] END ...............n_neighbors=4;, score=0.578 total time=   0.1s\n",
      "[CV 8/10; 1/1] START n_neighbors=5..............................................\n",
      "[CV 8/10; 1/1] END ...............n_neighbors=5;, score=0.634 total time=   0.1s\n",
      "[CV 3/10; 1/1] START n_neighbors=4..............................................\n",
      "[CV 3/10; 1/1] END ...............n_neighbors=4;, score=0.578 total time=   0.1s\n",
      "[CV 1/10; 1/1] START n_neighbors=4..............................................\n",
      "[CV 1/10; 1/1] END ...............n_neighbors=4;, score=0.751 total time=   0.2s\n",
      "[CV 4/10; 1/1] START n_neighbors=4..............................................\n",
      "[CV 4/10; 1/1] END ...............n_neighbors=4;, score=0.665 total time=   0.1s\n",
      "[CV 8/10; 1/1] START n_neighbors=4..............................................\n",
      "[CV 8/10; 1/1] END ...............n_neighbors=4;, score=0.686 total time=   0.1s\n",
      "[CV 2/10; 1/1] START n_neighbors=4..............................................\n",
      "[CV 2/10; 1/1] END ...............n_neighbors=4;, score=0.613 total time=   0.1s\n",
      "[CV 10/10; 1/1] START n_neighbors=4.............................................\n",
      "[CV 10/10; 1/1] END ..............n_neighbors=4;, score=0.628 total time=   0.1s\n"
     ]
    }
   ],
   "source": [
    "import numpy as np\n",
    "import pandas as pd\n",
    "from sklearn.model_selection import GridSearchCV\n",
    "from sklearn.svm import SVC\n",
    "from sklearn.ensemble import RandomForestClassifier\n",
    "from sklearn.neighbors import KNeighborsClassifier\n",
    "from sklearn.feature_selection import chi2, mutual_info_classif, SelectKBest, f_classif\n",
    "from sklearn.model_selection import cross_val_score \n",
    "import matplotlib.pyplot as plt\n",
    "from sklearn.metrics import confusion_matrix, f1_score\n",
    "from sklearn.model_selection import cross_val_predict\n",
    "from sklearn.metrics import accuracy_score, roc_curve, auc\n",
    "from skopt.space import Real, Categorical, Integer\n",
    "from skopt import BayesSearchCV\n",
    "from sklearn.preprocessing import label_binarize\n",
    "from sklearn.multiclass import OneVsRestClassifier\n",
    "from sklearn.model_selection import train_test_split\n",
    "from sklearn.pipeline import make_pipeline\n",
    "import numpy as np\n",
    "from sklearn.metrics import confusion_matrix\n",
    "from sklearn.preprocessing import label_binarize\n",
    "from sklearn.metrics import accuracy_score, roc_curve, auc\n",
    "import matplotlib.pyplot as plt\n",
    "\n",
    "#Load data from csv file\n",
    "data = pd.read_csv(\"data2NormWithColNamesRowNames.csv\")\n",
    "data.head(10) \n",
    "\n",
    "data.set_index(\"Unnamed: 0\", inplace = True)\n",
    "data.index.name = None\n",
    "\n",
    "X = data.iloc[:, data.columns != 'assigned_cluster'].values\n",
    "#X=data.iloc[:,0:4915]\n",
    "X = np.absolute(X) #(1930, 2545), (1724, 2375)\n",
    "\n",
    "y = data.iloc[:,data.columns == 'assigned_cluster'].values.ravel() #(1930,), (1724,)\n",
    "\n",
    "def precision_MC(y_true, y_pred):\n",
    "    TP = np.diag(confusion_matrix(y_true, y_pred))\n",
    "    FP = confusion_matrix(y_true, y_pred).sum(axis=1) - np.diag(confusion_matrix(y_true, y_pred))\n",
    "    FP = FP.astype(float)\n",
    "    TP = TP.astype(float)\n",
    "    precision = TP/(TP+FP) * 100\n",
    "    return precision\n",
    "\n",
    "def recall_MC(y_true, y_pred):\n",
    "    TP = np.diag(confusion_matrix(y_true, y_pred))\n",
    "    FN = confusion_matrix(y_true, y_pred).sum(axis=0) - np.diag(confusion_matrix(y_true, y_pred))\n",
    "    FN = FN.astype(float)\n",
    "    TP = TP.astype(float)\n",
    "    recall =  TP/(TP+FN) * 100\n",
    "    return recall\n",
    "\n",
    "def accuracy_MC(y_true, y_pred):\n",
    "    FP = confusion_matrix(y_true, y_pred).sum(axis=1) - np.diag(confusion_matrix(y_true, y_pred))  \n",
    "    FN = confusion_matrix(y_true, y_pred).sum(axis=0) - np.diag(confusion_matrix(y_true, y_pred))\n",
    "    TP = np.diag(confusion_matrix(y_true, y_pred))\n",
    "    TP = TP.astype(float)\n",
    "    TN = confusion_matrix(y_true, y_pred).sum() - (FP + FN + TP)\n",
    "    FP = FP.astype(float)\n",
    "    FN = FN.astype(float)\n",
    "    TN = TN.astype(float)\n",
    "    accuracy = (TP+TN)/(TP+FP+FN+TN) * 100\n",
    "    return accuracy\n",
    "\n",
    "def npval_MC(y_true, y_pred): \n",
    "    FN = confusion_matrix(y_true, y_pred).sum(axis=0) - np.diag(confusion_matrix(y_true, y_pred))\n",
    "    FN = FN.astype(float)\n",
    "    TP = np.diag(confusion_matrix(y_true, y_pred))\n",
    "    TP = TP.astype(float)\n",
    "    FP = confusion_matrix(y_true, y_pred).sum(axis=1) - np.diag(confusion_matrix(y_true, y_pred)) \n",
    "    FP = FP.astype(float)\n",
    "    TN = confusion_matrix(y_true, y_pred).sum() - (FP + FN + TP)\n",
    "    TN = TN.astype(float)\n",
    "    npv = TN/(TN+FN) * 100\n",
    "    return npv\n",
    "\n",
    "def specificity_MC(y_true, y_pred): \n",
    "    FP = confusion_matrix(y_true, y_pred).sum(axis=1) - np.diag(confusion_matrix(y_true, y_pred)) \n",
    "    FP = FP.astype(float)\n",
    "    FN = confusion_matrix(y_true, y_pred).sum(axis=0) - np.diag(confusion_matrix(y_true, y_pred))\n",
    "    FN = FN.astype(float)\n",
    "    TP = np.diag(confusion_matrix(y_true, y_pred))\n",
    "    TP = TP.astype(float)\n",
    "    TN = confusion_matrix(y_true, y_pred).sum() - (FP + FN + TP)\n",
    "    TN = TN.astype(float)\n",
    "    spec = TN/(TN+FP)  * 100\n",
    "    return spec\n",
    "\n",
    "\n",
    "def plot_ROC_curve_MC(y_true, y_pred, FSName):\n",
    "    n_classes = len(np.unique(y_true))\n",
    "    y_true = label_binarize(y_true, classes=np.arange(n_classes))\n",
    "    #y_pred = label_binarize(y_pred, classes=np.arange(n_classes))\n",
    "    \n",
    "    # Compute ROC curve and ROC area for each class\n",
    "    fpr = dict()\n",
    "    tpr = dict()\n",
    "    roc_auc = dict()\n",
    "    for i in range(n_classes):\n",
    "        fpr[i], tpr[i], _ = roc_curve(y_true[:, i], y_pred[:, i])\n",
    "        roc_auc[i] = auc(fpr[i], tpr[i])\n",
    "        \n",
    "    # First aggregate all false positive rates\n",
    "    all_fpr = np.unique(np.concatenate([fpr[i] for i in range(n_classes)]))\n",
    "\n",
    "    # Then interpolate all ROC curves at this points\n",
    "    mean_tpr = np.zeros_like(all_fpr)\n",
    "    for i in range(n_classes):\n",
    "        mean_tpr += np.interp(all_fpr, fpr[i], tpr[i])\n",
    "\n",
    "    # Finally average it and compute AUC\n",
    "    mean_tpr /= n_classes\n",
    "    \n",
    "    # Plot all ROC curves\n",
    "    plt.figure()\n",
    "    #colors = cycle([\"aqua\", \"darkorange\", \"cornflowerblue\"])\n",
    "    for i in range(n_classes):\n",
    "        plt.plot(\n",
    "            fpr[i],\n",
    "            tpr[i],\n",
    "            label=\"ROC curve of class {0} (area = {1:0.4f})\".format(i, roc_auc[i]),\n",
    "        )\n",
    "\n",
    "    plt.plot([0, 1], [0, 1], \"k--\")\n",
    "    plt.xlim([0.0, 1.0])\n",
    "    plt.ylim([0.0, 1.05])\n",
    "    plt.xlabel(\"False Positive Rate\")\n",
    "    plt.ylabel(\"True Positive Rate\")\n",
    "    plt.title(\"ROC Curve of \" + str(FSName))\n",
    "    plt.legend(loc=\"lower right\")\n",
    "    plt.show()     \n",
    "    \n",
    "\n",
    "bayesian_search = BayesSearchCV(\n",
    "        KNeighborsClassifier(),\n",
    "        {\n",
    "            'n_neighbors': (4,5,6)\n",
    "            #'C': (0.1,0.5,1),\n",
    "            #'gamma':(1e-1,2e-1,3e-1),\n",
    "            #'degree':(1,8),\n",
    "            #'kernel': ('linear','poly','rbf')\n",
    "            #'max_leaf_nodes':Integer(0,prior='log-uniform'),\n",
    "            #'min_samples_leaf':Real(0.1,0.5,prior='uniform'),\n",
    "            #'min_samples_split':Real(0.1,1,prior='uniform')\n",
    "        },\n",
    "        n_iter=50,scoring='accuracy',n_jobs = -1, verbose = 10,\n",
    "        random_state=0, cv=10\n",
    "    )\n",
    "\n",
    "#grid_search = GridSearchCV(SVC(), tuned_params, cv=10, scoring='accuracy',n_jobs = -1, verbose = 10)\n",
    "bayesian_search.fit(X, y)\n",
    "bayesian_search.best_params_\n",
    "print(\"\")\n",
    "print(\"Best Parameters Found\")\n",
    "print(bayesian_search.best_params_) \n",
    "#OrderedDict([('n_neighbors', 4)])\n",
    "\n",
    "clf = KNeighborsClassifier( n_neighbors= bayesian_search.best_params_['n_neighbors'])\n",
    "#KNeighborsClassifier(n_neighbors=4)\n",
    "\n",
    "k_range = [100,200,300,400]\n",
    "acc_chi2 = []\n",
    "acc_mi = []\n",
    "acc_annova = []\n",
    "\n",
    "for i in k_range:    \n",
    "    X_kbest_features_annova = SelectKBest(f_classif, k=i).fit_transform(X, y)\n",
    "    \n",
    "    acc = cross_val_score(clf, X_kbest_features_annova, y, cv=10, scoring=\"accuracy\").mean() \n",
    "    acc_annova.append(acc*100)\n",
    "    print(acc_annova)\n",
    "    \n",
    "    X_kbest_features_chi2 = SelectKBest(chi2, k=i).fit_transform(X, y)\n",
    "    \n",
    "    acc1 = cross_val_score(clf, X_kbest_features_chi2, y, cv=10, scoring=\"accuracy\").mean() \n",
    "    acc_chi2.append(acc1*100)\n",
    "    print(acc_chi2)\n",
    "    \n",
    "    X_kbest_features_mi = SelectKBest(mutual_info_classif, k=i).fit_transform(X,y)\n",
    "    \n",
    "    acc2 = cross_val_score(clf, X_kbest_features_mi, y, cv=10, scoring=\"accuracy\").mean()\n",
    "    acc_mi.append(acc2*100)\n",
    "    print(acc_mi)\n",
    "\n",
    "print(\"Accuracy Anova\", acc_annova)\n",
    "print(\"Chi2 accuracy\", acc_chi2)\n",
    "print(\"IG accuracy\", acc_mi)\n",
    "\n",
    "optimal_k_annova = k_range[acc_annova.index(max(acc_annova))]\n",
    "optimal_k_chi2 = k_range[acc_chi2.index(max(acc_chi2))]\n",
    "optimal_k_mi = k_range[acc_mi.index(max(acc_mi))]\n",
    "\n",
    "# multiple line plot of all Feature selection methods\n",
    "plt.plot( k_range, acc_annova,color='blue', linewidth=2, label = \"Anova F-value\")\n",
    "plt.plot( k_range, acc_chi2, color='orange', linewidth=2, label =\"Chi2\")\n",
    "plt.plot( k_range, acc_mi, color='green', linewidth=2, label=\"Information Gain\")\n",
    "plt.legend()\n",
    "plt.xlabel(\"Number of Features k\")\n",
    "plt.ylabel(\"Accuracy\")\n",
    "plt.show()\n",
    "\n",
    "\n",
    "data1 = data\n",
    "data1.drop(columns='assigned_cluster', inplace = True)\n",
    "data1.head(10)\n",
    "\n",
    "df_columns = pd.DataFrame(data1.columns)\n",
    "\n",
    "#Printing top 20 features_anova\n",
    "bestfeatures_anova = SelectKBest(f_classif, k= optimal_k_annova)\n",
    "fit_anova = bestfeatures_anova.fit(X,y)\n",
    "df_scores_anova = pd.DataFrame(fit_anova.scores_)\n",
    "\n",
    "# concatenate dataframes\n",
    "feature_scores_anova = pd.concat([df_columns, df_scores_anova],axis=1)\n",
    "feature_scores_anova.columns = ['Feature_Name','Score']  # name output columns\n",
    "print(feature_scores_anova.nlargest(20,'Score')) \n",
    "# export selected features to .csv\n",
    "df_feat_anova = feature_scores_anova.nlargest(20,'Score')\n",
    "df_feat_anova.to_csv('2_feature_selected_Anova.csv', index=False)\n",
    "\n",
    "#Printing top 20 features_chi2\n",
    "bestfeatures_chi2 = SelectKBest(chi2, k= optimal_k_chi2)\n",
    "fit_chi2 = bestfeatures_chi2.fit(X,y)\n",
    "df_scores_chi2 = pd.DataFrame(fit_chi2.scores_)\n",
    "\n",
    "# concatenate dataframes\n",
    "feature_scores_chi2 = pd.concat([df_columns, df_scores_chi2],axis=1)\n",
    "feature_scores_chi2.columns = ['Feature_Name','Score']  # name output columns\n",
    "print(feature_scores_chi2.nlargest(20,'Score')) \n",
    "# export selected features to .csv\n",
    "df_feat_chi2 = feature_scores_chi2.nlargest(20,'Score')\n",
    "df_feat_chi2.to_csv('2_feature_selected_Chi2.csv', index=False)\n",
    "\n",
    "#Printing top 20 features_IG\n",
    "bestfeatures_ig = SelectKBest(mutual_info_classif, k= optimal_k_mi)\n",
    "fit_ig = bestfeatures_ig.fit(X,y)\n",
    "df_scores_ig = pd.DataFrame(fit_ig.scores_)\n",
    "\n",
    "# concatenate dataframes\n",
    "feature_scores_ig = pd.concat([df_columns, df_scores_ig],axis=1)\n",
    "feature_scores_ig.columns = ['Feature_Name','Score']  # name output columns\n",
    "print(feature_scores_ig.nlargest(20,'Score')) \n",
    "# export selected features to .csv\n",
    "df_feat_ig = feature_scores_ig.nlargest(20,'Score')\n",
    "df_feat_ig.to_csv('1_feature_selected_IG.csv', index=False)\n",
    "\n",
    "perf_cols = [\"Cell Type\", \"Accuracy%\",\"Precision%\",\"Recall%\",\"Negative Predictive Value%\",\"Specificity%\",\"F1-score%\"]\n",
    "perf_anova  = pd.DataFrame(columns = perf_cols)\n",
    "perf_chi2  = pd.DataFrame(columns = perf_cols)\n",
    "perf_mi  = pd.DataFrame(columns = perf_cols)\n",
    "\n",
    "label = np.unique(y.tolist())\n",
    "class_lbl = [int(i) for i in label] \n",
    "class_lbl = ['CellType ' + str(s) for s in class_lbl]\n",
    "\n",
    "#OneVsRest Classifier for ROC curves\n",
    "# # Learn to predict each class against the other\n",
    "classifier = OneVsRestClassifier(\n",
    "    KNeighborsClassifier(n_neighbors= bayesian_search.best_params_['n_neighbors'])\n",
    ")\n",
    "#OneVsRestClassifier(estimator=KNeighborsClassifier(n_neighbors=4))\n",
    "\n",
    "#Feature selection\n",
    "X_kbestfeatures_annova = SelectKBest(f_classif, k = optimal_k_annova).fit_transform(X, y)\n",
    "X_kbestfeatures_chi2 = SelectKBest(chi2, k = optimal_k_chi2).fit_transform(X, y)\n",
    "X_kbestfeatures_mi = SelectKBest(mutual_info_classif, k = optimal_k_mi).fit_transform(X, y)\n",
    "\n",
    "print(X_kbestfeatures_annova.shape) #(1724, 300)\n",
    "print(X_kbestfeatures_chi2.shape) #(1724, 400)\n",
    "print(X_kbestfeatures_mi.shape) #(1724, 200)\n",
    "\n",
    "\n",
    "#Anova + classification Method\n",
    "X_train_anova, X_test_anova, y_train_anova, y_test_anova = train_test_split(X_kbestfeatures_annova, y, test_size = 0.30, stratify=y)\n",
    "clf.fit(X_train_anova, y_train_anova)\n",
    "y_pred_anova = clf.predict(X_test_anova)\n",
    "\n",
    "X_train_anova.shape #(1351,400) , (1206, 300)\n",
    "X_test_anova.shape #(579, 400), (518, 300)\n",
    "\n",
    "anova_accuracy = accuracy_score(y_test_anova, y_pred_anova)\n",
    "print(\"Anova Accuracy\")\n",
    "print(anova_accuracy) #0.9792746113989638, 0.8687258687258688\n",
    "\n",
    "pre_anova = precision_MC(y_test_anova,y_pred_anova)\n",
    "rec_anova = recall_MC(y_test_anova,y_pred_anova)\n",
    "acc_anova = accuracy_MC(y_test_anova,y_pred_anova)\n",
    "npv_anova = npval_MC(y_test_anova,y_pred_anova)\n",
    "spe_anova = specificity_MC(y_test_anova,y_pred_anova)\n",
    "f1_anova = 2* (pre_anova * rec_anova)/(pre_anova + rec_anova)\n",
    "\n",
    "print(\"KNN MultiClass and Anova\")\n",
    "print(pre_anova)\n",
    "print(rec_anova)\n",
    "print(acc_anova)\n",
    "print(npv_anova)\n",
    "print(spe_anova)\n",
    "print(f1_anova)\n",
    "\n",
    "perf_anova['Cell Type'] = class_lbl\n",
    "perf_anova['Precision%'] = pre_anova.tolist()\n",
    "perf_anova['Accuracy%'] =  acc_anova.tolist()\n",
    "perf_anova['Recall%']  = rec_anova.tolist()\n",
    "perf_anova['Negative Predictive Value%'] = npv_anova.tolist()\n",
    "perf_anova['Specificity%'] = spe_anova.tolist()\n",
    "perf_anova['F1-score%'] = f1_anova.tolist()\n",
    "\n",
    "perf_anova.to_csv('2_PerformanceMetrics_Anova.csv', index = False)\n",
    "\n",
    "#Plot ROC curve for OneVsRest + Anova\n",
    "#y_score_anova = classifier.fit(X_train_anova, y_train_anova).decision_function(X_test_anova)\n",
    "\n",
    "n_classes = len(np.unique(y_test_anova))\n",
    "y_pred = label_binarize(y_pred_anova, classes=np.arange(n_classes))\n",
    "\n",
    "plot_ROC_curve_MC(y_test_anova, y_pred, \"Anova\")\n",
    "\n",
    "#Chi2 + classification Method\n",
    "X_train_chi2, X_test_chi2, y_train_chi2, y_test_chi2 = train_test_split(X_kbestfeatures_chi2, y, test_size = 0.30, stratify=y)\n",
    "clf.fit(X_train_chi2, y_train_chi2)\n",
    "y_pred_chi2 = clf.predict(X_test_chi2)\n",
    "\n",
    "X_train_anova.shape #(1351,400), (1206, 400)\n",
    "X_test_anova.shape #(579, 400), (518, 400)\n",
    "\n",
    "chi2_accuracy = accuracy_score(y_test_chi2, y_pred_chi2)\n",
    "print(\"Chi2 Accuracy\")\n",
    "print(chi2_accuracy) #0.9585492227979274, 0.6621621621621622\n",
    "\n",
    "pre_chi2 = precision_MC(y_test_chi2,y_pred_chi2)\n",
    "rec_chi2 = recall_MC(y_test_chi2,y_pred_chi2)\n",
    "acc_chi2 = accuracy_MC(y_test_chi2,y_pred_chi2)\n",
    "npv_chi2 = npval_MC(y_test_chi2,y_pred_chi2)\n",
    "spe_chi2 = specificity_MC(y_test_chi2,y_pred_chi2)\n",
    "f1_chi2 = 2* (pre_chi2 * rec_chi2)/(pre_chi2 + rec_chi2)\n",
    "\n",
    "print(\"SVC MultiClass and Chi2\")\n",
    "print(pre_chi2)\n",
    "print(rec_chi2)\n",
    "print(acc_chi2)\n",
    "print(npv_chi2)\n",
    "print(spe_chi2)\n",
    "print(f1_chi2)\n",
    "\n",
    "perf_chi2['Cell Type'] = class_lbl\n",
    "perf_chi2['Precision%'] = pre_chi2.tolist()\n",
    "perf_chi2['Accuracy%'] =  acc_chi2.tolist()\n",
    "perf_chi2['Recall%']  = rec_chi2.tolist()\n",
    "perf_chi2['Negative Predictive Value%'] = npv_chi2.tolist()\n",
    "perf_chi2['Specificity%'] = spe_chi2.tolist()\n",
    "perf_chi2['F1-score%'] = f1_chi2.tolist()\n",
    "\n",
    "perf_chi2.to_csv('2_PerformanceMetrics_Chi2.csv', index = False)\n",
    "\n",
    "n_classes = len(np.unique(y_test_chi2))\n",
    "y_pred_chi = label_binarize(y_pred_chi2, classes=np.arange(n_classes))\n",
    "\n",
    "plot_ROC_curve_MC(y_test_chi2, y_pred_chi, \"Chi2\")\n",
    "\n",
    "#IG + classification Method\n",
    "X_train_mi, X_test_mi, y_train_mi, y_test_mi = train_test_split(X_kbestfeatures_mi, y, test_size = 0.30, stratify=y)\n",
    "clf.fit(X_train_mi, y_train_mi)\n",
    "y_pred_mi = clf.predict(X_test_mi)\n",
    "\n",
    "X_train_mi.shape #(1351,400), (1206, 400)\n",
    "X_test_mi.shape #(579, 400), (518, 400)\n",
    "\n",
    "mi_accuracy = accuracy_score(y_test_mi, y_pred_mi)\n",
    "print(\"IG Accuracy\")\n",
    "print(mi_accuracy) #0.9775474956822107, 0.972972972972973\n",
    "\n",
    "pre_mi = precision_MC(y_test_mi,y_pred_mi)\n",
    "rec_mi = recall_MC(y_test_mi,y_pred_mi)\n",
    "acc_mi = accuracy_MC(y_test_mi,y_pred_mi)\n",
    "npv_mi = npval_MC(y_test_mi,y_pred_mi)\n",
    "spe_mi = specificity_MC(y_test_mi,y_pred_mi)\n",
    "f1_mi = 2* (pre_mi * rec_mi)/(pre_mi + rec_mi)\n",
    "\n",
    "print(\"SVC MultiClass and IG\")\n",
    "print(pre_mi)\n",
    "print(rec_mi)\n",
    "print(acc_mi)\n",
    "print(npv_mi)\n",
    "print(spe_mi)\n",
    "print(f1_mi)\n",
    "\n",
    "perf_mi['Cell Type'] = class_lbl\n",
    "perf_mi['Precision%'] = pre_mi.tolist()\n",
    "perf_mi['Accuracy%'] =  acc_mi.tolist()\n",
    "perf_mi['Recall%']  = rec_mi.tolist()\n",
    "perf_mi['Negative Predictive Value%'] = npv_mi.tolist()\n",
    "perf_mi['Specificity%'] = spe_mi.tolist()\n",
    "perf_mi['F1-score%'] = f1_mi.tolist()\n",
    "\n",
    "perf_mi.to_csv('2_PerformanceMetrics_IG.csv', index = False)\n",
    "\n",
    "#Plot ROC curve for OneVsRest + IG\n",
    "#y_score_mi = classifier.fit(X_train_mi, y_train_mi).decision_function(X_test_mi)\n",
    "\n",
    "n_classes = len(np.unique(y_test_mi))\n",
    "y_pred_ig = label_binarize(y_pred_mi, classes=np.arange(n_classes))\n",
    "\n",
    "plot_ROC_curve_MC(y_test_mi, y_pred_ig, \"IG\")\n",
    "\n",
    "## Tabular Representation of Efficiency\n",
    "table11= plt.table(cellText=perf_anova.values,\n",
    "          colLabels=perf_anova.columns,\n",
    "          cellLoc = 'center', rowLoc = 'center', colWidths=[0.25 for x in perf_anova.columns],\n",
    "          loc='center')\n",
    "table11.auto_set_font_size(False)\n",
    "table11.set_fontsize(10)\n",
    "table11.scale(2, 2)\n",
    "plt.title('Results - KNN with Anova', pad = '80.0')\n",
    "plt.axis('off')\n",
    "\n",
    "## Tabular Representation of Efficiency\n",
    "table22= plt.table(cellText=perf_chi2.values,\n",
    "          colLabels=perf_chi2.columns,\n",
    "          cellLoc = 'center', rowLoc = 'center', colWidths=[0.25 for x in perf_chi2.columns],\n",
    "          loc='center')\n",
    "table22.auto_set_font_size(False)\n",
    "table22.set_fontsize(10)\n",
    "table22.scale(2, 2)\n",
    "plt.title('Results - KNN with Chi2', pad = '80.0')\n",
    "plt.axis('off')\n",
    "\n",
    "## Tabular Representation of Efficiency\n",
    "table33= plt.table(cellText=perf_mi.values,\n",
    "          colLabels=perf_mi.columns,\n",
    "          cellLoc = 'center', rowLoc = 'center', colWidths=[0.25 for x in perf_mi.columns],\n",
    "          loc='center')\n",
    "table33.auto_set_font_size(False)\n",
    "table33.set_fontsize(10)\n",
    "table33.scale(2, 2)\n",
    "plt.title('Results - KNN with Information Gain', pad = '80.0')\n",
    "plt.axis('off')\n",
    "\n",
    "\n",
    "\n",
    "\n"
   ]
  },
  {
   "cell_type": "code",
   "execution_count": 5,
   "id": "641b2d31",
   "metadata": {},
   "outputs": [
    {
     "data": {
      "text/plain": [
       "(1724, 2375)"
      ]
     },
     "execution_count": 5,
     "metadata": {},
     "output_type": "execute_result"
    }
   ],
   "source": [
    "X.shape"
   ]
  },
  {
   "cell_type": "code",
   "execution_count": 6,
   "id": "b7237186",
   "metadata": {},
   "outputs": [
    {
     "data": {
      "text/plain": [
       "(1724,)"
      ]
     },
     "execution_count": 6,
     "metadata": {},
     "output_type": "execute_result"
    }
   ],
   "source": [
    "y.shape"
   ]
  },
  {
   "cell_type": "code",
   "execution_count": null,
   "id": "b04ccc87",
   "metadata": {},
   "outputs": [],
   "source": []
  }
 ],
 "metadata": {
  "kernelspec": {
   "display_name": "Python 3 (ipykernel)",
   "language": "python",
   "name": "python3"
  },
  "language_info": {
   "codemirror_mode": {
    "name": "ipython",
    "version": 3
   },
   "file_extension": ".py",
   "mimetype": "text/x-python",
   "name": "python",
   "nbconvert_exporter": "python",
   "pygments_lexer": "ipython3",
   "version": "3.9.7"
  }
 },
 "nbformat": 4,
 "nbformat_minor": 5
}
